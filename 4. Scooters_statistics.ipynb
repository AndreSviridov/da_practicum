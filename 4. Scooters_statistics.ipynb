{
 "cells": [
  {
   "cell_type": "markdown",
   "id": "b142c396",
   "metadata": {},
   "source": [
    "# Статистический анализ данных сервиса аренды самокатов GoFast\n",
    "\n",
    "Проанализируем данные и проверим некоторые гипотезы, которые могут помочь бизнесу вырасти.\n",
    "Чтобы совершать поездки по городу, пользователи сервиса GoFast пользуются мобильным приложением. Сервисом можно пользоваться:\n",
    "\n",
    "**без подписки**\n",
    "\n",
    "* абонентская плата отсутствует;\n",
    "* стоимость одной минуты поездки — 8 рублей;\n",
    "* стоимость старта (начала поездки) — 50 рублей;\n",
    "\n",
    "**с подпиской Ultra**\n",
    "\n",
    "* абонентская плата — 199 рублей в месяц;\n",
    "* стоимость одной минуты поездки — 6 рублей;\n",
    "* стоимость старта — бесплатно.\n",
    "\n",
    "Цель исследования:\n",
    "\n",
    "1. Проверить данные на предмет выбросов и аномалий;\n",
    "2. Проанализировать м подсчтать выручку от аренды самокатов;\n",
    "3. Проверить ряд гипотез:\n",
    "   * Тратят ли пользователи с подпиской больше времени на поездки\n",
    "   * Можно ли сказать, что среднее расстояние, которое проезжают пользователи с подпиской за одну поездку, не превышает 3130 метров;\n",
    "   * Будет ли помесячная выручка от пользователей с подпиской по месяцам выше, чем выручка от пользователей без подписки.\n",
    "\n",
    "Ход исследования:\n",
    "\n",
    "В нашем распоряжении имеются файлы, содержащие данные о пользователях, поездках и тарифахсервиса. Пути к файлам:\n",
    "* /datasets/users_go.csv\n",
    "* /datasets/rides_go.csv\n",
    "* /datasets/subscriptions_go.csv\n",
    "\n",
    "Таким образом исследование пройдет в шесть этапов:\n",
    "* Загрузка данных.\n",
    "* Предобработка данных.\n",
    "* Исследовательский анализ данных.\n",
    "* Объединение данных.\n",
    "* Подсчёт выручки\n",
    "* Проверка гипотез."
   ]
  },
  {
   "cell_type": "code",
   "execution_count": 1,
   "id": "72576667",
   "metadata": {},
   "outputs": [],
   "source": [
    "import pandas as pd\n",
    "import matplotlib.pyplot as plt\n",
    "import numpy as np\n",
    "from math import factorial\n",
    "from random import randint\n",
    "from scipy import stats as st"
   ]
  },
  {
   "cell_type": "markdown",
   "id": "c42cbe00",
   "metadata": {},
   "source": [
    "## Шаг 1. Загрузка данных"
   ]
  },
  {
   "cell_type": "markdown",
   "id": "a02380e6",
   "metadata": {},
   "source": [
    "##### Считайте CSV-файлы"
   ]
  },
  {
   "cell_type": "code",
   "execution_count": 2,
   "id": "c2cb7fe7-736e-4b12-8e02-3cb3e6c8e5ec",
   "metadata": {},
   "outputs": [
    {
     "data": {
      "text/html": [
       "<div>\n",
       "<style scoped>\n",
       "    .dataframe tbody tr th:only-of-type {\n",
       "        vertical-align: middle;\n",
       "    }\n",
       "\n",
       "    .dataframe tbody tr th {\n",
       "        vertical-align: top;\n",
       "    }\n",
       "\n",
       "    .dataframe thead th {\n",
       "        text-align: right;\n",
       "    }\n",
       "</style>\n",
       "<table border=\"1\" class=\"dataframe\">\n",
       "  <thead>\n",
       "    <tr style=\"text-align: right;\">\n",
       "      <th></th>\n",
       "      <th>user_id</th>\n",
       "      <th>name</th>\n",
       "      <th>age</th>\n",
       "      <th>city</th>\n",
       "      <th>subscription_type</th>\n",
       "    </tr>\n",
       "  </thead>\n",
       "  <tbody>\n",
       "    <tr>\n",
       "      <th>0</th>\n",
       "      <td>1</td>\n",
       "      <td>Кира</td>\n",
       "      <td>22</td>\n",
       "      <td>Тюмень</td>\n",
       "      <td>ultra</td>\n",
       "    </tr>\n",
       "    <tr>\n",
       "      <th>1</th>\n",
       "      <td>2</td>\n",
       "      <td>Станислав</td>\n",
       "      <td>31</td>\n",
       "      <td>Омск</td>\n",
       "      <td>ultra</td>\n",
       "    </tr>\n",
       "    <tr>\n",
       "      <th>2</th>\n",
       "      <td>3</td>\n",
       "      <td>Алексей</td>\n",
       "      <td>20</td>\n",
       "      <td>Москва</td>\n",
       "      <td>ultra</td>\n",
       "    </tr>\n",
       "    <tr>\n",
       "      <th>3</th>\n",
       "      <td>4</td>\n",
       "      <td>Константин</td>\n",
       "      <td>26</td>\n",
       "      <td>Ростов-на-Дону</td>\n",
       "      <td>ultra</td>\n",
       "    </tr>\n",
       "    <tr>\n",
       "      <th>4</th>\n",
       "      <td>5</td>\n",
       "      <td>Адель</td>\n",
       "      <td>28</td>\n",
       "      <td>Омск</td>\n",
       "      <td>ultra</td>\n",
       "    </tr>\n",
       "  </tbody>\n",
       "</table>\n",
       "</div>"
      ],
      "text/plain": [
       "   user_id        name  age            city subscription_type\n",
       "0        1        Кира   22          Тюмень             ultra\n",
       "1        2   Станислав   31            Омск             ultra\n",
       "2        3     Алексей   20          Москва             ultra\n",
       "3        4  Константин   26  Ростов-на-Дону             ultra\n",
       "4        5       Адель   28            Омск             ultra"
      ]
     },
     "execution_count": 2,
     "metadata": {},
     "output_type": "execute_result"
    }
   ],
   "source": [
    "try:\n",
    "    users_go = pd.read_csv('https://code.s3.yandex.net/datasets/users_go.csv')\n",
    "except:\n",
    "    users_go = pd.read_csv('/datasets/users_go.csv') \n",
    "\n",
    "users_go.head()"
   ]
  },
  {
   "cell_type": "code",
   "execution_count": 3,
   "id": "3fcfbc3a-0cab-4764-a45d-0d2be6216a97",
   "metadata": {},
   "outputs": [
    {
     "data": {
      "text/html": [
       "<div>\n",
       "<style scoped>\n",
       "    .dataframe tbody tr th:only-of-type {\n",
       "        vertical-align: middle;\n",
       "    }\n",
       "\n",
       "    .dataframe tbody tr th {\n",
       "        vertical-align: top;\n",
       "    }\n",
       "\n",
       "    .dataframe thead th {\n",
       "        text-align: right;\n",
       "    }\n",
       "</style>\n",
       "<table border=\"1\" class=\"dataframe\">\n",
       "  <thead>\n",
       "    <tr style=\"text-align: right;\">\n",
       "      <th></th>\n",
       "      <th>user_id</th>\n",
       "      <th>distance</th>\n",
       "      <th>duration</th>\n",
       "      <th>date</th>\n",
       "    </tr>\n",
       "  </thead>\n",
       "  <tbody>\n",
       "    <tr>\n",
       "      <th>0</th>\n",
       "      <td>1</td>\n",
       "      <td>4409.919140</td>\n",
       "      <td>25.599769</td>\n",
       "      <td>2021-01-01</td>\n",
       "    </tr>\n",
       "    <tr>\n",
       "      <th>1</th>\n",
       "      <td>1</td>\n",
       "      <td>2617.592153</td>\n",
       "      <td>15.816871</td>\n",
       "      <td>2021-01-18</td>\n",
       "    </tr>\n",
       "    <tr>\n",
       "      <th>2</th>\n",
       "      <td>1</td>\n",
       "      <td>754.159807</td>\n",
       "      <td>6.232113</td>\n",
       "      <td>2021-04-20</td>\n",
       "    </tr>\n",
       "    <tr>\n",
       "      <th>3</th>\n",
       "      <td>1</td>\n",
       "      <td>2694.783254</td>\n",
       "      <td>18.511000</td>\n",
       "      <td>2021-08-11</td>\n",
       "    </tr>\n",
       "    <tr>\n",
       "      <th>4</th>\n",
       "      <td>1</td>\n",
       "      <td>4028.687306</td>\n",
       "      <td>26.265803</td>\n",
       "      <td>2021-08-28</td>\n",
       "    </tr>\n",
       "  </tbody>\n",
       "</table>\n",
       "</div>"
      ],
      "text/plain": [
       "   user_id     distance   duration        date\n",
       "0        1  4409.919140  25.599769  2021-01-01\n",
       "1        1  2617.592153  15.816871  2021-01-18\n",
       "2        1   754.159807   6.232113  2021-04-20\n",
       "3        1  2694.783254  18.511000  2021-08-11\n",
       "4        1  4028.687306  26.265803  2021-08-28"
      ]
     },
     "execution_count": 3,
     "metadata": {},
     "output_type": "execute_result"
    }
   ],
   "source": [
    "try:\n",
    "    rides_go = pd.read_csv('https://code.s3.yandex.net/datasets/rides_go.csv')\n",
    "except:\n",
    "    rides_go = pd.read_csv('/datasets/rides_go.csv')\n",
    "\n",
    "rides_go.head()"
   ]
  },
  {
   "cell_type": "code",
   "execution_count": 4,
   "id": "8b3f2c93-5844-418e-a5f8-6bd26d54d532",
   "metadata": {},
   "outputs": [
    {
     "data": {
      "text/html": [
       "<div>\n",
       "<style scoped>\n",
       "    .dataframe tbody tr th:only-of-type {\n",
       "        vertical-align: middle;\n",
       "    }\n",
       "\n",
       "    .dataframe tbody tr th {\n",
       "        vertical-align: top;\n",
       "    }\n",
       "\n",
       "    .dataframe thead th {\n",
       "        text-align: right;\n",
       "    }\n",
       "</style>\n",
       "<table border=\"1\" class=\"dataframe\">\n",
       "  <thead>\n",
       "    <tr style=\"text-align: right;\">\n",
       "      <th></th>\n",
       "      <th>subscription_type</th>\n",
       "      <th>minute_price</th>\n",
       "      <th>start_ride_price</th>\n",
       "      <th>subscription_fee</th>\n",
       "    </tr>\n",
       "  </thead>\n",
       "  <tbody>\n",
       "    <tr>\n",
       "      <th>0</th>\n",
       "      <td>free</td>\n",
       "      <td>8</td>\n",
       "      <td>50</td>\n",
       "      <td>0</td>\n",
       "    </tr>\n",
       "    <tr>\n",
       "      <th>1</th>\n",
       "      <td>ultra</td>\n",
       "      <td>6</td>\n",
       "      <td>0</td>\n",
       "      <td>199</td>\n",
       "    </tr>\n",
       "  </tbody>\n",
       "</table>\n",
       "</div>"
      ],
      "text/plain": [
       "  subscription_type  minute_price  start_ride_price  subscription_fee\n",
       "0              free             8                50                 0\n",
       "1             ultra             6                 0               199"
      ]
     },
     "execution_count": 4,
     "metadata": {},
     "output_type": "execute_result"
    }
   ],
   "source": [
    "try:\n",
    "    subscriptions_go = pd.read_csv('https://code.s3.yandex.net/datasets/subscriptions_go.csv')\n",
    "except:\n",
    "    subscriptions_go = pd.read_csv('/datasets/subscriptions_go.csv')\n",
    "\n",
    "subscriptions_go.head()"
   ]
  },
  {
   "cell_type": "markdown",
   "id": "bdae67d9",
   "metadata": {},
   "source": [
    "##### Выведите первые строки каждого набора данных. Изучите общую информацию о каждом датафрейме."
   ]
  },
  {
   "cell_type": "markdown",
   "id": "4f249785",
   "metadata": {},
   "source": [
    "**Изучим датасет users_go**"
   ]
  },
  {
   "cell_type": "code",
   "execution_count": 5,
   "id": "e57e393f",
   "metadata": {},
   "outputs": [
    {
     "name": "stdout",
     "output_type": "stream",
     "text": [
      "<class 'pandas.core.frame.DataFrame'>\n",
      "RangeIndex: 1565 entries, 0 to 1564\n",
      "Data columns (total 5 columns):\n",
      " #   Column             Non-Null Count  Dtype \n",
      "---  ------             --------------  ----- \n",
      " 0   user_id            1565 non-null   int64 \n",
      " 1   name               1565 non-null   object\n",
      " 2   age                1565 non-null   int64 \n",
      " 3   city               1565 non-null   object\n",
      " 4   subscription_type  1565 non-null   object\n",
      "dtypes: int64(2), object(3)\n",
      "memory usage: 61.3+ KB\n"
     ]
    }
   ],
   "source": [
    "users_go.info()\n",
    "#users_go.duplicated().sum()\n",
    "#sorted(users_go['age'].unique(), reverse=True)\n",
    "#sorted(users_go['city'].unique(), reverse=True)\n",
    "#sorted(users_go['subscription_type'].unique(), reverse=True)\n",
    "#users_go.hist(figsize=(20, 10))"
   ]
  },
  {
   "cell_type": "markdown",
   "id": "d6d11592",
   "metadata": {},
   "source": [
    "Итого: пропусков нет, 31 явный дубликат, вид уникальных значений типа не вызывает подозрений"
   ]
  },
  {
   "cell_type": "markdown",
   "id": "69ee17da",
   "metadata": {},
   "source": [
    "**Изучим датасет rides_go**"
   ]
  },
  {
   "cell_type": "code",
   "execution_count": 6,
   "id": "e1a61acf",
   "metadata": {},
   "outputs": [
    {
     "name": "stdout",
     "output_type": "stream",
     "text": [
      "<class 'pandas.core.frame.DataFrame'>\n",
      "RangeIndex: 18068 entries, 0 to 18067\n",
      "Data columns (total 4 columns):\n",
      " #   Column    Non-Null Count  Dtype  \n",
      "---  ------    --------------  -----  \n",
      " 0   user_id   18068 non-null  int64  \n",
      " 1   distance  18068 non-null  float64\n",
      " 2   duration  18068 non-null  float64\n",
      " 3   date      18068 non-null  object \n",
      "dtypes: float64(2), int64(1), object(1)\n",
      "memory usage: 564.8+ KB\n"
     ]
    }
   ],
   "source": [
    "rides_go.info()\n",
    "#rides_go.duplicated().sum()\n",
    "#sorted(rides_go['distance'].unique(), reverse=True)\n",
    "#sorted(rides_go['duration'].unique(), reverse=True)\n",
    "#sorted(rides_go['date'].unique(), reverse=True)\n",
    "#rides_go.hist(figsize=(20, 10))"
   ]
  },
  {
   "cell_type": "markdown",
   "id": "1d4a610b",
   "metadata": {},
   "source": [
    "Итого: нет пропусков, нет явных дубликатов, вид уникальных значений типа не вызывает подозрений.  Столбцы distance и duration можно округлить. Столбец date требуется поменять на временной формат."
   ]
  },
  {
   "cell_type": "markdown",
   "id": "404e9305",
   "metadata": {},
   "source": [
    "**Изучим датасет subscriptions_go**"
   ]
  },
  {
   "cell_type": "code",
   "execution_count": 7,
   "id": "e8cccfde",
   "metadata": {},
   "outputs": [
    {
     "name": "stdout",
     "output_type": "stream",
     "text": [
      "<class 'pandas.core.frame.DataFrame'>\n",
      "RangeIndex: 2 entries, 0 to 1\n",
      "Data columns (total 4 columns):\n",
      " #   Column             Non-Null Count  Dtype \n",
      "---  ------             --------------  ----- \n",
      " 0   subscription_type  2 non-null      object\n",
      " 1   minute_price       2 non-null      int64 \n",
      " 2   start_ride_price   2 non-null      int64 \n",
      " 3   subscription_fee   2 non-null      int64 \n",
      "dtypes: int64(3), object(1)\n",
      "memory usage: 192.0+ bytes\n"
     ]
    }
   ],
   "source": [
    "subscriptions_go.info()"
   ]
  },
  {
   "cell_type": "markdown",
   "id": "c8dfb558",
   "metadata": {},
   "source": [
    "Итого: ок"
   ]
  },
  {
   "cell_type": "markdown",
   "id": "a24d98a0",
   "metadata": {},
   "source": [
    "**Вывод:**\n",
    "\n",
    "Были изучены имеющиеся датасеты. Явных выбросов и некорректных значений не набдюдается.\n",
    "* В users_go необходимо удалить явные дубликаты;\n",
    "* В rides_go требуется округлить столбцы distance и duration. Столбец date требуется поменять на временной формат."
   ]
  },
  {
   "cell_type": "markdown",
   "id": "cbebbc44",
   "metadata": {},
   "source": [
    "<div class=\"alert alert-block alert-success\">✔️\n",
    "    \n",
    "__Комментарий от ревьюера №1__\n",
    "    \n",
    "Отлично! Первый взгляд на данные есть"
   ]
  },
  {
   "cell_type": "markdown",
   "id": "e95ebca7",
   "metadata": {},
   "source": [
    "## Шаг 2. Предобработка данных"
   ]
  },
  {
   "cell_type": "markdown",
   "id": "ef0ceac6",
   "metadata": {},
   "source": [
    "##### Приведите столбец date к типу даты pandas."
   ]
  },
  {
   "cell_type": "code",
   "execution_count": 8,
   "id": "c2ebb5ea",
   "metadata": {},
   "outputs": [],
   "source": [
    "rides_go['date'] = pd.to_datetime(rides_go['date'], format='%Y-%m-%d')\n",
    "#rides_go.info() #проверили"
   ]
  },
  {
   "cell_type": "markdown",
   "id": "efd0ad22",
   "metadata": {},
   "source": [
    "##### Создайте новый столбец с номером месяца на основе столбца date"
   ]
  },
  {
   "cell_type": "code",
   "execution_count": 9,
   "id": "a24b42b9",
   "metadata": {},
   "outputs": [],
   "source": [
    "rides_go['month'] = rides_go['date'].dt.month\n",
    "#rides_go.head() #проверили"
   ]
  },
  {
   "cell_type": "markdown",
   "id": "44991b0b",
   "metadata": {},
   "source": [
    "<div class=\"alert alert-block alert-warning\">📝\n",
    "    \n",
    "\n",
    "__Комментарий от ревьюера №1__\n",
    "\n",
    "Хорошо бы проверить за какой период у нас данные. Проверить столбец длительности на предмет наличия аномалий. Например, если у нас разные года то январь 2021 и январь 2022 будут под одной цифрой (1). \n",
    "</div>"
   ]
  },
  {
   "cell_type": "markdown",
   "id": "2c5603f0",
   "metadata": {},
   "source": [
    "<div class=\"alert alert-info\"> <b>Комментарии студента:</b> Сделано. Ниже отсортировал все уникальные згначения по столбцу date. Видим, что данные только за 2021 год. Получение 2 одинаковых месяцев разного года под одной цифрой исключено.</div>"
   ]
  },
  {
   "cell_type": "code",
   "execution_count": 10,
   "id": "db8bec25",
   "metadata": {},
   "outputs": [
    {
     "data": {
      "text/plain": [
       "array([2021], dtype=int64)"
      ]
     },
     "execution_count": 10,
     "metadata": {},
     "output_type": "execute_result"
    }
   ],
   "source": [
    "rides_go['date'].dt.year.sort_values().unique()"
   ]
  },
  {
   "cell_type": "markdown",
   "id": "2a8df661",
   "metadata": {},
   "source": [
    "##### Проверьте наличие пропущенных значений и дубликатов в датафреймах"
   ]
  },
  {
   "cell_type": "code",
   "execution_count": 11,
   "id": "4228daea",
   "metadata": {},
   "outputs": [],
   "source": [
    "#Удаляем дубликаты в users_go\n",
    "users_go = users_go.drop_duplicates()\n",
    "#users_go.duplicated().sum() #проверили"
   ]
  },
  {
   "cell_type": "code",
   "execution_count": 12,
   "id": "541105cd",
   "metadata": {},
   "outputs": [],
   "source": [
    "#округляем rides_go['distance'] до 1 значения после запятой\n",
    "rides_go['distance'] = rides_go['distance'].round(1)\n",
    "#rides_go['distance'].head() #проверили"
   ]
  },
  {
   "cell_type": "code",
   "execution_count": 13,
   "id": "615ed380",
   "metadata": {},
   "outputs": [],
   "source": [
    "#округляем rides_go['duration'] по подсказке в описании проекта через np.ceil\n",
    "rides_go['duration'] = np.ceil(rides_go['duration'])\n",
    "#rides_go['duration'].head()\n",
    "#т.к. np.ceil округляет до целых, можем поменять тип данных на int\n",
    "rides_go['duration'] = rides_go['duration'].astype(int)\n",
    "#rides_go.info()"
   ]
  },
  {
   "cell_type": "markdown",
   "id": "1e010474",
   "metadata": {},
   "source": [
    "**Вывод**\n",
    "\n",
    "В процессе предобработки данных было проделаны следующие действия:\n",
    "* поменяли столбец rides_go['date'] на временной формат;\n",
    "* cоздали новый столбец rides_go['month'] с номером месяца на основе столбца date;\n",
    "* округлили столбец rides_go['distance'] до 1 значения после запятой;\n",
    "* округлили столбец rides_go['duration'] по подсказке в описании проекта через np.ceil поменяли тип данных на int. \n"
   ]
  },
  {
   "cell_type": "markdown",
   "id": "7797f0a0",
   "metadata": {},
   "source": [
    "<div class=\"alert alert-block alert-success\">✔️\n",
    "    \n",
    "\n",
    "__Комментарий от ревьюера №1__\n",
    "\n",
    "Отлично, что используешь именно np.ceil(). Грамотный шаг"
   ]
  },
  {
   "cell_type": "markdown",
   "id": "212593c7",
   "metadata": {},
   "source": [
    "## Шаг 3. Исследовательский анализ данных"
   ]
  },
  {
   "cell_type": "markdown",
   "id": "daf313a8",
   "metadata": {},
   "source": [
    "##### Частота встречаемости городов"
   ]
  },
  {
   "cell_type": "code",
   "execution_count": 14,
   "id": "86616cac",
   "metadata": {},
   "outputs": [
    {
     "data": {
      "text/html": [
       "<div>\n",
       "<style scoped>\n",
       "    .dataframe tbody tr th:only-of-type {\n",
       "        vertical-align: middle;\n",
       "    }\n",
       "\n",
       "    .dataframe tbody tr th {\n",
       "        vertical-align: top;\n",
       "    }\n",
       "\n",
       "    .dataframe thead th {\n",
       "        text-align: right;\n",
       "    }\n",
       "</style>\n",
       "<table border=\"1\" class=\"dataframe\">\n",
       "  <thead>\n",
       "    <tr style=\"text-align: right;\">\n",
       "      <th></th>\n",
       "      <th>количество юзеров</th>\n",
       "    </tr>\n",
       "    <tr>\n",
       "      <th>city</th>\n",
       "      <th></th>\n",
       "    </tr>\n",
       "  </thead>\n",
       "  <tbody>\n",
       "    <tr>\n",
       "      <th>Пятигорск</th>\n",
       "      <td>219</td>\n",
       "    </tr>\n",
       "    <tr>\n",
       "      <th>Екатеринбург</th>\n",
       "      <td>204</td>\n",
       "    </tr>\n",
       "    <tr>\n",
       "      <th>Ростов-на-Дону</th>\n",
       "      <td>198</td>\n",
       "    </tr>\n",
       "    <tr>\n",
       "      <th>Краснодар</th>\n",
       "      <td>193</td>\n",
       "    </tr>\n",
       "    <tr>\n",
       "      <th>Сочи</th>\n",
       "      <td>189</td>\n",
       "    </tr>\n",
       "    <tr>\n",
       "      <th>Омск</th>\n",
       "      <td>183</td>\n",
       "    </tr>\n",
       "    <tr>\n",
       "      <th>Тюмень</th>\n",
       "      <td>180</td>\n",
       "    </tr>\n",
       "    <tr>\n",
       "      <th>Москва</th>\n",
       "      <td>168</td>\n",
       "    </tr>\n",
       "  </tbody>\n",
       "</table>\n",
       "</div>"
      ],
      "text/plain": [
       "                количество юзеров\n",
       "city                             \n",
       "Пятигорск                     219\n",
       "Екатеринбург                  204\n",
       "Ростов-на-Дону                198\n",
       "Краснодар                     193\n",
       "Сочи                          189\n",
       "Омск                          183\n",
       "Тюмень                        180\n",
       "Москва                        168"
      ]
     },
     "execution_count": 14,
     "metadata": {},
     "output_type": "execute_result"
    }
   ],
   "source": [
    "#составим сводную таблицу с индексом столбца city и функцией count от любого столбца, например name.\n",
    "city_pivot = users_go.pivot_table(index='city', values='name', aggfunc='count')\n",
    "#заменим название столбца count\n",
    "city_pivot.columns = ['количество юзеров']\n",
    "#отсортируем по убыванию\n",
    "city_pivot = city_pivot.sort_values(by='количество юзеров', ascending=False)\n",
    "city_pivot"
   ]
  },
  {
   "cell_type": "code",
   "execution_count": 15,
   "id": "4a02a959",
   "metadata": {},
   "outputs": [
    {
     "data": {
      "image/png": "[encoded data removed]",
      "text/plain": [
       "<Figure size 1000x500 with 1 Axes>"
      ]
     },
     "metadata": {},
     "output_type": "display_data"
    }
   ],
   "source": [
    "#построим столбчатую диаграмму\n",
    "city_pivot.plot(kind='bar', figsize=(10,5), title='Количество пользователей по городам', xlabel='Города', ylabel='Кол-во пользователей');"
   ]
  },
  {
   "cell_type": "markdown",
   "id": "ac626252",
   "metadata": {},
   "source": [
    "Наиболее часто встречающийся город это Пятигорск. Наименее встречающийся - Москва"
   ]
  },
  {
   "cell_type": "markdown",
   "id": "36d8c25d",
   "metadata": {},
   "source": [
    "##### Соотношение пользователей с подпиской и без подписки"
   ]
  },
  {
   "cell_type": "code",
   "execution_count": 16,
   "id": "15a67f6e",
   "metadata": {},
   "outputs": [
    {
     "data": {
      "text/html": [
       "<div>\n",
       "<style scoped>\n",
       "    .dataframe tbody tr th:only-of-type {\n",
       "        vertical-align: middle;\n",
       "    }\n",
       "\n",
       "    .dataframe tbody tr th {\n",
       "        vertical-align: top;\n",
       "    }\n",
       "\n",
       "    .dataframe thead th {\n",
       "        text-align: right;\n",
       "    }\n",
       "</style>\n",
       "<table border=\"1\" class=\"dataframe\">\n",
       "  <thead>\n",
       "    <tr style=\"text-align: right;\">\n",
       "      <th></th>\n",
       "      <th>количество юзеров</th>\n",
       "      <th>процент</th>\n",
       "    </tr>\n",
       "    <tr>\n",
       "      <th>subscription_type</th>\n",
       "      <th></th>\n",
       "      <th></th>\n",
       "    </tr>\n",
       "  </thead>\n",
       "  <tbody>\n",
       "    <tr>\n",
       "      <th>free</th>\n",
       "      <td>835</td>\n",
       "      <td>0.54</td>\n",
       "    </tr>\n",
       "    <tr>\n",
       "      <th>ultra</th>\n",
       "      <td>699</td>\n",
       "      <td>0.46</td>\n",
       "    </tr>\n",
       "  </tbody>\n",
       "</table>\n",
       "</div>"
      ],
      "text/plain": [
       "                   количество юзеров  процент\n",
       "subscription_type                            \n",
       "free                             835     0.54\n",
       "ultra                            699     0.46"
      ]
     },
     "execution_count": 16,
     "metadata": {},
     "output_type": "execute_result"
    }
   ],
   "source": [
    "#составим сводную таблицу с индексом столбца subscription_type и функцией count от любого столбца, например name.\n",
    "subscribe_pivot = users_go.pivot_table(index='subscription_type', values='name', aggfunc='count')\n",
    "subscribe_pivot.columns = ['количество юзеров']\n",
    "#добавим столбец доли юзеров в процентном соотношении и округлим до 2 значений после запятой\n",
    "subscribe_pivot['процент'] = (subscribe_pivot['количество юзеров']/subscribe_pivot['количество юзеров'].sum()).round(2)\n",
    "subscribe_pivot"
   ]
  },
  {
   "cell_type": "code",
   "execution_count": 17,
   "id": "b1cf82ee",
   "metadata": {},
   "outputs": [
    {
     "data": {
      "image/png": "[encoded data removed]",
      "text/plain": [
       "<Figure size 1000x500 with 1 Axes>"
      ]
     },
     "metadata": {},
     "output_type": "display_data"
    }
   ],
   "source": [
    "#построим столбчатую диаграмму\n",
    "subscribe_pivot.plot(kind='bar',y='количество юзеров', figsize=(10,5), title='Соотношение пользователей с подпиской и без подписки', xlabel='Тип подписки', ylabel='Кол-во юзеров');"
   ]
  },
  {
   "cell_type": "code",
   "execution_count": 18,
   "id": "a07ae98c",
   "metadata": {},
   "outputs": [
    {
     "data": {
      "image/png": "[encoded data removed]",
      "text/plain": [
       "<Figure size 1000x500 with 1 Axes>"
      ]
     },
     "metadata": {},
     "output_type": "display_data"
    }
   ],
   "source": [
    "# т.к. категорий всего 2, данные можно отобразить и в виде круговой диаграммы\n",
    "subscribe_pivot.plot(kind='pie', y='количество юзеров', figsize=(10,5), title='Соотношение пользователей с подпиской и без подписки');"
   ]
  },
  {
   "cell_type": "markdown",
   "id": "fd807b24",
   "metadata": {},
   "source": [
    "Пользателей с подпиской на 8% больше, чем без подписки"
   ]
  },
  {
   "cell_type": "markdown",
   "id": "50ed79c6",
   "metadata": {},
   "source": [
    "<div class=\"alert alert-block alert-success\">✔️\n",
    "    \n",
    "\n",
    "__Комментарий от ревьюера №1__\n",
    "\n",
    "Пользователей с подпиской немного меньше, тем не менее у компании-прокатчика есть неплохая база постоянных клиентов."
   ]
  },
  {
   "cell_type": "markdown",
   "id": "c43c6a76",
   "metadata": {},
   "source": [
    "##### Возраст пользователей"
   ]
  },
  {
   "cell_type": "code",
   "execution_count": 19,
   "id": "3d93e496",
   "metadata": {},
   "outputs": [
    {
     "data": {
      "text/plain": [
       "count    1534.000000\n",
       "mean       24.903520\n",
       "std         4.572367\n",
       "min        12.000000\n",
       "25%        22.000000\n",
       "50%        25.000000\n",
       "75%        28.000000\n",
       "max        43.000000\n",
       "Name: age, dtype: float64"
      ]
     },
     "execution_count": 19,
     "metadata": {},
     "output_type": "execute_result"
    }
   ],
   "source": [
    "#посмотрим среднее методом describe\n",
    "users_go['age'].describe()"
   ]
  },
  {
   "cell_type": "code",
   "execution_count": 20,
   "id": "a222a549",
   "metadata": {},
   "outputs": [
    {
     "data": {
      "text/plain": [
       "25    145\n",
       "24    132\n",
       "26    131\n",
       "23    129\n",
       "27    119\n",
       "22    119\n",
       "28    112\n",
       "21     93\n",
       "20     71\n",
       "30     68\n",
       "29     68\n",
       "31     48\n",
       "19     47\n",
       "18     46\n",
       "32     41\n",
       "33     39\n",
       "17     26\n",
       "34     19\n",
       "16     19\n",
       "35     15\n",
       "15     13\n",
       "14      9\n",
       "13      8\n",
       "36      6\n",
       "12      4\n",
       "38      3\n",
       "37      2\n",
       "39      1\n",
       "43      1\n",
       "Name: age, dtype: int64"
      ]
     },
     "execution_count": 20,
     "metadata": {},
     "output_type": "execute_result"
    }
   ],
   "source": [
    "#Посмотрим количество юзеров по возрасту через value_counts\n",
    "users_go['age'].value_counts()\n",
    "#len(users_go['age'].unique()) #посмотрел сколько уникальных значений"
   ]
  },
  {
   "cell_type": "code",
   "execution_count": 21,
   "id": "843dd01e",
   "metadata": {},
   "outputs": [
    {
     "data": {
      "image/png": "[encoded data removed]",
      "text/plain": [
       "<Figure size 1000x500 with 1 Axes>"
      ]
     },
     "metadata": {},
     "output_type": "display_data"
    }
   ],
   "source": [
    "#визуализируем через гистограмму\n",
    "users_go['age'].plot(kind='hist', bins=43, figsize=(10,5), title='Возраст пользователей', xlabel='Возраст', ylabel='Кол-во юзеров');"
   ]
  },
  {
   "cell_type": "markdown",
   "id": "126f8c55",
   "metadata": {},
   "source": [
    "По гистограмме видно, что самое большое число пользователей находится в промежутке от 20 до 30 лет. Средний возраст пользователей - 25 лет."
   ]
  },
  {
   "cell_type": "markdown",
   "id": "68cbf038",
   "metadata": {},
   "source": [
    "<div class=\"alert alert-block alert-success\">✔️\n",
    "    \n",
    "\n",
    "__Комментарий от ревьюера №1__\n",
    "\n",
    "Основная часть пользователей возрастом от 22 до 28 лет. Все что меньше 15 лет и больше 40 можно считать редкими значениями."
   ]
  },
  {
   "cell_type": "markdown",
   "id": "c3c4c7e1",
   "metadata": {},
   "source": [
    "##### Расстояние, которое пользователь преодолел за одну поездку"
   ]
  },
  {
   "cell_type": "code",
   "execution_count": 22,
   "id": "55fcb7ba",
   "metadata": {},
   "outputs": [
    {
     "data": {
      "text/plain": [
       "count    18068.000000\n",
       "mean      3070.659841\n",
       "std       1116.831106\n",
       "min          0.900000\n",
       "25%       2543.200000\n",
       "50%       3133.600000\n",
       "75%       3776.225000\n",
       "max       7211.000000\n",
       "Name: distance, dtype: float64"
      ]
     },
     "execution_count": 22,
     "metadata": {},
     "output_type": "execute_result"
    }
   ],
   "source": [
    "#Исследуем rides_go['distance'] через describe и гистограмму\n",
    "rides_go['distance'].describe()"
   ]
  },
  {
   "cell_type": "code",
   "execution_count": 23,
   "id": "b849f12b",
   "metadata": {},
   "outputs": [
    {
     "data": {
      "image/png": "[encoded data removed]",
      "text/plain": [
       "<Figure size 1000x500 with 1 Axes>"
      ]
     },
     "metadata": {},
     "output_type": "display_data"
    }
   ],
   "source": [
    "rides_go['distance'].plot(kind='hist', bins=300, figsize=(10,5), title='Расстояние за одну поездку', xlabel='Расстояние', ylabel='Кол-во юзеров');"
   ]
  },
  {
   "cell_type": "markdown",
   "id": "22a6a3ce",
   "metadata": {},
   "source": [
    "По гистограмме видно, что самое большое число поездок с расстоянием в промежутке от 2500 до 3500 метров. Средне расстояние за одну поездку 3070 метров. Также выднеется отдельное распределение на отрезке 0-1500 метров. Посмотрим на него отдельно."
   ]
  },
  {
   "cell_type": "markdown",
   "id": "c62368e5",
   "metadata": {},
   "source": [
    "<div class=\"alert alert-block alert-success\">✔️\n",
    "    \n",
    "\n",
    "__Комментарий от ревьюера №1__\n",
    "\n",
    "Основная часть поездок занимает от 2500 до 3800 метров. Медиана 3133 метра. Поездки на расстояние более 5 км редки. Однако на гистограмме видно, что некоторая часть пользователей использует самокаты для коротких поездок - до 1500 м."
   ]
  },
  {
   "cell_type": "code",
   "execution_count": 24,
   "id": "10051b48",
   "metadata": {},
   "outputs": [
    {
     "data": {
      "image/png": "[encoded data removed]",
      "text/plain": [
       "<Figure size 1000x500 with 1 Axes>"
      ]
     },
     "metadata": {},
     "output_type": "display_data"
    }
   ],
   "source": [
    "rides_go['distance'].plot(kind='hist', bins=60, range=(0,1500), figsize=(10,5), title='Расстояние за одну поездку', xlabel='Расстояние', ylabel='Кол-во юзеров');"
   ]
  },
  {
   "cell_type": "markdown",
   "id": "dd2950c8",
   "metadata": {},
   "source": [
    "Таким образом есть отдельная категория пользователей на короткие дистанции до 1500 метров. Среди них наиболее частое значение расстояния - примерно 650 метров"
   ]
  },
  {
   "cell_type": "markdown",
   "id": "0888dfd2",
   "metadata": {},
   "source": [
    "##### Продолжительность поездок"
   ]
  },
  {
   "cell_type": "code",
   "execution_count": 25,
   "id": "6df71f15",
   "metadata": {},
   "outputs": [
    {
     "data": {
      "text/plain": [
       "count    18068.000000\n",
       "mean        18.303520\n",
       "std          6.094928\n",
       "min          1.000000\n",
       "25%         14.000000\n",
       "50%         18.000000\n",
       "75%         22.000000\n",
       "max         41.000000\n",
       "Name: duration, dtype: float64"
      ]
     },
     "execution_count": 25,
     "metadata": {},
     "output_type": "execute_result"
    }
   ],
   "source": [
    "#Исследуем rides_go['duration'] через describe и гистограмму\n",
    "rides_go['duration'].describe()"
   ]
  },
  {
   "cell_type": "code",
   "execution_count": 26,
   "id": "a2a1f74a",
   "metadata": {},
   "outputs": [
    {
     "data": {
      "image/png": "[encoded data removed]",
      "text/plain": [
       "<Figure size 1000x500 with 1 Axes>"
      ]
     },
     "metadata": {},
     "output_type": "display_data"
    }
   ],
   "source": [
    "rides_go['duration'].plot(kind='hist', bins=100, figsize=(10,5), title='Продолжительность поездок', xlabel='Время поездки', ylabel='Кол-во юзеров');"
   ]
  },
  {
   "cell_type": "markdown",
   "id": "125f296c",
   "metadata": {},
   "source": [
    "Из гистограммы видно что наибольшее количество поездок с продолжительностью от 15 до 21 минуты. Средняя продолжительность равна 18 минутам. \n",
    "Также у примерно 100 пользователь видна активность минутных поездок. Данный момент стоит взять во внимание и сообщить менеджменту для изучения."
   ]
  },
  {
   "cell_type": "markdown",
   "id": "8dcf697f",
   "metadata": {},
   "source": [
    "**Вывод**\n",
    "\n",
    "Был проведен анализ основных показателей выгрузки, на основании чего были сделаны следующие выводы:\n",
    "* Наиболее часто встречающийся город это Пятигорск. Наименее встречающийся - Москва;\n",
    "* Пользателей с подпиской на 8% больше, чем без подписки;\n",
    "* Самое большое число пользователей находится в промежутке от 20 до 30 лет. Средний возраст пользователей - 25 лет;\n",
    "* Cамое большое число поездок с расстоянием в промежутке от 2500 до 3500 метров. Средне расстояние за одну поездку 3070 метров. Есть отдельная категория пользователей на короткие дистанции до 1500 метров. Среди них наиболее частое значение расстояния - примерно 650 метров;\n",
    "* Наибольшее количество поездок с продолжительностью от 15 до 21 минуты. Средняя продолжительность равна 18 минутам. Также привлекли внимание странные поездки длительностью в 1 минуту, требующие отдельного изучения.\n",
    "По итогам вывода можно описать портрет среднего пользователя - это пользователь с подпиской в возрасте 25 лет, проезжающий 3 км за одну поездку, либо катается 18 мин."
   ]
  },
  {
   "cell_type": "markdown",
   "id": "4ef51331",
   "metadata": {},
   "source": [
    "## Шаг 4. Объединение данных"
   ]
  },
  {
   "cell_type": "markdown",
   "id": "1795ac69",
   "metadata": {},
   "source": [
    "<div class=\"alert alert-block alert-danger\">✍\n",
    "    \n",
    "\n",
    "__Комментарий от ревьюера №1__\n",
    "\n",
    " Отсутствует проверка размерности:\n",
    "    \n",
    "* размеры датасетов до объединения\n",
    "* размер результирующего датафрейма (с учетом типа объединения)"
   ]
  },
  {
   "cell_type": "markdown",
   "id": "742cb5db",
   "metadata": {},
   "source": [
    "<div class=\"alert alert-info\"> <b>Комментарии студента:</b> Сделано. После объединения также посчитал и оставил комментарий</div>"
   ]
  },
  {
   "cell_type": "code",
   "execution_count": 27,
   "id": "bd54f538",
   "metadata": {},
   "outputs": [
    {
     "data": {
      "text/plain": [
       "18068"
      ]
     },
     "execution_count": 27,
     "metadata": {},
     "output_type": "execute_result"
    }
   ],
   "source": [
    "len(rides_go)"
   ]
  },
  {
   "cell_type": "code",
   "execution_count": 28,
   "id": "5be8e47b",
   "metadata": {},
   "outputs": [
    {
     "data": {
      "text/plain": [
       "1534"
      ]
     },
     "execution_count": 28,
     "metadata": {},
     "output_type": "execute_result"
    }
   ],
   "source": [
    "len(users_go)"
   ]
  },
  {
   "cell_type": "code",
   "execution_count": 29,
   "id": "dcf25d5d",
   "metadata": {},
   "outputs": [
    {
     "data": {
      "text/plain": [
       "2"
      ]
     },
     "execution_count": 29,
     "metadata": {},
     "output_type": "execute_result"
    }
   ],
   "source": [
    "len(subscriptions_go)"
   ]
  },
  {
   "cell_type": "markdown",
   "id": "f405faae",
   "metadata": {},
   "source": [
    "##### Объединяем данные о пользователях, поездках и подписках в один датафрейм"
   ]
  },
  {
   "cell_type": "code",
   "execution_count": 30,
   "id": "8871cf3b",
   "metadata": {},
   "outputs": [
    {
     "name": "stdout",
     "output_type": "stream",
     "text": [
      "<class 'pandas.core.frame.DataFrame'>\n",
      "Int64Index: 18068 entries, 0 to 18067\n",
      "Data columns (total 9 columns):\n",
      " #   Column             Non-Null Count  Dtype         \n",
      "---  ------             --------------  -----         \n",
      " 0   user_id            18068 non-null  int64         \n",
      " 1   distance           18068 non-null  float64       \n",
      " 2   duration           18068 non-null  int32         \n",
      " 3   date               18068 non-null  datetime64[ns]\n",
      " 4   month              18068 non-null  int64         \n",
      " 5   name               18068 non-null  object        \n",
      " 6   age                18068 non-null  int64         \n",
      " 7   city               18068 non-null  object        \n",
      " 8   subscription_type  18068 non-null  object        \n",
      "dtypes: datetime64[ns](1), float64(1), int32(1), int64(3), object(3)\n",
      "memory usage: 1.3+ MB\n"
     ]
    }
   ],
   "source": [
    "## Объединим данные в два этапа. Сначала rides_go с users_go по столбцу user_id\n",
    "rides_users = rides_go.merge(users_go, on='user_id')\n",
    "#rides_users.head(20) #проверил\n",
    "rides_users.info()"
   ]
  },
  {
   "cell_type": "code",
   "execution_count": 31,
   "id": "9d445378",
   "metadata": {},
   "outputs": [
    {
     "data": {
      "text/html": [
       "<div>\n",
       "<style scoped>\n",
       "    .dataframe tbody tr th:only-of-type {\n",
       "        vertical-align: middle;\n",
       "    }\n",
       "\n",
       "    .dataframe tbody tr th {\n",
       "        vertical-align: top;\n",
       "    }\n",
       "\n",
       "    .dataframe thead th {\n",
       "        text-align: right;\n",
       "    }\n",
       "</style>\n",
       "<table border=\"1\" class=\"dataframe\">\n",
       "  <thead>\n",
       "    <tr style=\"text-align: right;\">\n",
       "      <th></th>\n",
       "      <th>user_id</th>\n",
       "      <th>distance</th>\n",
       "      <th>duration</th>\n",
       "      <th>date</th>\n",
       "      <th>month</th>\n",
       "      <th>name</th>\n",
       "      <th>age</th>\n",
       "      <th>city</th>\n",
       "      <th>subscription_type</th>\n",
       "      <th>minute_price</th>\n",
       "      <th>start_ride_price</th>\n",
       "      <th>subscription_fee</th>\n",
       "    </tr>\n",
       "  </thead>\n",
       "  <tbody>\n",
       "    <tr>\n",
       "      <th>0</th>\n",
       "      <td>1</td>\n",
       "      <td>4409.9</td>\n",
       "      <td>26</td>\n",
       "      <td>2021-01-01</td>\n",
       "      <td>1</td>\n",
       "      <td>Кира</td>\n",
       "      <td>22</td>\n",
       "      <td>Тюмень</td>\n",
       "      <td>ultra</td>\n",
       "      <td>6</td>\n",
       "      <td>0</td>\n",
       "      <td>199</td>\n",
       "    </tr>\n",
       "    <tr>\n",
       "      <th>1</th>\n",
       "      <td>1</td>\n",
       "      <td>2617.6</td>\n",
       "      <td>16</td>\n",
       "      <td>2021-01-18</td>\n",
       "      <td>1</td>\n",
       "      <td>Кира</td>\n",
       "      <td>22</td>\n",
       "      <td>Тюмень</td>\n",
       "      <td>ultra</td>\n",
       "      <td>6</td>\n",
       "      <td>0</td>\n",
       "      <td>199</td>\n",
       "    </tr>\n",
       "    <tr>\n",
       "      <th>2</th>\n",
       "      <td>1</td>\n",
       "      <td>754.2</td>\n",
       "      <td>7</td>\n",
       "      <td>2021-04-20</td>\n",
       "      <td>4</td>\n",
       "      <td>Кира</td>\n",
       "      <td>22</td>\n",
       "      <td>Тюмень</td>\n",
       "      <td>ultra</td>\n",
       "      <td>6</td>\n",
       "      <td>0</td>\n",
       "      <td>199</td>\n",
       "    </tr>\n",
       "    <tr>\n",
       "      <th>3</th>\n",
       "      <td>1</td>\n",
       "      <td>2694.8</td>\n",
       "      <td>19</td>\n",
       "      <td>2021-08-11</td>\n",
       "      <td>8</td>\n",
       "      <td>Кира</td>\n",
       "      <td>22</td>\n",
       "      <td>Тюмень</td>\n",
       "      <td>ultra</td>\n",
       "      <td>6</td>\n",
       "      <td>0</td>\n",
       "      <td>199</td>\n",
       "    </tr>\n",
       "    <tr>\n",
       "      <th>4</th>\n",
       "      <td>1</td>\n",
       "      <td>4028.7</td>\n",
       "      <td>27</td>\n",
       "      <td>2021-08-28</td>\n",
       "      <td>8</td>\n",
       "      <td>Кира</td>\n",
       "      <td>22</td>\n",
       "      <td>Тюмень</td>\n",
       "      <td>ultra</td>\n",
       "      <td>6</td>\n",
       "      <td>0</td>\n",
       "      <td>199</td>\n",
       "    </tr>\n",
       "  </tbody>\n",
       "</table>\n",
       "</div>"
      ],
      "text/plain": [
       "   user_id  distance  duration       date  month  name  age    city  \\\n",
       "0        1    4409.9        26 2021-01-01      1  Кира   22  Тюмень   \n",
       "1        1    2617.6        16 2021-01-18      1  Кира   22  Тюмень   \n",
       "2        1     754.2         7 2021-04-20      4  Кира   22  Тюмень   \n",
       "3        1    2694.8        19 2021-08-11      8  Кира   22  Тюмень   \n",
       "4        1    4028.7        27 2021-08-28      8  Кира   22  Тюмень   \n",
       "\n",
       "  subscription_type  minute_price  start_ride_price  subscription_fee  \n",
       "0             ultra             6                 0               199  \n",
       "1             ultra             6                 0               199  \n",
       "2             ultra             6                 0               199  \n",
       "3             ultra             6                 0               199  \n",
       "4             ultra             6                 0               199  "
      ]
     },
     "execution_count": 31,
     "metadata": {},
     "output_type": "execute_result"
    }
   ],
   "source": [
    "#теперь объединим rides_users с subscriptions_go по столбцу subscription_type\n",
    "rides_users_sub = rides_users.merge(subscriptions_go, on='subscription_type')\n",
    "rides_users_sub.head()\n",
    "#rides_users_sub.info() #проверил"
   ]
  },
  {
   "cell_type": "code",
   "execution_count": 32,
   "id": "4cf33b5c",
   "metadata": {},
   "outputs": [
    {
     "data": {
      "text/plain": [
       "18068"
      ]
     },
     "execution_count": 32,
     "metadata": {},
     "output_type": "execute_result"
    }
   ],
   "source": [
    "len(rides_users_sub)"
   ]
  },
  {
   "cell_type": "markdown",
   "id": "d854e6a2",
   "metadata": {},
   "source": [
    "<div class=\"alert alert-info\"> <b>Комментарии студента:</b> Так как соединяли методом merge под столбцу rides_go['user_id'], то количество строк rides_go должен совпадать с новым датафреймом rides_users_sub. Что и получили. Количество строк 18068 совпадают</div>"
   ]
  },
  {
   "cell_type": "markdown",
   "id": "f0b26ec0",
   "metadata": {},
   "source": [
    "<div class=\"alert alert-block alert-success\">✔️\n",
    "    \n",
    "\n",
    "__Комментарий от ревьюера №2__\n",
    "\n",
    "Отлично. Проверка размерности датасетов проведена"
   ]
  },
  {
   "cell_type": "markdown",
   "id": "b6b946cf",
   "metadata": {},
   "source": [
    "##### Создаем ещё два датафрейма: c данными о пользователях без подписки и без"
   ]
  },
  {
   "cell_type": "code",
   "execution_count": 33,
   "id": "c9395f6e",
   "metadata": {},
   "outputs": [
    {
     "data": {
      "text/html": [
       "<div>\n",
       "<style scoped>\n",
       "    .dataframe tbody tr th:only-of-type {\n",
       "        vertical-align: middle;\n",
       "    }\n",
       "\n",
       "    .dataframe tbody tr th {\n",
       "        vertical-align: top;\n",
       "    }\n",
       "\n",
       "    .dataframe thead th {\n",
       "        text-align: right;\n",
       "    }\n",
       "</style>\n",
       "<table border=\"1\" class=\"dataframe\">\n",
       "  <thead>\n",
       "    <tr style=\"text-align: right;\">\n",
       "      <th></th>\n",
       "      <th>user_id</th>\n",
       "      <th>distance</th>\n",
       "      <th>duration</th>\n",
       "      <th>date</th>\n",
       "      <th>month</th>\n",
       "      <th>name</th>\n",
       "      <th>age</th>\n",
       "      <th>city</th>\n",
       "      <th>subscription_type</th>\n",
       "      <th>minute_price</th>\n",
       "      <th>start_ride_price</th>\n",
       "      <th>subscription_fee</th>\n",
       "    </tr>\n",
       "  </thead>\n",
       "  <tbody>\n",
       "    <tr>\n",
       "      <th>0</th>\n",
       "      <td>1</td>\n",
       "      <td>4409.9</td>\n",
       "      <td>26</td>\n",
       "      <td>2021-01-01</td>\n",
       "      <td>1</td>\n",
       "      <td>Кира</td>\n",
       "      <td>22</td>\n",
       "      <td>Тюмень</td>\n",
       "      <td>ultra</td>\n",
       "      <td>6</td>\n",
       "      <td>0</td>\n",
       "      <td>199</td>\n",
       "    </tr>\n",
       "    <tr>\n",
       "      <th>1</th>\n",
       "      <td>1</td>\n",
       "      <td>2617.6</td>\n",
       "      <td>16</td>\n",
       "      <td>2021-01-18</td>\n",
       "      <td>1</td>\n",
       "      <td>Кира</td>\n",
       "      <td>22</td>\n",
       "      <td>Тюмень</td>\n",
       "      <td>ultra</td>\n",
       "      <td>6</td>\n",
       "      <td>0</td>\n",
       "      <td>199</td>\n",
       "    </tr>\n",
       "    <tr>\n",
       "      <th>2</th>\n",
       "      <td>1</td>\n",
       "      <td>754.2</td>\n",
       "      <td>7</td>\n",
       "      <td>2021-04-20</td>\n",
       "      <td>4</td>\n",
       "      <td>Кира</td>\n",
       "      <td>22</td>\n",
       "      <td>Тюмень</td>\n",
       "      <td>ultra</td>\n",
       "      <td>6</td>\n",
       "      <td>0</td>\n",
       "      <td>199</td>\n",
       "    </tr>\n",
       "    <tr>\n",
       "      <th>3</th>\n",
       "      <td>1</td>\n",
       "      <td>2694.8</td>\n",
       "      <td>19</td>\n",
       "      <td>2021-08-11</td>\n",
       "      <td>8</td>\n",
       "      <td>Кира</td>\n",
       "      <td>22</td>\n",
       "      <td>Тюмень</td>\n",
       "      <td>ultra</td>\n",
       "      <td>6</td>\n",
       "      <td>0</td>\n",
       "      <td>199</td>\n",
       "    </tr>\n",
       "    <tr>\n",
       "      <th>4</th>\n",
       "      <td>1</td>\n",
       "      <td>4028.7</td>\n",
       "      <td>27</td>\n",
       "      <td>2021-08-28</td>\n",
       "      <td>8</td>\n",
       "      <td>Кира</td>\n",
       "      <td>22</td>\n",
       "      <td>Тюмень</td>\n",
       "      <td>ultra</td>\n",
       "      <td>6</td>\n",
       "      <td>0</td>\n",
       "      <td>199</td>\n",
       "    </tr>\n",
       "  </tbody>\n",
       "</table>\n",
       "</div>"
      ],
      "text/plain": [
       "   user_id  distance  duration       date  month  name  age    city  \\\n",
       "0        1    4409.9        26 2021-01-01      1  Кира   22  Тюмень   \n",
       "1        1    2617.6        16 2021-01-18      1  Кира   22  Тюмень   \n",
       "2        1     754.2         7 2021-04-20      4  Кира   22  Тюмень   \n",
       "3        1    2694.8        19 2021-08-11      8  Кира   22  Тюмень   \n",
       "4        1    4028.7        27 2021-08-28      8  Кира   22  Тюмень   \n",
       "\n",
       "  subscription_type  minute_price  start_ride_price  subscription_fee  \n",
       "0             ultra             6                 0               199  \n",
       "1             ultra             6                 0               199  \n",
       "2             ultra             6                 0               199  \n",
       "3             ultra             6                 0               199  \n",
       "4             ultra             6                 0               199  "
      ]
     },
     "execution_count": 33,
     "metadata": {},
     "output_type": "execute_result"
    }
   ],
   "source": [
    "#с подпиской\n",
    "with_sub = rides_users_sub.query('subscription_type == \"ultra\"')\n",
    "with_sub.head()"
   ]
  },
  {
   "cell_type": "code",
   "execution_count": 34,
   "id": "d4d84361",
   "metadata": {},
   "outputs": [
    {
     "data": {
      "text/html": [
       "<div>\n",
       "<style scoped>\n",
       "    .dataframe tbody tr th:only-of-type {\n",
       "        vertical-align: middle;\n",
       "    }\n",
       "\n",
       "    .dataframe tbody tr th {\n",
       "        vertical-align: top;\n",
       "    }\n",
       "\n",
       "    .dataframe thead th {\n",
       "        text-align: right;\n",
       "    }\n",
       "</style>\n",
       "<table border=\"1\" class=\"dataframe\">\n",
       "  <thead>\n",
       "    <tr style=\"text-align: right;\">\n",
       "      <th></th>\n",
       "      <th>user_id</th>\n",
       "      <th>distance</th>\n",
       "      <th>duration</th>\n",
       "      <th>date</th>\n",
       "      <th>month</th>\n",
       "      <th>name</th>\n",
       "      <th>age</th>\n",
       "      <th>city</th>\n",
       "      <th>subscription_type</th>\n",
       "      <th>minute_price</th>\n",
       "      <th>start_ride_price</th>\n",
       "      <th>subscription_fee</th>\n",
       "    </tr>\n",
       "  </thead>\n",
       "  <tbody>\n",
       "    <tr>\n",
       "      <th>6500</th>\n",
       "      <td>700</td>\n",
       "      <td>2515.7</td>\n",
       "      <td>15</td>\n",
       "      <td>2021-01-02</td>\n",
       "      <td>1</td>\n",
       "      <td>Айдар</td>\n",
       "      <td>22</td>\n",
       "      <td>Омск</td>\n",
       "      <td>free</td>\n",
       "      <td>8</td>\n",
       "      <td>50</td>\n",
       "      <td>0</td>\n",
       "    </tr>\n",
       "    <tr>\n",
       "      <th>6501</th>\n",
       "      <td>700</td>\n",
       "      <td>846.9</td>\n",
       "      <td>17</td>\n",
       "      <td>2021-02-01</td>\n",
       "      <td>2</td>\n",
       "      <td>Айдар</td>\n",
       "      <td>22</td>\n",
       "      <td>Омск</td>\n",
       "      <td>free</td>\n",
       "      <td>8</td>\n",
       "      <td>50</td>\n",
       "      <td>0</td>\n",
       "    </tr>\n",
       "    <tr>\n",
       "      <th>6502</th>\n",
       "      <td>700</td>\n",
       "      <td>4004.4</td>\n",
       "      <td>21</td>\n",
       "      <td>2021-02-04</td>\n",
       "      <td>2</td>\n",
       "      <td>Айдар</td>\n",
       "      <td>22</td>\n",
       "      <td>Омск</td>\n",
       "      <td>free</td>\n",
       "      <td>8</td>\n",
       "      <td>50</td>\n",
       "      <td>0</td>\n",
       "    </tr>\n",
       "    <tr>\n",
       "      <th>6503</th>\n",
       "      <td>700</td>\n",
       "      <td>1205.9</td>\n",
       "      <td>10</td>\n",
       "      <td>2021-02-10</td>\n",
       "      <td>2</td>\n",
       "      <td>Айдар</td>\n",
       "      <td>22</td>\n",
       "      <td>Омск</td>\n",
       "      <td>free</td>\n",
       "      <td>8</td>\n",
       "      <td>50</td>\n",
       "      <td>0</td>\n",
       "    </tr>\n",
       "    <tr>\n",
       "      <th>6504</th>\n",
       "      <td>700</td>\n",
       "      <td>3047.4</td>\n",
       "      <td>18</td>\n",
       "      <td>2021-02-14</td>\n",
       "      <td>2</td>\n",
       "      <td>Айдар</td>\n",
       "      <td>22</td>\n",
       "      <td>Омск</td>\n",
       "      <td>free</td>\n",
       "      <td>8</td>\n",
       "      <td>50</td>\n",
       "      <td>0</td>\n",
       "    </tr>\n",
       "  </tbody>\n",
       "</table>\n",
       "</div>"
      ],
      "text/plain": [
       "      user_id  distance  duration       date  month   name  age  city  \\\n",
       "6500      700    2515.7        15 2021-01-02      1  Айдар   22  Омск   \n",
       "6501      700     846.9        17 2021-02-01      2  Айдар   22  Омск   \n",
       "6502      700    4004.4        21 2021-02-04      2  Айдар   22  Омск   \n",
       "6503      700    1205.9        10 2021-02-10      2  Айдар   22  Омск   \n",
       "6504      700    3047.4        18 2021-02-14      2  Айдар   22  Омск   \n",
       "\n",
       "     subscription_type  minute_price  start_ride_price  subscription_fee  \n",
       "6500              free             8                50                 0  \n",
       "6501              free             8                50                 0  \n",
       "6502              free             8                50                 0  \n",
       "6503              free             8                50                 0  \n",
       "6504              free             8                50                 0  "
      ]
     },
     "execution_count": 34,
     "metadata": {},
     "output_type": "execute_result"
    }
   ],
   "source": [
    "#без подписки\n",
    "no_sub = rides_users_sub.query('subscription_type == \"free\"')\n",
    "no_sub.head()"
   ]
  },
  {
   "cell_type": "markdown",
   "id": "a2445224",
   "metadata": {},
   "source": [
    "<div class=\"alert alert-block alert-warning\">📝\n",
    "    \n",
    "\n",
    "__Комментарий от ревьюера №1__\n",
    "\n",
    "Целесообразно вывести несколько строк из общего и отдельных датафреймов."
   ]
  },
  {
   "cell_type": "markdown",
   "id": "e04904b2",
   "metadata": {},
   "source": [
    "<div class=\"alert alert-info\"> <b>Комментарии студента:</b> Сделано</div>"
   ]
  },
  {
   "cell_type": "markdown",
   "id": "9bb80e1d",
   "metadata": {},
   "source": [
    "##### Визуализируем информацию о расстоянии и времени поездок для пользователей обеих категорий"
   ]
  },
  {
   "cell_type": "code",
   "execution_count": 35,
   "id": "18692dde",
   "metadata": {},
   "outputs": [
    {
     "data": {
      "text/html": [
       "<div>\n",
       "<style scoped>\n",
       "    .dataframe tbody tr th:only-of-type {\n",
       "        vertical-align: middle;\n",
       "    }\n",
       "\n",
       "    .dataframe tbody tr th {\n",
       "        vertical-align: top;\n",
       "    }\n",
       "\n",
       "    .dataframe thead th {\n",
       "        text-align: right;\n",
       "    }\n",
       "</style>\n",
       "<table border=\"1\" class=\"dataframe\">\n",
       "  <thead>\n",
       "    <tr style=\"text-align: right;\">\n",
       "      <th></th>\n",
       "      <th>user_id</th>\n",
       "      <th>distance</th>\n",
       "      <th>duration</th>\n",
       "      <th>month</th>\n",
       "      <th>age</th>\n",
       "      <th>minute_price</th>\n",
       "      <th>start_ride_price</th>\n",
       "      <th>subscription_fee</th>\n",
       "    </tr>\n",
       "  </thead>\n",
       "  <tbody>\n",
       "    <tr>\n",
       "      <th>count</th>\n",
       "      <td>6500.000000</td>\n",
       "      <td>6500.000000</td>\n",
       "      <td>6500.000000</td>\n",
       "      <td>6500.000000</td>\n",
       "      <td>6500.000000</td>\n",
       "      <td>6500.0</td>\n",
       "      <td>6500.0</td>\n",
       "      <td>6500.0</td>\n",
       "    </tr>\n",
       "    <tr>\n",
       "      <th>mean</th>\n",
       "      <td>348.725385</td>\n",
       "      <td>3115.444985</td>\n",
       "      <td>19.037692</td>\n",
       "      <td>6.422308</td>\n",
       "      <td>24.892615</td>\n",
       "      <td>6.0</td>\n",
       "      <td>0.0</td>\n",
       "      <td>199.0</td>\n",
       "    </tr>\n",
       "    <tr>\n",
       "      <th>std</th>\n",
       "      <td>201.099339</td>\n",
       "      <td>836.895127</td>\n",
       "      <td>5.577439</td>\n",
       "      <td>3.414616</td>\n",
       "      <td>4.757208</td>\n",
       "      <td>0.0</td>\n",
       "      <td>0.0</td>\n",
       "      <td>0.0</td>\n",
       "    </tr>\n",
       "    <tr>\n",
       "      <th>min</th>\n",
       "      <td>1.000000</td>\n",
       "      <td>244.200000</td>\n",
       "      <td>4.000000</td>\n",
       "      <td>1.000000</td>\n",
       "      <td>12.000000</td>\n",
       "      <td>6.0</td>\n",
       "      <td>0.0</td>\n",
       "      <td>199.0</td>\n",
       "    </tr>\n",
       "    <tr>\n",
       "      <th>25%</th>\n",
       "      <td>175.000000</td>\n",
       "      <td>2785.400000</td>\n",
       "      <td>15.000000</td>\n",
       "      <td>4.000000</td>\n",
       "      <td>22.000000</td>\n",
       "      <td>6.0</td>\n",
       "      <td>0.0</td>\n",
       "      <td>199.0</td>\n",
       "    </tr>\n",
       "    <tr>\n",
       "      <th>50%</th>\n",
       "      <td>351.000000</td>\n",
       "      <td>3148.600000</td>\n",
       "      <td>19.000000</td>\n",
       "      <td>6.000000</td>\n",
       "      <td>25.000000</td>\n",
       "      <td>6.0</td>\n",
       "      <td>0.0</td>\n",
       "      <td>199.0</td>\n",
       "    </tr>\n",
       "    <tr>\n",
       "      <th>75%</th>\n",
       "      <td>525.000000</td>\n",
       "      <td>3560.600000</td>\n",
       "      <td>22.000000</td>\n",
       "      <td>9.000000</td>\n",
       "      <td>28.000000</td>\n",
       "      <td>6.0</td>\n",
       "      <td>0.0</td>\n",
       "      <td>199.0</td>\n",
       "    </tr>\n",
       "    <tr>\n",
       "      <th>max</th>\n",
       "      <td>699.000000</td>\n",
       "      <td>5699.800000</td>\n",
       "      <td>41.000000</td>\n",
       "      <td>12.000000</td>\n",
       "      <td>38.000000</td>\n",
       "      <td>6.0</td>\n",
       "      <td>0.0</td>\n",
       "      <td>199.0</td>\n",
       "    </tr>\n",
       "  </tbody>\n",
       "</table>\n",
       "</div>"
      ],
      "text/plain": [
       "           user_id     distance     duration        month          age  \\\n",
       "count  6500.000000  6500.000000  6500.000000  6500.000000  6500.000000   \n",
       "mean    348.725385  3115.444985    19.037692     6.422308    24.892615   \n",
       "std     201.099339   836.895127     5.577439     3.414616     4.757208   \n",
       "min       1.000000   244.200000     4.000000     1.000000    12.000000   \n",
       "25%     175.000000  2785.400000    15.000000     4.000000    22.000000   \n",
       "50%     351.000000  3148.600000    19.000000     6.000000    25.000000   \n",
       "75%     525.000000  3560.600000    22.000000     9.000000    28.000000   \n",
       "max     699.000000  5699.800000    41.000000    12.000000    38.000000   \n",
       "\n",
       "       minute_price  start_ride_price  subscription_fee  \n",
       "count        6500.0            6500.0            6500.0  \n",
       "mean            6.0               0.0             199.0  \n",
       "std             0.0               0.0               0.0  \n",
       "min             6.0               0.0             199.0  \n",
       "25%             6.0               0.0             199.0  \n",
       "50%             6.0               0.0             199.0  \n",
       "75%             6.0               0.0             199.0  \n",
       "max             6.0               0.0             199.0  "
      ]
     },
     "execution_count": 35,
     "metadata": {},
     "output_type": "execute_result"
    }
   ],
   "source": [
    "#для with_sub\n",
    "with_sub.describe()"
   ]
  },
  {
   "cell_type": "code",
   "execution_count": 36,
   "id": "afae7cd7",
   "metadata": {},
   "outputs": [
    {
     "data": {
      "image/png": "[encoded data removed]",
      "text/plain": [
       "<Figure size 1500x500 with 1 Axes>"
      ]
     },
     "metadata": {},
     "output_type": "display_data"
    }
   ],
   "source": [
    "with_sub['distance'].plot(kind='hist', bins=300, figsize=(15, 5), title='Продолжительность поездок пользователей с подпиской', xlabel='Продолжительность поездки', ylabel='Кол-во юзеров');"
   ]
  },
  {
   "cell_type": "markdown",
   "id": "fc20fdbc",
   "metadata": {},
   "source": [
    "Пользователей с подпиской проезжает в среднем 3115 метров за одну поездку."
   ]
  },
  {
   "cell_type": "code",
   "execution_count": 37,
   "id": "55082710",
   "metadata": {},
   "outputs": [
    {
     "data": {
      "image/png": "[encoded data removed]",
      "text/plain": [
       "<Figure size 1500x500 with 1 Axes>"
      ]
     },
     "metadata": {},
     "output_type": "display_data"
    }
   ],
   "source": [
    "with_sub['duration'].plot(kind='hist', bins=300, figsize=(15, 5), title='Расстояние поездок пользователей с подпиской', xlabel='Расстояние поездки', ylabel='Кол-во юзеров');"
   ]
  },
  {
   "cell_type": "markdown",
   "id": "f63c593b",
   "metadata": {},
   "source": [
    "Для пользователей с подпиской характерны поездки с длительностью от 15 до 21 минуты. Средняя поездка составлет 19 минут"
   ]
  },
  {
   "cell_type": "code",
   "execution_count": 38,
   "id": "f172b6a4",
   "metadata": {},
   "outputs": [
    {
     "data": {
      "text/html": [
       "<div>\n",
       "<style scoped>\n",
       "    .dataframe tbody tr th:only-of-type {\n",
       "        vertical-align: middle;\n",
       "    }\n",
       "\n",
       "    .dataframe tbody tr th {\n",
       "        vertical-align: top;\n",
       "    }\n",
       "\n",
       "    .dataframe thead th {\n",
       "        text-align: right;\n",
       "    }\n",
       "</style>\n",
       "<table border=\"1\" class=\"dataframe\">\n",
       "  <thead>\n",
       "    <tr style=\"text-align: right;\">\n",
       "      <th></th>\n",
       "      <th>user_id</th>\n",
       "      <th>distance</th>\n",
       "      <th>duration</th>\n",
       "      <th>month</th>\n",
       "      <th>age</th>\n",
       "      <th>minute_price</th>\n",
       "      <th>start_ride_price</th>\n",
       "      <th>subscription_fee</th>\n",
       "    </tr>\n",
       "  </thead>\n",
       "  <tbody>\n",
       "    <tr>\n",
       "      <th>count</th>\n",
       "      <td>11568.000000</td>\n",
       "      <td>11568.000000</td>\n",
       "      <td>11568.000000</td>\n",
       "      <td>11568.000000</td>\n",
       "      <td>11568.000000</td>\n",
       "      <td>11568.0</td>\n",
       "      <td>11568.0</td>\n",
       "      <td>11568.0</td>\n",
       "    </tr>\n",
       "    <tr>\n",
       "      <th>mean</th>\n",
       "      <td>1120.527230</td>\n",
       "      <td>3045.495297</td>\n",
       "      <td>17.890992</td>\n",
       "      <td>6.522994</td>\n",
       "      <td>24.893326</td>\n",
       "      <td>8.0</td>\n",
       "      <td>50.0</td>\n",
       "      <td>0.0</td>\n",
       "    </tr>\n",
       "    <tr>\n",
       "      <th>std</th>\n",
       "      <td>241.165628</td>\n",
       "      <td>1246.173747</td>\n",
       "      <td>6.330250</td>\n",
       "      <td>3.449770</td>\n",
       "      <td>4.481100</td>\n",
       "      <td>0.0</td>\n",
       "      <td>0.0</td>\n",
       "      <td>0.0</td>\n",
       "    </tr>\n",
       "    <tr>\n",
       "      <th>min</th>\n",
       "      <td>700.000000</td>\n",
       "      <td>0.900000</td>\n",
       "      <td>1.000000</td>\n",
       "      <td>1.000000</td>\n",
       "      <td>12.000000</td>\n",
       "      <td>8.0</td>\n",
       "      <td>50.0</td>\n",
       "      <td>0.0</td>\n",
       "    </tr>\n",
       "    <tr>\n",
       "      <th>25%</th>\n",
       "      <td>915.000000</td>\n",
       "      <td>2366.600000</td>\n",
       "      <td>13.000000</td>\n",
       "      <td>4.000000</td>\n",
       "      <td>22.000000</td>\n",
       "      <td>8.0</td>\n",
       "      <td>50.0</td>\n",
       "      <td>0.0</td>\n",
       "    </tr>\n",
       "    <tr>\n",
       "      <th>50%</th>\n",
       "      <td>1123.000000</td>\n",
       "      <td>3114.650000</td>\n",
       "      <td>18.000000</td>\n",
       "      <td>7.000000</td>\n",
       "      <td>25.000000</td>\n",
       "      <td>8.0</td>\n",
       "      <td>50.0</td>\n",
       "      <td>0.0</td>\n",
       "    </tr>\n",
       "    <tr>\n",
       "      <th>75%</th>\n",
       "      <td>1328.000000</td>\n",
       "      <td>3905.700000</td>\n",
       "      <td>22.000000</td>\n",
       "      <td>9.000000</td>\n",
       "      <td>28.000000</td>\n",
       "      <td>8.0</td>\n",
       "      <td>50.0</td>\n",
       "      <td>0.0</td>\n",
       "    </tr>\n",
       "    <tr>\n",
       "      <th>max</th>\n",
       "      <td>1534.000000</td>\n",
       "      <td>7211.000000</td>\n",
       "      <td>35.000000</td>\n",
       "      <td>12.000000</td>\n",
       "      <td>43.000000</td>\n",
       "      <td>8.0</td>\n",
       "      <td>50.0</td>\n",
       "      <td>0.0</td>\n",
       "    </tr>\n",
       "  </tbody>\n",
       "</table>\n",
       "</div>"
      ],
      "text/plain": [
       "            user_id      distance      duration         month           age  \\\n",
       "count  11568.000000  11568.000000  11568.000000  11568.000000  11568.000000   \n",
       "mean    1120.527230   3045.495297     17.890992      6.522994     24.893326   \n",
       "std      241.165628   1246.173747      6.330250      3.449770      4.481100   \n",
       "min      700.000000      0.900000      1.000000      1.000000     12.000000   \n",
       "25%      915.000000   2366.600000     13.000000      4.000000     22.000000   \n",
       "50%     1123.000000   3114.650000     18.000000      7.000000     25.000000   \n",
       "75%     1328.000000   3905.700000     22.000000      9.000000     28.000000   \n",
       "max     1534.000000   7211.000000     35.000000     12.000000     43.000000   \n",
       "\n",
       "       minute_price  start_ride_price  subscription_fee  \n",
       "count       11568.0           11568.0           11568.0  \n",
       "mean            8.0              50.0               0.0  \n",
       "std             0.0               0.0               0.0  \n",
       "min             8.0              50.0               0.0  \n",
       "25%             8.0              50.0               0.0  \n",
       "50%             8.0              50.0               0.0  \n",
       "75%             8.0              50.0               0.0  \n",
       "max             8.0              50.0               0.0  "
      ]
     },
     "execution_count": 38,
     "metadata": {},
     "output_type": "execute_result"
    }
   ],
   "source": [
    "#для no_sub\n",
    "no_sub.describe()"
   ]
  },
  {
   "cell_type": "code",
   "execution_count": 39,
   "id": "3ab6b720",
   "metadata": {},
   "outputs": [
    {
     "data": {
      "image/png": "[encoded data removed]",
      "text/plain": [
       "<Figure size 1500x500 with 1 Axes>"
      ]
     },
     "metadata": {},
     "output_type": "display_data"
    }
   ],
   "source": [
    "no_sub['distance'].plot(kind='hist', bins=300, figsize=(15, 5), title='Расстояние поездок пользователей без подписки', xlabel='Расстояние поездки', ylabel='Кол-во юзеров');"
   ]
  },
  {
   "cell_type": "markdown",
   "id": "3142e245",
   "metadata": {},
   "source": [
    "Для пользователей без подписки средним расстоянием поездки является 3045 метров. Также заметны аномально короткие поездки до 300 метров, на что стоит обратить внимание коллегам. Визуализируем их ниже."
   ]
  },
  {
   "cell_type": "code",
   "execution_count": 40,
   "id": "5d346472",
   "metadata": {},
   "outputs": [
    {
     "data": {
      "image/png": "[encoded data removed]",
      "text/plain": [
       "<Figure size 1500x500 with 1 Axes>"
      ]
     },
     "metadata": {},
     "output_type": "display_data"
    }
   ],
   "source": [
    "no_sub['distance'].plot(kind='hist', bins=300, figsize=(15, 5), title='Расстояние поездок пользователей без подписки', xlabel='Расстояние поездки', ylabel='Кол-во юзеров');"
   ]
  },
  {
   "cell_type": "code",
   "execution_count": 41,
   "id": "1e964f57",
   "metadata": {},
   "outputs": [
    {
     "data": {
      "image/png": "[encoded data removed]",
      "text/plain": [
       "<Figure size 1500x500 with 1 Axes>"
      ]
     },
     "metadata": {},
     "output_type": "display_data"
    }
   ],
   "source": [
    "no_sub['duration'].plot(kind='hist', bins=300, figsize=(15, 5), title='Продолжительность поездок пользователей без подписки', xlabel='Продолжительность поездки', ylabel='Кол-во юзеров');"
   ]
  },
  {
   "cell_type": "markdown",
   "id": "225aa154",
   "metadata": {},
   "source": [
    "Средняя длительность поездки пользователя без подписки - 18 минут. Также видны ранее замеченные одноминутные поездки у ста пользователей, на которые обратили внимание в предыдущем разделе. Оказалось они относятся к категории пользователей без подписок, что даст больше информации коллегам для изучения данной аномалии."
   ]
  },
  {
   "cell_type": "markdown",
   "id": "1e5fc021",
   "metadata": {},
   "source": [
    "**Вывод**\n",
    "\n",
    "Было произведено объединение данных о пользователях, поездках и подписках в один датафрейм. Также создано ещё два датафрейма: c данными о пользователях без подписки и без.\n",
    "По итогам изучения полученных данных были получены следующие наблюдения:\n",
    "* Среднее расстояние поездки у пользователей с подпиской 3115 метров против 3045 метров у пользователей без подписки;\n",
    "* Средняя длителльность поездки у пользователей с подпиской 19 минут против 18 минут у пользователей без подписки;\n",
    "* Были замечены аномальные поездки на малые расстояния до 200 метров у пользователей с подпиской;\n",
    "* Были идентифицированы ранее замеченные аномалии коротких одноминутных поездок. Они произведены пользателями без подписки."
   ]
  },
  {
   "cell_type": "markdown",
   "id": "cf871b94",
   "metadata": {},
   "source": [
    "<div class=\"alert alert-block alert-success\">✔️\n",
    "    \n",
    "\n",
    "__Комментарий от ревьюера №1__\n",
    "\n",
    "У пользователей без подписки значительно больше коротких поездок - до 1 км и в целом максимальная дальность поездки выше, чем у платных пользователей."
   ]
  },
  {
   "cell_type": "markdown",
   "id": "402d620f",
   "metadata": {},
   "source": [
    "## Шаг 5. Подсчёт выручки"
   ]
  },
  {
   "cell_type": "markdown",
   "id": "d61b27d3",
   "metadata": {},
   "source": [
    "<div class=\"alert alert-block alert-warning\">📝\n",
    "    \n",
    "\n",
    "__Комментарий от ревьюера №1__\n",
    "    \n",
    "Нет проверки на пропуски в сводной таблице перед расчетом выручки"
   ]
  },
  {
   "cell_type": "markdown",
   "id": "6f4dedbc",
   "metadata": {},
   "source": [
    "<div class=\"alert alert-info\"> <b>Комментарии студента:</b> Сделано</div>"
   ]
  },
  {
   "cell_type": "code",
   "execution_count": 42,
   "id": "41c7bc68",
   "metadata": {},
   "outputs": [
    {
     "data": {
      "text/plain": [
       "user_id              0\n",
       "distance             0\n",
       "duration             0\n",
       "date                 0\n",
       "month                0\n",
       "name                 0\n",
       "age                  0\n",
       "city                 0\n",
       "subscription_type    0\n",
       "minute_price         0\n",
       "start_ride_price     0\n",
       "subscription_fee     0\n",
       "dtype: int64"
      ]
     },
     "execution_count": 42,
     "metadata": {},
     "output_type": "execute_result"
    }
   ],
   "source": [
    "rides_users_sub.isna().sum()"
   ]
  },
  {
   "cell_type": "markdown",
   "id": "e300308c",
   "metadata": {},
   "source": [
    "##### Создаем датафрейм с агрегированными данными о поездках на основе датафрейма с объединёнными данными из шага 4: найдем суммарное расстояние, количество поездок и суммарное время для каждого пользователя за каждый месяц**"
   ]
  },
  {
   "cell_type": "code",
   "execution_count": 43,
   "id": "53049e0a",
   "metadata": {},
   "outputs": [
    {
     "data": {
      "text/html": [
       "<div>\n",
       "<style scoped>\n",
       "    .dataframe tbody tr th:only-of-type {\n",
       "        vertical-align: middle;\n",
       "    }\n",
       "\n",
       "    .dataframe tbody tr th {\n",
       "        vertical-align: top;\n",
       "    }\n",
       "\n",
       "    .dataframe thead th {\n",
       "        text-align: right;\n",
       "    }\n",
       "</style>\n",
       "<table border=\"1\" class=\"dataframe\">\n",
       "  <thead>\n",
       "    <tr style=\"text-align: right;\">\n",
       "      <th></th>\n",
       "      <th></th>\n",
       "      <th>date</th>\n",
       "      <th>distance</th>\n",
       "      <th>duration</th>\n",
       "      <th>subscription_type</th>\n",
       "    </tr>\n",
       "    <tr>\n",
       "      <th>month</th>\n",
       "      <th>user_id</th>\n",
       "      <th></th>\n",
       "      <th></th>\n",
       "      <th></th>\n",
       "      <th></th>\n",
       "    </tr>\n",
       "  </thead>\n",
       "  <tbody>\n",
       "    <tr>\n",
       "      <th rowspan=\"5\" valign=\"top\">1</th>\n",
       "      <th>1</th>\n",
       "      <td>2</td>\n",
       "      <td>7027.5</td>\n",
       "      <td>42</td>\n",
       "      <td>ultra</td>\n",
       "    </tr>\n",
       "    <tr>\n",
       "      <th>3</th>\n",
       "      <td>1</td>\n",
       "      <td>3061.8</td>\n",
       "      <td>13</td>\n",
       "      <td>ultra</td>\n",
       "    </tr>\n",
       "    <tr>\n",
       "      <th>5</th>\n",
       "      <td>1</td>\n",
       "      <td>3914.6</td>\n",
       "      <td>13</td>\n",
       "      <td>ultra</td>\n",
       "    </tr>\n",
       "    <tr>\n",
       "      <th>7</th>\n",
       "      <td>2</td>\n",
       "      <td>6478.1</td>\n",
       "      <td>28</td>\n",
       "      <td>ultra</td>\n",
       "    </tr>\n",
       "    <tr>\n",
       "      <th>12</th>\n",
       "      <td>1</td>\n",
       "      <td>3577.2</td>\n",
       "      <td>33</td>\n",
       "      <td>ultra</td>\n",
       "    </tr>\n",
       "    <tr>\n",
       "      <th>...</th>\n",
       "      <th>...</th>\n",
       "      <td>...</td>\n",
       "      <td>...</td>\n",
       "      <td>...</td>\n",
       "      <td>...</td>\n",
       "    </tr>\n",
       "    <tr>\n",
       "      <th rowspan=\"5\" valign=\"top\">12</th>\n",
       "      <th>1525</th>\n",
       "      <td>1</td>\n",
       "      <td>4597.9</td>\n",
       "      <td>34</td>\n",
       "      <td>free</td>\n",
       "    </tr>\n",
       "    <tr>\n",
       "      <th>1526</th>\n",
       "      <td>1</td>\n",
       "      <td>3644.1</td>\n",
       "      <td>23</td>\n",
       "      <td>free</td>\n",
       "    </tr>\n",
       "    <tr>\n",
       "      <th>1528</th>\n",
       "      <td>1</td>\n",
       "      <td>3998.6</td>\n",
       "      <td>11</td>\n",
       "      <td>free</td>\n",
       "    </tr>\n",
       "    <tr>\n",
       "      <th>1532</th>\n",
       "      <td>2</td>\n",
       "      <td>6111.9</td>\n",
       "      <td>42</td>\n",
       "      <td>free</td>\n",
       "    </tr>\n",
       "    <tr>\n",
       "      <th>1534</th>\n",
       "      <td>1</td>\n",
       "      <td>2371.7</td>\n",
       "      <td>16</td>\n",
       "      <td>free</td>\n",
       "    </tr>\n",
       "  </tbody>\n",
       "</table>\n",
       "<p>11331 rows × 4 columns</p>\n",
       "</div>"
      ],
      "text/plain": [
       "               date  distance  duration subscription_type\n",
       "month user_id                                            \n",
       "1     1           2    7027.5        42             ultra\n",
       "      3           1    3061.8        13             ultra\n",
       "      5           1    3914.6        13             ultra\n",
       "      7           2    6478.1        28             ultra\n",
       "      12          1    3577.2        33             ultra\n",
       "...             ...       ...       ...               ...\n",
       "12    1525        1    4597.9        34              free\n",
       "      1526        1    3644.1        23              free\n",
       "      1528        1    3998.6        11              free\n",
       "      1532        2    6111.9        42              free\n",
       "      1534        1    2371.7        16              free\n",
       "\n",
       "[11331 rows x 4 columns]"
      ]
     },
     "execution_count": 43,
     "metadata": {},
     "output_type": "execute_result"
    }
   ],
   "source": [
    "#воспользуемся методом сводных таблиц pivot для rides_users_sub\n",
    "monthly_pivot = rides_users_sub.pivot_table(index=['month', 'user_id'], values=['distance', 'duration', 'date', 'subscription_type'], aggfunc={'distance':sum, 'duration':sum, 'date':len, 'subscription_type' : min}) \n",
    "monthly_pivot"
   ]
  },
  {
   "cell_type": "code",
   "execution_count": 44,
   "id": "8c08dc06",
   "metadata": {},
   "outputs": [],
   "source": [
    "#переименуем первый столбец в количество поездок\n",
    "monthly_pivot.columns = ['rides_qty', 'distance', 'duration', 'subscription_type']\n",
    "#monthly_pivot #проверил"
   ]
  },
  {
   "cell_type": "markdown",
   "id": "ec99b3e0",
   "metadata": {},
   "source": [
    "##### В этот же датафрейм добавим столбец с помесячной выручкой, которую принёс каждый пользователь**"
   ]
  },
  {
   "cell_type": "code",
   "execution_count": 45,
   "id": "056ffdf5",
   "metadata": {},
   "outputs": [
    {
     "data": {
      "text/html": [
       "<div>\n",
       "<style scoped>\n",
       "    .dataframe tbody tr th:only-of-type {\n",
       "        vertical-align: middle;\n",
       "    }\n",
       "\n",
       "    .dataframe tbody tr th {\n",
       "        vertical-align: top;\n",
       "    }\n",
       "\n",
       "    .dataframe thead th {\n",
       "        text-align: right;\n",
       "    }\n",
       "</style>\n",
       "<table border=\"1\" class=\"dataframe\">\n",
       "  <thead>\n",
       "    <tr style=\"text-align: right;\">\n",
       "      <th></th>\n",
       "      <th></th>\n",
       "      <th>rides_qty</th>\n",
       "      <th>distance</th>\n",
       "      <th>duration</th>\n",
       "      <th>subscription_type</th>\n",
       "      <th>profit</th>\n",
       "    </tr>\n",
       "    <tr>\n",
       "      <th>month</th>\n",
       "      <th>user_id</th>\n",
       "      <th></th>\n",
       "      <th></th>\n",
       "      <th></th>\n",
       "      <th></th>\n",
       "      <th></th>\n",
       "    </tr>\n",
       "  </thead>\n",
       "  <tbody>\n",
       "    <tr>\n",
       "      <th rowspan=\"5\" valign=\"top\">1</th>\n",
       "      <th>1</th>\n",
       "      <td>2</td>\n",
       "      <td>7027.5</td>\n",
       "      <td>42</td>\n",
       "      <td>ultra</td>\n",
       "      <td>451</td>\n",
       "    </tr>\n",
       "    <tr>\n",
       "      <th>3</th>\n",
       "      <td>1</td>\n",
       "      <td>3061.8</td>\n",
       "      <td>13</td>\n",
       "      <td>ultra</td>\n",
       "      <td>277</td>\n",
       "    </tr>\n",
       "    <tr>\n",
       "      <th>5</th>\n",
       "      <td>1</td>\n",
       "      <td>3914.6</td>\n",
       "      <td>13</td>\n",
       "      <td>ultra</td>\n",
       "      <td>277</td>\n",
       "    </tr>\n",
       "    <tr>\n",
       "      <th>7</th>\n",
       "      <td>2</td>\n",
       "      <td>6478.1</td>\n",
       "      <td>28</td>\n",
       "      <td>ultra</td>\n",
       "      <td>367</td>\n",
       "    </tr>\n",
       "    <tr>\n",
       "      <th>12</th>\n",
       "      <td>1</td>\n",
       "      <td>3577.2</td>\n",
       "      <td>33</td>\n",
       "      <td>ultra</td>\n",
       "      <td>397</td>\n",
       "    </tr>\n",
       "  </tbody>\n",
       "</table>\n",
       "</div>"
      ],
      "text/plain": [
       "               rides_qty  distance  duration subscription_type  profit\n",
       "month user_id                                                         \n",
       "1     1                2    7027.5        42             ultra     451\n",
       "      3                1    3061.8        13             ultra     277\n",
       "      5                1    3914.6        13             ultra     277\n",
       "      7                2    6478.1        28             ultra     367\n",
       "      12               1    3577.2        33             ultra     397"
      ]
     },
     "execution_count": 45,
     "metadata": {},
     "output_type": "execute_result"
    }
   ],
   "source": [
    "#сначала создадим функцию для взятия данных с датафрейма subscriptions_go и рассчета прибыли по формуле:(стоимость старта поездки * количество поездок) + (стоимость одной минуты поездки * общая продолжительность всех поездок в минутах) + стоимость подписки\n",
    "def profit_calc(row):\n",
    "    try:\n",
    "        if row['subscription_type'] == 'free':\n",
    "            cost = subscriptions_go.loc[0]\n",
    "        else:\n",
    "            cost = subscriptions_go.loc[1]\n",
    "        \n",
    "        profit = cost['start_ride_price'] * row['rides_qty'] + row['duration'] * cost['minute_price'] + cost['subscription_fee']\n",
    "        return profit\n",
    "    except:\n",
    "        pass\n",
    "\n",
    "monthly_pivot['profit'] = monthly_pivot.apply(profit_calc, axis=1)\n",
    "monthly_pivot.head()"
   ]
  },
  {
   "cell_type": "code",
   "execution_count": 46,
   "id": "fef9491e",
   "metadata": {},
   "outputs": [
    {
     "data": {
      "text/plain": [
       "3878641"
      ]
     },
     "execution_count": 46,
     "metadata": {},
     "output_type": "execute_result"
    }
   ],
   "source": [
    "#Выведем итоговую прибыль за весь период\n",
    "monthly_pivot['profit'].sum()"
   ]
  },
  {
   "cell_type": "markdown",
   "id": "010d6333",
   "metadata": {},
   "source": [
    "**Вывод**\n",
    "\n",
    "В данной части был сформирована сводная таблица с суммарным расстоянием, количеством поездок и суммарным временем для каждого пользователя за каждый месяц. Также была подсчитана помесячная выручка, которую принёс каждый пользователь. Прибыль за весь период исследования составила 3878641 руб."
   ]
  },
  {
   "cell_type": "markdown",
   "id": "b2eb7aac",
   "metadata": {},
   "source": [
    "<div class=\"alert alert-block alert-success\">✔️\n",
    "    \n",
    "\n",
    "__Комментарий от ревьюера №1__\n",
    "\n",
    "Молодец, что используешь собственные функции"
   ]
  },
  {
   "cell_type": "markdown",
   "id": "41545ac0",
   "metadata": {},
   "source": [
    "## Шаг 6. Проверка гипотез"
   ]
  },
  {
   "cell_type": "markdown",
   "id": "944e8711",
   "metadata": {},
   "source": [
    "##### Тратят ли пользователи с подпиской больше времени на поездки"
   ]
  },
  {
   "cell_type": "markdown",
   "id": "46bb610a",
   "metadata": {},
   "source": [
    "Определим нулевую и альтернативную гипотезы:\n",
    "* H0 - средние значения продолжительности поездки пользователей с подпиской и без подписки равны\n",
    "* H1 - среднее значение продолжительности поездки пользователей с подпиской больше в сравнении с пользователями без подписки.\n",
    "\n",
    "Используем двухбырочный t-тест для независимых выборок с уровнем статистической значимости 5%"
   ]
  },
  {
   "cell_type": "markdown",
   "id": "dc388472",
   "metadata": {},
   "source": [
    "<div class=\"alert alert-block alert-success\">✔️\n",
    "    \n",
    "\n",
    "__Комментарий от ревьюера №1__\n",
    "\n",
    "Верная интерпретация нулевой и альтернативной гипотез\n",
    "</div>"
   ]
  },
  {
   "cell_type": "code",
   "execution_count": 47,
   "id": "51100b35",
   "metadata": {},
   "outputs": [
    {
     "name": "stdout",
     "output_type": "stream",
     "text": [
      "Среднее значение продолжительности поездки пользователей с подпиской: 19.037692307692307\n",
      "Среднее значение продолжительности поездки пользователей без подписки: 17.890992392807746\n",
      "p-значение: 2.495945372073663e-34\n",
      "Отвергаем нулевую гипотезу\n"
     ]
    }
   ],
   "source": [
    "alpha = 0.05\n",
    "print('Среднее значение продолжительности поездки пользователей с подпиской:', with_sub['duration'].mean())\n",
    "print('Среднее значение продолжительности поездки пользователей без подписки:', no_sub['duration'].mean())\n",
    "results = st.ttest_ind(with_sub['duration'], no_sub['duration'], alternative='greater')\n",
    "print('p-значение:', results.pvalue)\n",
    "if results.pvalue < alpha:\n",
    "    print('Отвергаем нулевую гипотезу')\n",
    "else:\n",
    "    print('Не отвергаем нулевую гипотезу')"
   ]
  },
  {
   "cell_type": "markdown",
   "id": "3253c455",
   "metadata": {},
   "source": [
    "На основании теста нулевая гипотеза была отвергнута, значит есть возможность полагать, что пользователи с подпиской тратят больше времени на поездки, тем самым быть более выгодными для компании."
   ]
  },
  {
   "cell_type": "markdown",
   "id": "60e762a7",
   "metadata": {},
   "source": [
    "##### Можно ли сказать, что среднее расстояние, которое проезжают пользователи с подпиской за одну поездку, не превышает 3130 метров"
   ]
  },
  {
   "cell_type": "markdown",
   "id": "e31a6a17",
   "metadata": {},
   "source": [
    "* H0 - среднее расстояние поездки пользователей с подпиской равно 3130 метров\n",
    "* H1 - среднее расстояние поездки пользователей с подпиской больше 3130 метров\n",
    "\n",
    "Используем одновыборочный t-тест с уровнем статистической значимости 5%"
   ]
  },
  {
   "cell_type": "code",
   "execution_count": 48,
   "id": "fc223fa7",
   "metadata": {},
   "outputs": [
    {
     "name": "stdout",
     "output_type": "stream",
     "text": [
      "p-значение: 0.9195427368335853\n",
      "Не отвергаем нулевую гипотезу\n"
     ]
    }
   ],
   "source": [
    "limit = 3130\n",
    "alpha = 0.05\n",
    "results = st.ttest_1samp(with_sub['distance'], limit, alternative='greater')\n",
    "print('p-значение:', results.pvalue)\n",
    "if results.pvalue < alpha:\n",
    "    print('Отвергаем нулевую гипотезу')\n",
    "else:\n",
    "    print('Не отвергаем нулевую гипотезу')"
   ]
  },
  {
   "cell_type": "markdown",
   "id": "a8692628",
   "metadata": {},
   "source": [
    "На основании теста нулевая гипотеза не может быть отвергнута, значит есть возможность полагать, что среднее расстояние, которое проезжают пользователи с подпиской за одну поездку, не превышает 3130 метров."
   ]
  },
  {
   "cell_type": "markdown",
   "id": "b45aba88",
   "metadata": {},
   "source": [
    "##### Будет ли помесячная выручка от пользователей с подпиской по месяцам выше, чем выручка от пользователей без подписки"
   ]
  },
  {
   "cell_type": "markdown",
   "id": "db99c5fe",
   "metadata": {},
   "source": [
    "* H0 - средняя помесячная выручка от пользователей с подпиской равна средней помесячной выручке от пользователей без подписки\n",
    "* H1 - средняя помесячная выручка от пользователей с подпиской превышает среднюю помесячную выручку от пользователей без подписки\n",
    "\n",
    "Используем двухвыборочный t-тест для независимых выборок с уровнем статистической значимости 5%"
   ]
  },
  {
   "cell_type": "code",
   "execution_count": 49,
   "id": "37dee53c",
   "metadata": {},
   "outputs": [],
   "source": [
    "#для начала подготовим 2 среза из сводной таблицы monthly_pivot методом query\n",
    "with_sub_profit = monthly_pivot.query('subscription_type == \"ultra\"')['profit']\n",
    "no_sub_profit = monthly_pivot.query('subscription_type == \"free\"')['profit']"
   ]
  },
  {
   "cell_type": "code",
   "execution_count": 50,
   "id": "34336578",
   "metadata": {},
   "outputs": [
    {
     "name": "stdout",
     "output_type": "stream",
     "text": [
      "Средняя помесячная выручка от пользователей с подпиской: 362.7921906022502\n",
      "Средняя помесячная выручка от пользователей без подписки: 328.6413651073845\n",
      "p-значение: 1.8850394384715216e-31\n",
      "Отвергаем нулевую гипотезу\n"
     ]
    }
   ],
   "source": [
    "alpha = 0.05\n",
    "print('Средняя помесячная выручка от пользователей с подпиской:', with_sub_profit.mean())\n",
    "print('Средняя помесячная выручка от пользователей без подписки:', no_sub_profit.mean())\n",
    "results = st.ttest_ind(with_sub_profit, no_sub_profit, alternative='greater')\n",
    "print('p-значение:', results.pvalue)\n",
    "if results.pvalue < alpha:\n",
    "    print('Отвергаем нулевую гипотезу')\n",
    "else:\n",
    "    print('Не отвергаем нулевую гипотезу')"
   ]
  },
  {
   "cell_type": "markdown",
   "id": "36c0df14",
   "metadata": {},
   "source": [
    "На основании теста нулевая гипотеза может быть отвергнута, значит есть возможность полагать, что помесячная выручка от пользователей с подпиской по месяцам выше, чем выручка от пользователей без подписки."
   ]
  },
  {
   "cell_type": "markdown",
   "id": "46ec6ba1",
   "metadata": {},
   "source": [
    "<div class=\"alert alert-block alert-success\">✔️\n",
    "    \n",
    "\n",
    "__Комментарий от ревьюера №1__\n",
    "\n",
    "Методологически проверка гипотез проведена верно и наглядный вывод результатов"
   ]
  },
  {
   "cell_type": "markdown",
   "id": "1595e752",
   "metadata": {},
   "source": [
    "##### Какой тест вам понадобился бы для проверки этой гипотезы, что из-за обновления сервера количество обращений в техподдержку значимо снизилось"
   ]
  },
  {
   "cell_type": "markdown",
   "id": "53597d77",
   "metadata": {},
   "source": [
    "У нас имеется некоторый файл содержит для каждого пользователя данные о количестве обращений до обновления и после него. Эти данные можно представить как две зависимые выборки. В этом случае нам идеально подойдет двухвыборочный тест для зависимых выборок - st.ttest_rel(before, after)"
   ]
  },
  {
   "cell_type": "markdown",
   "id": "7e888d51",
   "metadata": {},
   "source": [
    "<div class=\"alert alert-block alert-success\">✔️\n",
    "    \n",
    "\n",
    "__Комментарий от ревьюера №1__\n",
    "\n",
    "Для решения потребуется тест на равенство средних для зависимых выборок, до и после изменений.>"
   ]
  },
  {
   "cell_type": "markdown",
   "id": "acbf23a7",
   "metadata": {},
   "source": [
    "**Вывод**\n",
    "\n",
    "Был проверен ряд гипотез. Ниже представлены результаты проверок:\n",
    "1. Нулевая гипотеза была отвергнута, значит есть возможность полагать, что пользователи с подпиской тратят больше времени на поездки, тем самым быть более выгодными для компании;\n",
    "2. Нулевая гипотеза не может быть отвергнута, значит есть возможность полагать, что среднее расстояние, которое проезжают пользователи с подпиской за одну поездку, не превышает 3130 метров;\n",
    "3. Нулевая гипотеза может быть отвергнута, значит есть возможность полагать, что помесячная выручка от пользователей с подпиской по месяцам выше, чем выручка от пользователей без подписки.\n",
    "4. Для проверки количества обращений до обновления сервера и после него идеально подойдет двухвыборочный тест для зависимых выборок - st.ttest_rel(before, after)."
   ]
  },
  {
   "cell_type": "markdown",
   "id": "a48138d2",
   "metadata": {},
   "source": [
    "## Общий вывод\n",
    "\n",
    "В ходе проведения исследования были проделаны следующие этапы:\n",
    "\n",
    "1. **Загрузка данных**\n",
    "\n",
    "Были изучены имеющиеся датасеты. Обнаружили явные дубликаты, некорректный формат столбца date и числовые значения, требующие округления.\n",
    "\n",
    "2. **Предобработка данных**\n",
    "\n",
    "В процессе предобработки данных было проделаны следующие действия:\n",
    "\n",
    "* поменяли столбец rides_go['date'] на временной формат;\n",
    "* cоздали новый столбец rides_go['month'] с номером месяца на основе столбца date;\n",
    "* округлили столбец rides_go['distance'] до 1 значения после запятой;\n",
    "* округлили столбец rides_go['duration'] по подсказке в описании проекта через np.ceil поменяли тип данных на int.\n",
    "\n",
    "3. **Исследовательский анализ данных**\n",
    "\n",
    "Был проведен анализ основных показателей выгрузки, на основании чего были сделаны следующие выводы:\n",
    "\n",
    "* Наиболее часто встречающийся город это Пятигорск. Наименее встречающийся - Москва;\n",
    "* Пользателей с подпиской на 8% больше, чем без подписки;\n",
    "* Самое большое число пользователей находится в промежутке от 20 до 30 лет. Средний возраст пользователей - 25 лет;\n",
    "* Cамое большое число поездок с расстоянием в промежутке от 2500 до 3500 метров. Средне расстояние за одну поездку 3070 метров. Есть отдельная категория пользователей на короткие дистанции до 1500 метров. Среди них наиболее частое значение расстояния - примерно 650 метров;\n",
    "* Наибольшее количество поездок с продолжительностью от 15 до 21 минуты. Средняя продолжительность равна 18 минутам. Также привлекли внимание странные поездки длительностью в 1 минуту, требующие отдельного изучения. По итогам вывода можно описать портрет среднего пользователя - это пользователь с подпиской в возрасте 25 лет, проезжающий 3 км за одну поездку, либо катается 18 мин\n",
    "\n",
    "4. **Объединение даннных**\n",
    "\n",
    "Было произведено объединение данных о пользователях, поездках и подписках в один датафрейм. Также создано ещё два датафрейма: c данными о пользователях без подписки и без. По итогам изучения полученных данных были получены следующие наблюдения:\n",
    "\n",
    "* Среднее расстояние поездки у пользователей с подпиской 3115 метров против 3045 метров у пользователей без подписки;\n",
    "* Средняя длителльность поездки у пользователей с подпиской 19 минут против 18 минут у пользователей без подписки;\n",
    "* Были замечены аномальные поездки на малые расстояния до 200 метров у пользователей с подпиской;\n",
    "* Были идентифицированы ранее замеченные аномалии коротких одноминутных поездок. Они произведены пользателями без подписки.\n",
    "\n",
    "5. **Подсчет выручки**\n",
    "\n",
    "В данной части был сформирована сводная таблица с суммарным расстоянием, количеством поездок и суммарным временем для каждого пользователя за каждый месяц. Также была подсчитана помесячная выручка, которую принёс каждый пользователь. Прибыль за весь период исследования составила 3878641 руб.\n",
    "\n",
    "6. **Проверка гипотез**\n",
    "\n",
    "Был проверен ряд гипотез. Ниже представлены результаты проверок:\n",
    "\n",
    "* Нулевая гипотеза была отвергнута, значит есть возможность полагать, что пользователи с подпиской тратят больше времени на поездки, тем самым быть более выгодными для компании;\n",
    "* Нулевая гипотеза не может быть отвергнута, значит есть возможность полагать, что среднее расстояние, которое проезжают пользователи с подпиской за одну поездку, не превышает 3130 метров;\n",
    "* Нулевая гипотеза может быть отвергнута, значит есть возможность полагать, что помесячная выручка от пользователей с подпиской по месяцам выше, чем выручка от пользователей без подписки.\n",
    "* Для проверки количества обращений до обновления сервера и после него идеально подойдет двухвыборочный тест для зависимых выборок - st.ttest_rel(before, after).\n",
    "\n",
    "Подводя итог, могу посоветовать менеджменту сервиса взять курс на увеличение числа пользователей с подпиской, т.к. они приносят больший доход. Также команде по эксплуатации следует обратить внимание и изучить природу аномально коротких поездок, длительностью в 1 минуту.    "
   ]
  },
  {
   "cell_type": "markdown",
   "id": "e73707e1",
   "metadata": {},
   "source": [
    "<div class=\"alert alert-block alert-warning\">📝\n",
    "    \n",
    "\n",
    "__Комментарий от ревьюера №1__\n",
    "\n",
    "Итоговый вывод завершает твое исследование. Представлены основные результаты полученные в ходе анализа, но не увидел каких либо рекомендаций по развитию аренды самокатов в разрезе твоего исследования. Добавь, пожалуйста\n",
    "\n"
   ]
  },
  {
   "cell_type": "markdown",
   "id": "d7e74963",
   "metadata": {},
   "source": [
    "<div class=\"alert alert-info\"> <b>Комментарии студента:</b> Сделано последним абзацем в выводе. Спасибо за замечания и проверку🙂</div>"
   ]
  },
  {
   "cell_type": "markdown",
   "id": "dd755045",
   "metadata": {},
   "source": [
    "<div class=\"alert alert-block alert-success\">✔️\n",
    "    \n",
    "\n",
    "__Комментарий от ревьюера №2__\n",
    "\n",
    "Это тебе спасибо за обратную связь и крутой проект ^^"
   ]
  },
  {
   "cell_type": "markdown",
   "id": "a8270ed5",
   "metadata": {},
   "source": [
    "## Распределения"
   ]
  },
  {
   "cell_type": "markdown",
   "id": "acfe64d0",
   "metadata": {},
   "source": [
    "### Задача 1"
   ]
  },
  {
   "cell_type": "code",
   "execution_count": 51,
   "id": "b883b74b",
   "metadata": {},
   "outputs": [],
   "source": [
    "from scipy.stats import binom, norm\n",
    "from math import sqrt"
   ]
  },
  {
   "cell_type": "code",
   "execution_count": 52,
   "id": "f7494a83",
   "metadata": {},
   "outputs": [
    {
     "data": {
      "text/plain": [
       "115.60445163626672"
      ]
     },
     "execution_count": 52,
     "metadata": {},
     "output_type": "execute_result"
    },
    {
     "data": {
      "image/png": "[encoded data removed]",
      "text/plain": [
       "<Figure size 640x480 with 1 Axes>"
      ]
     },
     "metadata": {},
     "output_type": "display_data"
    }
   ],
   "source": [
    "# задаём параметры биномиального распределения. Т.к 100 человек это 10%, значит n = 1000\n",
    "n = 1000\n",
    "p = 0.1\n",
    "# строим график\n",
    "distr = []\n",
    "\n",
    "for k in range(0, n + 1):\n",
    "    choose = factorial(n) / (factorial(k) * factorial(n - k))\n",
    "    prob = choose * p**k * (1-p)**(n-k) \n",
    "    distr.append(prob)\n",
    "    \n",
    "plt.bar(range(0, n+1), distr)\n",
    "\n",
    "mu = n * p\n",
    "sigma = sqrt(n * p * (1 - p))\n",
    "# задаём нормальное распределение\n",
    "distr = st.norm(mu, sigma) \n",
    "# 5% невыполнения плана это 95% выполнения плана\n",
    "result = distr.ppf(0.95)\n",
    "result"
   ]
  },
  {
   "cell_type": "markdown",
   "id": "807753d8",
   "metadata": {},
   "source": [
    "Т.е 115,6*10 = 1156 промокодов должно быть разослано, чтобы 100 пользователей купили подписку при вероятности не выполнить план в 5%"
   ]
  },
  {
   "cell_type": "markdown",
   "id": "9a37cdd6",
   "metadata": {},
   "source": [
    "### Задача 2"
   ]
  },
  {
   "cell_type": "code",
   "execution_count": 53,
   "id": "59541995",
   "metadata": {},
   "outputs": [
    {
     "name": "stdout",
     "output_type": "stream",
     "text": [
      "0.15371708296369768\n"
     ]
    },
    {
     "data": {
      "image/png": "[encoded data removed]",
      "text/plain": [
       "<Figure size 640x480 with 1 Axes>"
      ]
     },
     "metadata": {},
     "output_type": "display_data"
    }
   ],
   "source": [
    "n = 1000000\n",
    "p = 0.4\n",
    "# строим график (взял пример из урока)\n",
    "left = int(n * p - 4 * sqrt(n * p * (1 - p)))\n",
    "right = int(n * p + 4 * sqrt(n * p * (1 - p)))\n",
    "x = list(range(max(0, left), right))\n",
    "ax = plt.subplot()\n",
    "\n",
    "ax.plot(x, binom.pmf(x, n, p), 'o')\n",
    "# зададим мат.ожидание и ст.отклонение нормального распределения равными\n",
    "# мат.ожиданию и ст.отклонению биномиального распределения\n",
    "mu = n * p\n",
    "sigma = sqrt(n * p * (1 - p))\n",
    "\n",
    "distr = st.norm(mu, sigma) \n",
    "\n",
    "\n",
    "result = distr.cdf(399500)\n",
    "print(result)"
   ]
  },
  {
   "cell_type": "markdown",
   "id": "154af6b8",
   "metadata": {},
   "source": [
    "Примерно 15.3% составляет вероятность, что при рассылке 1000000 уведомлений их откроют не более 399500 человек."
   ]
  },
  {
   "cell_type": "markdown",
   "id": "f4167faa",
   "metadata": {},
   "source": [
    "<div class=\"alert alert-block alert-success\">✔️\n",
    "    \n",
    "\n",
    "__Комментарий от ревьюера №1__\n",
    "\n",
    "Всё правильно"
   ]
  },
  {
   "cell_type": "markdown",
   "id": "e51a78db",
   "metadata": {},
   "source": [
    "<div class=\"alert alert-block alert-warning\">📝\n",
    "Комментарий от ревьюера №1 </b> \n",
    "\n",
    "\n",
    "\n",
    "У тебя получилась очень сильная и хорошая работа. Здорово, что расчеты ты сопровождаешь иллюстрациями, а так же не забываешь про комментарии, твой проект интересно проверять. \n",
    "\n",
    "---\n",
    "\n",
    "Нужно поправить:\n",
    "\n",
    "1) Вводная часть\n",
    "\n",
    "2) Оформление графиков\n",
    "\n",
    "3) Проверка  датафреймов до/после работы с ними\n",
    "\n",
    "\n",
    "----\n",
    "\n",
    "\n",
    "Если у тебя будут какие-то вопросы по моим комментариям - обязательно пиши! Буду ждать работу на повторное ревью :)</div>"
   ]
  },
  {
   "cell_type": "markdown",
   "id": "84d41564",
   "metadata": {},
   "source": [
    "<div style=\"border:solid blue 3px; padding: 20px\">\n",
    "<div class=\"alert alert-block alert-success\">✔️\n",
    "    \n",
    "\n",
    "__Коментарий от ревьюера №2__\n",
    "\n",
    "\n",
    "В остальном всё чудно😊. Твой проект так и просится на github =)   \n",
    "    \n",
    "Поздравляю с успешным завершением проекта 😊👍\n",
    "И желаю успехов в новых работах 😊\n",
    "    \n",
    "---\n",
    "    \n",
    "От себя хочу порекомендовать тебе отличный метариал по статистике. \n",
    "    \n",
    "* Курс \"Вероятность и статистика\" | Глеб Михайлов (free): https://www.youtube.com/playlist?list=PLQJ7ptkRY-xbHLLI66KdscKp_FJt0FsIi\n",
    "    \n",
    "* Методы обнаружения выбросов: https://youtu.be/TOK7Kq7x0yc\n",
    "    \n",
    "\n",
    "</div>"
   ]
  },
  {
   "cell_type": "code",
   "execution_count": null,
   "id": "7364df07-30b9-4361-a0ef-6014cde02ce7",
   "metadata": {},
   "outputs": [],
   "source": []
  }
 ],
 "metadata": {
  "ExecuteTimeLog": [
   {
    "duration": 1230,
    "start_time": "2024-10-11T13:11:27.297Z"
   },
   {
    "duration": 139,
    "start_time": "2024-10-11T13:27:31.324Z"
   },
   {
    "duration": 4,
    "start_time": "2024-10-11T13:27:58.859Z"
   },
   {
    "duration": 1135,
    "start_time": "2024-10-11T13:28:10.690Z"
   },
   {
    "duration": 141,
    "start_time": "2024-10-11T13:28:11.827Z"
   },
   {
    "duration": 52,
    "start_time": "2024-10-11T13:28:27.049Z"
   },
   {
    "duration": 128,
    "start_time": "2024-10-11T13:28:39.050Z"
   },
   {
    "duration": 39,
    "start_time": "2024-10-11T13:28:55.392Z"
   },
   {
    "duration": 4,
    "start_time": "2024-10-11T13:29:08.982Z"
   },
   {
    "duration": 234,
    "start_time": "2024-10-11T13:29:57.885Z"
   },
   {
    "duration": 69,
    "start_time": "2024-10-11T13:30:08.943Z"
   },
   {
    "duration": 62,
    "start_time": "2024-10-11T13:31:24.082Z"
   },
   {
    "duration": 146,
    "start_time": "2024-10-11T13:31:30.354Z"
   },
   {
    "duration": 80,
    "start_time": "2024-10-11T13:53:56.950Z"
   },
   {
    "duration": 77,
    "start_time": "2024-10-11T13:54:07.613Z"
   },
   {
    "duration": 77,
    "start_time": "2024-10-11T13:54:11.455Z"
   },
   {
    "duration": 11,
    "start_time": "2024-10-11T13:54:24.064Z"
   },
   {
    "duration": 13,
    "start_time": "2024-10-11T13:55:04.190Z"
   },
   {
    "duration": 8,
    "start_time": "2024-10-11T13:55:45.380Z"
   },
   {
    "duration": 13,
    "start_time": "2024-10-11T13:55:50.124Z"
   },
   {
    "duration": 11,
    "start_time": "2024-10-11T14:01:05.074Z"
   },
   {
    "duration": 10,
    "start_time": "2024-10-11T14:01:27.597Z"
   },
   {
    "duration": 76,
    "start_time": "2024-10-11T14:01:35.782Z"
   },
   {
    "duration": 9,
    "start_time": "2024-10-11T14:04:13.798Z"
   },
   {
    "duration": 15,
    "start_time": "2024-10-11T14:05:22.895Z"
   },
   {
    "duration": 10,
    "start_time": "2024-10-11T14:27:24.416Z"
   },
   {
    "duration": 5,
    "start_time": "2024-10-11T14:28:09.868Z"
   },
   {
    "duration": 4,
    "start_time": "2024-10-11T14:28:58.557Z"
   },
   {
    "duration": 4,
    "start_time": "2024-10-11T14:29:46.666Z"
   },
   {
    "duration": 10,
    "start_time": "2024-10-11T14:32:40.765Z"
   },
   {
    "duration": 12,
    "start_time": "2024-10-11T14:33:01.407Z"
   },
   {
    "duration": 3,
    "start_time": "2024-10-11T14:56:16.794Z"
   },
   {
    "duration": 10,
    "start_time": "2024-10-11T14:56:32.925Z"
   },
   {
    "duration": 23,
    "start_time": "2024-10-11T15:00:14.405Z"
   },
   {
    "duration": 22,
    "start_time": "2024-10-11T15:00:41.744Z"
   },
   {
    "duration": 12,
    "start_time": "2024-10-11T15:00:49.233Z"
   },
   {
    "duration": 29,
    "start_time": "2024-10-11T15:00:55.002Z"
   },
   {
    "duration": 8,
    "start_time": "2024-10-11T15:01:04.668Z"
   },
   {
    "duration": 8,
    "start_time": "2024-10-11T15:01:16.505Z"
   },
   {
    "duration": 13,
    "start_time": "2024-10-11T15:05:02.277Z"
   },
   {
    "duration": 5,
    "start_time": "2024-10-11T15:05:18.282Z"
   },
   {
    "duration": 8,
    "start_time": "2024-10-11T15:05:33.494Z"
   },
   {
    "duration": 16,
    "start_time": "2024-10-11T15:06:47.988Z"
   },
   {
    "duration": 50,
    "start_time": "2024-10-11T15:18:44.103Z"
   },
   {
    "duration": 388,
    "start_time": "2024-10-11T15:21:16.707Z"
   },
   {
    "duration": 332,
    "start_time": "2024-10-11T15:22:09.293Z"
   },
   {
    "duration": 363,
    "start_time": "2024-10-11T15:22:18.828Z"
   },
   {
    "duration": 375,
    "start_time": "2024-10-11T15:22:34.742Z"
   },
   {
    "duration": 452,
    "start_time": "2024-10-11T15:22:46.717Z"
   },
   {
    "duration": 463,
    "start_time": "2024-10-11T15:23:00.042Z"
   },
   {
    "duration": 322,
    "start_time": "2024-10-11T15:23:10.317Z"
   },
   {
    "duration": 449,
    "start_time": "2024-10-11T15:24:20.606Z"
   },
   {
    "duration": 8,
    "start_time": "2024-10-11T15:38:26.186Z"
   },
   {
    "duration": 5,
    "start_time": "2024-10-11T15:50:17.872Z"
   },
   {
    "duration": 11,
    "start_time": "2024-10-11T15:50:33.322Z"
   },
   {
    "duration": 5,
    "start_time": "2024-10-11T15:50:45.869Z"
   },
   {
    "duration": 16,
    "start_time": "2024-10-11T15:54:53.961Z"
   },
   {
    "duration": 6,
    "start_time": "2024-10-11T15:55:12.162Z"
   },
   {
    "duration": 6,
    "start_time": "2024-10-11T15:55:51.089Z"
   },
   {
    "duration": 13,
    "start_time": "2024-10-11T15:57:47.817Z"
   },
   {
    "duration": 12,
    "start_time": "2024-10-11T16:07:14.997Z"
   },
   {
    "duration": 12,
    "start_time": "2024-10-11T16:07:22.044Z"
   },
   {
    "duration": 12,
    "start_time": "2024-10-11T16:07:41.487Z"
   },
   {
    "duration": 3,
    "start_time": "2024-10-11T16:09:05.291Z"
   },
   {
    "duration": 12,
    "start_time": "2024-10-11T17:06:44.466Z"
   },
   {
    "duration": 23,
    "start_time": "2024-10-11T17:06:52.672Z"
   },
   {
    "duration": 20,
    "start_time": "2024-10-11T17:07:00.725Z"
   },
   {
    "duration": 11,
    "start_time": "2024-10-11T17:11:44.419Z"
   },
   {
    "duration": 6,
    "start_time": "2024-10-11T17:13:59.014Z"
   },
   {
    "duration": 9,
    "start_time": "2024-10-11T17:43:59.274Z"
   },
   {
    "duration": 9,
    "start_time": "2024-10-11T17:45:27.439Z"
   },
   {
    "duration": 15,
    "start_time": "2024-10-11T17:50:37.387Z"
   },
   {
    "duration": 14,
    "start_time": "2024-10-11T17:51:53.617Z"
   },
   {
    "duration": 13,
    "start_time": "2024-10-11T17:58:06.094Z"
   },
   {
    "duration": 21,
    "start_time": "2024-10-11T17:58:13.039Z"
   },
   {
    "duration": 14,
    "start_time": "2024-10-11T18:03:17.280Z"
   },
   {
    "duration": 55,
    "start_time": "2024-10-11T18:04:38.335Z"
   },
   {
    "duration": 253,
    "start_time": "2024-10-11T18:05:03.891Z"
   },
   {
    "duration": 13,
    "start_time": "2024-10-11T18:05:26.708Z"
   },
   {
    "duration": 118,
    "start_time": "2024-10-11T18:06:13.940Z"
   },
   {
    "duration": 168,
    "start_time": "2024-10-11T18:06:33.055Z"
   },
   {
    "duration": 20,
    "start_time": "2024-10-11T18:24:36.445Z"
   },
   {
    "duration": 13,
    "start_time": "2024-10-11T18:24:52.590Z"
   },
   {
    "duration": 12,
    "start_time": "2024-10-11T18:25:25.939Z"
   },
   {
    "duration": 10,
    "start_time": "2024-10-11T18:26:49.478Z"
   },
   {
    "duration": 155,
    "start_time": "2024-10-11T18:31:56.059Z"
   },
   {
    "duration": 250,
    "start_time": "2024-10-11T18:32:05.845Z"
   },
   {
    "duration": 57,
    "start_time": "2024-10-11T18:33:35.885Z"
   },
   {
    "duration": 124,
    "start_time": "2024-10-11T18:34:06.302Z"
   },
   {
    "duration": 49,
    "start_time": "2024-10-11T18:36:31.075Z"
   },
   {
    "duration": 10,
    "start_time": "2024-10-11T18:36:55.905Z"
   },
   {
    "duration": 14,
    "start_time": "2024-10-11T18:37:02.152Z"
   },
   {
    "duration": 14,
    "start_time": "2024-10-11T18:37:35.870Z"
   },
   {
    "duration": 14,
    "start_time": "2024-10-11T18:37:58.881Z"
   },
   {
    "duration": 14,
    "start_time": "2024-10-11T18:38:11.297Z"
   },
   {
    "duration": 121,
    "start_time": "2024-10-11T18:38:29.516Z"
   },
   {
    "duration": 125,
    "start_time": "2024-10-11T18:38:50.592Z"
   },
   {
    "duration": 161,
    "start_time": "2024-10-11T18:42:33.247Z"
   },
   {
    "duration": 137,
    "start_time": "2024-10-11T18:43:06.188Z"
   },
   {
    "duration": 10,
    "start_time": "2024-10-11T18:49:08.393Z"
   },
   {
    "duration": 5,
    "start_time": "2024-10-11T18:51:49.904Z"
   },
   {
    "duration": 146,
    "start_time": "2024-10-11T18:54:08.259Z"
   },
   {
    "duration": 187,
    "start_time": "2024-10-11T18:55:56.692Z"
   },
   {
    "duration": 8,
    "start_time": "2024-10-11T18:57:07.337Z"
   },
   {
    "duration": 9,
    "start_time": "2024-10-11T19:02:06.569Z"
   },
   {
    "duration": 9,
    "start_time": "2024-10-11T19:02:13.081Z"
   },
   {
    "duration": 4,
    "start_time": "2024-10-11T19:02:23.211Z"
   },
   {
    "duration": 8,
    "start_time": "2024-10-11T19:02:30.060Z"
   },
   {
    "duration": 9,
    "start_time": "2024-10-11T19:03:38.639Z"
   },
   {
    "duration": 4,
    "start_time": "2024-10-11T19:03:52.326Z"
   },
   {
    "duration": 4,
    "start_time": "2024-10-11T19:04:04.666Z"
   },
   {
    "duration": 8,
    "start_time": "2024-10-11T19:04:25.144Z"
   },
   {
    "duration": 159,
    "start_time": "2024-10-11T19:04:35.177Z"
   },
   {
    "duration": 258,
    "start_time": "2024-10-11T19:04:49.794Z"
   },
   {
    "duration": 147,
    "start_time": "2024-10-11T19:06:13.509Z"
   },
   {
    "duration": 72,
    "start_time": "2024-10-11T19:06:45.066Z"
   },
   {
    "duration": 206,
    "start_time": "2024-10-11T19:06:50.010Z"
   },
   {
    "duration": 281,
    "start_time": "2024-10-11T19:06:56.387Z"
   },
   {
    "duration": 47,
    "start_time": "2024-10-12T13:00:57.598Z"
   },
   {
    "duration": 7,
    "start_time": "2024-10-12T13:01:00.026Z"
   },
   {
    "duration": 1239,
    "start_time": "2024-10-12T13:01:08.394Z"
   },
   {
    "duration": 297,
    "start_time": "2024-10-12T13:01:09.634Z"
   },
   {
    "duration": 14,
    "start_time": "2024-10-12T13:01:09.933Z"
   },
   {
    "duration": 45,
    "start_time": "2024-10-12T13:01:09.948Z"
   },
   {
    "duration": 12,
    "start_time": "2024-10-12T13:01:09.995Z"
   },
   {
    "duration": 14,
    "start_time": "2024-10-12T13:01:10.009Z"
   },
   {
    "duration": 5,
    "start_time": "2024-10-12T13:01:10.024Z"
   },
   {
    "duration": 8,
    "start_time": "2024-10-12T13:01:10.031Z"
   },
   {
    "duration": 29,
    "start_time": "2024-10-12T13:01:10.041Z"
   },
   {
    "duration": 5,
    "start_time": "2024-10-12T13:01:10.072Z"
   },
   {
    "duration": 16,
    "start_time": "2024-10-12T13:01:10.078Z"
   },
   {
    "duration": 181,
    "start_time": "2024-10-12T13:01:10.095Z"
   },
   {
    "duration": 13,
    "start_time": "2024-10-12T13:01:10.277Z"
   },
   {
    "duration": 150,
    "start_time": "2024-10-12T13:01:10.292Z"
   },
   {
    "duration": 135,
    "start_time": "2024-10-12T13:01:10.443Z"
   },
   {
    "duration": 8,
    "start_time": "2024-10-12T13:01:10.580Z"
   },
   {
    "duration": 7,
    "start_time": "2024-10-12T13:01:10.590Z"
   },
   {
    "duration": 238,
    "start_time": "2024-10-12T13:01:10.599Z"
   },
   {
    "duration": 2,
    "start_time": "2024-10-12T13:01:10.839Z"
   },
   {
    "duration": 9,
    "start_time": "2024-10-12T13:02:49.630Z"
   },
   {
    "duration": 485,
    "start_time": "2024-10-12T13:03:31.548Z"
   },
   {
    "duration": 52,
    "start_time": "2024-10-12T13:17:44.588Z"
   },
   {
    "duration": 643,
    "start_time": "2024-10-12T13:17:50.307Z"
   },
   {
    "duration": 265,
    "start_time": "2024-10-12T13:18:00.021Z"
   },
   {
    "duration": 197,
    "start_time": "2024-10-12T13:18:12.062Z"
   },
   {
    "duration": 948,
    "start_time": "2024-10-12T13:18:24.776Z"
   },
   {
    "duration": 199,
    "start_time": "2024-10-12T13:18:30.842Z"
   },
   {
    "duration": 8,
    "start_time": "2024-10-12T13:28:51.904Z"
   },
   {
    "duration": 529,
    "start_time": "2024-10-12T13:29:47.899Z"
   },
   {
    "duration": 374,
    "start_time": "2024-10-12T13:29:57.525Z"
   },
   {
    "duration": 391,
    "start_time": "2024-10-12T13:30:01.757Z"
   },
   {
    "duration": 55,
    "start_time": "2024-10-12T13:44:55.112Z"
   },
   {
    "duration": 8,
    "start_time": "2024-10-12T14:39:53.733Z"
   },
   {
    "duration": 18,
    "start_time": "2024-10-12T15:02:51.762Z"
   },
   {
    "duration": 20,
    "start_time": "2024-10-12T15:03:08.749Z"
   },
   {
    "duration": 20,
    "start_time": "2024-10-12T15:04:29.233Z"
   },
   {
    "duration": 21,
    "start_time": "2024-10-12T15:04:42.474Z"
   },
   {
    "duration": 20,
    "start_time": "2024-10-12T15:04:49.980Z"
   },
   {
    "duration": 19,
    "start_time": "2024-10-12T15:06:18.529Z"
   },
   {
    "duration": 99,
    "start_time": "2024-10-12T15:06:29.381Z"
   },
   {
    "duration": 20,
    "start_time": "2024-10-12T15:06:38.171Z"
   },
   {
    "duration": 21,
    "start_time": "2024-10-12T15:08:07.767Z"
   },
   {
    "duration": 20,
    "start_time": "2024-10-12T15:08:39.085Z"
   },
   {
    "duration": 23,
    "start_time": "2024-10-12T15:20:24.379Z"
   },
   {
    "duration": 29,
    "start_time": "2024-10-12T15:20:34.452Z"
   },
   {
    "duration": 24,
    "start_time": "2024-10-12T15:20:44.847Z"
   },
   {
    "duration": 25,
    "start_time": "2024-10-12T15:20:54.567Z"
   },
   {
    "duration": 26,
    "start_time": "2024-10-12T15:21:02.328Z"
   },
   {
    "duration": 26,
    "start_time": "2024-10-12T15:21:25.572Z"
   },
   {
    "duration": 20,
    "start_time": "2024-10-12T15:21:53.965Z"
   },
   {
    "duration": 21,
    "start_time": "2024-10-12T15:22:04.155Z"
   },
   {
    "duration": 22,
    "start_time": "2024-10-12T15:22:46.168Z"
   },
   {
    "duration": 19,
    "start_time": "2024-10-12T15:39:42.159Z"
   },
   {
    "duration": 28,
    "start_time": "2024-10-12T15:42:33.771Z"
   },
   {
    "duration": 16,
    "start_time": "2024-10-12T15:42:56.383Z"
   },
   {
    "duration": 8,
    "start_time": "2024-10-12T15:47:49.537Z"
   },
   {
    "duration": 16,
    "start_time": "2024-10-12T15:47:59.794Z"
   },
   {
    "duration": 4,
    "start_time": "2024-10-12T15:50:49.050Z"
   },
   {
    "duration": 31,
    "start_time": "2024-10-12T16:05:59.005Z"
   },
   {
    "duration": 370,
    "start_time": "2024-10-12T16:09:13.042Z"
   },
   {
    "duration": 476,
    "start_time": "2024-10-12T16:09:26.747Z"
   },
   {
    "duration": 646,
    "start_time": "2024-10-12T16:09:56.032Z"
   },
   {
    "duration": 204,
    "start_time": "2024-10-12T16:10:03.499Z"
   },
   {
    "duration": 31,
    "start_time": "2024-10-12T16:15:35.948Z"
   },
   {
    "duration": 492,
    "start_time": "2024-10-12T16:16:02.861Z"
   },
   {
    "duration": 617,
    "start_time": "2024-10-12T16:21:47.959Z"
   },
   {
    "duration": 659,
    "start_time": "2024-10-12T16:27:41.628Z"
   },
   {
    "duration": 200,
    "start_time": "2024-10-12T16:28:52.317Z"
   },
   {
    "duration": 259,
    "start_time": "2024-10-12T16:29:07.476Z"
   },
   {
    "duration": 1023,
    "start_time": "2024-10-12T16:41:58.520Z"
   },
   {
    "duration": 66,
    "start_time": "2024-10-12T16:41:59.545Z"
   },
   {
    "duration": 12,
    "start_time": "2024-10-12T16:41:59.613Z"
   },
   {
    "duration": 10,
    "start_time": "2024-10-12T16:41:59.627Z"
   },
   {
    "duration": 9,
    "start_time": "2024-10-12T16:41:59.639Z"
   },
   {
    "duration": 79,
    "start_time": "2024-10-12T16:41:59.650Z"
   },
   {
    "duration": 5,
    "start_time": "2024-10-12T16:41:59.731Z"
   },
   {
    "duration": 5,
    "start_time": "2024-10-12T16:41:59.737Z"
   },
   {
    "duration": 3,
    "start_time": "2024-10-12T16:41:59.744Z"
   },
   {
    "duration": 5,
    "start_time": "2024-10-12T16:41:59.749Z"
   },
   {
    "duration": 17,
    "start_time": "2024-10-12T16:41:59.755Z"
   },
   {
    "duration": 173,
    "start_time": "2024-10-12T16:41:59.774Z"
   },
   {
    "duration": 14,
    "start_time": "2024-10-12T16:41:59.949Z"
   },
   {
    "duration": 142,
    "start_time": "2024-10-12T16:41:59.976Z"
   },
   {
    "duration": 133,
    "start_time": "2024-10-12T16:42:00.120Z"
   },
   {
    "duration": 7,
    "start_time": "2024-10-12T16:42:00.255Z"
   },
   {
    "duration": 45,
    "start_time": "2024-10-12T16:42:00.264Z"
   },
   {
    "duration": 211,
    "start_time": "2024-10-12T16:42:00.311Z"
   },
   {
    "duration": 8,
    "start_time": "2024-10-12T16:42:00.524Z"
   },
   {
    "duration": 546,
    "start_time": "2024-10-12T16:42:00.534Z"
   },
   {
    "duration": 215,
    "start_time": "2024-10-12T16:42:01.081Z"
   },
   {
    "duration": 8,
    "start_time": "2024-10-12T16:42:01.298Z"
   },
   {
    "duration": 358,
    "start_time": "2024-10-12T16:42:01.307Z"
   },
   {
    "duration": 25,
    "start_time": "2024-10-12T16:42:01.667Z"
   },
   {
    "duration": 31,
    "start_time": "2024-10-12T16:42:01.694Z"
   },
   {
    "duration": 11,
    "start_time": "2024-10-12T16:42:01.727Z"
   },
   {
    "duration": 7,
    "start_time": "2024-10-12T16:42:01.739Z"
   },
   {
    "duration": 38,
    "start_time": "2024-10-12T16:42:01.749Z"
   },
   {
    "duration": 487,
    "start_time": "2024-10-12T16:42:01.789Z"
   },
   {
    "duration": 219,
    "start_time": "2024-10-12T16:42:02.277Z"
   },
   {
    "duration": 31,
    "start_time": "2024-10-12T16:42:02.497Z"
   },
   {
    "duration": 551,
    "start_time": "2024-10-12T16:42:02.530Z"
   },
   {
    "duration": 563,
    "start_time": "2024-10-12T16:42:03.082Z"
   },
   {
    "duration": 256,
    "start_time": "2024-10-12T16:42:03.647Z"
   },
   {
    "duration": 68,
    "start_time": "2024-10-12T17:11:36.103Z"
   },
   {
    "duration": 37,
    "start_time": "2024-10-12T17:13:17.190Z"
   },
   {
    "duration": 269,
    "start_time": "2024-10-12T17:17:08.503Z"
   },
   {
    "duration": 3,
    "start_time": "2024-10-12T17:17:30.066Z"
   },
   {
    "duration": 13,
    "start_time": "2024-10-12T17:17:36.307Z"
   },
   {
    "duration": 15,
    "start_time": "2024-10-12T17:31:35.046Z"
   },
   {
    "duration": 73,
    "start_time": "2024-10-12T17:31:40.165Z"
   },
   {
    "duration": 5,
    "start_time": "2024-10-12T17:31:56.624Z"
   },
   {
    "duration": 15,
    "start_time": "2024-10-12T17:31:58.920Z"
   },
   {
    "duration": 296,
    "start_time": "2024-10-12T17:32:18.659Z"
   },
   {
    "duration": 1032,
    "start_time": "2024-10-12T17:32:30.503Z"
   },
   {
    "duration": 68,
    "start_time": "2024-10-12T17:32:31.537Z"
   },
   {
    "duration": 24,
    "start_time": "2024-10-12T17:32:31.610Z"
   },
   {
    "duration": 13,
    "start_time": "2024-10-12T17:32:31.636Z"
   },
   {
    "duration": 27,
    "start_time": "2024-10-12T17:32:31.651Z"
   },
   {
    "duration": 24,
    "start_time": "2024-10-12T17:32:31.679Z"
   },
   {
    "duration": 7,
    "start_time": "2024-10-12T17:32:31.705Z"
   },
   {
    "duration": 18,
    "start_time": "2024-10-12T17:32:31.713Z"
   },
   {
    "duration": 5,
    "start_time": "2024-10-12T17:32:31.733Z"
   },
   {
    "duration": 11,
    "start_time": "2024-10-12T17:32:31.739Z"
   },
   {
    "duration": 22,
    "start_time": "2024-10-12T17:32:31.751Z"
   },
   {
    "duration": 307,
    "start_time": "2024-10-12T17:32:31.774Z"
   },
   {
    "duration": 14,
    "start_time": "2024-10-12T17:32:32.083Z"
   },
   {
    "duration": 150,
    "start_time": "2024-10-12T17:32:32.099Z"
   },
   {
    "duration": 136,
    "start_time": "2024-10-12T17:32:32.251Z"
   },
   {
    "duration": 9,
    "start_time": "2024-10-12T17:32:32.389Z"
   },
   {
    "duration": 7,
    "start_time": "2024-10-12T17:32:32.400Z"
   },
   {
    "duration": 209,
    "start_time": "2024-10-12T17:32:32.409Z"
   },
   {
    "duration": 9,
    "start_time": "2024-10-12T17:32:32.619Z"
   },
   {
    "duration": 504,
    "start_time": "2024-10-12T17:32:32.630Z"
   },
   {
    "duration": 214,
    "start_time": "2024-10-12T17:32:33.136Z"
   },
   {
    "duration": 8,
    "start_time": "2024-10-12T17:32:33.351Z"
   },
   {
    "duration": 340,
    "start_time": "2024-10-12T17:32:33.360Z"
   },
   {
    "duration": 18,
    "start_time": "2024-10-12T17:32:33.701Z"
   },
   {
    "duration": 16,
    "start_time": "2024-10-12T17:32:33.721Z"
   },
   {
    "duration": 20,
    "start_time": "2024-10-12T17:32:33.739Z"
   },
   {
    "duration": 73,
    "start_time": "2024-10-12T17:32:33.763Z"
   },
   {
    "duration": 89,
    "start_time": "2024-10-12T17:32:33.838Z"
   },
   {
    "duration": 482,
    "start_time": "2024-10-12T17:32:33.929Z"
   },
   {
    "duration": 204,
    "start_time": "2024-10-12T17:32:34.413Z"
   },
   {
    "duration": 31,
    "start_time": "2024-10-12T17:32:34.618Z"
   },
   {
    "duration": 497,
    "start_time": "2024-10-12T17:32:34.651Z"
   },
   {
    "duration": 587,
    "start_time": "2024-10-12T17:32:35.150Z"
   },
   {
    "duration": 266,
    "start_time": "2024-10-12T17:32:35.739Z"
   },
   {
    "duration": 2,
    "start_time": "2024-10-12T17:32:36.007Z"
   },
   {
    "duration": 66,
    "start_time": "2024-10-12T17:32:36.011Z"
   },
   {
    "duration": 15,
    "start_time": "2024-10-12T17:32:36.078Z"
   },
   {
    "duration": 64,
    "start_time": "2024-10-12T17:34:19.182Z"
   },
   {
    "duration": 46,
    "start_time": "2024-10-12T17:43:44.132Z"
   },
   {
    "duration": 40,
    "start_time": "2024-10-12T17:49:14.924Z"
   },
   {
    "duration": 23,
    "start_time": "2024-10-12T17:50:29.185Z"
   },
   {
    "duration": 44,
    "start_time": "2024-10-12T18:00:46.151Z"
   },
   {
    "duration": 35,
    "start_time": "2024-10-12T18:01:42.718Z"
   },
   {
    "duration": 52,
    "start_time": "2024-10-12T18:02:30.245Z"
   },
   {
    "duration": 49,
    "start_time": "2024-10-12T18:02:53.992Z"
   },
   {
    "duration": 70,
    "start_time": "2024-10-12T18:04:48.153Z"
   },
   {
    "duration": 4,
    "start_time": "2024-10-12T18:19:03.081Z"
   },
   {
    "duration": 3,
    "start_time": "2024-10-12T18:19:06.719Z"
   },
   {
    "duration": 18,
    "start_time": "2024-10-12T18:25:12.189Z"
   },
   {
    "duration": 54,
    "start_time": "2024-10-12T18:49:12.560Z"
   },
   {
    "duration": 46,
    "start_time": "2024-10-12T18:49:32.691Z"
   },
   {
    "duration": 173,
    "start_time": "2024-10-12T18:52:57.540Z"
   },
   {
    "duration": 15,
    "start_time": "2024-10-12T18:54:12.859Z"
   },
   {
    "duration": 53,
    "start_time": "2024-10-12T18:54:17.861Z"
   },
   {
    "duration": 1159,
    "start_time": "2024-10-12T18:54:25.785Z"
   },
   {
    "duration": 73,
    "start_time": "2024-10-12T18:54:26.946Z"
   },
   {
    "duration": 12,
    "start_time": "2024-10-12T18:54:27.020Z"
   },
   {
    "duration": 11,
    "start_time": "2024-10-12T18:54:27.034Z"
   },
   {
    "duration": 10,
    "start_time": "2024-10-12T18:54:27.046Z"
   },
   {
    "duration": 7,
    "start_time": "2024-10-12T18:54:27.057Z"
   },
   {
    "duration": 4,
    "start_time": "2024-10-12T18:54:27.066Z"
   },
   {
    "duration": 10,
    "start_time": "2024-10-12T18:54:27.075Z"
   },
   {
    "duration": 4,
    "start_time": "2024-10-12T18:54:27.092Z"
   },
   {
    "duration": 5,
    "start_time": "2024-10-12T18:54:27.097Z"
   },
   {
    "duration": 16,
    "start_time": "2024-10-12T18:54:27.103Z"
   },
   {
    "duration": 202,
    "start_time": "2024-10-12T18:54:27.120Z"
   },
   {
    "duration": 13,
    "start_time": "2024-10-12T18:54:27.324Z"
   },
   {
    "duration": 164,
    "start_time": "2024-10-12T18:54:27.340Z"
   },
   {
    "duration": 137,
    "start_time": "2024-10-12T18:54:27.506Z"
   },
   {
    "duration": 8,
    "start_time": "2024-10-12T18:54:27.644Z"
   },
   {
    "duration": 5,
    "start_time": "2024-10-12T18:54:27.653Z"
   },
   {
    "duration": 214,
    "start_time": "2024-10-12T18:54:27.659Z"
   },
   {
    "duration": 18,
    "start_time": "2024-10-12T18:54:27.875Z"
   },
   {
    "duration": 570,
    "start_time": "2024-10-12T18:54:27.895Z"
   },
   {
    "duration": 227,
    "start_time": "2024-10-12T18:54:28.467Z"
   },
   {
    "duration": 9,
    "start_time": "2024-10-12T18:54:28.695Z"
   },
   {
    "duration": 355,
    "start_time": "2024-10-12T18:54:28.705Z"
   },
   {
    "duration": 35,
    "start_time": "2024-10-12T18:54:29.062Z"
   },
   {
    "duration": 10,
    "start_time": "2024-10-12T18:54:29.098Z"
   },
   {
    "duration": 9,
    "start_time": "2024-10-12T18:54:29.109Z"
   },
   {
    "duration": 6,
    "start_time": "2024-10-12T18:54:29.119Z"
   },
   {
    "duration": 54,
    "start_time": "2024-10-12T18:54:29.126Z"
   },
   {
    "duration": 536,
    "start_time": "2024-10-12T18:54:29.183Z"
   },
   {
    "duration": 227,
    "start_time": "2024-10-12T18:54:29.720Z"
   },
   {
    "duration": 47,
    "start_time": "2024-10-12T18:54:29.949Z"
   },
   {
    "duration": 539,
    "start_time": "2024-10-12T18:54:29.998Z"
   },
   {
    "duration": 641,
    "start_time": "2024-10-12T18:54:30.538Z"
   },
   {
    "duration": 300,
    "start_time": "2024-10-12T18:54:31.180Z"
   },
   {
    "duration": 3,
    "start_time": "2024-10-12T18:54:31.492Z"
   },
   {
    "duration": 47,
    "start_time": "2024-10-12T18:54:31.496Z"
   },
   {
    "duration": 15,
    "start_time": "2024-10-12T18:54:31.545Z"
   },
   {
    "duration": 53,
    "start_time": "2024-10-12T18:54:31.561Z"
   },
   {
    "duration": 0,
    "start_time": "2024-10-12T18:54:31.615Z"
   },
   {
    "duration": 47,
    "start_time": "2024-10-12T18:55:50.015Z"
   },
   {
    "duration": 57,
    "start_time": "2024-10-12T18:57:15.339Z"
   },
   {
    "duration": 87,
    "start_time": "2024-10-12T18:58:06.283Z"
   },
   {
    "duration": 16,
    "start_time": "2024-10-12T18:58:11.995Z"
   },
   {
    "duration": 88,
    "start_time": "2024-10-12T18:58:49.156Z"
   },
   {
    "duration": 89,
    "start_time": "2024-10-12T18:58:53.833Z"
   },
   {
    "duration": 15,
    "start_time": "2024-10-12T18:58:56.651Z"
   },
   {
    "duration": 8,
    "start_time": "2024-10-12T18:59:26.093Z"
   },
   {
    "duration": 14,
    "start_time": "2024-10-12T18:59:28.815Z"
   },
   {
    "duration": 89,
    "start_time": "2024-10-12T19:01:04.916Z"
   },
   {
    "duration": 15,
    "start_time": "2024-10-12T19:01:06.607Z"
   },
   {
    "duration": 6,
    "start_time": "2024-10-12T19:01:11.512Z"
   },
   {
    "duration": 16,
    "start_time": "2024-10-12T19:01:12.846Z"
   },
   {
    "duration": 42,
    "start_time": "2024-10-12T19:01:46.021Z"
   },
   {
    "duration": 16,
    "start_time": "2024-10-12T19:01:53.604Z"
   },
   {
    "duration": 52,
    "start_time": "2024-10-12T19:02:00.989Z"
   },
   {
    "duration": 99,
    "start_time": "2024-10-12T19:02:06.134Z"
   },
   {
    "duration": 17,
    "start_time": "2024-10-12T19:02:08.119Z"
   },
   {
    "duration": 104,
    "start_time": "2024-10-12T19:05:08.118Z"
   },
   {
    "duration": 23,
    "start_time": "2024-10-12T19:05:11.396Z"
   },
   {
    "duration": 88,
    "start_time": "2024-10-12T19:05:22.851Z"
   },
   {
    "duration": 16,
    "start_time": "2024-10-12T19:05:26.340Z"
   },
   {
    "duration": 116,
    "start_time": "2024-10-12T19:15:16.385Z"
   },
   {
    "duration": 1175,
    "start_time": "2024-10-12T19:15:32.489Z"
   },
   {
    "duration": 68,
    "start_time": "2024-10-12T19:15:33.666Z"
   },
   {
    "duration": 13,
    "start_time": "2024-10-12T19:15:33.735Z"
   },
   {
    "duration": 19,
    "start_time": "2024-10-12T19:15:33.750Z"
   },
   {
    "duration": 17,
    "start_time": "2024-10-12T19:15:33.771Z"
   },
   {
    "duration": 14,
    "start_time": "2024-10-12T19:15:33.792Z"
   },
   {
    "duration": 11,
    "start_time": "2024-10-12T19:15:33.808Z"
   },
   {
    "duration": 9,
    "start_time": "2024-10-12T19:15:33.821Z"
   },
   {
    "duration": 4,
    "start_time": "2024-10-12T19:15:33.831Z"
   },
   {
    "duration": 8,
    "start_time": "2024-10-12T19:15:33.837Z"
   },
   {
    "duration": 14,
    "start_time": "2024-10-12T19:15:33.847Z"
   },
   {
    "duration": 189,
    "start_time": "2024-10-12T19:15:33.863Z"
   },
   {
    "duration": 25,
    "start_time": "2024-10-12T19:15:34.054Z"
   },
   {
    "duration": 164,
    "start_time": "2024-10-12T19:15:34.082Z"
   },
   {
    "duration": 153,
    "start_time": "2024-10-12T19:15:34.247Z"
   },
   {
    "duration": 9,
    "start_time": "2024-10-12T19:15:34.402Z"
   },
   {
    "duration": 11,
    "start_time": "2024-10-12T19:15:34.413Z"
   },
   {
    "duration": 214,
    "start_time": "2024-10-12T19:15:34.426Z"
   },
   {
    "duration": 8,
    "start_time": "2024-10-12T19:15:34.642Z"
   },
   {
    "duration": 519,
    "start_time": "2024-10-12T19:15:34.652Z"
   },
   {
    "duration": 229,
    "start_time": "2024-10-12T19:15:35.172Z"
   },
   {
    "duration": 9,
    "start_time": "2024-10-12T19:15:35.402Z"
   },
   {
    "duration": 356,
    "start_time": "2024-10-12T19:15:35.412Z"
   },
   {
    "duration": 35,
    "start_time": "2024-10-12T19:15:35.769Z"
   },
   {
    "duration": 9,
    "start_time": "2024-10-12T19:15:35.806Z"
   },
   {
    "duration": 21,
    "start_time": "2024-10-12T19:15:35.817Z"
   },
   {
    "duration": 17,
    "start_time": "2024-10-12T19:15:35.840Z"
   },
   {
    "duration": 64,
    "start_time": "2024-10-12T19:15:35.860Z"
   },
   {
    "duration": 548,
    "start_time": "2024-10-12T19:15:35.925Z"
   },
   {
    "duration": 225,
    "start_time": "2024-10-12T19:15:36.475Z"
   },
   {
    "duration": 32,
    "start_time": "2024-10-12T19:15:36.702Z"
   },
   {
    "duration": 555,
    "start_time": "2024-10-12T19:15:36.735Z"
   },
   {
    "duration": 606,
    "start_time": "2024-10-12T19:15:37.292Z"
   },
   {
    "duration": 297,
    "start_time": "2024-10-12T19:15:37.900Z"
   },
   {
    "duration": 7,
    "start_time": "2024-10-12T19:15:38.200Z"
   },
   {
    "duration": 102,
    "start_time": "2024-10-12T19:15:38.211Z"
   },
   {
    "duration": 119,
    "start_time": "2024-10-12T19:15:38.315Z"
   },
   {
    "duration": 0,
    "start_time": "2024-10-12T19:15:38.435Z"
   },
   {
    "duration": 0,
    "start_time": "2024-10-12T19:15:38.436Z"
   },
   {
    "duration": 0,
    "start_time": "2024-10-12T19:15:38.437Z"
   },
   {
    "duration": 18,
    "start_time": "2024-10-12T19:16:58.246Z"
   },
   {
    "duration": 622,
    "start_time": "2024-10-12T19:18:16.228Z"
   },
   {
    "duration": 178,
    "start_time": "2024-10-12T19:18:49.722Z"
   },
   {
    "duration": 1154,
    "start_time": "2024-10-12T19:18:55.997Z"
   },
   {
    "duration": 79,
    "start_time": "2024-10-12T19:18:57.153Z"
   },
   {
    "duration": 12,
    "start_time": "2024-10-12T19:18:57.233Z"
   },
   {
    "duration": 12,
    "start_time": "2024-10-12T19:18:57.247Z"
   },
   {
    "duration": 12,
    "start_time": "2024-10-12T19:18:57.261Z"
   },
   {
    "duration": 8,
    "start_time": "2024-10-12T19:18:57.279Z"
   },
   {
    "duration": 11,
    "start_time": "2024-10-12T19:18:57.289Z"
   },
   {
    "duration": 5,
    "start_time": "2024-10-12T19:18:57.301Z"
   },
   {
    "duration": 9,
    "start_time": "2024-10-12T19:18:57.307Z"
   },
   {
    "duration": 16,
    "start_time": "2024-10-12T19:18:57.317Z"
   },
   {
    "duration": 15,
    "start_time": "2024-10-12T19:18:57.335Z"
   },
   {
    "duration": 197,
    "start_time": "2024-10-12T19:18:57.351Z"
   },
   {
    "duration": 15,
    "start_time": "2024-10-12T19:18:57.550Z"
   },
   {
    "duration": 169,
    "start_time": "2024-10-12T19:18:57.575Z"
   },
   {
    "duration": 148,
    "start_time": "2024-10-12T19:18:57.746Z"
   },
   {
    "duration": 8,
    "start_time": "2024-10-12T19:18:57.896Z"
   },
   {
    "duration": 11,
    "start_time": "2024-10-12T19:18:57.905Z"
   },
   {
    "duration": 228,
    "start_time": "2024-10-12T19:18:57.917Z"
   },
   {
    "duration": 8,
    "start_time": "2024-10-12T19:18:58.146Z"
   },
   {
    "duration": 559,
    "start_time": "2024-10-12T19:18:58.156Z"
   },
   {
    "duration": 222,
    "start_time": "2024-10-12T19:18:58.716Z"
   },
   {
    "duration": 8,
    "start_time": "2024-10-12T19:18:58.940Z"
   },
   {
    "duration": 395,
    "start_time": "2024-10-12T19:18:58.949Z"
   },
   {
    "duration": 18,
    "start_time": "2024-10-12T19:18:59.346Z"
   },
   {
    "duration": 27,
    "start_time": "2024-10-12T19:18:59.365Z"
   },
   {
    "duration": 12,
    "start_time": "2024-10-12T19:18:59.394Z"
   },
   {
    "duration": 6,
    "start_time": "2024-10-12T19:18:59.407Z"
   },
   {
    "duration": 30,
    "start_time": "2024-10-12T19:18:59.414Z"
   },
   {
    "duration": 531,
    "start_time": "2024-10-12T19:18:59.446Z"
   },
   {
    "duration": 230,
    "start_time": "2024-10-12T19:18:59.980Z"
   },
   {
    "duration": 32,
    "start_time": "2024-10-12T19:19:00.212Z"
   },
   {
    "duration": 602,
    "start_time": "2024-10-12T19:19:00.246Z"
   },
   {
    "duration": 646,
    "start_time": "2024-10-12T19:19:00.849Z"
   },
   {
    "duration": 273,
    "start_time": "2024-10-12T19:19:01.498Z"
   },
   {
    "duration": 9,
    "start_time": "2024-10-12T19:19:01.776Z"
   },
   {
    "duration": 63,
    "start_time": "2024-10-12T19:19:01.787Z"
   },
   {
    "duration": 18,
    "start_time": "2024-10-12T19:19:01.851Z"
   },
   {
    "duration": 53,
    "start_time": "2024-10-12T19:19:01.870Z"
   },
   {
    "duration": 0,
    "start_time": "2024-10-12T19:19:01.925Z"
   },
   {
    "duration": 0,
    "start_time": "2024-10-12T19:19:01.926Z"
   },
   {
    "duration": 55,
    "start_time": "2024-10-12T19:19:56.238Z"
   },
   {
    "duration": 1187,
    "start_time": "2024-10-12T19:20:14.491Z"
   },
   {
    "duration": 69,
    "start_time": "2024-10-12T19:20:15.684Z"
   },
   {
    "duration": 13,
    "start_time": "2024-10-12T19:20:15.754Z"
   },
   {
    "duration": 16,
    "start_time": "2024-10-12T19:20:15.768Z"
   },
   {
    "duration": 14,
    "start_time": "2024-10-12T19:20:15.786Z"
   },
   {
    "duration": 7,
    "start_time": "2024-10-12T19:20:15.802Z"
   },
   {
    "duration": 6,
    "start_time": "2024-10-12T19:20:15.810Z"
   },
   {
    "duration": 5,
    "start_time": "2024-10-12T19:20:15.817Z"
   },
   {
    "duration": 6,
    "start_time": "2024-10-12T19:20:15.823Z"
   },
   {
    "duration": 6,
    "start_time": "2024-10-12T19:20:15.831Z"
   },
   {
    "duration": 41,
    "start_time": "2024-10-12T19:20:15.838Z"
   },
   {
    "duration": 196,
    "start_time": "2024-10-12T19:20:15.881Z"
   },
   {
    "duration": 26,
    "start_time": "2024-10-12T19:20:16.078Z"
   },
   {
    "duration": 160,
    "start_time": "2024-10-12T19:20:16.106Z"
   },
   {
    "duration": 138,
    "start_time": "2024-10-12T19:20:16.268Z"
   },
   {
    "duration": 8,
    "start_time": "2024-10-12T19:20:16.407Z"
   },
   {
    "duration": 8,
    "start_time": "2024-10-12T19:20:16.416Z"
   },
   {
    "duration": 210,
    "start_time": "2024-10-12T19:20:16.426Z"
   },
   {
    "duration": 9,
    "start_time": "2024-10-12T19:20:16.638Z"
   },
   {
    "duration": 543,
    "start_time": "2024-10-12T19:20:16.648Z"
   },
   {
    "duration": 224,
    "start_time": "2024-10-12T19:20:17.193Z"
   },
   {
    "duration": 8,
    "start_time": "2024-10-12T19:20:17.418Z"
   },
   {
    "duration": 364,
    "start_time": "2024-10-12T19:20:17.428Z"
   },
   {
    "duration": 19,
    "start_time": "2024-10-12T19:20:17.795Z"
   },
   {
    "duration": 9,
    "start_time": "2024-10-12T19:20:17.815Z"
   },
   {
    "duration": 17,
    "start_time": "2024-10-12T19:20:17.825Z"
   },
   {
    "duration": 19,
    "start_time": "2024-10-12T19:20:17.843Z"
   },
   {
    "duration": 45,
    "start_time": "2024-10-12T19:20:17.866Z"
   },
   {
    "duration": 573,
    "start_time": "2024-10-12T19:20:17.913Z"
   },
   {
    "duration": 230,
    "start_time": "2024-10-12T19:20:18.488Z"
   },
   {
    "duration": 33,
    "start_time": "2024-10-12T19:20:18.720Z"
   },
   {
    "duration": 555,
    "start_time": "2024-10-12T19:20:18.754Z"
   },
   {
    "duration": 631,
    "start_time": "2024-10-12T19:20:19.310Z"
   },
   {
    "duration": 296,
    "start_time": "2024-10-12T19:20:19.942Z"
   },
   {
    "duration": 2,
    "start_time": "2024-10-12T19:20:20.240Z"
   },
   {
    "duration": 96,
    "start_time": "2024-10-12T19:20:20.244Z"
   },
   {
    "duration": 17,
    "start_time": "2024-10-12T19:20:20.342Z"
   },
   {
    "duration": 57,
    "start_time": "2024-10-12T19:20:20.360Z"
   },
   {
    "duration": 0,
    "start_time": "2024-10-12T19:20:20.419Z"
   },
   {
    "duration": 0,
    "start_time": "2024-10-12T19:20:20.420Z"
   },
   {
    "duration": 79,
    "start_time": "2024-10-12T19:20:26.686Z"
   },
   {
    "duration": 18,
    "start_time": "2024-10-12T19:20:28.952Z"
   },
   {
    "duration": 10,
    "start_time": "2024-10-12T19:23:13.921Z"
   },
   {
    "duration": 8170,
    "start_time": "2024-10-12T19:27:12.320Z"
   },
   {
    "duration": 8255,
    "start_time": "2024-10-12T19:32:42.561Z"
   },
   {
    "duration": 8304,
    "start_time": "2024-10-12T19:34:14.624Z"
   },
   {
    "duration": 131,
    "start_time": "2024-10-12T19:39:07.107Z"
   },
   {
    "duration": 47,
    "start_time": "2024-10-12T19:39:48.219Z"
   },
   {
    "duration": 41,
    "start_time": "2024-10-12T19:41:11.822Z"
   },
   {
    "duration": 234,
    "start_time": "2024-10-12T20:08:56.758Z"
   },
   {
    "duration": 199,
    "start_time": "2024-10-12T20:09:08.248Z"
   },
   {
    "duration": 271,
    "start_time": "2024-10-12T20:09:16.453Z"
   },
   {
    "duration": 197,
    "start_time": "2024-10-12T20:09:39.530Z"
   },
   {
    "duration": 1181,
    "start_time": "2024-10-12T20:09:57.370Z"
   },
   {
    "duration": 72,
    "start_time": "2024-10-12T20:09:58.553Z"
   },
   {
    "duration": 11,
    "start_time": "2024-10-12T20:09:58.626Z"
   },
   {
    "duration": 12,
    "start_time": "2024-10-12T20:09:58.639Z"
   },
   {
    "duration": 9,
    "start_time": "2024-10-12T20:09:58.653Z"
   },
   {
    "duration": 11,
    "start_time": "2024-10-12T20:09:58.664Z"
   },
   {
    "duration": 8,
    "start_time": "2024-10-12T20:09:58.685Z"
   },
   {
    "duration": 7,
    "start_time": "2024-10-12T20:09:58.695Z"
   },
   {
    "duration": 3,
    "start_time": "2024-10-12T20:09:58.703Z"
   },
   {
    "duration": 15,
    "start_time": "2024-10-12T20:09:58.708Z"
   },
   {
    "duration": 20,
    "start_time": "2024-10-12T20:09:58.725Z"
   },
   {
    "duration": 194,
    "start_time": "2024-10-12T20:09:58.747Z"
   },
   {
    "duration": 14,
    "start_time": "2024-10-12T20:09:58.943Z"
   },
   {
    "duration": 162,
    "start_time": "2024-10-12T20:09:58.960Z"
   },
   {
    "duration": 133,
    "start_time": "2024-10-12T20:09:59.123Z"
   },
   {
    "duration": 7,
    "start_time": "2024-10-12T20:09:59.258Z"
   },
   {
    "duration": 25,
    "start_time": "2024-10-12T20:09:59.267Z"
   },
   {
    "duration": 223,
    "start_time": "2024-10-12T20:09:59.294Z"
   },
   {
    "duration": 12,
    "start_time": "2024-10-12T20:09:59.518Z"
   },
   {
    "duration": 534,
    "start_time": "2024-10-12T20:09:59.532Z"
   },
   {
    "duration": 238,
    "start_time": "2024-10-12T20:10:00.067Z"
   },
   {
    "duration": 9,
    "start_time": "2024-10-12T20:10:00.306Z"
   },
   {
    "duration": 400,
    "start_time": "2024-10-12T20:10:00.316Z"
   },
   {
    "duration": 20,
    "start_time": "2024-10-12T20:10:00.717Z"
   },
   {
    "duration": 19,
    "start_time": "2024-10-12T20:10:00.738Z"
   },
   {
    "duration": 19,
    "start_time": "2024-10-12T20:10:00.759Z"
   },
   {
    "duration": 11,
    "start_time": "2024-10-12T20:10:00.782Z"
   },
   {
    "duration": 36,
    "start_time": "2024-10-12T20:10:00.794Z"
   },
   {
    "duration": 536,
    "start_time": "2024-10-12T20:10:00.832Z"
   },
   {
    "duration": 232,
    "start_time": "2024-10-12T20:10:01.370Z"
   },
   {
    "duration": 33,
    "start_time": "2024-10-12T20:10:01.603Z"
   },
   {
    "duration": 571,
    "start_time": "2024-10-12T20:10:01.638Z"
   },
   {
    "duration": 657,
    "start_time": "2024-10-12T20:10:02.211Z"
   },
   {
    "duration": 302,
    "start_time": "2024-10-12T20:10:02.869Z"
   },
   {
    "duration": 8,
    "start_time": "2024-10-12T20:10:03.179Z"
   },
   {
    "duration": 61,
    "start_time": "2024-10-12T20:10:03.190Z"
   },
   {
    "duration": 311,
    "start_time": "2024-10-12T20:10:03.253Z"
   },
   {
    "duration": 0,
    "start_time": "2024-10-12T20:10:03.566Z"
   },
   {
    "duration": 0,
    "start_time": "2024-10-12T20:10:03.568Z"
   },
   {
    "duration": 0,
    "start_time": "2024-10-12T20:10:03.569Z"
   },
   {
    "duration": 194,
    "start_time": "2024-10-12T20:10:22.431Z"
   },
   {
    "duration": 187,
    "start_time": "2024-10-12T20:11:22.870Z"
   },
   {
    "duration": 7,
    "start_time": "2024-10-12T20:11:25.084Z"
   },
   {
    "duration": 1210,
    "start_time": "2024-10-12T20:11:37.646Z"
   },
   {
    "duration": 70,
    "start_time": "2024-10-12T20:11:38.858Z"
   },
   {
    "duration": 13,
    "start_time": "2024-10-12T20:11:38.930Z"
   },
   {
    "duration": 11,
    "start_time": "2024-10-12T20:11:38.945Z"
   },
   {
    "duration": 11,
    "start_time": "2024-10-12T20:11:38.957Z"
   },
   {
    "duration": 11,
    "start_time": "2024-10-12T20:11:38.969Z"
   },
   {
    "duration": 14,
    "start_time": "2024-10-12T20:11:38.982Z"
   },
   {
    "duration": 5,
    "start_time": "2024-10-12T20:11:38.997Z"
   },
   {
    "duration": 11,
    "start_time": "2024-10-12T20:11:39.004Z"
   },
   {
    "duration": 6,
    "start_time": "2024-10-12T20:11:39.018Z"
   },
   {
    "duration": 20,
    "start_time": "2024-10-12T20:11:39.026Z"
   },
   {
    "duration": 197,
    "start_time": "2024-10-12T20:11:39.047Z"
   },
   {
    "duration": 15,
    "start_time": "2024-10-12T20:11:39.246Z"
   },
   {
    "duration": 154,
    "start_time": "2024-10-12T20:11:39.277Z"
   },
   {
    "duration": 131,
    "start_time": "2024-10-12T20:11:39.432Z"
   },
   {
    "duration": 14,
    "start_time": "2024-10-12T20:11:39.564Z"
   },
   {
    "duration": 15,
    "start_time": "2024-10-12T20:11:39.581Z"
   },
   {
    "duration": 210,
    "start_time": "2024-10-12T20:11:39.598Z"
   },
   {
    "duration": 9,
    "start_time": "2024-10-12T20:11:39.810Z"
   },
   {
    "duration": 539,
    "start_time": "2024-10-12T20:11:39.820Z"
   },
   {
    "duration": 230,
    "start_time": "2024-10-12T20:11:40.360Z"
   },
   {
    "duration": 10,
    "start_time": "2024-10-12T20:11:40.597Z"
   },
   {
    "duration": 359,
    "start_time": "2024-10-12T20:11:40.608Z"
   },
   {
    "duration": 25,
    "start_time": "2024-10-12T20:11:40.983Z"
   },
   {
    "duration": 11,
    "start_time": "2024-10-12T20:11:41.010Z"
   },
   {
    "duration": 10,
    "start_time": "2024-10-12T20:11:41.022Z"
   },
   {
    "duration": 6,
    "start_time": "2024-10-12T20:11:41.034Z"
   },
   {
    "duration": 53,
    "start_time": "2024-10-12T20:11:41.043Z"
   },
   {
    "duration": 513,
    "start_time": "2024-10-12T20:11:41.098Z"
   },
   {
    "duration": 214,
    "start_time": "2024-10-12T20:11:41.613Z"
   },
   {
    "duration": 30,
    "start_time": "2024-10-12T20:11:41.829Z"
   },
   {
    "duration": 548,
    "start_time": "2024-10-12T20:11:41.861Z"
   },
   {
    "duration": 616,
    "start_time": "2024-10-12T20:11:42.410Z"
   },
   {
    "duration": 286,
    "start_time": "2024-10-12T20:11:43.028Z"
   },
   {
    "duration": 2,
    "start_time": "2024-10-12T20:11:43.316Z"
   },
   {
    "duration": 43,
    "start_time": "2024-10-12T20:11:43.319Z"
   },
   {
    "duration": 347,
    "start_time": "2024-10-12T20:11:43.363Z"
   },
   {
    "duration": 0,
    "start_time": "2024-10-12T20:11:43.711Z"
   },
   {
    "duration": 0,
    "start_time": "2024-10-12T20:11:43.712Z"
   },
   {
    "duration": 0,
    "start_time": "2024-10-12T20:11:43.714Z"
   },
   {
    "duration": 0,
    "start_time": "2024-10-12T20:11:43.715Z"
   },
   {
    "duration": 46,
    "start_time": "2024-10-12T20:11:59.087Z"
   },
   {
    "duration": 204,
    "start_time": "2024-10-12T20:12:11.943Z"
   },
   {
    "duration": 4,
    "start_time": "2024-10-12T20:12:12.815Z"
   },
   {
    "duration": 18,
    "start_time": "2024-10-12T20:12:39.215Z"
   },
   {
    "duration": 181,
    "start_time": "2024-10-12T20:13:25.659Z"
   },
   {
    "duration": 1181,
    "start_time": "2024-10-12T20:13:45.744Z"
   },
   {
    "duration": 71,
    "start_time": "2024-10-12T20:13:46.927Z"
   },
   {
    "duration": 13,
    "start_time": "2024-10-12T20:13:47.000Z"
   },
   {
    "duration": 11,
    "start_time": "2024-10-12T20:13:47.015Z"
   },
   {
    "duration": 9,
    "start_time": "2024-10-12T20:13:47.028Z"
   },
   {
    "duration": 9,
    "start_time": "2024-10-12T20:13:47.039Z"
   },
   {
    "duration": 5,
    "start_time": "2024-10-12T20:13:47.050Z"
   },
   {
    "duration": 5,
    "start_time": "2024-10-12T20:13:47.056Z"
   },
   {
    "duration": 30,
    "start_time": "2024-10-12T20:13:47.062Z"
   },
   {
    "duration": 6,
    "start_time": "2024-10-12T20:13:47.095Z"
   },
   {
    "duration": 94,
    "start_time": "2024-10-12T20:13:47.104Z"
   },
   {
    "duration": 185,
    "start_time": "2024-10-12T20:13:47.200Z"
   },
   {
    "duration": 19,
    "start_time": "2024-10-12T20:13:47.388Z"
   },
   {
    "duration": 178,
    "start_time": "2024-10-12T20:13:47.409Z"
   },
   {
    "duration": 155,
    "start_time": "2024-10-12T20:13:47.589Z"
   },
   {
    "duration": 7,
    "start_time": "2024-10-12T20:13:47.746Z"
   },
   {
    "duration": 5,
    "start_time": "2024-10-12T20:13:47.755Z"
   },
   {
    "duration": 218,
    "start_time": "2024-10-12T20:13:47.780Z"
   },
   {
    "duration": 9,
    "start_time": "2024-10-12T20:13:48.000Z"
   },
   {
    "duration": 599,
    "start_time": "2024-10-12T20:13:48.010Z"
   },
   {
    "duration": 236,
    "start_time": "2024-10-12T20:13:48.610Z"
   },
   {
    "duration": 9,
    "start_time": "2024-10-12T20:13:48.847Z"
   },
   {
    "duration": 387,
    "start_time": "2024-10-12T20:13:48.857Z"
   },
   {
    "duration": 18,
    "start_time": "2024-10-12T20:13:49.245Z"
   },
   {
    "duration": 35,
    "start_time": "2024-10-12T20:13:49.266Z"
   },
   {
    "duration": 11,
    "start_time": "2024-10-12T20:13:49.302Z"
   },
   {
    "duration": 8,
    "start_time": "2024-10-12T20:13:49.315Z"
   },
   {
    "duration": 29,
    "start_time": "2024-10-12T20:13:49.326Z"
   },
   {
    "duration": 567,
    "start_time": "2024-10-12T20:13:49.356Z"
   },
   {
    "duration": 235,
    "start_time": "2024-10-12T20:13:49.924Z"
   },
   {
    "duration": 49,
    "start_time": "2024-10-12T20:13:50.161Z"
   },
   {
    "duration": 592,
    "start_time": "2024-10-12T20:13:50.211Z"
   },
   {
    "duration": 623,
    "start_time": "2024-10-12T20:13:50.805Z"
   },
   {
    "duration": 288,
    "start_time": "2024-10-12T20:13:51.429Z"
   },
   {
    "duration": 3,
    "start_time": "2024-10-12T20:13:51.718Z"
   },
   {
    "duration": 60,
    "start_time": "2024-10-12T20:13:51.723Z"
   },
   {
    "duration": 266,
    "start_time": "2024-10-12T20:13:51.788Z"
   },
   {
    "duration": 0,
    "start_time": "2024-10-12T20:13:52.056Z"
   },
   {
    "duration": 0,
    "start_time": "2024-10-12T20:13:52.057Z"
   },
   {
    "duration": 0,
    "start_time": "2024-10-12T20:13:52.058Z"
   },
   {
    "duration": 53,
    "start_time": "2024-10-12T20:15:56.145Z"
   },
   {
    "duration": 17,
    "start_time": "2024-10-12T20:16:00.393Z"
   },
   {
    "duration": 15,
    "start_time": "2024-10-12T20:16:48.329Z"
   },
   {
    "duration": 10173,
    "start_time": "2024-10-12T20:18:09.524Z"
   },
   {
    "duration": 55,
    "start_time": "2024-10-12T20:23:45.778Z"
   },
   {
    "duration": 55,
    "start_time": "2024-10-12T20:25:02.159Z"
   },
   {
    "duration": 52,
    "start_time": "2024-10-12T20:25:19.362Z"
   },
   {
    "duration": 63,
    "start_time": "2024-10-12T20:29:49.601Z"
   },
   {
    "duration": 120,
    "start_time": "2024-10-12T20:30:49.451Z"
   },
   {
    "duration": 18,
    "start_time": "2024-10-12T20:30:55.522Z"
   },
   {
    "duration": 1179,
    "start_time": "2024-10-12T20:31:20.753Z"
   },
   {
    "duration": 77,
    "start_time": "2024-10-12T20:31:21.933Z"
   },
   {
    "duration": 11,
    "start_time": "2024-10-12T20:31:22.012Z"
   },
   {
    "duration": 25,
    "start_time": "2024-10-12T20:31:22.025Z"
   },
   {
    "duration": 22,
    "start_time": "2024-10-12T20:31:22.052Z"
   },
   {
    "duration": 14,
    "start_time": "2024-10-12T20:31:22.078Z"
   },
   {
    "duration": 7,
    "start_time": "2024-10-12T20:31:22.094Z"
   },
   {
    "duration": 5,
    "start_time": "2024-10-12T20:31:22.102Z"
   },
   {
    "duration": 5,
    "start_time": "2024-10-12T20:31:22.108Z"
   },
   {
    "duration": 5,
    "start_time": "2024-10-12T20:31:22.114Z"
   },
   {
    "duration": 15,
    "start_time": "2024-10-12T20:31:22.121Z"
   },
   {
    "duration": 225,
    "start_time": "2024-10-12T20:31:22.138Z"
   },
   {
    "duration": 32,
    "start_time": "2024-10-12T20:31:22.364Z"
   },
   {
    "duration": 140,
    "start_time": "2024-10-12T20:31:22.399Z"
   },
   {
    "duration": 138,
    "start_time": "2024-10-12T20:31:22.540Z"
   },
   {
    "duration": 14,
    "start_time": "2024-10-12T20:31:22.680Z"
   },
   {
    "duration": 9,
    "start_time": "2024-10-12T20:31:22.696Z"
   },
   {
    "duration": 200,
    "start_time": "2024-10-12T20:31:22.706Z"
   },
   {
    "duration": 8,
    "start_time": "2024-10-12T20:31:22.907Z"
   },
   {
    "duration": 523,
    "start_time": "2024-10-12T20:31:22.916Z"
   },
   {
    "duration": 214,
    "start_time": "2024-10-12T20:31:23.440Z"
   },
   {
    "duration": 7,
    "start_time": "2024-10-12T20:31:23.656Z"
   },
   {
    "duration": 357,
    "start_time": "2024-10-12T20:31:23.664Z"
   },
   {
    "duration": 19,
    "start_time": "2024-10-12T20:31:24.023Z"
   },
   {
    "duration": 9,
    "start_time": "2024-10-12T20:31:24.043Z"
   },
   {
    "duration": 27,
    "start_time": "2024-10-12T20:31:24.053Z"
   },
   {
    "duration": 9,
    "start_time": "2024-10-12T20:31:24.083Z"
   },
   {
    "duration": 42,
    "start_time": "2024-10-12T20:31:24.093Z"
   },
   {
    "duration": 532,
    "start_time": "2024-10-12T20:31:24.136Z"
   },
   {
    "duration": 225,
    "start_time": "2024-10-12T20:31:24.669Z"
   },
   {
    "duration": 31,
    "start_time": "2024-10-12T20:31:24.896Z"
   },
   {
    "duration": 544,
    "start_time": "2024-10-12T20:31:24.928Z"
   },
   {
    "duration": 620,
    "start_time": "2024-10-12T20:31:25.484Z"
   },
   {
    "duration": 290,
    "start_time": "2024-10-12T20:31:26.105Z"
   },
   {
    "duration": 2,
    "start_time": "2024-10-12T20:31:26.396Z"
   },
   {
    "duration": 59,
    "start_time": "2024-10-12T20:31:26.400Z"
   },
   {
    "duration": 25,
    "start_time": "2024-10-12T20:31:26.461Z"
   },
   {
    "duration": 98,
    "start_time": "2024-10-12T20:31:26.487Z"
   },
   {
    "duration": 79,
    "start_time": "2024-10-12T20:31:26.587Z"
   },
   {
    "duration": 27,
    "start_time": "2024-10-12T20:31:26.668Z"
   },
   {
    "duration": 2,
    "start_time": "2024-10-12T20:31:26.700Z"
   },
   {
    "duration": 58,
    "start_time": "2024-10-12T20:31:26.703Z"
   },
   {
    "duration": 86,
    "start_time": "2024-10-12T20:32:29.918Z"
   },
   {
    "duration": 18,
    "start_time": "2024-10-12T20:32:32.126Z"
   },
   {
    "duration": 18,
    "start_time": "2024-10-12T20:32:48.122Z"
   },
   {
    "duration": 4,
    "start_time": "2024-10-12T20:32:48.780Z"
   },
   {
    "duration": 54,
    "start_time": "2024-10-12T20:32:49.980Z"
   },
   {
    "duration": 30,
    "start_time": "2024-10-12T20:32:51.867Z"
   },
   {
    "duration": 6,
    "start_time": "2024-10-12T20:33:08.926Z"
   },
   {
    "duration": 81,
    "start_time": "2024-10-12T20:33:21.296Z"
   },
   {
    "duration": 1154,
    "start_time": "2024-10-12T20:33:38.293Z"
   },
   {
    "duration": 73,
    "start_time": "2024-10-12T20:33:39.448Z"
   },
   {
    "duration": 10,
    "start_time": "2024-10-12T20:33:39.523Z"
   },
   {
    "duration": 10,
    "start_time": "2024-10-12T20:33:39.535Z"
   },
   {
    "duration": 9,
    "start_time": "2024-10-12T20:33:39.548Z"
   },
   {
    "duration": 9,
    "start_time": "2024-10-12T20:33:39.559Z"
   },
   {
    "duration": 13,
    "start_time": "2024-10-12T20:33:39.570Z"
   },
   {
    "duration": 13,
    "start_time": "2024-10-12T20:33:39.589Z"
   },
   {
    "duration": 3,
    "start_time": "2024-10-12T20:33:39.604Z"
   },
   {
    "duration": 4,
    "start_time": "2024-10-12T20:33:39.609Z"
   },
   {
    "duration": 16,
    "start_time": "2024-10-12T20:33:39.614Z"
   },
   {
    "duration": 201,
    "start_time": "2024-10-12T20:33:39.632Z"
   },
   {
    "duration": 14,
    "start_time": "2024-10-12T20:33:39.834Z"
   },
   {
    "duration": 164,
    "start_time": "2024-10-12T20:33:39.851Z"
   },
   {
    "duration": 143,
    "start_time": "2024-10-12T20:33:40.017Z"
   },
   {
    "duration": 23,
    "start_time": "2024-10-12T20:33:40.162Z"
   },
   {
    "duration": 12,
    "start_time": "2024-10-12T20:33:40.191Z"
   },
   {
    "duration": 202,
    "start_time": "2024-10-12T20:33:40.205Z"
   },
   {
    "duration": 10,
    "start_time": "2024-10-12T20:33:40.409Z"
   },
   {
    "duration": 575,
    "start_time": "2024-10-12T20:33:40.421Z"
   },
   {
    "duration": 220,
    "start_time": "2024-10-12T20:33:40.998Z"
   },
   {
    "duration": 8,
    "start_time": "2024-10-12T20:33:41.220Z"
   },
   {
    "duration": 363,
    "start_time": "2024-10-12T20:33:41.229Z"
   },
   {
    "duration": 19,
    "start_time": "2024-10-12T20:33:41.594Z"
   },
   {
    "duration": 9,
    "start_time": "2024-10-12T20:33:41.615Z"
   },
   {
    "duration": 9,
    "start_time": "2024-10-12T20:33:41.625Z"
   },
   {
    "duration": 6,
    "start_time": "2024-10-12T20:33:41.635Z"
   },
   {
    "duration": 63,
    "start_time": "2024-10-12T20:33:41.643Z"
   },
   {
    "duration": 527,
    "start_time": "2024-10-12T20:33:41.708Z"
   },
   {
    "duration": 225,
    "start_time": "2024-10-12T20:33:42.237Z"
   },
   {
    "duration": 42,
    "start_time": "2024-10-12T20:33:42.464Z"
   },
   {
    "duration": 559,
    "start_time": "2024-10-12T20:33:42.509Z"
   },
   {
    "duration": 638,
    "start_time": "2024-10-12T20:33:43.070Z"
   },
   {
    "duration": 291,
    "start_time": "2024-10-12T20:33:43.710Z"
   },
   {
    "duration": 3,
    "start_time": "2024-10-12T20:33:44.003Z"
   },
   {
    "duration": 47,
    "start_time": "2024-10-12T20:33:44.008Z"
   },
   {
    "duration": 22,
    "start_time": "2024-10-12T20:33:44.079Z"
   },
   {
    "duration": 15,
    "start_time": "2024-10-12T20:33:44.102Z"
   },
   {
    "duration": 99,
    "start_time": "2024-10-12T20:33:44.118Z"
   },
   {
    "duration": 16,
    "start_time": "2024-10-12T20:33:44.218Z"
   },
   {
    "duration": 3,
    "start_time": "2024-10-12T20:33:44.237Z"
   },
   {
    "duration": 55,
    "start_time": "2024-10-12T20:33:44.241Z"
   },
   {
    "duration": 80,
    "start_time": "2024-10-12T20:35:02.294Z"
   },
   {
    "duration": 15,
    "start_time": "2024-10-12T20:35:03.751Z"
   },
   {
    "duration": 86,
    "start_time": "2024-10-12T20:42:34.545Z"
   },
   {
    "duration": 23,
    "start_time": "2024-10-12T20:42:37.066Z"
   },
   {
    "duration": 2,
    "start_time": "2024-10-12T20:42:38.268Z"
   },
   {
    "duration": 26,
    "start_time": "2024-10-12T20:42:46.362Z"
   },
   {
    "duration": 54,
    "start_time": "2024-10-12T20:43:06.693Z"
   },
   {
    "duration": 53,
    "start_time": "2024-10-12T20:43:11.984Z"
   },
   {
    "duration": 87,
    "start_time": "2024-10-12T20:43:23.271Z"
   },
   {
    "duration": 4,
    "start_time": "2024-10-12T20:44:58.716Z"
   },
   {
    "duration": 88,
    "start_time": "2024-10-12T20:45:00.453Z"
   },
   {
    "duration": 17,
    "start_time": "2024-10-12T20:45:02.517Z"
   },
   {
    "duration": 1174,
    "start_time": "2024-10-12T20:45:12.966Z"
   },
   {
    "duration": 77,
    "start_time": "2024-10-12T20:45:14.142Z"
   },
   {
    "duration": 13,
    "start_time": "2024-10-12T20:45:14.220Z"
   },
   {
    "duration": 26,
    "start_time": "2024-10-12T20:45:14.235Z"
   },
   {
    "duration": 10,
    "start_time": "2024-10-12T20:45:14.262Z"
   },
   {
    "duration": 14,
    "start_time": "2024-10-12T20:45:14.274Z"
   },
   {
    "duration": 6,
    "start_time": "2024-10-12T20:45:14.289Z"
   },
   {
    "duration": 6,
    "start_time": "2024-10-12T20:45:14.304Z"
   },
   {
    "duration": 7,
    "start_time": "2024-10-12T20:45:14.311Z"
   },
   {
    "duration": 5,
    "start_time": "2024-10-12T20:45:14.322Z"
   },
   {
    "duration": 16,
    "start_time": "2024-10-12T20:45:14.329Z"
   },
   {
    "duration": 207,
    "start_time": "2024-10-12T20:45:14.347Z"
   },
   {
    "duration": 26,
    "start_time": "2024-10-12T20:45:14.556Z"
   },
   {
    "duration": 160,
    "start_time": "2024-10-12T20:45:14.584Z"
   },
   {
    "duration": 145,
    "start_time": "2024-10-12T20:45:14.746Z"
   },
   {
    "duration": 8,
    "start_time": "2024-10-12T20:45:14.893Z"
   },
   {
    "duration": 10,
    "start_time": "2024-10-12T20:45:14.902Z"
   },
   {
    "duration": 210,
    "start_time": "2024-10-12T20:45:14.913Z"
   },
   {
    "duration": 8,
    "start_time": "2024-10-12T20:45:15.124Z"
   },
   {
    "duration": 552,
    "start_time": "2024-10-12T20:45:15.134Z"
   },
   {
    "duration": 220,
    "start_time": "2024-10-12T20:45:15.688Z"
   },
   {
    "duration": 8,
    "start_time": "2024-10-12T20:45:15.909Z"
   },
   {
    "duration": 378,
    "start_time": "2024-10-12T20:45:15.918Z"
   },
   {
    "duration": 19,
    "start_time": "2024-10-12T20:45:16.297Z"
   },
   {
    "duration": 8,
    "start_time": "2024-10-12T20:45:16.318Z"
   },
   {
    "duration": 8,
    "start_time": "2024-10-12T20:45:16.328Z"
   },
   {
    "duration": 6,
    "start_time": "2024-10-12T20:45:16.337Z"
   },
   {
    "duration": 32,
    "start_time": "2024-10-12T20:45:16.389Z"
   },
   {
    "duration": 518,
    "start_time": "2024-10-12T20:45:16.423Z"
   },
   {
    "duration": 216,
    "start_time": "2024-10-12T20:45:16.943Z"
   },
   {
    "duration": 46,
    "start_time": "2024-10-12T20:45:17.160Z"
   },
   {
    "duration": 535,
    "start_time": "2024-10-12T20:45:17.207Z"
   },
   {
    "duration": 660,
    "start_time": "2024-10-12T20:45:17.744Z"
   },
   {
    "duration": 297,
    "start_time": "2024-10-12T20:45:18.406Z"
   },
   {
    "duration": 2,
    "start_time": "2024-10-12T20:45:18.705Z"
   },
   {
    "duration": 47,
    "start_time": "2024-10-12T20:45:18.708Z"
   },
   {
    "duration": 39,
    "start_time": "2024-10-12T20:45:18.756Z"
   },
   {
    "duration": 13,
    "start_time": "2024-10-12T20:45:18.797Z"
   },
   {
    "duration": 3,
    "start_time": "2024-10-12T20:45:18.812Z"
   },
   {
    "duration": 103,
    "start_time": "2024-10-12T20:45:18.816Z"
   },
   {
    "duration": 15,
    "start_time": "2024-10-12T20:45:18.920Z"
   },
   {
    "duration": 2,
    "start_time": "2024-10-12T20:45:18.936Z"
   },
   {
    "duration": 53,
    "start_time": "2024-10-12T20:45:18.940Z"
   },
   {
    "duration": 112,
    "start_time": "2024-10-12T20:58:27.833Z"
   },
   {
    "duration": 23,
    "start_time": "2024-10-12T20:58:33.274Z"
   },
   {
    "duration": 1124,
    "start_time": "2024-10-12T20:58:44.311Z"
   },
   {
    "duration": 75,
    "start_time": "2024-10-12T20:58:45.437Z"
   },
   {
    "duration": 10,
    "start_time": "2024-10-12T20:58:45.514Z"
   },
   {
    "duration": 11,
    "start_time": "2024-10-12T20:58:45.526Z"
   },
   {
    "duration": 24,
    "start_time": "2024-10-12T20:58:45.539Z"
   },
   {
    "duration": 11,
    "start_time": "2024-10-12T20:58:45.564Z"
   },
   {
    "duration": 12,
    "start_time": "2024-10-12T20:58:45.578Z"
   },
   {
    "duration": 6,
    "start_time": "2024-10-12T20:58:45.592Z"
   },
   {
    "duration": 3,
    "start_time": "2024-10-12T20:58:45.600Z"
   },
   {
    "duration": 16,
    "start_time": "2024-10-12T20:58:45.604Z"
   },
   {
    "duration": 16,
    "start_time": "2024-10-12T20:58:45.621Z"
   },
   {
    "duration": 199,
    "start_time": "2024-10-12T20:58:45.638Z"
   },
   {
    "duration": 13,
    "start_time": "2024-10-12T20:58:45.839Z"
   },
   {
    "duration": 163,
    "start_time": "2024-10-12T20:58:45.855Z"
   },
   {
    "duration": 132,
    "start_time": "2024-10-12T20:58:46.020Z"
   },
   {
    "duration": 7,
    "start_time": "2024-10-12T20:58:46.153Z"
   },
   {
    "duration": 29,
    "start_time": "2024-10-12T20:58:46.161Z"
   },
   {
    "duration": 205,
    "start_time": "2024-10-12T20:58:46.192Z"
   },
   {
    "duration": 7,
    "start_time": "2024-10-12T20:58:46.399Z"
   },
   {
    "duration": 528,
    "start_time": "2024-10-12T20:58:46.408Z"
   },
   {
    "duration": 219,
    "start_time": "2024-10-12T20:58:46.938Z"
   },
   {
    "duration": 7,
    "start_time": "2024-10-12T20:58:47.159Z"
   },
   {
    "duration": 351,
    "start_time": "2024-10-12T20:58:47.176Z"
   },
   {
    "duration": 22,
    "start_time": "2024-10-12T20:58:47.528Z"
   },
   {
    "duration": 24,
    "start_time": "2024-10-12T20:58:47.552Z"
   },
   {
    "duration": 14,
    "start_time": "2024-10-12T20:58:47.578Z"
   },
   {
    "duration": 7,
    "start_time": "2024-10-12T20:58:47.594Z"
   },
   {
    "duration": 31,
    "start_time": "2024-10-12T20:58:47.602Z"
   },
   {
    "duration": 570,
    "start_time": "2024-10-12T20:58:47.635Z"
   },
   {
    "duration": 230,
    "start_time": "2024-10-12T20:58:48.208Z"
   },
   {
    "duration": 50,
    "start_time": "2024-10-12T20:58:48.440Z"
   },
   {
    "duration": 519,
    "start_time": "2024-10-12T20:58:48.492Z"
   },
   {
    "duration": 639,
    "start_time": "2024-10-12T20:58:49.013Z"
   },
   {
    "duration": 290,
    "start_time": "2024-10-12T20:58:49.653Z"
   },
   {
    "duration": 3,
    "start_time": "2024-10-12T20:58:49.945Z"
   },
   {
    "duration": 71,
    "start_time": "2024-10-12T20:58:49.950Z"
   },
   {
    "duration": 15,
    "start_time": "2024-10-12T20:58:50.023Z"
   },
   {
    "duration": 39,
    "start_time": "2024-10-12T20:58:50.039Z"
   },
   {
    "duration": 110,
    "start_time": "2024-10-12T20:58:50.080Z"
   },
   {
    "duration": 0,
    "start_time": "2024-10-12T20:58:50.193Z"
   },
   {
    "duration": 0,
    "start_time": "2024-10-12T20:58:50.194Z"
   },
   {
    "duration": 0,
    "start_time": "2024-10-12T20:58:50.195Z"
   },
   {
    "duration": 8,
    "start_time": "2024-10-12T20:59:04.432Z"
   },
   {
    "duration": 8,
    "start_time": "2024-10-12T20:59:19.106Z"
   },
   {
    "duration": 9,
    "start_time": "2024-10-12T20:59:21.085Z"
   },
   {
    "duration": 1152,
    "start_time": "2024-10-12T20:59:36.079Z"
   },
   {
    "duration": 76,
    "start_time": "2024-10-12T20:59:37.232Z"
   },
   {
    "duration": 11,
    "start_time": "2024-10-12T20:59:37.309Z"
   },
   {
    "duration": 12,
    "start_time": "2024-10-12T20:59:37.321Z"
   },
   {
    "duration": 9,
    "start_time": "2024-10-12T20:59:37.334Z"
   },
   {
    "duration": 6,
    "start_time": "2024-10-12T20:59:37.345Z"
   },
   {
    "duration": 6,
    "start_time": "2024-10-12T20:59:37.352Z"
   },
   {
    "duration": 17,
    "start_time": "2024-10-12T20:59:37.359Z"
   },
   {
    "duration": 10,
    "start_time": "2024-10-12T20:59:37.380Z"
   },
   {
    "duration": 4,
    "start_time": "2024-10-12T20:59:37.392Z"
   },
   {
    "duration": 15,
    "start_time": "2024-10-12T20:59:37.398Z"
   },
   {
    "duration": 196,
    "start_time": "2024-10-12T20:59:37.414Z"
   },
   {
    "duration": 15,
    "start_time": "2024-10-12T20:59:37.611Z"
   },
   {
    "duration": 166,
    "start_time": "2024-10-12T20:59:37.629Z"
   },
   {
    "duration": 135,
    "start_time": "2024-10-12T20:59:37.797Z"
   },
   {
    "duration": 8,
    "start_time": "2024-10-12T20:59:37.933Z"
   },
   {
    "duration": 6,
    "start_time": "2024-10-12T20:59:37.943Z"
   },
   {
    "duration": 216,
    "start_time": "2024-10-12T20:59:37.950Z"
   },
   {
    "duration": 31,
    "start_time": "2024-10-12T20:59:38.168Z"
   },
   {
    "duration": 529,
    "start_time": "2024-10-12T20:59:38.202Z"
   },
   {
    "duration": 208,
    "start_time": "2024-10-12T20:59:38.733Z"
   },
   {
    "duration": 7,
    "start_time": "2024-10-12T20:59:38.943Z"
   },
   {
    "duration": 367,
    "start_time": "2024-10-12T20:59:38.951Z"
   },
   {
    "duration": 19,
    "start_time": "2024-10-12T20:59:39.319Z"
   },
   {
    "duration": 8,
    "start_time": "2024-10-12T20:59:39.339Z"
   },
   {
    "duration": 8,
    "start_time": "2024-10-12T20:59:39.349Z"
   },
   {
    "duration": 12,
    "start_time": "2024-10-12T20:59:39.376Z"
   },
   {
    "duration": 30,
    "start_time": "2024-10-12T20:59:39.389Z"
   },
   {
    "duration": 531,
    "start_time": "2024-10-12T20:59:39.421Z"
   },
   {
    "duration": 216,
    "start_time": "2024-10-12T20:59:39.953Z"
   },
   {
    "duration": 43,
    "start_time": "2024-10-12T20:59:40.175Z"
   },
   {
    "duration": 592,
    "start_time": "2024-10-12T20:59:40.220Z"
   },
   {
    "duration": 603,
    "start_time": "2024-10-12T20:59:40.814Z"
   },
   {
    "duration": 278,
    "start_time": "2024-10-12T20:59:41.419Z"
   },
   {
    "duration": 2,
    "start_time": "2024-10-12T20:59:41.699Z"
   },
   {
    "duration": 45,
    "start_time": "2024-10-12T20:59:41.703Z"
   },
   {
    "duration": 38,
    "start_time": "2024-10-12T20:59:41.750Z"
   },
   {
    "duration": 22,
    "start_time": "2024-10-12T20:59:41.790Z"
   },
   {
    "duration": 100,
    "start_time": "2024-10-12T20:59:41.814Z"
   },
   {
    "duration": 16,
    "start_time": "2024-10-12T20:59:41.915Z"
   },
   {
    "duration": 2,
    "start_time": "2024-10-12T20:59:41.935Z"
   },
   {
    "duration": 52,
    "start_time": "2024-10-12T20:59:41.938Z"
   },
   {
    "duration": 115,
    "start_time": "2024-10-12T21:00:07.379Z"
   },
   {
    "duration": 11,
    "start_time": "2024-10-12T21:01:10.459Z"
   },
   {
    "duration": 19,
    "start_time": "2024-10-12T21:13:50.882Z"
   },
   {
    "duration": 1177,
    "start_time": "2024-10-12T21:13:57.566Z"
   },
   {
    "duration": 70,
    "start_time": "2024-10-12T21:13:58.744Z"
   },
   {
    "duration": 12,
    "start_time": "2024-10-12T21:13:58.816Z"
   },
   {
    "duration": 26,
    "start_time": "2024-10-12T21:13:58.830Z"
   },
   {
    "duration": 9,
    "start_time": "2024-10-12T21:13:58.857Z"
   },
   {
    "duration": 17,
    "start_time": "2024-10-12T21:13:58.868Z"
   },
   {
    "duration": 5,
    "start_time": "2024-10-12T21:13:58.889Z"
   },
   {
    "duration": 5,
    "start_time": "2024-10-12T21:13:58.896Z"
   },
   {
    "duration": 3,
    "start_time": "2024-10-12T21:13:58.903Z"
   },
   {
    "duration": 5,
    "start_time": "2024-10-12T21:13:58.909Z"
   },
   {
    "duration": 16,
    "start_time": "2024-10-12T21:13:58.915Z"
   },
   {
    "duration": 204,
    "start_time": "2024-10-12T21:13:58.932Z"
   },
   {
    "duration": 14,
    "start_time": "2024-10-12T21:13:59.138Z"
   },
   {
    "duration": 172,
    "start_time": "2024-10-12T21:13:59.153Z"
   },
   {
    "duration": 134,
    "start_time": "2024-10-12T21:13:59.326Z"
   },
   {
    "duration": 29,
    "start_time": "2024-10-12T21:13:59.461Z"
   },
   {
    "duration": 6,
    "start_time": "2024-10-12T21:13:59.494Z"
   },
   {
    "duration": 198,
    "start_time": "2024-10-12T21:13:59.502Z"
   },
   {
    "duration": 9,
    "start_time": "2024-10-12T21:13:59.702Z"
   },
   {
    "duration": 578,
    "start_time": "2024-10-12T21:13:59.713Z"
   },
   {
    "duration": 218,
    "start_time": "2024-10-12T21:14:00.293Z"
   },
   {
    "duration": 8,
    "start_time": "2024-10-12T21:14:00.513Z"
   },
   {
    "duration": 386,
    "start_time": "2024-10-12T21:14:00.522Z"
   },
   {
    "duration": 19,
    "start_time": "2024-10-12T21:14:00.910Z"
   },
   {
    "duration": 8,
    "start_time": "2024-10-12T21:14:00.931Z"
   },
   {
    "duration": 21,
    "start_time": "2024-10-12T21:14:00.940Z"
   },
   {
    "duration": 24,
    "start_time": "2024-10-12T21:14:00.963Z"
   },
   {
    "duration": 33,
    "start_time": "2024-10-12T21:14:00.995Z"
   },
   {
    "duration": 530,
    "start_time": "2024-10-12T21:14:01.029Z"
   },
   {
    "duration": 226,
    "start_time": "2024-10-12T21:14:01.561Z"
   },
   {
    "duration": 31,
    "start_time": "2024-10-12T21:14:01.789Z"
   },
   {
    "duration": 572,
    "start_time": "2024-10-12T21:14:01.822Z"
   },
   {
    "duration": 636,
    "start_time": "2024-10-12T21:14:02.396Z"
   },
   {
    "duration": 281,
    "start_time": "2024-10-12T21:14:03.033Z"
   },
   {
    "duration": 2,
    "start_time": "2024-10-12T21:14:03.316Z"
   },
   {
    "duration": 67,
    "start_time": "2024-10-12T21:14:03.320Z"
   },
   {
    "duration": 18,
    "start_time": "2024-10-12T21:14:03.390Z"
   },
   {
    "duration": 16,
    "start_time": "2024-10-12T21:14:03.409Z"
   },
   {
    "duration": 108,
    "start_time": "2024-10-12T21:14:03.426Z"
   },
   {
    "duration": 17,
    "start_time": "2024-10-12T21:14:03.536Z"
   },
   {
    "duration": 6,
    "start_time": "2024-10-12T21:14:03.554Z"
   },
   {
    "duration": 61,
    "start_time": "2024-10-12T21:14:03.561Z"
   },
   {
    "duration": 923,
    "start_time": "2024-10-12T21:19:09.864Z"
   },
   {
    "duration": 958,
    "start_time": "2024-10-12T21:20:30.852Z"
   },
   {
    "duration": 1121,
    "start_time": "2024-10-12T21:23:40.911Z"
   },
   {
    "duration": 75,
    "start_time": "2024-10-12T21:23:42.034Z"
   },
   {
    "duration": 12,
    "start_time": "2024-10-12T21:23:42.111Z"
   },
   {
    "duration": 10,
    "start_time": "2024-10-12T21:23:42.125Z"
   },
   {
    "duration": 9,
    "start_time": "2024-10-12T21:23:42.137Z"
   },
   {
    "duration": 7,
    "start_time": "2024-10-12T21:23:42.147Z"
   },
   {
    "duration": 5,
    "start_time": "2024-10-12T21:23:42.155Z"
   },
   {
    "duration": 23,
    "start_time": "2024-10-12T21:23:42.161Z"
   },
   {
    "duration": 5,
    "start_time": "2024-10-12T21:23:42.189Z"
   },
   {
    "duration": 19,
    "start_time": "2024-10-12T21:23:42.197Z"
   },
   {
    "duration": 16,
    "start_time": "2024-10-12T21:23:42.218Z"
   },
   {
    "duration": 195,
    "start_time": "2024-10-12T21:23:42.236Z"
   },
   {
    "duration": 14,
    "start_time": "2024-10-12T21:23:42.432Z"
   },
   {
    "duration": 166,
    "start_time": "2024-10-12T21:23:42.447Z"
   },
   {
    "duration": 132,
    "start_time": "2024-10-12T21:23:42.615Z"
   },
   {
    "duration": 7,
    "start_time": "2024-10-12T21:23:42.749Z"
   },
   {
    "duration": 20,
    "start_time": "2024-10-12T21:23:42.758Z"
   },
   {
    "duration": 211,
    "start_time": "2024-10-12T21:23:42.787Z"
   },
   {
    "duration": 10,
    "start_time": "2024-10-12T21:23:43.000Z"
   },
   {
    "duration": 530,
    "start_time": "2024-10-12T21:23:43.011Z"
   },
   {
    "duration": 222,
    "start_time": "2024-10-12T21:23:43.543Z"
   },
   {
    "duration": 23,
    "start_time": "2024-10-12T21:23:43.766Z"
   },
   {
    "duration": 348,
    "start_time": "2024-10-12T21:23:43.794Z"
   },
   {
    "duration": 20,
    "start_time": "2024-10-12T21:23:44.143Z"
   },
   {
    "duration": 27,
    "start_time": "2024-10-12T21:23:44.164Z"
   },
   {
    "duration": 10,
    "start_time": "2024-10-12T21:23:44.192Z"
   },
   {
    "duration": 6,
    "start_time": "2024-10-12T21:23:44.203Z"
   },
   {
    "duration": 31,
    "start_time": "2024-10-12T21:23:44.213Z"
   },
   {
    "duration": 544,
    "start_time": "2024-10-12T21:23:44.245Z"
   },
   {
    "duration": 221,
    "start_time": "2024-10-12T21:23:44.792Z"
   },
   {
    "duration": 32,
    "start_time": "2024-10-12T21:23:45.015Z"
   },
   {
    "duration": 562,
    "start_time": "2024-10-12T21:23:45.048Z"
   },
   {
    "duration": 635,
    "start_time": "2024-10-12T21:23:45.612Z"
   },
   {
    "duration": 289,
    "start_time": "2024-10-12T21:23:46.248Z"
   },
   {
    "duration": 3,
    "start_time": "2024-10-12T21:23:46.538Z"
   },
   {
    "duration": 62,
    "start_time": "2024-10-12T21:23:46.543Z"
   },
   {
    "duration": 15,
    "start_time": "2024-10-12T21:23:46.607Z"
   },
   {
    "duration": 14,
    "start_time": "2024-10-12T21:23:46.624Z"
   },
   {
    "duration": 929,
    "start_time": "2024-10-12T21:23:46.640Z"
   },
   {
    "duration": 0,
    "start_time": "2024-10-12T21:23:47.571Z"
   },
   {
    "duration": 0,
    "start_time": "2024-10-12T21:23:47.572Z"
   },
   {
    "duration": 0,
    "start_time": "2024-10-12T21:23:47.574Z"
   },
   {
    "duration": 85,
    "start_time": "2024-10-12T21:25:39.722Z"
   },
   {
    "duration": 17,
    "start_time": "2024-10-12T21:25:45.022Z"
   },
   {
    "duration": 880,
    "start_time": "2024-10-12T21:31:28.159Z"
   },
   {
    "duration": 202,
    "start_time": "2024-10-12T21:33:13.024Z"
   },
   {
    "duration": 14,
    "start_time": "2024-10-12T21:33:48.629Z"
   },
   {
    "duration": 125,
    "start_time": "2024-10-12T21:34:06.583Z"
   },
   {
    "duration": 17,
    "start_time": "2024-10-12T21:34:09.880Z"
   },
   {
    "duration": 139,
    "start_time": "2024-10-12T21:35:18.437Z"
   },
   {
    "duration": 15,
    "start_time": "2024-10-12T21:35:22.285Z"
   },
   {
    "duration": 12,
    "start_time": "2024-10-12T21:35:43.845Z"
   },
   {
    "duration": 1080,
    "start_time": "2024-10-12T21:36:49.059Z"
   },
   {
    "duration": 67,
    "start_time": "2024-10-12T21:36:50.141Z"
   },
   {
    "duration": 11,
    "start_time": "2024-10-12T21:36:50.213Z"
   },
   {
    "duration": 21,
    "start_time": "2024-10-12T21:36:50.226Z"
   },
   {
    "duration": 22,
    "start_time": "2024-10-12T21:36:50.248Z"
   },
   {
    "duration": 8,
    "start_time": "2024-10-12T21:36:50.272Z"
   },
   {
    "duration": 5,
    "start_time": "2024-10-12T21:36:50.282Z"
   },
   {
    "duration": 6,
    "start_time": "2024-10-12T21:36:50.289Z"
   },
   {
    "duration": 3,
    "start_time": "2024-10-12T21:36:50.298Z"
   },
   {
    "duration": 5,
    "start_time": "2024-10-12T21:36:50.303Z"
   },
   {
    "duration": 16,
    "start_time": "2024-10-12T21:36:50.309Z"
   },
   {
    "duration": 192,
    "start_time": "2024-10-12T21:36:50.327Z"
   },
   {
    "duration": 14,
    "start_time": "2024-10-12T21:36:50.520Z"
   },
   {
    "duration": 174,
    "start_time": "2024-10-12T21:36:50.535Z"
   },
   {
    "duration": 129,
    "start_time": "2024-10-12T21:36:50.710Z"
   },
   {
    "duration": 8,
    "start_time": "2024-10-12T21:36:50.840Z"
   },
   {
    "duration": 10,
    "start_time": "2024-10-12T21:36:50.849Z"
   },
   {
    "duration": 188,
    "start_time": "2024-10-12T21:36:50.860Z"
   },
   {
    "duration": 8,
    "start_time": "2024-10-12T21:36:51.049Z"
   },
   {
    "duration": 477,
    "start_time": "2024-10-12T21:36:51.058Z"
   },
   {
    "duration": 203,
    "start_time": "2024-10-12T21:36:51.536Z"
   },
   {
    "duration": 8,
    "start_time": "2024-10-12T21:36:51.740Z"
   },
   {
    "duration": 334,
    "start_time": "2024-10-12T21:36:51.749Z"
   },
   {
    "duration": 18,
    "start_time": "2024-10-12T21:36:52.085Z"
   },
   {
    "duration": 9,
    "start_time": "2024-10-12T21:36:52.105Z"
   },
   {
    "duration": 8,
    "start_time": "2024-10-12T21:36:52.115Z"
   },
   {
    "duration": 6,
    "start_time": "2024-10-12T21:36:52.126Z"
   },
   {
    "duration": 59,
    "start_time": "2024-10-12T21:36:52.133Z"
   },
   {
    "duration": 481,
    "start_time": "2024-10-12T21:36:52.194Z"
   },
   {
    "duration": 198,
    "start_time": "2024-10-12T21:36:52.677Z"
   },
   {
    "duration": 33,
    "start_time": "2024-10-12T21:36:52.877Z"
   },
   {
    "duration": 487,
    "start_time": "2024-10-12T21:36:52.911Z"
   },
   {
    "duration": 576,
    "start_time": "2024-10-12T21:36:53.400Z"
   },
   {
    "duration": 263,
    "start_time": "2024-10-12T21:36:53.977Z"
   },
   {
    "duration": 2,
    "start_time": "2024-10-12T21:36:54.242Z"
   },
   {
    "duration": 867,
    "start_time": "2024-10-12T21:36:54.245Z"
   },
   {
    "duration": 14,
    "start_time": "2024-10-12T21:36:55.114Z"
   },
   {
    "duration": 10,
    "start_time": "2024-10-12T21:36:55.130Z"
   },
   {
    "duration": 150,
    "start_time": "2024-10-12T21:36:55.141Z"
   },
   {
    "duration": 15,
    "start_time": "2024-10-12T21:36:55.293Z"
   },
   {
    "duration": 85,
    "start_time": "2024-10-12T21:36:55.309Z"
   },
   {
    "duration": 142,
    "start_time": "2024-10-12T21:37:27.575Z"
   },
   {
    "duration": 16,
    "start_time": "2024-10-12T21:37:30.902Z"
   },
   {
    "duration": 1228,
    "start_time": "2024-10-12T21:39:48.377Z"
   },
   {
    "duration": 18,
    "start_time": "2024-10-12T21:39:51.116Z"
   },
   {
    "duration": 67,
    "start_time": "2024-10-12T21:46:38.081Z"
   },
   {
    "duration": 17,
    "start_time": "2024-10-12T21:46:40.885Z"
   },
   {
    "duration": 4,
    "start_time": "2024-10-12T21:46:56.503Z"
   },
   {
    "duration": 1374,
    "start_time": "2024-10-12T21:47:15.626Z"
   },
   {
    "duration": 17,
    "start_time": "2024-10-12T21:47:17.914Z"
   },
   {
    "duration": 1021,
    "start_time": "2024-10-12T21:48:56.117Z"
   },
   {
    "duration": 67,
    "start_time": "2024-10-12T21:48:57.139Z"
   },
   {
    "duration": 10,
    "start_time": "2024-10-12T21:48:57.208Z"
   },
   {
    "duration": 12,
    "start_time": "2024-10-12T21:48:57.220Z"
   },
   {
    "duration": 9,
    "start_time": "2024-10-12T21:48:57.234Z"
   },
   {
    "duration": 7,
    "start_time": "2024-10-12T21:48:57.244Z"
   },
   {
    "duration": 7,
    "start_time": "2024-10-12T21:48:57.252Z"
   },
   {
    "duration": 9,
    "start_time": "2024-10-12T21:48:57.260Z"
   },
   {
    "duration": 7,
    "start_time": "2024-10-12T21:48:57.270Z"
   },
   {
    "duration": 8,
    "start_time": "2024-10-12T21:48:57.279Z"
   },
   {
    "duration": 16,
    "start_time": "2024-10-12T21:48:57.288Z"
   },
   {
    "duration": 181,
    "start_time": "2024-10-12T21:48:57.305Z"
   },
   {
    "duration": 13,
    "start_time": "2024-10-12T21:48:57.488Z"
   },
   {
    "duration": 148,
    "start_time": "2024-10-12T21:48:57.504Z"
   },
   {
    "duration": 127,
    "start_time": "2024-10-12T21:48:57.653Z"
   },
   {
    "duration": 8,
    "start_time": "2024-10-12T21:48:57.781Z"
   },
   {
    "duration": 10,
    "start_time": "2024-10-12T21:48:57.791Z"
   },
   {
    "duration": 182,
    "start_time": "2024-10-12T21:48:57.802Z"
   },
   {
    "duration": 9,
    "start_time": "2024-10-12T21:48:57.985Z"
   },
   {
    "duration": 534,
    "start_time": "2024-10-12T21:48:57.995Z"
   },
   {
    "duration": 198,
    "start_time": "2024-10-12T21:48:58.530Z"
   },
   {
    "duration": 7,
    "start_time": "2024-10-12T21:48:58.729Z"
   },
   {
    "duration": 327,
    "start_time": "2024-10-12T21:48:58.738Z"
   },
   {
    "duration": 24,
    "start_time": "2024-10-12T21:48:59.066Z"
   },
   {
    "duration": 9,
    "start_time": "2024-10-12T21:48:59.091Z"
   },
   {
    "duration": 8,
    "start_time": "2024-10-12T21:48:59.102Z"
   },
   {
    "duration": 6,
    "start_time": "2024-10-12T21:48:59.111Z"
   },
   {
    "duration": 34,
    "start_time": "2024-10-12T21:48:59.118Z"
   },
   {
    "duration": 495,
    "start_time": "2024-10-12T21:48:59.175Z"
   },
   {
    "duration": 196,
    "start_time": "2024-10-12T21:48:59.671Z"
   },
   {
    "duration": 34,
    "start_time": "2024-10-12T21:48:59.869Z"
   },
   {
    "duration": 500,
    "start_time": "2024-10-12T21:48:59.904Z"
   },
   {
    "duration": 634,
    "start_time": "2024-10-12T21:49:00.405Z"
   },
   {
    "duration": 267,
    "start_time": "2024-10-12T21:49:01.040Z"
   },
   {
    "duration": 2,
    "start_time": "2024-10-12T21:49:01.309Z"
   },
   {
    "duration": 862,
    "start_time": "2024-10-12T21:49:01.312Z"
   },
   {
    "duration": 15,
    "start_time": "2024-10-12T21:49:02.176Z"
   },
   {
    "duration": 1404,
    "start_time": "2024-10-12T21:49:02.193Z"
   },
   {
    "duration": 16,
    "start_time": "2024-10-12T21:49:03.599Z"
   },
   {
    "duration": 4,
    "start_time": "2024-10-12T21:49:03.616Z"
   },
   {
    "duration": 1403,
    "start_time": "2024-10-12T21:50:44.897Z"
   },
   {
    "duration": 1403,
    "start_time": "2024-10-12T21:52:22.561Z"
   },
   {
    "duration": 1079,
    "start_time": "2024-10-12T21:52:29.513Z"
   },
   {
    "duration": 72,
    "start_time": "2024-10-12T21:52:30.594Z"
   },
   {
    "duration": 14,
    "start_time": "2024-10-12T21:52:30.668Z"
   },
   {
    "duration": 24,
    "start_time": "2024-10-12T21:52:30.684Z"
   },
   {
    "duration": 10,
    "start_time": "2024-10-12T21:52:30.710Z"
   },
   {
    "duration": 49,
    "start_time": "2024-10-12T21:52:30.721Z"
   },
   {
    "duration": 31,
    "start_time": "2024-10-12T21:52:30.772Z"
   },
   {
    "duration": 12,
    "start_time": "2024-10-12T21:52:30.805Z"
   },
   {
    "duration": 4,
    "start_time": "2024-10-12T21:52:30.818Z"
   },
   {
    "duration": 94,
    "start_time": "2024-10-12T21:52:30.824Z"
   },
   {
    "duration": 25,
    "start_time": "2024-10-12T21:52:30.920Z"
   },
   {
    "duration": 172,
    "start_time": "2024-10-12T21:52:30.947Z"
   },
   {
    "duration": 13,
    "start_time": "2024-10-12T21:52:31.121Z"
   },
   {
    "duration": 154,
    "start_time": "2024-10-12T21:52:31.136Z"
   },
   {
    "duration": 130,
    "start_time": "2024-10-12T21:52:31.291Z"
   },
   {
    "duration": 7,
    "start_time": "2024-10-12T21:52:31.423Z"
   },
   {
    "duration": 26,
    "start_time": "2024-10-12T21:52:31.431Z"
   },
   {
    "duration": 173,
    "start_time": "2024-10-12T21:52:31.459Z"
   },
   {
    "duration": 8,
    "start_time": "2024-10-12T21:52:31.633Z"
   },
   {
    "duration": 481,
    "start_time": "2024-10-12T21:52:31.643Z"
   },
   {
    "duration": 206,
    "start_time": "2024-10-12T21:52:32.125Z"
   },
   {
    "duration": 8,
    "start_time": "2024-10-12T21:52:32.333Z"
   },
   {
    "duration": 359,
    "start_time": "2024-10-12T21:52:32.342Z"
   },
   {
    "duration": 20,
    "start_time": "2024-10-12T21:52:32.702Z"
   },
   {
    "duration": 82,
    "start_time": "2024-10-12T21:52:32.723Z"
   },
   {
    "duration": 10,
    "start_time": "2024-10-12T21:52:32.806Z"
   },
   {
    "duration": 15,
    "start_time": "2024-10-12T21:52:32.818Z"
   },
   {
    "duration": 83,
    "start_time": "2024-10-12T21:52:32.836Z"
   },
   {
    "duration": 465,
    "start_time": "2024-10-12T21:52:32.921Z"
   },
   {
    "duration": 197,
    "start_time": "2024-10-12T21:52:33.388Z"
   },
   {
    "duration": 31,
    "start_time": "2024-10-12T21:52:33.586Z"
   },
   {
    "duration": 509,
    "start_time": "2024-10-12T21:52:33.618Z"
   },
   {
    "duration": 573,
    "start_time": "2024-10-12T21:52:34.129Z"
   },
   {
    "duration": 264,
    "start_time": "2024-10-12T21:52:34.703Z"
   },
   {
    "duration": 2,
    "start_time": "2024-10-12T21:52:34.976Z"
   },
   {
    "duration": 867,
    "start_time": "2024-10-12T21:52:34.980Z"
   },
   {
    "duration": 15,
    "start_time": "2024-10-12T21:52:35.849Z"
   },
   {
    "duration": 1379,
    "start_time": "2024-10-12T21:52:35.876Z"
   },
   {
    "duration": 4,
    "start_time": "2024-10-12T21:56:45.527Z"
   },
   {
    "duration": 51,
    "start_time": "2024-10-13T08:51:51.385Z"
   },
   {
    "duration": 7,
    "start_time": "2024-10-13T08:52:05.793Z"
   },
   {
    "duration": 1282,
    "start_time": "2024-10-13T08:52:13.108Z"
   },
   {
    "duration": 369,
    "start_time": "2024-10-13T08:52:14.393Z"
   },
   {
    "duration": 13,
    "start_time": "2024-10-13T08:52:14.763Z"
   },
   {
    "duration": 25,
    "start_time": "2024-10-13T08:52:14.777Z"
   },
   {
    "duration": 11,
    "start_time": "2024-10-13T08:52:14.804Z"
   },
   {
    "duration": 13,
    "start_time": "2024-10-13T08:52:14.816Z"
   },
   {
    "duration": 5,
    "start_time": "2024-10-13T08:52:14.831Z"
   },
   {
    "duration": 12,
    "start_time": "2024-10-13T08:52:14.838Z"
   },
   {
    "duration": 6,
    "start_time": "2024-10-13T08:52:14.852Z"
   },
   {
    "duration": 5,
    "start_time": "2024-10-13T08:52:14.859Z"
   },
   {
    "duration": 39,
    "start_time": "2024-10-13T08:52:14.865Z"
   },
   {
    "duration": 214,
    "start_time": "2024-10-13T08:52:14.906Z"
   },
   {
    "duration": 16,
    "start_time": "2024-10-13T08:52:15.122Z"
   },
   {
    "duration": 168,
    "start_time": "2024-10-13T08:52:15.141Z"
   },
   {
    "duration": 138,
    "start_time": "2024-10-13T08:52:15.311Z"
   },
   {
    "duration": 9,
    "start_time": "2024-10-13T08:52:15.450Z"
   },
   {
    "duration": 36,
    "start_time": "2024-10-13T08:52:15.461Z"
   },
   {
    "duration": 213,
    "start_time": "2024-10-13T08:52:15.498Z"
   },
   {
    "duration": 10,
    "start_time": "2024-10-13T08:52:15.712Z"
   },
   {
    "duration": 518,
    "start_time": "2024-10-13T08:52:15.723Z"
   },
   {
    "duration": 213,
    "start_time": "2024-10-13T08:52:16.242Z"
   },
   {
    "duration": 8,
    "start_time": "2024-10-13T08:52:16.457Z"
   },
   {
    "duration": 352,
    "start_time": "2024-10-13T08:52:16.466Z"
   },
   {
    "duration": 20,
    "start_time": "2024-10-13T08:52:16.820Z"
   },
   {
    "duration": 10,
    "start_time": "2024-10-13T08:52:16.842Z"
   },
   {
    "duration": 30,
    "start_time": "2024-10-13T08:52:16.854Z"
   },
   {
    "duration": 24,
    "start_time": "2024-10-13T08:52:16.885Z"
   },
   {
    "duration": 56,
    "start_time": "2024-10-13T08:52:16.910Z"
   },
   {
    "duration": 493,
    "start_time": "2024-10-13T08:52:16.968Z"
   },
   {
    "duration": 227,
    "start_time": "2024-10-13T08:52:17.463Z"
   },
   {
    "duration": 34,
    "start_time": "2024-10-13T08:52:17.692Z"
   },
   {
    "duration": 527,
    "start_time": "2024-10-13T08:52:17.727Z"
   },
   {
    "duration": 641,
    "start_time": "2024-10-13T08:52:18.256Z"
   },
   {
    "duration": 288,
    "start_time": "2024-10-13T08:52:18.899Z"
   },
   {
    "duration": 1058,
    "start_time": "2024-10-13T08:52:19.190Z"
   },
   {
    "duration": 16,
    "start_time": "2024-10-13T08:52:20.250Z"
   },
   {
    "duration": 1481,
    "start_time": "2024-10-13T08:52:20.268Z"
   },
   {
    "duration": 5,
    "start_time": "2024-10-13T08:52:21.751Z"
   },
   {
    "duration": 1486,
    "start_time": "2024-10-13T08:52:33.912Z"
   },
   {
    "duration": 1526,
    "start_time": "2024-10-13T08:52:47.161Z"
   },
   {
    "duration": 58,
    "start_time": "2024-10-13T12:28:32.224Z"
   },
   {
    "duration": 163,
    "start_time": "2024-10-13T12:29:32.204Z"
   },
   {
    "duration": 195,
    "start_time": "2024-10-13T12:29:51.642Z"
   },
   {
    "duration": 66,
    "start_time": "2024-10-13T14:16:57.776Z"
   },
   {
    "duration": 12,
    "start_time": "2024-10-13T14:21:53.914Z"
   },
   {
    "duration": 12,
    "start_time": "2024-10-13T14:23:21.198Z"
   },
   {
    "duration": 21,
    "start_time": "2024-10-13T14:28:08.106Z"
   },
   {
    "duration": 19,
    "start_time": "2024-10-13T14:28:58.239Z"
   },
   {
    "duration": 22,
    "start_time": "2024-10-13T14:29:13.009Z"
   },
   {
    "duration": 19,
    "start_time": "2024-10-13T14:29:48.573Z"
   },
   {
    "duration": 21,
    "start_time": "2024-10-13T14:30:09.505Z"
   },
   {
    "duration": 13,
    "start_time": "2024-10-13T14:34:01.970Z"
   },
   {
    "duration": 9,
    "start_time": "2024-10-13T14:34:21.877Z"
   },
   {
    "duration": 19,
    "start_time": "2024-10-13T14:34:22.659Z"
   },
   {
    "duration": 1200,
    "start_time": "2024-10-13T14:34:30.691Z"
   },
   {
    "duration": 80,
    "start_time": "2024-10-13T14:34:31.893Z"
   },
   {
    "duration": 13,
    "start_time": "2024-10-13T14:34:31.974Z"
   },
   {
    "duration": 23,
    "start_time": "2024-10-13T14:34:31.989Z"
   },
   {
    "duration": 10,
    "start_time": "2024-10-13T14:34:32.013Z"
   },
   {
    "duration": 10,
    "start_time": "2024-10-13T14:34:32.025Z"
   },
   {
    "duration": 7,
    "start_time": "2024-10-13T14:34:32.037Z"
   },
   {
    "duration": 12,
    "start_time": "2024-10-13T14:34:32.046Z"
   },
   {
    "duration": 5,
    "start_time": "2024-10-13T14:34:32.060Z"
   },
   {
    "duration": 9,
    "start_time": "2024-10-13T14:34:32.069Z"
   },
   {
    "duration": 58,
    "start_time": "2024-10-13T14:34:32.080Z"
   },
   {
    "duration": 175,
    "start_time": "2024-10-13T14:34:32.140Z"
   },
   {
    "duration": 15,
    "start_time": "2024-10-13T14:34:32.316Z"
   },
   {
    "duration": 161,
    "start_time": "2024-10-13T14:34:32.332Z"
   },
   {
    "duration": 134,
    "start_time": "2024-10-13T14:34:32.495Z"
   },
   {
    "duration": 9,
    "start_time": "2024-10-13T14:34:32.631Z"
   },
   {
    "duration": 67,
    "start_time": "2024-10-13T14:34:32.642Z"
   },
   {
    "duration": 205,
    "start_time": "2024-10-13T14:34:32.711Z"
   },
   {
    "duration": 10,
    "start_time": "2024-10-13T14:34:32.918Z"
   },
   {
    "duration": 506,
    "start_time": "2024-10-13T14:34:32.929Z"
   },
   {
    "duration": 212,
    "start_time": "2024-10-13T14:34:33.436Z"
   },
   {
    "duration": 10,
    "start_time": "2024-10-13T14:34:33.650Z"
   },
   {
    "duration": 356,
    "start_time": "2024-10-13T14:34:33.661Z"
   },
   {
    "duration": 20,
    "start_time": "2024-10-13T14:34:34.018Z"
   },
   {
    "duration": 9,
    "start_time": "2024-10-13T14:34:34.040Z"
   },
   {
    "duration": 8,
    "start_time": "2024-10-13T14:34:34.051Z"
   },
   {
    "duration": 37,
    "start_time": "2024-10-13T14:34:34.061Z"
   },
   {
    "duration": 34,
    "start_time": "2024-10-13T14:34:34.102Z"
   },
   {
    "duration": 517,
    "start_time": "2024-10-13T14:34:34.137Z"
   },
   {
    "duration": 242,
    "start_time": "2024-10-13T14:34:34.655Z"
   },
   {
    "duration": 36,
    "start_time": "2024-10-13T14:34:34.899Z"
   },
   {
    "duration": 551,
    "start_time": "2024-10-13T14:34:34.936Z"
   },
   {
    "duration": 634,
    "start_time": "2024-10-13T14:34:35.488Z"
   },
   {
    "duration": 291,
    "start_time": "2024-10-13T14:34:36.124Z"
   },
   {
    "duration": 997,
    "start_time": "2024-10-13T14:34:36.418Z"
   },
   {
    "duration": 3,
    "start_time": "2024-10-13T14:34:37.417Z"
   },
   {
    "duration": 1667,
    "start_time": "2024-10-13T14:34:37.421Z"
   },
   {
    "duration": 4,
    "start_time": "2024-10-13T14:34:39.098Z"
   },
   {
    "duration": 126,
    "start_time": "2024-10-13T14:34:39.104Z"
   },
   {
    "duration": 0,
    "start_time": "2024-10-13T14:34:39.233Z"
   },
   {
    "duration": 0,
    "start_time": "2024-10-13T14:34:39.235Z"
   },
   {
    "duration": 0,
    "start_time": "2024-10-13T14:34:39.236Z"
   },
   {
    "duration": 0,
    "start_time": "2024-10-13T14:34:39.237Z"
   },
   {
    "duration": 11,
    "start_time": "2024-10-13T14:35:03.400Z"
   },
   {
    "duration": 10,
    "start_time": "2024-10-13T14:35:47.439Z"
   },
   {
    "duration": 12,
    "start_time": "2024-10-13T14:36:00.561Z"
   },
   {
    "duration": 21,
    "start_time": "2024-10-13T14:36:01.481Z"
   },
   {
    "duration": 1138,
    "start_time": "2024-10-13T14:36:09.427Z"
   },
   {
    "duration": 74,
    "start_time": "2024-10-13T14:36:10.567Z"
   },
   {
    "duration": 36,
    "start_time": "2024-10-13T14:36:10.643Z"
   },
   {
    "duration": 73,
    "start_time": "2024-10-13T14:36:10.681Z"
   },
   {
    "duration": 19,
    "start_time": "2024-10-13T14:36:10.756Z"
   },
   {
    "duration": 30,
    "start_time": "2024-10-13T14:36:10.777Z"
   },
   {
    "duration": 12,
    "start_time": "2024-10-13T14:36:10.809Z"
   },
   {
    "duration": 7,
    "start_time": "2024-10-13T14:36:10.823Z"
   },
   {
    "duration": 17,
    "start_time": "2024-10-13T14:36:10.832Z"
   },
   {
    "duration": 13,
    "start_time": "2024-10-13T14:36:10.852Z"
   },
   {
    "duration": 28,
    "start_time": "2024-10-13T14:36:10.867Z"
   },
   {
    "duration": 186,
    "start_time": "2024-10-13T14:36:10.897Z"
   },
   {
    "duration": 20,
    "start_time": "2024-10-13T14:36:11.085Z"
   },
   {
    "duration": 154,
    "start_time": "2024-10-13T14:36:11.106Z"
   },
   {
    "duration": 139,
    "start_time": "2024-10-13T14:36:11.262Z"
   },
   {
    "duration": 8,
    "start_time": "2024-10-13T14:36:11.403Z"
   },
   {
    "duration": 20,
    "start_time": "2024-10-13T14:36:11.412Z"
   },
   {
    "duration": 254,
    "start_time": "2024-10-13T14:36:11.434Z"
   },
   {
    "duration": 12,
    "start_time": "2024-10-13T14:36:11.690Z"
   },
   {
    "duration": 498,
    "start_time": "2024-10-13T14:36:11.703Z"
   },
   {
    "duration": 214,
    "start_time": "2024-10-13T14:36:12.202Z"
   },
   {
    "duration": 8,
    "start_time": "2024-10-13T14:36:12.417Z"
   },
   {
    "duration": 342,
    "start_time": "2024-10-13T14:36:12.426Z"
   },
   {
    "duration": 28,
    "start_time": "2024-10-13T14:36:12.770Z"
   },
   {
    "duration": 9,
    "start_time": "2024-10-13T14:36:12.800Z"
   },
   {
    "duration": 13,
    "start_time": "2024-10-13T14:36:12.810Z"
   },
   {
    "duration": 13,
    "start_time": "2024-10-13T14:36:12.825Z"
   },
   {
    "duration": 31,
    "start_time": "2024-10-13T14:36:12.842Z"
   },
   {
    "duration": 517,
    "start_time": "2024-10-13T14:36:12.874Z"
   },
   {
    "duration": 209,
    "start_time": "2024-10-13T14:36:13.397Z"
   },
   {
    "duration": 44,
    "start_time": "2024-10-13T14:36:13.608Z"
   },
   {
    "duration": 531,
    "start_time": "2024-10-13T14:36:13.653Z"
   },
   {
    "duration": 604,
    "start_time": "2024-10-13T14:36:14.186Z"
   },
   {
    "duration": 275,
    "start_time": "2024-10-13T14:36:14.797Z"
   },
   {
    "duration": 913,
    "start_time": "2024-10-13T14:36:15.074Z"
   },
   {
    "duration": 3,
    "start_time": "2024-10-13T14:36:15.988Z"
   },
   {
    "duration": 1554,
    "start_time": "2024-10-13T14:36:15.993Z"
   },
   {
    "duration": 4,
    "start_time": "2024-10-13T14:36:17.549Z"
   },
   {
    "duration": 124,
    "start_time": "2024-10-13T14:36:17.554Z"
   },
   {
    "duration": 0,
    "start_time": "2024-10-13T14:36:17.680Z"
   },
   {
    "duration": 0,
    "start_time": "2024-10-13T14:36:17.681Z"
   },
   {
    "duration": 0,
    "start_time": "2024-10-13T14:36:17.683Z"
   },
   {
    "duration": 0,
    "start_time": "2024-10-13T14:36:17.684Z"
   },
   {
    "duration": 13,
    "start_time": "2024-10-13T14:36:57.089Z"
   },
   {
    "duration": 13,
    "start_time": "2024-10-13T14:37:11.619Z"
   },
   {
    "duration": 19,
    "start_time": "2024-10-13T14:37:57.642Z"
   },
   {
    "duration": 19,
    "start_time": "2024-10-13T14:38:50.243Z"
   },
   {
    "duration": 67,
    "start_time": "2024-10-13T14:39:33.632Z"
   },
   {
    "duration": 1163,
    "start_time": "2024-10-13T14:39:49.194Z"
   },
   {
    "duration": 73,
    "start_time": "2024-10-13T14:39:50.359Z"
   },
   {
    "duration": 12,
    "start_time": "2024-10-13T14:39:50.433Z"
   },
   {
    "duration": 35,
    "start_time": "2024-10-13T14:39:50.447Z"
   },
   {
    "duration": 19,
    "start_time": "2024-10-13T14:39:50.484Z"
   },
   {
    "duration": 20,
    "start_time": "2024-10-13T14:39:50.505Z"
   },
   {
    "duration": 9,
    "start_time": "2024-10-13T14:39:50.526Z"
   },
   {
    "duration": 10,
    "start_time": "2024-10-13T14:39:50.536Z"
   },
   {
    "duration": 13,
    "start_time": "2024-10-13T14:39:50.548Z"
   },
   {
    "duration": 4,
    "start_time": "2024-10-13T14:39:50.563Z"
   },
   {
    "duration": 17,
    "start_time": "2024-10-13T14:39:50.568Z"
   },
   {
    "duration": 175,
    "start_time": "2024-10-13T14:39:50.587Z"
   },
   {
    "duration": 15,
    "start_time": "2024-10-13T14:39:50.764Z"
   },
   {
    "duration": 161,
    "start_time": "2024-10-13T14:39:50.780Z"
   },
   {
    "duration": 145,
    "start_time": "2024-10-13T14:39:50.943Z"
   },
   {
    "duration": 13,
    "start_time": "2024-10-13T14:39:51.090Z"
   },
   {
    "duration": 21,
    "start_time": "2024-10-13T14:39:51.105Z"
   },
   {
    "duration": 192,
    "start_time": "2024-10-13T14:39:51.128Z"
   },
   {
    "duration": 10,
    "start_time": "2024-10-13T14:39:51.322Z"
   },
   {
    "duration": 515,
    "start_time": "2024-10-13T14:39:51.334Z"
   },
   {
    "duration": 303,
    "start_time": "2024-10-13T14:39:51.851Z"
   },
   {
    "duration": 9,
    "start_time": "2024-10-13T14:39:52.155Z"
   },
   {
    "duration": 284,
    "start_time": "2024-10-13T14:39:52.166Z"
   },
   {
    "duration": 22,
    "start_time": "2024-10-13T14:39:52.451Z"
   },
   {
    "duration": 27,
    "start_time": "2024-10-13T14:39:52.475Z"
   },
   {
    "duration": 38,
    "start_time": "2024-10-13T14:39:52.504Z"
   },
   {
    "duration": 8,
    "start_time": "2024-10-13T14:39:52.543Z"
   },
   {
    "duration": 32,
    "start_time": "2024-10-13T14:39:52.555Z"
   },
   {
    "duration": 497,
    "start_time": "2024-10-13T14:39:52.589Z"
   },
   {
    "duration": 224,
    "start_time": "2024-10-13T14:39:53.088Z"
   },
   {
    "duration": 33,
    "start_time": "2024-10-13T14:39:53.313Z"
   },
   {
    "duration": 612,
    "start_time": "2024-10-13T14:39:53.347Z"
   },
   {
    "duration": 499,
    "start_time": "2024-10-13T14:39:53.961Z"
   },
   {
    "duration": 281,
    "start_time": "2024-10-13T14:39:54.461Z"
   },
   {
    "duration": 929,
    "start_time": "2024-10-13T14:39:54.744Z"
   },
   {
    "duration": 4,
    "start_time": "2024-10-13T14:39:55.675Z"
   },
   {
    "duration": 1475,
    "start_time": "2024-10-13T14:39:55.681Z"
   },
   {
    "duration": 4,
    "start_time": "2024-10-13T14:39:57.158Z"
   },
   {
    "duration": 21,
    "start_time": "2024-10-13T14:39:57.163Z"
   },
   {
    "duration": 19,
    "start_time": "2024-10-13T14:39:57.199Z"
   },
   {
    "duration": 171,
    "start_time": "2024-10-13T14:39:57.219Z"
   },
   {
    "duration": 0,
    "start_time": "2024-10-13T14:39:57.392Z"
   },
   {
    "duration": 178,
    "start_time": "2024-10-13T14:40:28.746Z"
   },
   {
    "duration": 63,
    "start_time": "2024-10-13T14:41:20.770Z"
   },
   {
    "duration": 5,
    "start_time": "2024-10-13T14:42:07.968Z"
   },
   {
    "duration": 7,
    "start_time": "2024-10-13T14:43:12.969Z"
   },
   {
    "duration": 7,
    "start_time": "2024-10-13T14:43:25.955Z"
   },
   {
    "duration": 7,
    "start_time": "2024-10-13T14:43:38.301Z"
   },
   {
    "duration": 7,
    "start_time": "2024-10-13T14:44:25.077Z"
   },
   {
    "duration": 7,
    "start_time": "2024-10-13T14:46:57.043Z"
   },
   {
    "duration": 1214,
    "start_time": "2024-10-13T14:47:03.679Z"
   },
   {
    "duration": 75,
    "start_time": "2024-10-13T14:47:04.895Z"
   },
   {
    "duration": 13,
    "start_time": "2024-10-13T14:47:04.971Z"
   },
   {
    "duration": 37,
    "start_time": "2024-10-13T14:47:04.986Z"
   },
   {
    "duration": 44,
    "start_time": "2024-10-13T14:47:05.025Z"
   },
   {
    "duration": 59,
    "start_time": "2024-10-13T14:47:05.070Z"
   },
   {
    "duration": 36,
    "start_time": "2024-10-13T14:47:05.130Z"
   },
   {
    "duration": 8,
    "start_time": "2024-10-13T14:47:05.167Z"
   },
   {
    "duration": 11,
    "start_time": "2024-10-13T14:47:05.176Z"
   },
   {
    "duration": 28,
    "start_time": "2024-10-13T14:47:05.190Z"
   },
   {
    "duration": 25,
    "start_time": "2024-10-13T14:47:05.220Z"
   },
   {
    "duration": 193,
    "start_time": "2024-10-13T14:47:05.246Z"
   },
   {
    "duration": 15,
    "start_time": "2024-10-13T14:47:05.441Z"
   },
   {
    "duration": 160,
    "start_time": "2024-10-13T14:47:05.458Z"
   },
   {
    "duration": 145,
    "start_time": "2024-10-13T14:47:05.620Z"
   },
   {
    "duration": 8,
    "start_time": "2024-10-13T14:47:05.767Z"
   },
   {
    "duration": 22,
    "start_time": "2024-10-13T14:47:05.776Z"
   },
   {
    "duration": 214,
    "start_time": "2024-10-13T14:47:05.800Z"
   },
   {
    "duration": 9,
    "start_time": "2024-10-13T14:47:06.015Z"
   },
   {
    "duration": 519,
    "start_time": "2024-10-13T14:47:06.026Z"
   },
   {
    "duration": 214,
    "start_time": "2024-10-13T14:47:06.547Z"
   },
   {
    "duration": 8,
    "start_time": "2024-10-13T14:47:06.762Z"
   },
   {
    "duration": 359,
    "start_time": "2024-10-13T14:47:06.771Z"
   },
   {
    "duration": 20,
    "start_time": "2024-10-13T14:47:07.132Z"
   },
   {
    "duration": 10,
    "start_time": "2024-10-13T14:47:07.154Z"
   },
   {
    "duration": 15,
    "start_time": "2024-10-13T14:47:07.165Z"
   },
   {
    "duration": 22,
    "start_time": "2024-10-13T14:47:07.182Z"
   },
   {
    "duration": 33,
    "start_time": "2024-10-13T14:47:07.208Z"
   },
   {
    "duration": 518,
    "start_time": "2024-10-13T14:47:07.242Z"
   },
   {
    "duration": 222,
    "start_time": "2024-10-13T14:47:07.761Z"
   },
   {
    "duration": 36,
    "start_time": "2024-10-13T14:47:07.985Z"
   },
   {
    "duration": 601,
    "start_time": "2024-10-13T14:47:08.023Z"
   },
   {
    "duration": 656,
    "start_time": "2024-10-13T14:47:08.626Z"
   },
   {
    "duration": 277,
    "start_time": "2024-10-13T14:47:09.284Z"
   },
   {
    "duration": 882,
    "start_time": "2024-10-13T14:47:09.562Z"
   },
   {
    "duration": 3,
    "start_time": "2024-10-13T14:47:10.446Z"
   },
   {
    "duration": 1452,
    "start_time": "2024-10-13T14:47:10.450Z"
   },
   {
    "duration": 4,
    "start_time": "2024-10-13T14:47:11.904Z"
   },
   {
    "duration": 9,
    "start_time": "2024-10-13T14:47:11.909Z"
   },
   {
    "duration": 5,
    "start_time": "2024-10-13T14:47:11.919Z"
   },
   {
    "duration": 56,
    "start_time": "2024-10-13T15:24:38.376Z"
   },
   {
    "duration": 7,
    "start_time": "2024-10-13T15:38:18.135Z"
   },
   {
    "duration": 99,
    "start_time": "2024-10-13T15:43:57.240Z"
   },
   {
    "duration": 10,
    "start_time": "2024-10-13T15:44:19.696Z"
   },
   {
    "duration": 5,
    "start_time": "2024-10-13T15:45:06.562Z"
   },
   {
    "duration": 6,
    "start_time": "2024-10-13T15:48:19.679Z"
   },
   {
    "duration": 11,
    "start_time": "2024-10-13T16:23:47.841Z"
   },
   {
    "duration": 7,
    "start_time": "2024-10-13T16:27:23.656Z"
   },
   {
    "duration": 1150,
    "start_time": "2024-10-13T16:34:25.247Z"
   },
   {
    "duration": 74,
    "start_time": "2024-10-13T16:34:26.399Z"
   },
   {
    "duration": 13,
    "start_time": "2024-10-13T16:34:26.475Z"
   },
   {
    "duration": 13,
    "start_time": "2024-10-13T16:34:26.491Z"
   },
   {
    "duration": 13,
    "start_time": "2024-10-13T16:34:26.505Z"
   },
   {
    "duration": 8,
    "start_time": "2024-10-13T16:34:26.519Z"
   },
   {
    "duration": 14,
    "start_time": "2024-10-13T16:34:26.528Z"
   },
   {
    "duration": 19,
    "start_time": "2024-10-13T16:34:26.543Z"
   },
   {
    "duration": 4,
    "start_time": "2024-10-13T16:34:26.564Z"
   },
   {
    "duration": 10,
    "start_time": "2024-10-13T16:34:26.571Z"
   },
   {
    "duration": 25,
    "start_time": "2024-10-13T16:34:26.583Z"
   },
   {
    "duration": 202,
    "start_time": "2024-10-13T16:34:26.609Z"
   },
   {
    "duration": 16,
    "start_time": "2024-10-13T16:34:26.813Z"
   },
   {
    "duration": 167,
    "start_time": "2024-10-13T16:34:26.831Z"
   },
   {
    "duration": 147,
    "start_time": "2024-10-13T16:34:27.000Z"
   },
   {
    "duration": 9,
    "start_time": "2024-10-13T16:34:27.148Z"
   },
   {
    "duration": 9,
    "start_time": "2024-10-13T16:34:27.158Z"
   },
   {
    "duration": 215,
    "start_time": "2024-10-13T16:34:27.169Z"
   },
   {
    "duration": 12,
    "start_time": "2024-10-13T16:34:27.386Z"
   },
   {
    "duration": 549,
    "start_time": "2024-10-13T16:34:27.400Z"
   },
   {
    "duration": 223,
    "start_time": "2024-10-13T16:34:27.951Z"
   },
   {
    "duration": 7,
    "start_time": "2024-10-13T16:34:28.176Z"
   },
   {
    "duration": 373,
    "start_time": "2024-10-13T16:34:28.185Z"
   },
   {
    "duration": 20,
    "start_time": "2024-10-13T16:34:28.560Z"
   },
   {
    "duration": 17,
    "start_time": "2024-10-13T16:34:28.581Z"
   },
   {
    "duration": 9,
    "start_time": "2024-10-13T16:34:28.600Z"
   },
   {
    "duration": 15,
    "start_time": "2024-10-13T16:34:28.611Z"
   },
   {
    "duration": 32,
    "start_time": "2024-10-13T16:34:28.629Z"
   },
   {
    "duration": 577,
    "start_time": "2024-10-13T16:34:28.663Z"
   },
   {
    "duration": 223,
    "start_time": "2024-10-13T16:34:29.242Z"
   },
   {
    "duration": 43,
    "start_time": "2024-10-13T16:34:29.467Z"
   },
   {
    "duration": 545,
    "start_time": "2024-10-13T16:34:29.511Z"
   },
   {
    "duration": 597,
    "start_time": "2024-10-13T16:34:30.057Z"
   },
   {
    "duration": 284,
    "start_time": "2024-10-13T16:34:30.655Z"
   },
   {
    "duration": 893,
    "start_time": "2024-10-13T16:34:30.940Z"
   },
   {
    "duration": 2,
    "start_time": "2024-10-13T16:34:31.835Z"
   },
   {
    "duration": 1476,
    "start_time": "2024-10-13T16:34:31.839Z"
   },
   {
    "duration": 4,
    "start_time": "2024-10-13T16:34:33.317Z"
   },
   {
    "duration": 14,
    "start_time": "2024-10-13T16:34:33.322Z"
   },
   {
    "duration": 25,
    "start_time": "2024-10-13T16:34:33.338Z"
   },
   {
    "duration": 67,
    "start_time": "2024-10-13T16:34:33.365Z"
   },
   {
    "duration": 6,
    "start_time": "2024-10-13T16:34:33.434Z"
   },
   {
    "duration": 106,
    "start_time": "2024-10-13T19:15:23.605Z"
   },
   {
    "duration": 14,
    "start_time": "2024-10-13T19:22:59.207Z"
   },
   {
    "duration": 3,
    "start_time": "2024-10-13T19:23:52.239Z"
   },
   {
    "duration": 1151,
    "start_time": "2024-10-13T19:24:03.044Z"
   },
   {
    "duration": 77,
    "start_time": "2024-10-13T19:24:04.198Z"
   },
   {
    "duration": 16,
    "start_time": "2024-10-13T19:24:04.279Z"
   },
   {
    "duration": 71,
    "start_time": "2024-10-13T19:24:04.297Z"
   },
   {
    "duration": 23,
    "start_time": "2024-10-13T19:24:04.370Z"
   },
   {
    "duration": 11,
    "start_time": "2024-10-13T19:24:04.395Z"
   },
   {
    "duration": 8,
    "start_time": "2024-10-13T19:24:04.407Z"
   },
   {
    "duration": 19,
    "start_time": "2024-10-13T19:24:04.417Z"
   },
   {
    "duration": 4,
    "start_time": "2024-10-13T19:24:04.438Z"
   },
   {
    "duration": 5,
    "start_time": "2024-10-13T19:24:04.443Z"
   },
   {
    "duration": 18,
    "start_time": "2024-10-13T19:24:04.449Z"
   },
   {
    "duration": 204,
    "start_time": "2024-10-13T19:24:04.469Z"
   },
   {
    "duration": 16,
    "start_time": "2024-10-13T19:24:04.675Z"
   },
   {
    "duration": 172,
    "start_time": "2024-10-13T19:24:04.697Z"
   },
   {
    "duration": 147,
    "start_time": "2024-10-13T19:24:04.871Z"
   },
   {
    "duration": 10,
    "start_time": "2024-10-13T19:24:05.019Z"
   },
   {
    "duration": 11,
    "start_time": "2024-10-13T19:24:05.030Z"
   },
   {
    "duration": 220,
    "start_time": "2024-10-13T19:24:05.042Z"
   },
   {
    "duration": 10,
    "start_time": "2024-10-13T19:24:05.264Z"
   },
   {
    "duration": 544,
    "start_time": "2024-10-13T19:24:05.275Z"
   },
   {
    "duration": 219,
    "start_time": "2024-10-13T19:24:05.821Z"
   },
   {
    "duration": 9,
    "start_time": "2024-10-13T19:24:06.042Z"
   },
   {
    "duration": 381,
    "start_time": "2024-10-13T19:24:06.053Z"
   },
   {
    "duration": 22,
    "start_time": "2024-10-13T19:24:06.436Z"
   },
   {
    "duration": 19,
    "start_time": "2024-10-13T19:24:06.460Z"
   },
   {
    "duration": 44,
    "start_time": "2024-10-13T19:24:06.480Z"
   },
   {
    "duration": 18,
    "start_time": "2024-10-13T19:24:06.528Z"
   },
   {
    "duration": 53,
    "start_time": "2024-10-13T19:24:06.548Z"
   },
   {
    "duration": 510,
    "start_time": "2024-10-13T19:24:06.602Z"
   },
   {
    "duration": 222,
    "start_time": "2024-10-13T19:24:07.114Z"
   },
   {
    "duration": 34,
    "start_time": "2024-10-13T19:24:07.338Z"
   },
   {
    "duration": 575,
    "start_time": "2024-10-13T19:24:07.374Z"
   },
   {
    "duration": 655,
    "start_time": "2024-10-13T19:24:07.951Z"
   },
   {
    "duration": 281,
    "start_time": "2024-10-13T19:24:08.608Z"
   },
   {
    "duration": 953,
    "start_time": "2024-10-13T19:24:08.891Z"
   },
   {
    "duration": 3,
    "start_time": "2024-10-13T19:24:09.846Z"
   },
   {
    "duration": 1604,
    "start_time": "2024-10-13T19:24:09.850Z"
   },
   {
    "duration": 4,
    "start_time": "2024-10-13T19:24:11.456Z"
   },
   {
    "duration": 7,
    "start_time": "2024-10-13T19:24:11.461Z"
   },
   {
    "duration": 5,
    "start_time": "2024-10-13T19:24:11.470Z"
   },
   {
    "duration": 10,
    "start_time": "2024-10-13T19:24:11.497Z"
   },
   {
    "duration": 7,
    "start_time": "2024-10-13T19:24:11.509Z"
   },
   {
    "duration": 6,
    "start_time": "2024-10-13T19:24:11.517Z"
   },
   {
    "duration": 5,
    "start_time": "2024-10-13T19:24:32.259Z"
   },
   {
    "duration": 6,
    "start_time": "2024-10-13T19:25:05.199Z"
   },
   {
    "duration": 5,
    "start_time": "2024-10-13T19:25:35.284Z"
   },
   {
    "duration": 1593,
    "start_time": "2024-10-13T19:36:01.392Z"
   },
   {
    "duration": 358,
    "start_time": "2024-10-13T19:37:54.751Z"
   },
   {
    "duration": 1583,
    "start_time": "2024-10-13T19:38:05.225Z"
   },
   {
    "duration": 1672,
    "start_time": "2024-10-13T19:43:09.535Z"
   },
   {
    "duration": 5,
    "start_time": "2024-10-13T19:43:35.408Z"
   },
   {
    "duration": 5,
    "start_time": "2024-10-13T19:43:38.008Z"
   },
   {
    "duration": 1913,
    "start_time": "2024-10-13T19:43:48.090Z"
   },
   {
    "duration": 1685,
    "start_time": "2024-10-13T19:51:04.779Z"
   },
   {
    "duration": 1718,
    "start_time": "2024-10-13T19:51:19.844Z"
   },
   {
    "duration": 1710,
    "start_time": "2024-10-13T19:51:43.319Z"
   },
   {
    "duration": 1763,
    "start_time": "2024-10-13T19:51:53.872Z"
   },
   {
    "duration": 1745,
    "start_time": "2024-10-13T19:52:03.332Z"
   },
   {
    "duration": 1651,
    "start_time": "2024-10-13T19:52:09.506Z"
   },
   {
    "duration": 1724,
    "start_time": "2024-10-13T19:52:17.276Z"
   },
   {
    "duration": 1646,
    "start_time": "2024-10-13T19:54:40.361Z"
   },
   {
    "duration": 1653,
    "start_time": "2024-10-13T19:54:49.570Z"
   },
   {
    "duration": 597,
    "start_time": "2024-10-13T20:32:01.261Z"
   },
   {
    "duration": 6,
    "start_time": "2024-10-13T20:32:22.888Z"
   },
   {
    "duration": 121,
    "start_time": "2024-10-13T20:38:07.616Z"
   },
   {
    "duration": 4,
    "start_time": "2024-10-13T20:40:35.516Z"
   },
   {
    "duration": 1150,
    "start_time": "2024-10-13T20:40:45.428Z"
   },
   {
    "duration": 78,
    "start_time": "2024-10-13T20:40:46.579Z"
   },
   {
    "duration": 14,
    "start_time": "2024-10-13T20:40:46.659Z"
   },
   {
    "duration": 20,
    "start_time": "2024-10-13T20:40:46.675Z"
   },
   {
    "duration": 11,
    "start_time": "2024-10-13T20:40:46.697Z"
   },
   {
    "duration": 10,
    "start_time": "2024-10-13T20:40:46.710Z"
   },
   {
    "duration": 5,
    "start_time": "2024-10-13T20:40:46.721Z"
   },
   {
    "duration": 5,
    "start_time": "2024-10-13T20:40:46.728Z"
   },
   {
    "duration": 3,
    "start_time": "2024-10-13T20:40:46.735Z"
   },
   {
    "duration": 9,
    "start_time": "2024-10-13T20:40:46.741Z"
   },
   {
    "duration": 19,
    "start_time": "2024-10-13T20:40:46.751Z"
   },
   {
    "duration": 193,
    "start_time": "2024-10-13T20:40:46.797Z"
   },
   {
    "duration": 16,
    "start_time": "2024-10-13T20:40:46.997Z"
   },
   {
    "duration": 161,
    "start_time": "2024-10-13T20:40:47.015Z"
   },
   {
    "duration": 144,
    "start_time": "2024-10-13T20:40:47.178Z"
   },
   {
    "duration": 9,
    "start_time": "2024-10-13T20:40:47.324Z"
   },
   {
    "duration": 9,
    "start_time": "2024-10-13T20:40:47.334Z"
   },
   {
    "duration": 222,
    "start_time": "2024-10-13T20:40:47.344Z"
   },
   {
    "duration": 9,
    "start_time": "2024-10-13T20:40:47.568Z"
   },
   {
    "duration": 527,
    "start_time": "2024-10-13T20:40:47.579Z"
   },
   {
    "duration": 215,
    "start_time": "2024-10-13T20:40:48.108Z"
   },
   {
    "duration": 10,
    "start_time": "2024-10-13T20:40:48.325Z"
   },
   {
    "duration": 390,
    "start_time": "2024-10-13T20:40:48.336Z"
   },
   {
    "duration": 22,
    "start_time": "2024-10-13T20:40:48.728Z"
   },
   {
    "duration": 11,
    "start_time": "2024-10-13T20:40:48.753Z"
   },
   {
    "duration": 36,
    "start_time": "2024-10-13T20:40:48.766Z"
   },
   {
    "duration": 9,
    "start_time": "2024-10-13T20:40:48.804Z"
   },
   {
    "duration": 35,
    "start_time": "2024-10-13T20:40:48.818Z"
   },
   {
    "duration": 559,
    "start_time": "2024-10-13T20:40:48.855Z"
   },
   {
    "duration": 220,
    "start_time": "2024-10-13T20:40:49.416Z"
   },
   {
    "duration": 35,
    "start_time": "2024-10-13T20:40:49.638Z"
   },
   {
    "duration": 526,
    "start_time": "2024-10-13T20:40:49.675Z"
   },
   {
    "duration": 603,
    "start_time": "2024-10-13T20:40:50.203Z"
   },
   {
    "duration": 290,
    "start_time": "2024-10-13T20:40:50.808Z"
   },
   {
    "duration": 867,
    "start_time": "2024-10-13T20:40:51.099Z"
   },
   {
    "duration": 3,
    "start_time": "2024-10-13T20:40:51.968Z"
   },
   {
    "duration": 1465,
    "start_time": "2024-10-13T20:40:51.973Z"
   },
   {
    "duration": 5,
    "start_time": "2024-10-13T20:40:53.439Z"
   },
   {
    "duration": 23,
    "start_time": "2024-10-13T20:40:53.445Z"
   },
   {
    "duration": 5,
    "start_time": "2024-10-13T20:40:53.470Z"
   },
   {
    "duration": 22,
    "start_time": "2024-10-13T20:40:53.476Z"
   },
   {
    "duration": 14,
    "start_time": "2024-10-13T20:40:53.500Z"
   },
   {
    "duration": 2,
    "start_time": "2024-10-13T20:40:53.516Z"
   },
   {
    "duration": 1583,
    "start_time": "2024-10-13T20:40:53.519Z"
   },
   {
    "duration": 164,
    "start_time": "2024-10-13T20:40:55.104Z"
   },
   {
    "duration": 146,
    "start_time": "2024-10-13T20:41:35.049Z"
   },
   {
    "duration": 157,
    "start_time": "2024-10-13T20:42:41.618Z"
   },
   {
    "duration": 441,
    "start_time": "2024-10-13T20:42:59.933Z"
   },
   {
    "duration": 186,
    "start_time": "2024-10-13T20:43:05.790Z"
   },
   {
    "duration": 159,
    "start_time": "2024-10-13T20:43:12.182Z"
   },
   {
    "duration": 155,
    "start_time": "2024-10-13T20:43:16.623Z"
   },
   {
    "duration": 167,
    "start_time": "2024-10-13T20:46:14.993Z"
   },
   {
    "duration": 152,
    "start_time": "2024-10-13T20:46:31.355Z"
   },
   {
    "duration": 160,
    "start_time": "2024-10-13T20:47:20.075Z"
   },
   {
    "duration": 1166,
    "start_time": "2024-10-13T21:28:04.198Z"
   },
   {
    "duration": 75,
    "start_time": "2024-10-13T21:28:05.366Z"
   },
   {
    "duration": 14,
    "start_time": "2024-10-13T21:28:05.442Z"
   },
   {
    "duration": 54,
    "start_time": "2024-10-13T21:28:05.458Z"
   },
   {
    "duration": 37,
    "start_time": "2024-10-13T21:28:05.513Z"
   },
   {
    "duration": 18,
    "start_time": "2024-10-13T21:28:05.551Z"
   },
   {
    "duration": 13,
    "start_time": "2024-10-13T21:28:05.571Z"
   },
   {
    "duration": 42,
    "start_time": "2024-10-13T21:28:05.586Z"
   },
   {
    "duration": 30,
    "start_time": "2024-10-13T21:28:05.629Z"
   },
   {
    "duration": 5,
    "start_time": "2024-10-13T21:28:05.662Z"
   },
   {
    "duration": 20,
    "start_time": "2024-10-13T21:28:05.668Z"
   },
   {
    "duration": 202,
    "start_time": "2024-10-13T21:28:05.690Z"
   },
   {
    "duration": 16,
    "start_time": "2024-10-13T21:28:05.893Z"
   },
   {
    "duration": 165,
    "start_time": "2024-10-13T21:28:05.910Z"
   },
   {
    "duration": 141,
    "start_time": "2024-10-13T21:28:06.077Z"
   },
   {
    "duration": 9,
    "start_time": "2024-10-13T21:28:06.220Z"
   },
   {
    "duration": 27,
    "start_time": "2024-10-13T21:28:06.230Z"
   },
   {
    "duration": 198,
    "start_time": "2024-10-13T21:28:06.259Z"
   },
   {
    "duration": 10,
    "start_time": "2024-10-13T21:28:06.459Z"
   },
   {
    "duration": 533,
    "start_time": "2024-10-13T21:28:06.471Z"
   },
   {
    "duration": 212,
    "start_time": "2024-10-13T21:28:07.006Z"
   },
   {
    "duration": 8,
    "start_time": "2024-10-13T21:28:07.220Z"
   },
   {
    "duration": 358,
    "start_time": "2024-10-13T21:28:07.230Z"
   },
   {
    "duration": 25,
    "start_time": "2024-10-13T21:28:07.590Z"
   },
   {
    "duration": 10,
    "start_time": "2024-10-13T21:28:07.616Z"
   },
   {
    "duration": 12,
    "start_time": "2024-10-13T21:28:07.628Z"
   },
   {
    "duration": 6,
    "start_time": "2024-10-13T21:28:07.642Z"
   },
   {
    "duration": 69,
    "start_time": "2024-10-13T21:28:07.652Z"
   },
   {
    "duration": 513,
    "start_time": "2024-10-13T21:28:07.722Z"
   },
   {
    "duration": 268,
    "start_time": "2024-10-13T21:28:08.237Z"
   },
   {
    "duration": 93,
    "start_time": "2024-10-13T21:28:08.507Z"
   },
   {
    "duration": 640,
    "start_time": "2024-10-13T21:28:08.602Z"
   },
   {
    "duration": 642,
    "start_time": "2024-10-13T21:28:09.244Z"
   },
   {
    "duration": 284,
    "start_time": "2024-10-13T21:28:09.887Z"
   },
   {
    "duration": 899,
    "start_time": "2024-10-13T21:28:10.173Z"
   },
   {
    "duration": 3,
    "start_time": "2024-10-13T21:28:11.073Z"
   },
   {
    "duration": 1533,
    "start_time": "2024-10-13T21:28:11.078Z"
   },
   {
    "duration": 5,
    "start_time": "2024-10-13T21:28:12.612Z"
   },
   {
    "duration": 90,
    "start_time": "2024-10-13T21:28:12.618Z"
   },
   {
    "duration": 55,
    "start_time": "2024-10-13T21:28:12.710Z"
   },
   {
    "duration": 80,
    "start_time": "2024-10-13T21:28:12.767Z"
   },
   {
    "duration": 34,
    "start_time": "2024-10-13T21:28:12.849Z"
   },
   {
    "duration": 33,
    "start_time": "2024-10-13T21:28:12.885Z"
   },
   {
    "duration": 1602,
    "start_time": "2024-10-13T21:28:12.919Z"
   },
   {
    "duration": 187,
    "start_time": "2024-10-13T21:28:14.523Z"
   },
   {
    "duration": 1389,
    "start_time": "2024-10-14T09:03:10.698Z"
   },
   {
    "duration": 291,
    "start_time": "2024-10-14T09:03:12.089Z"
   },
   {
    "duration": 14,
    "start_time": "2024-10-14T09:03:12.382Z"
   },
   {
    "duration": 27,
    "start_time": "2024-10-14T09:03:12.399Z"
   },
   {
    "duration": 15,
    "start_time": "2024-10-14T09:03:12.428Z"
   },
   {
    "duration": 17,
    "start_time": "2024-10-14T09:03:12.445Z"
   },
   {
    "duration": 6,
    "start_time": "2024-10-14T09:03:12.463Z"
   },
   {
    "duration": 9,
    "start_time": "2024-10-14T09:03:12.471Z"
   },
   {
    "duration": 8,
    "start_time": "2024-10-14T09:03:12.482Z"
   },
   {
    "duration": 5,
    "start_time": "2024-10-14T09:03:12.493Z"
   },
   {
    "duration": 75,
    "start_time": "2024-10-14T09:03:12.500Z"
   },
   {
    "duration": 190,
    "start_time": "2024-10-14T09:03:12.577Z"
   },
   {
    "duration": 16,
    "start_time": "2024-10-14T09:03:12.769Z"
   },
   {
    "duration": 249,
    "start_time": "2024-10-14T09:03:12.787Z"
   },
   {
    "duration": 150,
    "start_time": "2024-10-14T09:03:13.038Z"
   },
   {
    "duration": 9,
    "start_time": "2024-10-14T09:03:13.190Z"
   },
   {
    "duration": 7,
    "start_time": "2024-10-14T09:03:13.201Z"
   },
   {
    "duration": 213,
    "start_time": "2024-10-14T09:03:13.210Z"
   },
   {
    "duration": 9,
    "start_time": "2024-10-14T09:03:13.425Z"
   },
   {
    "duration": 572,
    "start_time": "2024-10-14T09:03:13.435Z"
   },
   {
    "duration": 221,
    "start_time": "2024-10-14T09:03:14.008Z"
   },
   {
    "duration": 25,
    "start_time": "2024-10-14T09:03:14.231Z"
   },
   {
    "duration": 365,
    "start_time": "2024-10-14T09:03:14.257Z"
   },
   {
    "duration": 36,
    "start_time": "2024-10-14T09:03:14.624Z"
   },
   {
    "duration": 12,
    "start_time": "2024-10-14T09:03:14.662Z"
   },
   {
    "duration": 67,
    "start_time": "2024-10-14T09:03:14.676Z"
   },
   {
    "duration": 21,
    "start_time": "2024-10-14T09:03:14.745Z"
   },
   {
    "duration": 169,
    "start_time": "2024-10-14T09:03:14.771Z"
   },
   {
    "duration": 552,
    "start_time": "2024-10-14T09:03:14.942Z"
   },
   {
    "duration": 223,
    "start_time": "2024-10-14T09:03:15.496Z"
   },
   {
    "duration": 49,
    "start_time": "2024-10-14T09:03:15.721Z"
   },
   {
    "duration": 560,
    "start_time": "2024-10-14T09:03:15.772Z"
   },
   {
    "duration": 674,
    "start_time": "2024-10-14T09:03:16.334Z"
   },
   {
    "duration": 298,
    "start_time": "2024-10-14T09:03:17.010Z"
   },
   {
    "duration": 1008,
    "start_time": "2024-10-14T09:03:17.310Z"
   },
   {
    "duration": 3,
    "start_time": "2024-10-14T09:03:18.319Z"
   },
   {
    "duration": 1539,
    "start_time": "2024-10-14T09:03:18.324Z"
   },
   {
    "duration": 5,
    "start_time": "2024-10-14T09:03:19.865Z"
   },
   {
    "duration": 8,
    "start_time": "2024-10-14T09:03:19.872Z"
   },
   {
    "duration": 9,
    "start_time": "2024-10-14T09:03:19.882Z"
   },
   {
    "duration": 19,
    "start_time": "2024-10-14T09:03:19.893Z"
   },
   {
    "duration": 20,
    "start_time": "2024-10-14T09:03:19.914Z"
   },
   {
    "duration": 21,
    "start_time": "2024-10-14T09:03:19.936Z"
   },
   {
    "duration": 1678,
    "start_time": "2024-10-14T09:03:19.959Z"
   },
   {
    "duration": 173,
    "start_time": "2024-10-14T09:03:21.639Z"
   },
   {
    "duration": 19,
    "start_time": "2024-10-14T09:05:32.421Z"
   },
   {
    "duration": 15,
    "start_time": "2024-10-14T09:06:11.760Z"
   },
   {
    "duration": 49,
    "start_time": "2024-10-14T12:59:44.613Z"
   },
   {
    "duration": 7,
    "start_time": "2024-10-14T13:14:23.339Z"
   },
   {
    "duration": 1324,
    "start_time": "2024-10-14T13:15:09.936Z"
   },
   {
    "duration": 298,
    "start_time": "2024-10-14T13:15:11.262Z"
   },
   {
    "duration": 12,
    "start_time": "2024-10-14T13:15:11.561Z"
   },
   {
    "duration": 41,
    "start_time": "2024-10-14T13:15:11.574Z"
   },
   {
    "duration": 9,
    "start_time": "2024-10-14T13:15:11.617Z"
   },
   {
    "duration": 7,
    "start_time": "2024-10-14T13:15:11.627Z"
   },
   {
    "duration": 14,
    "start_time": "2024-10-14T13:15:11.635Z"
   },
   {
    "duration": 4,
    "start_time": "2024-10-14T13:15:11.651Z"
   },
   {
    "duration": 4,
    "start_time": "2024-10-14T13:15:11.657Z"
   },
   {
    "duration": 16,
    "start_time": "2024-10-14T13:15:11.662Z"
   },
   {
    "duration": 5,
    "start_time": "2024-10-14T13:15:11.679Z"
   },
   {
    "duration": 15,
    "start_time": "2024-10-14T13:15:11.685Z"
   },
   {
    "duration": 182,
    "start_time": "2024-10-14T13:15:11.702Z"
   },
   {
    "duration": 14,
    "start_time": "2024-10-14T13:15:11.887Z"
   },
   {
    "duration": 149,
    "start_time": "2024-10-14T13:15:11.902Z"
   },
   {
    "duration": 136,
    "start_time": "2024-10-14T13:15:12.052Z"
   },
   {
    "duration": 8,
    "start_time": "2024-10-14T13:15:12.189Z"
   },
   {
    "duration": 7,
    "start_time": "2024-10-14T13:15:12.198Z"
   },
   {
    "duration": 200,
    "start_time": "2024-10-14T13:15:12.206Z"
   },
   {
    "duration": 9,
    "start_time": "2024-10-14T13:15:12.407Z"
   },
   {
    "duration": 497,
    "start_time": "2024-10-14T13:15:12.417Z"
   },
   {
    "duration": 209,
    "start_time": "2024-10-14T13:15:12.916Z"
   },
   {
    "duration": 8,
    "start_time": "2024-10-14T13:15:13.126Z"
   },
   {
    "duration": 335,
    "start_time": "2024-10-14T13:15:13.136Z"
   },
   {
    "duration": 20,
    "start_time": "2024-10-14T13:15:13.476Z"
   },
   {
    "duration": 9,
    "start_time": "2024-10-14T13:15:13.498Z"
   },
   {
    "duration": 20,
    "start_time": "2024-10-14T13:15:13.508Z"
   },
   {
    "duration": 6,
    "start_time": "2024-10-14T13:15:13.529Z"
   },
   {
    "duration": 45,
    "start_time": "2024-10-14T13:15:13.537Z"
   },
   {
    "duration": 493,
    "start_time": "2024-10-14T13:15:13.583Z"
   },
   {
    "duration": 217,
    "start_time": "2024-10-14T13:15:14.077Z"
   },
   {
    "duration": 32,
    "start_time": "2024-10-14T13:15:14.296Z"
   },
   {
    "duration": 514,
    "start_time": "2024-10-14T13:15:14.330Z"
   },
   {
    "duration": 607,
    "start_time": "2024-10-14T13:15:14.846Z"
   },
   {
    "duration": 276,
    "start_time": "2024-10-14T13:15:15.455Z"
   },
   {
    "duration": 875,
    "start_time": "2024-10-14T13:15:15.732Z"
   },
   {
    "duration": 3,
    "start_time": "2024-10-14T13:15:16.608Z"
   },
   {
    "duration": 1438,
    "start_time": "2024-10-14T13:15:16.612Z"
   },
   {
    "duration": 4,
    "start_time": "2024-10-14T13:15:18.052Z"
   },
   {
    "duration": 19,
    "start_time": "2024-10-14T13:15:18.057Z"
   },
   {
    "duration": 7,
    "start_time": "2024-10-14T13:15:18.079Z"
   },
   {
    "duration": 10,
    "start_time": "2024-10-14T13:15:18.087Z"
   },
   {
    "duration": 21,
    "start_time": "2024-10-14T13:15:18.098Z"
   },
   {
    "duration": 9,
    "start_time": "2024-10-14T13:15:18.121Z"
   },
   {
    "duration": 1517,
    "start_time": "2024-10-14T13:15:18.132Z"
   },
   {
    "duration": 159,
    "start_time": "2024-10-14T13:15:19.650Z"
   },
   {
    "duration": 179,
    "start_time": "2024-10-14T13:24:37.966Z"
   },
   {
    "duration": 170,
    "start_time": "2024-10-14T13:26:03.802Z"
   },
   {
    "duration": 336,
    "start_time": "2024-10-14T13:27:46.141Z"
   },
   {
    "duration": 138,
    "start_time": "2024-10-14T13:28:42.477Z"
   },
   {
    "duration": 280,
    "start_time": "2024-10-14T13:30:07.649Z"
   },
   {
    "duration": 183,
    "start_time": "2024-10-14T13:30:34.214Z"
   },
   {
    "duration": 171,
    "start_time": "2024-10-14T13:33:43.311Z"
   },
   {
    "duration": 170,
    "start_time": "2024-10-14T13:33:55.521Z"
   },
   {
    "duration": 185,
    "start_time": "2024-10-14T13:34:37.752Z"
   },
   {
    "duration": 191,
    "start_time": "2024-10-14T13:36:32.721Z"
   },
   {
    "duration": 182,
    "start_time": "2024-10-14T13:36:39.896Z"
   },
   {
    "duration": 188,
    "start_time": "2024-10-14T13:36:56.378Z"
   },
   {
    "duration": 195,
    "start_time": "2024-10-14T13:38:48.579Z"
   },
   {
    "duration": 192,
    "start_time": "2024-10-14T13:41:25.974Z"
   },
   {
    "duration": 194,
    "start_time": "2024-10-14T13:41:31.971Z"
   },
   {
    "duration": 180,
    "start_time": "2024-10-14T13:41:43.285Z"
   },
   {
    "duration": 324,
    "start_time": "2024-10-14T13:43:12.241Z"
   },
   {
    "duration": 189,
    "start_time": "2024-10-14T13:44:59.490Z"
   },
   {
    "duration": 508,
    "start_time": "2024-10-14T13:46:07.702Z"
   },
   {
    "duration": 1142,
    "start_time": "2024-10-14T13:47:08.005Z"
   },
   {
    "duration": 65,
    "start_time": "2024-10-14T13:47:09.149Z"
   },
   {
    "duration": 12,
    "start_time": "2024-10-14T13:47:09.216Z"
   },
   {
    "duration": 16,
    "start_time": "2024-10-14T13:47:09.230Z"
   },
   {
    "duration": 10,
    "start_time": "2024-10-14T13:47:09.248Z"
   },
   {
    "duration": 7,
    "start_time": "2024-10-14T13:47:09.260Z"
   },
   {
    "duration": 7,
    "start_time": "2024-10-14T13:47:09.269Z"
   },
   {
    "duration": 14,
    "start_time": "2024-10-14T13:47:09.277Z"
   },
   {
    "duration": 14,
    "start_time": "2024-10-14T13:47:09.293Z"
   },
   {
    "duration": 4,
    "start_time": "2024-10-14T13:47:09.309Z"
   },
   {
    "duration": 5,
    "start_time": "2024-10-14T13:47:09.314Z"
   },
   {
    "duration": 19,
    "start_time": "2024-10-14T13:47:09.321Z"
   },
   {
    "duration": 239,
    "start_time": "2024-10-14T13:47:09.341Z"
   },
   {
    "duration": 15,
    "start_time": "2024-10-14T13:47:09.581Z"
   },
   {
    "duration": 167,
    "start_time": "2024-10-14T13:47:09.597Z"
   },
   {
    "duration": 146,
    "start_time": "2024-10-14T13:47:09.765Z"
   },
   {
    "duration": 8,
    "start_time": "2024-10-14T13:47:09.913Z"
   },
   {
    "duration": 6,
    "start_time": "2024-10-14T13:47:09.923Z"
   },
   {
    "duration": 259,
    "start_time": "2024-10-14T13:47:09.931Z"
   },
   {
    "duration": 9,
    "start_time": "2024-10-14T13:47:10.193Z"
   },
   {
    "duration": 646,
    "start_time": "2024-10-14T13:47:10.203Z"
   },
   {
    "duration": 0,
    "start_time": "2024-10-14T13:47:10.851Z"
   },
   {
    "duration": 0,
    "start_time": "2024-10-14T13:47:10.852Z"
   },
   {
    "duration": 0,
    "start_time": "2024-10-14T13:47:10.853Z"
   },
   {
    "duration": 0,
    "start_time": "2024-10-14T13:47:10.854Z"
   },
   {
    "duration": 0,
    "start_time": "2024-10-14T13:47:10.855Z"
   },
   {
    "duration": 0,
    "start_time": "2024-10-14T13:47:10.856Z"
   },
   {
    "duration": 0,
    "start_time": "2024-10-14T13:47:10.856Z"
   },
   {
    "duration": 0,
    "start_time": "2024-10-14T13:47:10.857Z"
   },
   {
    "duration": 0,
    "start_time": "2024-10-14T13:47:10.858Z"
   },
   {
    "duration": 0,
    "start_time": "2024-10-14T13:47:10.859Z"
   },
   {
    "duration": 0,
    "start_time": "2024-10-14T13:47:10.875Z"
   },
   {
    "duration": 0,
    "start_time": "2024-10-14T13:47:10.876Z"
   },
   {
    "duration": 0,
    "start_time": "2024-10-14T13:47:10.878Z"
   },
   {
    "duration": 0,
    "start_time": "2024-10-14T13:47:10.879Z"
   },
   {
    "duration": 0,
    "start_time": "2024-10-14T13:47:10.880Z"
   },
   {
    "duration": 0,
    "start_time": "2024-10-14T13:47:10.881Z"
   },
   {
    "duration": 0,
    "start_time": "2024-10-14T13:47:10.882Z"
   },
   {
    "duration": 0,
    "start_time": "2024-10-14T13:47:10.883Z"
   },
   {
    "duration": 0,
    "start_time": "2024-10-14T13:47:10.884Z"
   },
   {
    "duration": 0,
    "start_time": "2024-10-14T13:47:10.885Z"
   },
   {
    "duration": 0,
    "start_time": "2024-10-14T13:47:10.886Z"
   },
   {
    "duration": 0,
    "start_time": "2024-10-14T13:47:10.887Z"
   },
   {
    "duration": 0,
    "start_time": "2024-10-14T13:47:10.888Z"
   },
   {
    "duration": 0,
    "start_time": "2024-10-14T13:47:10.888Z"
   },
   {
    "duration": 0,
    "start_time": "2024-10-14T13:47:10.889Z"
   },
   {
    "duration": 573,
    "start_time": "2024-10-14T13:47:29.103Z"
   },
   {
    "duration": 477,
    "start_time": "2024-10-14T13:47:37.286Z"
   },
   {
    "duration": 9,
    "start_time": "2024-10-14T13:48:27.223Z"
   },
   {
    "duration": 487,
    "start_time": "2024-10-14T13:48:37.511Z"
   },
   {
    "duration": 661,
    "start_time": "2024-10-14T13:49:13.918Z"
   },
   {
    "duration": 507,
    "start_time": "2024-10-14T13:50:17.330Z"
   },
   {
    "duration": 1166,
    "start_time": "2024-10-14T13:50:51.479Z"
   },
   {
    "duration": 76,
    "start_time": "2024-10-14T13:50:52.646Z"
   },
   {
    "duration": 12,
    "start_time": "2024-10-14T13:50:52.723Z"
   },
   {
    "duration": 16,
    "start_time": "2024-10-14T13:50:52.736Z"
   },
   {
    "duration": 10,
    "start_time": "2024-10-14T13:50:52.754Z"
   },
   {
    "duration": 9,
    "start_time": "2024-10-14T13:50:52.765Z"
   },
   {
    "duration": 17,
    "start_time": "2024-10-14T13:50:52.776Z"
   },
   {
    "duration": 22,
    "start_time": "2024-10-14T13:50:52.796Z"
   },
   {
    "duration": 13,
    "start_time": "2024-10-14T13:50:52.820Z"
   },
   {
    "duration": 5,
    "start_time": "2024-10-14T13:50:52.834Z"
   },
   {
    "duration": 6,
    "start_time": "2024-10-14T13:50:52.840Z"
   },
   {
    "duration": 33,
    "start_time": "2024-10-14T13:50:52.848Z"
   },
   {
    "duration": 222,
    "start_time": "2024-10-14T13:50:52.883Z"
   },
   {
    "duration": 14,
    "start_time": "2024-10-14T13:50:53.108Z"
   },
   {
    "duration": 183,
    "start_time": "2024-10-14T13:50:53.123Z"
   },
   {
    "duration": 156,
    "start_time": "2024-10-14T13:50:53.307Z"
   },
   {
    "duration": 25,
    "start_time": "2024-10-14T13:50:53.464Z"
   },
   {
    "duration": 7,
    "start_time": "2024-10-14T13:50:53.492Z"
   },
   {
    "duration": 216,
    "start_time": "2024-10-14T13:50:53.500Z"
   },
   {
    "duration": 9,
    "start_time": "2024-10-14T13:50:53.717Z"
   },
   {
    "duration": 557,
    "start_time": "2024-10-14T13:50:53.727Z"
   },
   {
    "duration": 312,
    "start_time": "2024-10-14T13:50:54.286Z"
   },
   {
    "duration": 8,
    "start_time": "2024-10-14T13:50:54.600Z"
   },
   {
    "duration": 278,
    "start_time": "2024-10-14T13:50:54.609Z"
   },
   {
    "duration": 20,
    "start_time": "2024-10-14T13:50:54.890Z"
   },
   {
    "duration": 10,
    "start_time": "2024-10-14T13:50:54.912Z"
   },
   {
    "duration": 9,
    "start_time": "2024-10-14T13:50:54.924Z"
   },
   {
    "duration": 38,
    "start_time": "2024-10-14T13:50:54.934Z"
   },
   {
    "duration": 39,
    "start_time": "2024-10-14T13:50:54.974Z"
   },
   {
    "duration": 540,
    "start_time": "2024-10-14T13:50:55.015Z"
   },
   {
    "duration": 213,
    "start_time": "2024-10-14T13:50:55.556Z"
   },
   {
    "duration": 42,
    "start_time": "2024-10-14T13:50:55.770Z"
   },
   {
    "duration": 662,
    "start_time": "2024-10-14T13:50:55.814Z"
   },
   {
    "duration": 541,
    "start_time": "2024-10-14T13:50:56.478Z"
   },
   {
    "duration": 286,
    "start_time": "2024-10-14T13:50:57.021Z"
   },
   {
    "duration": 995,
    "start_time": "2024-10-14T13:50:57.308Z"
   },
   {
    "duration": 2,
    "start_time": "2024-10-14T13:50:58.305Z"
   },
   {
    "duration": 1509,
    "start_time": "2024-10-14T13:50:58.309Z"
   },
   {
    "duration": 4,
    "start_time": "2024-10-14T13:50:59.820Z"
   },
   {
    "duration": 19,
    "start_time": "2024-10-14T13:50:59.826Z"
   },
   {
    "duration": 4,
    "start_time": "2024-10-14T13:50:59.849Z"
   },
   {
    "duration": 27,
    "start_time": "2024-10-14T13:50:59.855Z"
   },
   {
    "duration": 7,
    "start_time": "2024-10-14T13:50:59.883Z"
   },
   {
    "duration": 3,
    "start_time": "2024-10-14T13:50:59.891Z"
   },
   {
    "duration": 1590,
    "start_time": "2024-10-14T13:50:59.896Z"
   },
   {
    "duration": 166,
    "start_time": "2024-10-14T13:51:01.488Z"
   },
   {
    "duration": 17,
    "start_time": "2024-10-14T13:52:55.484Z"
   },
   {
    "duration": 18,
    "start_time": "2024-10-14T13:53:08.822Z"
   },
   {
    "duration": 215,
    "start_time": "2024-10-14T13:54:29.963Z"
   },
   {
    "duration": 460,
    "start_time": "2024-10-14T13:56:08.208Z"
   },
   {
    "duration": 475,
    "start_time": "2024-10-14T13:58:23.534Z"
   },
   {
    "duration": 505,
    "start_time": "2024-10-14T13:59:01.660Z"
   },
   {
    "duration": 640,
    "start_time": "2024-10-14T13:59:21.379Z"
   },
   {
    "duration": 503,
    "start_time": "2024-10-14T14:00:17.500Z"
   },
   {
    "duration": 539,
    "start_time": "2024-10-14T14:00:57.954Z"
   },
   {
    "duration": 689,
    "start_time": "2024-10-14T14:01:28.774Z"
   },
   {
    "duration": 501,
    "start_time": "2024-10-14T14:01:51.914Z"
   },
   {
    "duration": 99,
    "start_time": "2024-10-14T14:07:16.770Z"
   },
   {
    "duration": 9,
    "start_time": "2024-10-14T14:07:36.627Z"
   },
   {
    "duration": 4,
    "start_time": "2024-10-14T14:07:49.261Z"
   },
   {
    "duration": 4,
    "start_time": "2024-10-14T14:08:09.761Z"
   },
   {
    "duration": 4,
    "start_time": "2024-10-14T14:08:20.915Z"
   },
   {
    "duration": 4,
    "start_time": "2024-10-14T14:08:28.338Z"
   },
   {
    "duration": 4,
    "start_time": "2024-10-14T14:08:58.728Z"
   },
   {
    "duration": 4,
    "start_time": "2024-10-14T14:09:01.695Z"
   },
   {
    "duration": 4,
    "start_time": "2024-10-14T14:11:35.917Z"
   },
   {
    "duration": 10,
    "start_time": "2024-10-14T14:15:30.696Z"
   },
   {
    "duration": 55,
    "start_time": "2024-10-14T14:23:38.334Z"
   },
   {
    "duration": 52,
    "start_time": "2024-10-14T14:23:51.280Z"
   },
   {
    "duration": 1080,
    "start_time": "2024-10-14T14:24:28.497Z"
   },
   {
    "duration": 69,
    "start_time": "2024-10-14T14:24:29.579Z"
   },
   {
    "duration": 11,
    "start_time": "2024-10-14T14:24:29.649Z"
   },
   {
    "duration": 11,
    "start_time": "2024-10-14T14:24:29.662Z"
   },
   {
    "duration": 21,
    "start_time": "2024-10-14T14:24:29.674Z"
   },
   {
    "duration": 16,
    "start_time": "2024-10-14T14:24:29.697Z"
   },
   {
    "duration": 5,
    "start_time": "2024-10-14T14:24:29.715Z"
   },
   {
    "duration": 17,
    "start_time": "2024-10-14T14:24:29.721Z"
   },
   {
    "duration": 41,
    "start_time": "2024-10-14T14:24:29.739Z"
   },
   {
    "duration": 4,
    "start_time": "2024-10-14T14:24:29.782Z"
   },
   {
    "duration": 5,
    "start_time": "2024-10-14T14:24:29.787Z"
   },
   {
    "duration": 24,
    "start_time": "2024-10-14T14:24:29.793Z"
   },
   {
    "duration": 205,
    "start_time": "2024-10-14T14:24:29.818Z"
   },
   {
    "duration": 16,
    "start_time": "2024-10-14T14:24:30.026Z"
   },
   {
    "duration": 182,
    "start_time": "2024-10-14T14:24:30.044Z"
   },
   {
    "duration": 149,
    "start_time": "2024-10-14T14:24:30.228Z"
   },
   {
    "duration": 8,
    "start_time": "2024-10-14T14:24:30.379Z"
   },
   {
    "duration": 37,
    "start_time": "2024-10-14T14:24:30.389Z"
   },
   {
    "duration": 213,
    "start_time": "2024-10-14T14:24:30.428Z"
   },
   {
    "duration": 10,
    "start_time": "2024-10-14T14:24:30.643Z"
   },
   {
    "duration": 512,
    "start_time": "2024-10-14T14:24:30.654Z"
   },
   {
    "duration": 213,
    "start_time": "2024-10-14T14:24:31.168Z"
   },
   {
    "duration": 9,
    "start_time": "2024-10-14T14:24:31.383Z"
   },
   {
    "duration": 344,
    "start_time": "2024-10-14T14:24:31.394Z"
   },
   {
    "duration": 3,
    "start_time": "2024-10-14T14:24:31.740Z"
   },
   {
    "duration": 38,
    "start_time": "2024-10-14T14:24:31.744Z"
   },
   {
    "duration": 29,
    "start_time": "2024-10-14T14:24:31.784Z"
   },
   {
    "duration": 21,
    "start_time": "2024-10-14T14:24:31.815Z"
   },
   {
    "duration": 19,
    "start_time": "2024-10-14T14:24:31.838Z"
   },
   {
    "duration": 4,
    "start_time": "2024-10-14T14:24:31.858Z"
   },
   {
    "duration": 19,
    "start_time": "2024-10-14T14:24:31.863Z"
   },
   {
    "duration": 15,
    "start_time": "2024-10-14T14:24:31.884Z"
   },
   {
    "duration": 35,
    "start_time": "2024-10-14T14:24:31.900Z"
   },
   {
    "duration": 506,
    "start_time": "2024-10-14T14:24:31.937Z"
   },
   {
    "duration": 535,
    "start_time": "2024-10-14T14:24:32.444Z"
   },
   {
    "duration": 32,
    "start_time": "2024-10-14T14:24:32.980Z"
   },
   {
    "duration": 607,
    "start_time": "2024-10-14T14:24:33.014Z"
   },
   {
    "duration": 505,
    "start_time": "2024-10-14T14:24:33.623Z"
   },
   {
    "duration": 521,
    "start_time": "2024-10-14T14:24:34.131Z"
   },
   {
    "duration": 9,
    "start_time": "2024-10-14T14:24:34.654Z"
   },
   {
    "duration": 981,
    "start_time": "2024-10-14T14:24:34.675Z"
   },
   {
    "duration": 2,
    "start_time": "2024-10-14T14:24:35.658Z"
   },
   {
    "duration": 1449,
    "start_time": "2024-10-14T14:24:35.662Z"
   },
   {
    "duration": 4,
    "start_time": "2024-10-14T14:24:37.112Z"
   },
   {
    "duration": 14,
    "start_time": "2024-10-14T14:24:37.118Z"
   },
   {
    "duration": 5,
    "start_time": "2024-10-14T14:24:37.133Z"
   },
   {
    "duration": 12,
    "start_time": "2024-10-14T14:24:37.139Z"
   },
   {
    "duration": 27,
    "start_time": "2024-10-14T14:24:37.152Z"
   },
   {
    "duration": 4,
    "start_time": "2024-10-14T14:24:37.180Z"
   },
   {
    "duration": 1551,
    "start_time": "2024-10-14T14:24:37.185Z"
   },
   {
    "duration": 150,
    "start_time": "2024-10-14T14:24:38.738Z"
   },
   {
    "duration": 50,
    "start_time": "2024-10-14T16:51:23.277Z"
   },
   {
    "duration": 1620,
    "start_time": "2024-10-14T16:51:31.116Z"
   },
   {
    "duration": 300,
    "start_time": "2024-10-14T16:51:32.738Z"
   },
   {
    "duration": 19,
    "start_time": "2024-10-14T16:51:33.041Z"
   },
   {
    "duration": 65,
    "start_time": "2024-10-14T16:51:33.062Z"
   },
   {
    "duration": 32,
    "start_time": "2024-10-14T16:51:33.129Z"
   },
   {
    "duration": 15,
    "start_time": "2024-10-14T16:51:33.163Z"
   },
   {
    "duration": 40,
    "start_time": "2024-10-14T16:51:33.180Z"
   },
   {
    "duration": 27,
    "start_time": "2024-10-14T16:51:33.221Z"
   },
   {
    "duration": 23,
    "start_time": "2024-10-14T16:51:33.250Z"
   },
   {
    "duration": 18,
    "start_time": "2024-10-14T16:51:33.275Z"
   },
   {
    "duration": 20,
    "start_time": "2024-10-14T16:51:33.295Z"
   },
   {
    "duration": 15,
    "start_time": "2024-10-14T16:51:33.318Z"
   },
   {
    "duration": 32,
    "start_time": "2024-10-14T16:51:33.335Z"
   },
   {
    "duration": 225,
    "start_time": "2024-10-14T16:51:33.372Z"
   },
   {
    "duration": 17,
    "start_time": "2024-10-14T16:51:33.599Z"
   },
   {
    "duration": 210,
    "start_time": "2024-10-14T16:51:33.618Z"
   },
   {
    "duration": 161,
    "start_time": "2024-10-14T16:51:33.829Z"
   },
   {
    "duration": 9,
    "start_time": "2024-10-14T16:51:33.991Z"
   },
   {
    "duration": 15,
    "start_time": "2024-10-14T16:51:34.002Z"
   },
   {
    "duration": 216,
    "start_time": "2024-10-14T16:51:34.019Z"
   },
   {
    "duration": 21,
    "start_time": "2024-10-14T16:51:34.236Z"
   },
   {
    "duration": 545,
    "start_time": "2024-10-14T16:51:34.258Z"
   },
   {
    "duration": 248,
    "start_time": "2024-10-14T16:51:34.805Z"
   },
   {
    "duration": 9,
    "start_time": "2024-10-14T16:51:35.055Z"
   },
   {
    "duration": 401,
    "start_time": "2024-10-14T16:51:35.066Z"
   },
   {
    "duration": 4,
    "start_time": "2024-10-14T16:51:35.469Z"
   },
   {
    "duration": 10,
    "start_time": "2024-10-14T16:51:35.474Z"
   },
   {
    "duration": 26,
    "start_time": "2024-10-14T16:51:35.486Z"
   },
   {
    "duration": 50,
    "start_time": "2024-10-14T16:51:35.514Z"
   },
   {
    "duration": 41,
    "start_time": "2024-10-14T16:51:35.566Z"
   },
   {
    "duration": 38,
    "start_time": "2024-10-14T16:51:35.609Z"
   },
   {
    "duration": 46,
    "start_time": "2024-10-14T16:51:35.648Z"
   },
   {
    "duration": 17,
    "start_time": "2024-10-14T16:51:35.696Z"
   },
   {
    "duration": 37,
    "start_time": "2024-10-14T16:51:35.714Z"
   },
   {
    "duration": 527,
    "start_time": "2024-10-14T16:51:35.752Z"
   },
   {
    "duration": 562,
    "start_time": "2024-10-14T16:51:36.281Z"
   },
   {
    "duration": 52,
    "start_time": "2024-10-14T16:51:36.844Z"
   },
   {
    "duration": 687,
    "start_time": "2024-10-14T16:51:36.898Z"
   },
   {
    "duration": 650,
    "start_time": "2024-10-14T16:51:37.588Z"
   },
   {
    "duration": 571,
    "start_time": "2024-10-14T16:51:38.241Z"
   },
   {
    "duration": 9,
    "start_time": "2024-10-14T16:51:38.817Z"
   },
   {
    "duration": 1123,
    "start_time": "2024-10-14T16:51:38.828Z"
   },
   {
    "duration": 3,
    "start_time": "2024-10-14T16:51:39.956Z"
   },
   {
    "duration": 1643,
    "start_time": "2024-10-14T16:51:39.960Z"
   },
   {
    "duration": 5,
    "start_time": "2024-10-14T16:51:41.605Z"
   },
   {
    "duration": 35,
    "start_time": "2024-10-14T16:51:41.611Z"
   },
   {
    "duration": 14,
    "start_time": "2024-10-14T16:51:41.648Z"
   },
   {
    "duration": 14,
    "start_time": "2024-10-14T16:51:41.664Z"
   },
   {
    "duration": 8,
    "start_time": "2024-10-14T16:51:41.680Z"
   },
   {
    "duration": 11,
    "start_time": "2024-10-14T16:51:41.690Z"
   },
   {
    "duration": 1684,
    "start_time": "2024-10-14T16:51:41.703Z"
   },
   {
    "duration": 173,
    "start_time": "2024-10-14T16:51:43.388Z"
   },
   {
    "duration": 1094,
    "start_time": "2024-10-14T16:51:57.959Z"
   },
   {
    "duration": 8,
    "start_time": "2024-10-14T16:52:21.436Z"
   },
   {
    "duration": 46,
    "start_time": "2024-10-18T22:59:31.646Z"
   },
   {
    "duration": 6,
    "start_time": "2024-10-18T22:59:36.437Z"
   },
   {
    "duration": 1137,
    "start_time": "2024-10-18T22:59:46.494Z"
   },
   {
    "duration": 313,
    "start_time": "2024-10-18T22:59:47.633Z"
   },
   {
    "duration": 13,
    "start_time": "2024-10-18T22:59:47.948Z"
   },
   {
    "duration": 11,
    "start_time": "2024-10-18T22:59:47.962Z"
   },
   {
    "duration": 9,
    "start_time": "2024-10-18T22:59:47.975Z"
   },
   {
    "duration": 8,
    "start_time": "2024-10-18T22:59:47.985Z"
   },
   {
    "duration": 5,
    "start_time": "2024-10-18T22:59:47.994Z"
   },
   {
    "duration": 14,
    "start_time": "2024-10-18T22:59:48.000Z"
   },
   {
    "duration": 12,
    "start_time": "2024-10-18T22:59:48.016Z"
   },
   {
    "duration": 8,
    "start_time": "2024-10-18T22:59:48.031Z"
   },
   {
    "duration": 5,
    "start_time": "2024-10-18T22:59:48.041Z"
   },
   {
    "duration": 29,
    "start_time": "2024-10-18T22:59:48.047Z"
   },
   {
    "duration": 15,
    "start_time": "2024-10-18T22:59:48.078Z"
   },
   {
    "duration": 203,
    "start_time": "2024-10-18T22:59:48.095Z"
   },
   {
    "duration": 14,
    "start_time": "2024-10-18T22:59:48.299Z"
   },
   {
    "duration": 166,
    "start_time": "2024-10-18T22:59:48.315Z"
   },
   {
    "duration": 143,
    "start_time": "2024-10-18T22:59:48.482Z"
   },
   {
    "duration": 7,
    "start_time": "2024-10-18T22:59:48.627Z"
   },
   {
    "duration": 11,
    "start_time": "2024-10-18T22:59:48.635Z"
   },
   {
    "duration": 199,
    "start_time": "2024-10-18T22:59:48.647Z"
   },
   {
    "duration": 8,
    "start_time": "2024-10-18T22:59:48.847Z"
   },
   {
    "duration": 507,
    "start_time": "2024-10-18T22:59:48.856Z"
   },
   {
    "duration": 209,
    "start_time": "2024-10-18T22:59:49.364Z"
   },
   {
    "duration": 7,
    "start_time": "2024-10-18T22:59:49.575Z"
   },
   {
    "duration": 341,
    "start_time": "2024-10-18T22:59:49.584Z"
   },
   {
    "duration": 4,
    "start_time": "2024-10-18T22:59:49.926Z"
   },
   {
    "duration": 4,
    "start_time": "2024-10-18T22:59:49.931Z"
   },
   {
    "duration": 4,
    "start_time": "2024-10-18T22:59:49.938Z"
   },
   {
    "duration": 38,
    "start_time": "2024-10-18T22:59:49.943Z"
   },
   {
    "duration": 18,
    "start_time": "2024-10-18T22:59:49.982Z"
   },
   {
    "duration": 4,
    "start_time": "2024-10-18T22:59:50.001Z"
   },
   {
    "duration": 29,
    "start_time": "2024-10-18T22:59:50.006Z"
   },
   {
    "duration": 14,
    "start_time": "2024-10-18T22:59:50.037Z"
   },
   {
    "duration": 45,
    "start_time": "2024-10-18T22:59:50.052Z"
   },
   {
    "duration": 522,
    "start_time": "2024-10-18T22:59:50.098Z"
   },
   {
    "duration": 517,
    "start_time": "2024-10-18T22:59:50.624Z"
   },
   {
    "duration": 39,
    "start_time": "2024-10-18T22:59:51.142Z"
   },
   {
    "duration": 608,
    "start_time": "2024-10-18T22:59:51.182Z"
   },
   {
    "duration": 504,
    "start_time": "2024-10-18T22:59:51.792Z"
   },
   {
    "duration": 507,
    "start_time": "2024-10-18T22:59:52.298Z"
   },
   {
    "duration": 10,
    "start_time": "2024-10-18T22:59:52.807Z"
   },
   {
    "duration": 1008,
    "start_time": "2024-10-18T22:59:52.818Z"
   },
   {
    "duration": 2,
    "start_time": "2024-10-18T22:59:53.828Z"
   },
   {
    "duration": 1487,
    "start_time": "2024-10-18T22:59:53.832Z"
   },
   {
    "duration": 4,
    "start_time": "2024-10-18T22:59:55.321Z"
   },
   {
    "duration": 16,
    "start_time": "2024-10-18T22:59:55.327Z"
   },
   {
    "duration": 6,
    "start_time": "2024-10-18T22:59:55.344Z"
   },
   {
    "duration": 27,
    "start_time": "2024-10-18T22:59:55.352Z"
   },
   {
    "duration": 6,
    "start_time": "2024-10-18T22:59:55.380Z"
   },
   {
    "duration": 10,
    "start_time": "2024-10-18T22:59:55.387Z"
   },
   {
    "duration": 5,
    "start_time": "2024-10-18T22:59:55.398Z"
   },
   {
    "duration": 1582,
    "start_time": "2024-10-18T22:59:55.405Z"
   },
   {
    "duration": 158,
    "start_time": "2024-10-18T22:59:56.989Z"
   },
   {
    "duration": 6,
    "start_time": "2024-10-18T23:03:17.099Z"
   },
   {
    "duration": 6,
    "start_time": "2024-10-18T23:03:24.765Z"
   }
  ],
  "kernelspec": {
   "display_name": "Python 3 (ipykernel)",
   "language": "python",
   "name": "python3"
  },
  "language_info": {
   "codemirror_mode": {
    "name": "ipython",
    "version": 3
   },
   "file_extension": ".py",
   "mimetype": "text/x-python",
   "name": "python",
   "nbconvert_exporter": "python",
   "pygments_lexer": "ipython3",
   "version": "3.9.21"
  },
  "toc": {
   "base_numbering": 1,
   "nav_menu": {},
   "number_sections": true,
   "sideBar": true,
   "skip_h1_title": true,
   "title_cell": "Table of Contents",
   "title_sidebar": "Contents",
   "toc_cell": false,
   "toc_position": {
    "height": "calc(100% - 180px)",
    "left": "10px",
    "top": "150px",
    "width": "385.542px"
   },
   "toc_section_display": true,
   "toc_window_display": true
  }
 },
 "nbformat": 4,
 "nbformat_minor": 5
}
