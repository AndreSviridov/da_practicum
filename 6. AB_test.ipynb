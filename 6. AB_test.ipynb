{
 "cells": [
  {
   "cell_type": "markdown",
   "metadata": {},
   "source": [
    "<span style=\"color:green\">**Поздравляю, твой проект принят!**</span>\n",
    "\n",
    "Андрей, отличная работа, получился качественный аналитический отчет. Поставленные задачи были успешно выполнены! Спасибо за обозначение корректировок. Недочёты исправлены! Надеюсь, ревью было полезным:) Желаю успехов в учебе и следующих проектах!\n",
    "\n",
    "Актуальные комментарии имеют метку `v3`."
   ]
  },
  {
   "cell_type": "markdown",
   "metadata": {},
   "source": [
    "# Описание проекта \"Контекст\""
   ]
  },
  {
   "cell_type": "markdown",
   "metadata": {},
   "source": [
    "Я — аналитик крупного интернет-магазина. Вместе с отделом маркетинга мы подготовили список гипотез для увеличения выручки.\n",
    "В процессе проекта мне предстоит:\n",
    "1. Загрузить и предобработать данные;\n",
    "2. Приоритизировать гипотезы;\n",
    "3. Запустить A/B-тест;\n",
    "4. Проанализируйте результаты и принять решение."
   ]
  },
  {
   "cell_type": "code",
   "execution_count": 1,
   "metadata": {},
   "outputs": [],
   "source": [
    "import pandas as pd\n",
    "import matplotlib.pyplot as plt\n",
    "import numpy as np\n",
    "import seaborn as sns\n",
    "from math import sqrt\n",
    "import datetime as dt\n",
    "import scipy.stats as stats"
   ]
  },
  {
   "cell_type": "markdown",
   "metadata": {},
   "source": [
    "<div class=\"alert alert-block alert-success\">\n",
    "\n",
    "**Комментарий ревьювера (все отлично)**\n",
    "    \n",
    "Правильно, что импортируешь необходимые библиотеки в первой ячейке. Так твой коллега, запускающий работу, будет в курсе используемых в ней библиотек и сможет настроить свое окружение при необходимости.\n",
    "</div>"
   ]
  },
  {
   "cell_type": "markdown",
   "metadata": {},
   "source": [
    "## Приоритизация гипотез"
   ]
  },
  {
   "cell_type": "markdown",
   "metadata": {},
   "source": [
    "В файле /datasets/hypothesis.csv 9 гипотез по увеличению выручки интернет-магазина с указанными параметрами:\n",
    "- Hypothesis — краткое описание гипотезы;\n",
    "- Reach — охват пользователей по 10-балльной шкале;\n",
    "- Impact — влияние на пользователей по 10-балльной шкале;\n",
    "- Confidence — уверенность в гипотезе по 10-балльной шкале;\n",
    "- Efforts — затраты ресурсов на проверку гипотезы по 10-балльной шкале. Чем больше значение Efforts, тем дороже проверка гипотезы."
   ]
  },
  {
   "cell_type": "code",
   "execution_count": 2,
   "metadata": {},
   "outputs": [],
   "source": [
    "try:\n",
    "    hypothesis = pd.read_csv('https://code.s3.yandex.net/datasets/hypothesis.csv')\n",
    "except:\n",
    "    hypothesis = pd.read_csv('/datasets/hypothesis.csv')"
   ]
  },
  {
   "cell_type": "code",
   "execution_count": 3,
   "metadata": {},
   "outputs": [
    {
     "data": {
      "text/html": [
       "<div>\n",
       "<style scoped>\n",
       "    .dataframe tbody tr th:only-of-type {\n",
       "        vertical-align: middle;\n",
       "    }\n",
       "\n",
       "    .dataframe tbody tr th {\n",
       "        vertical-align: top;\n",
       "    }\n",
       "\n",
       "    .dataframe thead th {\n",
       "        text-align: right;\n",
       "    }\n",
       "</style>\n",
       "<table border=\"1\" class=\"dataframe\">\n",
       "  <thead>\n",
       "    <tr style=\"text-align: right;\">\n",
       "      <th></th>\n",
       "      <th>Hypothesis</th>\n",
       "      <th>Reach</th>\n",
       "      <th>Impact</th>\n",
       "      <th>Confidence</th>\n",
       "      <th>Efforts</th>\n",
       "    </tr>\n",
       "  </thead>\n",
       "  <tbody>\n",
       "    <tr>\n",
       "      <th>0</th>\n",
       "      <td>Добавить два новых канала привлечения трафика,...</td>\n",
       "      <td>3</td>\n",
       "      <td>10</td>\n",
       "      <td>8</td>\n",
       "      <td>6</td>\n",
       "    </tr>\n",
       "    <tr>\n",
       "      <th>1</th>\n",
       "      <td>Запустить собственную службу доставки, что сок...</td>\n",
       "      <td>2</td>\n",
       "      <td>5</td>\n",
       "      <td>4</td>\n",
       "      <td>10</td>\n",
       "    </tr>\n",
       "    <tr>\n",
       "      <th>2</th>\n",
       "      <td>Добавить блоки рекомендаций товаров на сайт ин...</td>\n",
       "      <td>8</td>\n",
       "      <td>3</td>\n",
       "      <td>7</td>\n",
       "      <td>3</td>\n",
       "    </tr>\n",
       "    <tr>\n",
       "      <th>3</th>\n",
       "      <td>Изменить структура категорий, что увеличит кон...</td>\n",
       "      <td>8</td>\n",
       "      <td>3</td>\n",
       "      <td>3</td>\n",
       "      <td>8</td>\n",
       "    </tr>\n",
       "    <tr>\n",
       "      <th>4</th>\n",
       "      <td>Изменить цвет фона главной страницы, чтобы уве...</td>\n",
       "      <td>3</td>\n",
       "      <td>1</td>\n",
       "      <td>1</td>\n",
       "      <td>1</td>\n",
       "    </tr>\n",
       "    <tr>\n",
       "      <th>5</th>\n",
       "      <td>Добавить страницу отзывов клиентов о магазине,...</td>\n",
       "      <td>3</td>\n",
       "      <td>2</td>\n",
       "      <td>2</td>\n",
       "      <td>3</td>\n",
       "    </tr>\n",
       "    <tr>\n",
       "      <th>6</th>\n",
       "      <td>Показать на главной странице баннеры с актуаль...</td>\n",
       "      <td>5</td>\n",
       "      <td>3</td>\n",
       "      <td>8</td>\n",
       "      <td>3</td>\n",
       "    </tr>\n",
       "    <tr>\n",
       "      <th>7</th>\n",
       "      <td>Добавить форму подписки на все основные страни...</td>\n",
       "      <td>10</td>\n",
       "      <td>7</td>\n",
       "      <td>8</td>\n",
       "      <td>5</td>\n",
       "    </tr>\n",
       "    <tr>\n",
       "      <th>8</th>\n",
       "      <td>Запустить акцию, дающую скидку на товар в день...</td>\n",
       "      <td>1</td>\n",
       "      <td>9</td>\n",
       "      <td>9</td>\n",
       "      <td>5</td>\n",
       "    </tr>\n",
       "  </tbody>\n",
       "</table>\n",
       "</div>"
      ],
      "text/plain": [
       "                                          Hypothesis  Reach  Impact  \\\n",
       "0  Добавить два новых канала привлечения трафика,...      3      10   \n",
       "1  Запустить собственную службу доставки, что сок...      2       5   \n",
       "2  Добавить блоки рекомендаций товаров на сайт ин...      8       3   \n",
       "3  Изменить структура категорий, что увеличит кон...      8       3   \n",
       "4  Изменить цвет фона главной страницы, чтобы уве...      3       1   \n",
       "5  Добавить страницу отзывов клиентов о магазине,...      3       2   \n",
       "6  Показать на главной странице баннеры с актуаль...      5       3   \n",
       "7  Добавить форму подписки на все основные страни...     10       7   \n",
       "8  Запустить акцию, дающую скидку на товар в день...      1       9   \n",
       "\n",
       "   Confidence  Efforts  \n",
       "0           8        6  \n",
       "1           4       10  \n",
       "2           7        3  \n",
       "3           3        8  \n",
       "4           1        1  \n",
       "5           2        3  \n",
       "6           8        3  \n",
       "7           8        5  \n",
       "8           9        5  "
      ]
     },
     "execution_count": 3,
     "metadata": {},
     "output_type": "execute_result"
    }
   ],
   "source": [
    "hypothesis"
   ]
  },
  {
   "cell_type": "code",
   "execution_count": 4,
   "metadata": {},
   "outputs": [],
   "source": [
    "# меняем столбцы на нижний регистр\n",
    "hypothesis.columns = hypothesis.columns.str.lower()\n",
    "# меняем количество обображаемых символов в столбцах до 160\n",
    "pd.set_option('display.max_colwidth', 160)"
   ]
  },
  {
   "cell_type": "markdown",
   "metadata": {},
   "source": [
    "<div class=\"alert alert-block alert-success\">\n",
    "\n",
    "**Комментарий ревьювера (все отлично)**\n",
    "    \n",
    "Молодец, что изменяешь параметры отображения таблиц для вывода всей информации👍\n",
    "</div>"
   ]
  },
  {
   "cell_type": "markdown",
   "metadata": {},
   "source": [
    "### Примените фреймворк ICE для приоритизации гипотез. Отсортируйте их по убыванию приоритета."
   ]
  },
  {
   "cell_type": "code",
   "execution_count": 5,
   "metadata": {},
   "outputs": [
    {
     "data": {
      "text/html": [
       "<div>\n",
       "<style scoped>\n",
       "    .dataframe tbody tr th:only-of-type {\n",
       "        vertical-align: middle;\n",
       "    }\n",
       "\n",
       "    .dataframe tbody tr th {\n",
       "        vertical-align: top;\n",
       "    }\n",
       "\n",
       "    .dataframe thead th {\n",
       "        text-align: right;\n",
       "    }\n",
       "</style>\n",
       "<table border=\"1\" class=\"dataframe\">\n",
       "  <thead>\n",
       "    <tr style=\"text-align: right;\">\n",
       "      <th></th>\n",
       "      <th>hypothesis</th>\n",
       "      <th>ICE</th>\n",
       "    </tr>\n",
       "  </thead>\n",
       "  <tbody>\n",
       "    <tr>\n",
       "      <th>8</th>\n",
       "      <td>Запустить акцию, дающую скидку на товар в день рождения</td>\n",
       "      <td>16.200</td>\n",
       "    </tr>\n",
       "    <tr>\n",
       "      <th>0</th>\n",
       "      <td>Добавить два новых канала привлечения трафика, что позволит привлекать на 30% больше пользователей</td>\n",
       "      <td>13.333</td>\n",
       "    </tr>\n",
       "    <tr>\n",
       "      <th>7</th>\n",
       "      <td>Добавить форму подписки на все основные страницы, чтобы собрать базу клиентов для email-рассылок</td>\n",
       "      <td>11.200</td>\n",
       "    </tr>\n",
       "    <tr>\n",
       "      <th>6</th>\n",
       "      <td>Показать на главной странице баннеры с актуальными акциями и распродажами, чтобы увеличить конверсию</td>\n",
       "      <td>8.000</td>\n",
       "    </tr>\n",
       "    <tr>\n",
       "      <th>2</th>\n",
       "      <td>Добавить блоки рекомендаций товаров на сайт интернет магазина, чтобы повысить конверсию и средний чек заказа</td>\n",
       "      <td>7.000</td>\n",
       "    </tr>\n",
       "    <tr>\n",
       "      <th>1</th>\n",
       "      <td>Запустить собственную службу доставки, что сократит срок доставки заказов</td>\n",
       "      <td>2.000</td>\n",
       "    </tr>\n",
       "    <tr>\n",
       "      <th>5</th>\n",
       "      <td>Добавить страницу отзывов клиентов о магазине, что позволит увеличить количество заказов</td>\n",
       "      <td>1.333</td>\n",
       "    </tr>\n",
       "    <tr>\n",
       "      <th>3</th>\n",
       "      <td>Изменить структура категорий, что увеличит конверсию, т.к. пользователи быстрее найдут нужный товар</td>\n",
       "      <td>1.125</td>\n",
       "    </tr>\n",
       "    <tr>\n",
       "      <th>4</th>\n",
       "      <td>Изменить цвет фона главной страницы, чтобы увеличить вовлеченность пользователей</td>\n",
       "      <td>1.000</td>\n",
       "    </tr>\n",
       "  </tbody>\n",
       "</table>\n",
       "</div>"
      ],
      "text/plain": [
       "                                                                                                     hypothesis  \\\n",
       "8                                                       Запустить акцию, дающую скидку на товар в день рождения   \n",
       "0            Добавить два новых канала привлечения трафика, что позволит привлекать на 30% больше пользователей   \n",
       "7              Добавить форму подписки на все основные страницы, чтобы собрать базу клиентов для email-рассылок   \n",
       "6          Показать на главной странице баннеры с актуальными акциями и распродажами, чтобы увеличить конверсию   \n",
       "2  Добавить блоки рекомендаций товаров на сайт интернет магазина, чтобы повысить конверсию и средний чек заказа   \n",
       "1                                     Запустить собственную службу доставки, что сократит срок доставки заказов   \n",
       "5                      Добавить страницу отзывов клиентов о магазине, что позволит увеличить количество заказов   \n",
       "3           Изменить структура категорий, что увеличит конверсию, т.к. пользователи быстрее найдут нужный товар   \n",
       "4                              Изменить цвет фона главной страницы, чтобы увеличить вовлеченность пользователей   \n",
       "\n",
       "      ICE  \n",
       "8  16.200  \n",
       "0  13.333  \n",
       "7  11.200  \n",
       "6   8.000  \n",
       "2   7.000  \n",
       "1   2.000  \n",
       "5   1.333  \n",
       "3   1.125  \n",
       "4   1.000  "
      ]
     },
     "execution_count": 5,
     "metadata": {},
     "output_type": "execute_result"
    }
   ],
   "source": [
    "hypothesis['ICE'] = ((hypothesis['impact']*hypothesis['confidence'])/hypothesis['efforts']).round(3)\n",
    "hypothesis[['hypothesis', 'ICE']].sort_values(by='ICE', ascending=False)"
   ]
  },
  {
   "cell_type": "markdown",
   "metadata": {},
   "source": [
    "<div class=\"alert alert-block alert-warning\">\n",
    "\n",
    "**Комментарий ревьювера (что можно улучшить)**\n",
    "    \n",
    "Рекомендую производить округление до 3 знаков после запятой.\n",
    "</div>"
   ]
  },
  {
   "cell_type": "markdown",
   "metadata": {},
   "source": [
    "<div class=\"alert alert-block alert-info\">\n",
    "<b>Сделано👌</b>\n",
    "</div>"
   ]
  },
  {
   "cell_type": "markdown",
   "metadata": {},
   "source": [
    "<div class=\"alert alert-block alert-success\">\n",
    "\n",
    "**Комментарий ревьювера v2 (все отлично)**\n",
    "\n",
    "Так лучше👍\n",
    "</div>"
   ]
  },
  {
   "cell_type": "markdown",
   "metadata": {},
   "source": [
    "Наиболее приоритетными гипотезами согласно ICE SCORE являются:\n",
    "- Запустить акцию, дающую скидку на товар в день рождения;\n",
    "- Добавить два новых канала привлечения трафика, что позволит привлекать на 30% больше пользователей;\n",
    "- Добавить форму подписки на все основные страницы, чтобы собрать базу клиентов для email-рассылок"
   ]
  },
  {
   "cell_type": "markdown",
   "metadata": {},
   "source": [
    "### Примените фреймворк RICE для приоритизации гипотез. Отсортируйте их по убыванию приоритета."
   ]
  },
  {
   "cell_type": "code",
   "execution_count": 6,
   "metadata": {},
   "outputs": [
    {
     "data": {
      "text/html": [
       "<div>\n",
       "<style scoped>\n",
       "    .dataframe tbody tr th:only-of-type {\n",
       "        vertical-align: middle;\n",
       "    }\n",
       "\n",
       "    .dataframe tbody tr th {\n",
       "        vertical-align: top;\n",
       "    }\n",
       "\n",
       "    .dataframe thead th {\n",
       "        text-align: right;\n",
       "    }\n",
       "</style>\n",
       "<table border=\"1\" class=\"dataframe\">\n",
       "  <thead>\n",
       "    <tr style=\"text-align: right;\">\n",
       "      <th></th>\n",
       "      <th>hypothesis</th>\n",
       "      <th>RICE</th>\n",
       "    </tr>\n",
       "  </thead>\n",
       "  <tbody>\n",
       "    <tr>\n",
       "      <th>7</th>\n",
       "      <td>Добавить форму подписки на все основные страницы, чтобы собрать базу клиентов для email-рассылок</td>\n",
       "      <td>112.0</td>\n",
       "    </tr>\n",
       "    <tr>\n",
       "      <th>2</th>\n",
       "      <td>Добавить блоки рекомендаций товаров на сайт интернет магазина, чтобы повысить конверсию и средний чек заказа</td>\n",
       "      <td>56.0</td>\n",
       "    </tr>\n",
       "    <tr>\n",
       "      <th>0</th>\n",
       "      <td>Добавить два новых канала привлечения трафика, что позволит привлекать на 30% больше пользователей</td>\n",
       "      <td>40.0</td>\n",
       "    </tr>\n",
       "    <tr>\n",
       "      <th>6</th>\n",
       "      <td>Показать на главной странице баннеры с актуальными акциями и распродажами, чтобы увеличить конверсию</td>\n",
       "      <td>40.0</td>\n",
       "    </tr>\n",
       "    <tr>\n",
       "      <th>8</th>\n",
       "      <td>Запустить акцию, дающую скидку на товар в день рождения</td>\n",
       "      <td>16.2</td>\n",
       "    </tr>\n",
       "    <tr>\n",
       "      <th>3</th>\n",
       "      <td>Изменить структура категорий, что увеличит конверсию, т.к. пользователи быстрее найдут нужный товар</td>\n",
       "      <td>9.0</td>\n",
       "    </tr>\n",
       "    <tr>\n",
       "      <th>1</th>\n",
       "      <td>Запустить собственную службу доставки, что сократит срок доставки заказов</td>\n",
       "      <td>4.0</td>\n",
       "    </tr>\n",
       "    <tr>\n",
       "      <th>5</th>\n",
       "      <td>Добавить страницу отзывов клиентов о магазине, что позволит увеличить количество заказов</td>\n",
       "      <td>4.0</td>\n",
       "    </tr>\n",
       "    <tr>\n",
       "      <th>4</th>\n",
       "      <td>Изменить цвет фона главной страницы, чтобы увеличить вовлеченность пользователей</td>\n",
       "      <td>3.0</td>\n",
       "    </tr>\n",
       "  </tbody>\n",
       "</table>\n",
       "</div>"
      ],
      "text/plain": [
       "                                                                                                     hypothesis  \\\n",
       "7              Добавить форму подписки на все основные страницы, чтобы собрать базу клиентов для email-рассылок   \n",
       "2  Добавить блоки рекомендаций товаров на сайт интернет магазина, чтобы повысить конверсию и средний чек заказа   \n",
       "0            Добавить два новых канала привлечения трафика, что позволит привлекать на 30% больше пользователей   \n",
       "6          Показать на главной странице баннеры с актуальными акциями и распродажами, чтобы увеличить конверсию   \n",
       "8                                                       Запустить акцию, дающую скидку на товар в день рождения   \n",
       "3           Изменить структура категорий, что увеличит конверсию, т.к. пользователи быстрее найдут нужный товар   \n",
       "1                                     Запустить собственную службу доставки, что сократит срок доставки заказов   \n",
       "5                      Добавить страницу отзывов клиентов о магазине, что позволит увеличить количество заказов   \n",
       "4                              Изменить цвет фона главной страницы, чтобы увеличить вовлеченность пользователей   \n",
       "\n",
       "    RICE  \n",
       "7  112.0  \n",
       "2   56.0  \n",
       "0   40.0  \n",
       "6   40.0  \n",
       "8   16.2  \n",
       "3    9.0  \n",
       "1    4.0  \n",
       "5    4.0  \n",
       "4    3.0  "
      ]
     },
     "execution_count": 6,
     "metadata": {},
     "output_type": "execute_result"
    }
   ],
   "source": [
    "hypothesis['RICE'] = (hypothesis['reach']*hypothesis['impact']*hypothesis['confidence'])/hypothesis['efforts']\n",
    "hypothesis[['hypothesis', 'RICE']].sort_values(by='RICE',ascending=False)"
   ]
  },
  {
   "cell_type": "markdown",
   "metadata": {},
   "source": [
    "Наиболее приоритетными гипотезами согласно RICE SCORE являются:\n",
    "- Добавить форму подписки на все основные страницы, чтобы собрать базу клиентов для email-рассылок;\n",
    "- Добавить блоки рекомендаций товаров на сайт интернет магазина, чтобы повысить конверсию и средний чек заказа;\n",
    "- Добавить два новых канала привлечения трафика, что позволит привлекать на 30% больше пользователей."
   ]
  },
  {
   "cell_type": "markdown",
   "metadata": {},
   "source": [
    "### Укажите, как изменилась приоритизация гипотез при применении RICE вместо ICE. Объясните, почему так произошло."
   ]
  },
  {
   "cell_type": "markdown",
   "metadata": {},
   "source": [
    "В отличии от ICE у фреймворка RICE есть дополнительный параметр reach, который и повлиял на различия в приоретизации гипотез. Топ возглавили гипотезы, у которых высокие значения параметра reach."
   ]
  },
  {
   "cell_type": "markdown",
   "metadata": {},
   "source": [
    "### Вывод"
   ]
  },
  {
   "cell_type": "markdown",
   "metadata": {},
   "source": [
    "В процессе определения приоретизации гипотез были проделаны следующие действия:\n",
    "* Загрузили и проверили данные из файла hypothesis;\n",
    "* Привели названия столбцов к нижнему регистр;\n",
    "* Изменили количество отображаемых символов в столбцах до 160;\n",
    "* Применили фреймворк ICE для приоритизации гипотез. Наиболее приоритетными гипотезами согласно ICE SCORE оказались:\n",
    "  - Запустить акцию, дающую скидку на товар в день рождения;\n",
    "  - Добавить два новых канала привлечения трафика, что позволит привлекать на 30% больше пользователей;\n",
    "  - Добавить форму подписки на все основные страницы, чтобы собрать базу клиентов для email-рассылок.\n",
    "* Применили фреймворк RICE для приоритизации гипотез. Наиболее приоритетными гипотезами согласно RICE SCORE оказались:\n",
    "  - Добавить форму подписки на все основные страницы, чтобы собрать базу клиентов для email-рассылок;\n",
    "  - Добавить блоки рекомендаций товаров на сайт интернет магазина, чтобы повысить конверсию и средний чек заказа;\n",
    "  - Добавить два новых канала привлечения трафика, что позволит привлекать на 30% больше пользователей.\n",
    "* Выявили, что у фреймворка RICE есть дополнительный параметр reach, который значительно влияет на различия в приоретизации гипотез."
   ]
  },
  {
   "cell_type": "markdown",
   "metadata": {},
   "source": [
    "<div class=\"alert alert-block alert-success\">\n",
    "\n",
    "**Комментарий ревьювера (все отлично)**\n",
    "    \n",
    "Все верно, охват меняет приоритезацию. Отличие фреймворков определено.\n",
    "</div>"
   ]
  },
  {
   "cell_type": "markdown",
   "metadata": {},
   "source": [
    "## Анализ A/B-теста"
   ]
  },
  {
   "cell_type": "markdown",
   "metadata": {},
   "source": [
    "### Загрузка и подготовка данных"
   ]
  },
  {
   "cell_type": "code",
   "execution_count": 7,
   "metadata": {},
   "outputs": [],
   "source": [
    "try:\n",
    "    orders = pd.read_csv('https://code.s3.yandex.net/datasets/orders.csv')\n",
    "except:\n",
    "    orders = pd.read_csv('/datasets/orders.csv')"
   ]
  },
  {
   "cell_type": "code",
   "execution_count": 8,
   "metadata": {},
   "outputs": [],
   "source": [
    "try:\n",
    "    visitors = pd.read_csv('https://code.s3.yandex.net/datasets/visitors.csv')\n",
    "except:\n",
    "    visitors = pd.read_csv('/datasets/visitors.csv')"
   ]
  },
  {
   "cell_type": "code",
   "execution_count": 9,
   "metadata": {},
   "outputs": [
    {
     "data": {
      "text/html": [
       "<div>\n",
       "<style scoped>\n",
       "    .dataframe tbody tr th:only-of-type {\n",
       "        vertical-align: middle;\n",
       "    }\n",
       "\n",
       "    .dataframe tbody tr th {\n",
       "        vertical-align: top;\n",
       "    }\n",
       "\n",
       "    .dataframe thead th {\n",
       "        text-align: right;\n",
       "    }\n",
       "</style>\n",
       "<table border=\"1\" class=\"dataframe\">\n",
       "  <thead>\n",
       "    <tr style=\"text-align: right;\">\n",
       "      <th></th>\n",
       "      <th>transactionId</th>\n",
       "      <th>visitorId</th>\n",
       "      <th>date</th>\n",
       "      <th>revenue</th>\n",
       "      <th>group</th>\n",
       "    </tr>\n",
       "  </thead>\n",
       "  <tbody>\n",
       "    <tr>\n",
       "      <th>0</th>\n",
       "      <td>3667963787</td>\n",
       "      <td>3312258926</td>\n",
       "      <td>2019-08-15</td>\n",
       "      <td>1650</td>\n",
       "      <td>B</td>\n",
       "    </tr>\n",
       "    <tr>\n",
       "      <th>1</th>\n",
       "      <td>2804400009</td>\n",
       "      <td>3642806036</td>\n",
       "      <td>2019-08-15</td>\n",
       "      <td>730</td>\n",
       "      <td>B</td>\n",
       "    </tr>\n",
       "    <tr>\n",
       "      <th>2</th>\n",
       "      <td>2961555356</td>\n",
       "      <td>4069496402</td>\n",
       "      <td>2019-08-15</td>\n",
       "      <td>400</td>\n",
       "      <td>A</td>\n",
       "    </tr>\n",
       "    <tr>\n",
       "      <th>3</th>\n",
       "      <td>3797467345</td>\n",
       "      <td>1196621759</td>\n",
       "      <td>2019-08-15</td>\n",
       "      <td>9759</td>\n",
       "      <td>B</td>\n",
       "    </tr>\n",
       "    <tr>\n",
       "      <th>4</th>\n",
       "      <td>2282983706</td>\n",
       "      <td>2322279887</td>\n",
       "      <td>2019-08-15</td>\n",
       "      <td>2308</td>\n",
       "      <td>B</td>\n",
       "    </tr>\n",
       "  </tbody>\n",
       "</table>\n",
       "</div>"
      ],
      "text/plain": [
       "   transactionId   visitorId        date  revenue group\n",
       "0     3667963787  3312258926  2019-08-15     1650     B\n",
       "1     2804400009  3642806036  2019-08-15      730     B\n",
       "2     2961555356  4069496402  2019-08-15      400     A\n",
       "3     3797467345  1196621759  2019-08-15     9759     B\n",
       "4     2282983706  2322279887  2019-08-15     2308     B"
      ]
     },
     "execution_count": 9,
     "metadata": {},
     "output_type": "execute_result"
    }
   ],
   "source": [
    "orders.head()"
   ]
  },
  {
   "cell_type": "code",
   "execution_count": 10,
   "metadata": {},
   "outputs": [
    {
     "name": "stdout",
     "output_type": "stream",
     "text": [
      "<class 'pandas.core.frame.DataFrame'>\n",
      "RangeIndex: 1197 entries, 0 to 1196\n",
      "Data columns (total 5 columns):\n",
      " #   Column         Non-Null Count  Dtype \n",
      "---  ------         --------------  ----- \n",
      " 0   transactionId  1197 non-null   int64 \n",
      " 1   visitorId      1197 non-null   int64 \n",
      " 2   date           1197 non-null   object\n",
      " 3   revenue        1197 non-null   int64 \n",
      " 4   group          1197 non-null   object\n",
      "dtypes: int64(3), object(2)\n",
      "memory usage: 46.9+ KB\n"
     ]
    }
   ],
   "source": [
    "orders.info()"
   ]
  },
  {
   "cell_type": "code",
   "execution_count": 11,
   "metadata": {},
   "outputs": [
    {
     "data": {
      "text/html": [
       "<div>\n",
       "<style scoped>\n",
       "    .dataframe tbody tr th:only-of-type {\n",
       "        vertical-align: middle;\n",
       "    }\n",
       "\n",
       "    .dataframe tbody tr th {\n",
       "        vertical-align: top;\n",
       "    }\n",
       "\n",
       "    .dataframe thead th {\n",
       "        text-align: right;\n",
       "    }\n",
       "</style>\n",
       "<table border=\"1\" class=\"dataframe\">\n",
       "  <thead>\n",
       "    <tr style=\"text-align: right;\">\n",
       "      <th></th>\n",
       "      <th>date</th>\n",
       "      <th>group</th>\n",
       "      <th>visitors</th>\n",
       "    </tr>\n",
       "  </thead>\n",
       "  <tbody>\n",
       "    <tr>\n",
       "      <th>0</th>\n",
       "      <td>2019-08-01</td>\n",
       "      <td>A</td>\n",
       "      <td>719</td>\n",
       "    </tr>\n",
       "    <tr>\n",
       "      <th>1</th>\n",
       "      <td>2019-08-02</td>\n",
       "      <td>A</td>\n",
       "      <td>619</td>\n",
       "    </tr>\n",
       "    <tr>\n",
       "      <th>2</th>\n",
       "      <td>2019-08-03</td>\n",
       "      <td>A</td>\n",
       "      <td>507</td>\n",
       "    </tr>\n",
       "    <tr>\n",
       "      <th>3</th>\n",
       "      <td>2019-08-04</td>\n",
       "      <td>A</td>\n",
       "      <td>717</td>\n",
       "    </tr>\n",
       "    <tr>\n",
       "      <th>4</th>\n",
       "      <td>2019-08-05</td>\n",
       "      <td>A</td>\n",
       "      <td>756</td>\n",
       "    </tr>\n",
       "  </tbody>\n",
       "</table>\n",
       "</div>"
      ],
      "text/plain": [
       "         date group  visitors\n",
       "0  2019-08-01     A       719\n",
       "1  2019-08-02     A       619\n",
       "2  2019-08-03     A       507\n",
       "3  2019-08-04     A       717\n",
       "4  2019-08-05     A       756"
      ]
     },
     "execution_count": 11,
     "metadata": {},
     "output_type": "execute_result"
    }
   ],
   "source": [
    "visitors.head()"
   ]
  },
  {
   "cell_type": "code",
   "execution_count": 12,
   "metadata": {},
   "outputs": [
    {
     "name": "stdout",
     "output_type": "stream",
     "text": [
      "<class 'pandas.core.frame.DataFrame'>\n",
      "RangeIndex: 62 entries, 0 to 61\n",
      "Data columns (total 3 columns):\n",
      " #   Column    Non-Null Count  Dtype \n",
      "---  ------    --------------  ----- \n",
      " 0   date      62 non-null     object\n",
      " 1   group     62 non-null     object\n",
      " 2   visitors  62 non-null     int64 \n",
      "dtypes: int64(1), object(2)\n",
      "memory usage: 1.6+ KB\n"
     ]
    }
   ],
   "source": [
    "visitors.info()"
   ]
  },
  {
   "cell_type": "code",
   "execution_count": 13,
   "metadata": {},
   "outputs": [],
   "source": [
    "# изменим столбцы date на формат datetime\n",
    "orders['date'] = orders['date'].map(lambda x: dt.datetime.strptime(x, '%Y-%m-%d'))\n",
    "visitors['date'] = visitors['date'].map(lambda x: dt.datetime.strptime(x, '%Y-%m-%d'))"
   ]
  },
  {
   "cell_type": "markdown",
   "metadata": {},
   "source": [
    "<div class=\"alert alert-block alert-success\">\n",
    "\n",
    "**Комментарий ревьювера (все отлично)**\n",
    "    \n",
    "Даты приведены к соответствующему типу👍\n",
    "</div>"
   ]
  },
  {
   "cell_type": "code",
   "execution_count": 14,
   "metadata": {},
   "outputs": [],
   "source": [
    "#проверяем на явные дубликаты\n",
    "orders = orders.drop_duplicates()\n",
    "visitors = visitors.drop_duplicates()"
   ]
  },
  {
   "cell_type": "markdown",
   "metadata": {},
   "source": [
    "<div class=\"alert alert-block alert-danger\">\n",
    "    \n",
    "**Комментарий ревьювера (недочет, который нужно доработать)**\n",
    "    \n",
    "Проверь, есть ли в таблице orders пользователи, оказавшиеся одновременно в двух группах. Дело в том, что при АВ тестировании могут быть ошибки при логировании и распределении пользователей по группам.\n",
    "</div>"
   ]
  },
  {
   "cell_type": "markdown",
   "metadata": {},
   "source": [
    "<div class=\"alert alert-block alert-info\">\n",
    "<b>Вроде получилось. По моим расчетам нашлось 166 совпадений. Алгоритм: сделал датафрейм visitorsGroups с уникальными парами ['visitorId', 'group'], затем сделал срез по повторяющимся значениям в столбце visitorId </b>\n",
    "</div>"
   ]
  },
  {
   "cell_type": "code",
   "execution_count": 15,
   "metadata": {},
   "outputs": [
    {
     "data": {
      "text/html": [
       "<div>\n",
       "<style scoped>\n",
       "    .dataframe tbody tr th:only-of-type {\n",
       "        vertical-align: middle;\n",
       "    }\n",
       "\n",
       "    .dataframe tbody tr th {\n",
       "        vertical-align: top;\n",
       "    }\n",
       "\n",
       "    .dataframe thead th {\n",
       "        text-align: right;\n",
       "    }\n",
       "</style>\n",
       "<table border=\"1\" class=\"dataframe\">\n",
       "  <thead>\n",
       "    <tr style=\"text-align: right;\">\n",
       "      <th></th>\n",
       "      <th>visitorId</th>\n",
       "      <th>group</th>\n",
       "    </tr>\n",
       "  </thead>\n",
       "  <tbody>\n",
       "    <tr>\n",
       "      <th>0</th>\n",
       "      <td>3312258926</td>\n",
       "      <td>B</td>\n",
       "    </tr>\n",
       "    <tr>\n",
       "      <th>1</th>\n",
       "      <td>3642806036</td>\n",
       "      <td>B</td>\n",
       "    </tr>\n",
       "    <tr>\n",
       "      <th>2</th>\n",
       "      <td>4069496402</td>\n",
       "      <td>A</td>\n",
       "    </tr>\n",
       "    <tr>\n",
       "      <th>3</th>\n",
       "      <td>1196621759</td>\n",
       "      <td>B</td>\n",
       "    </tr>\n",
       "    <tr>\n",
       "      <th>4</th>\n",
       "      <td>2322279887</td>\n",
       "      <td>B</td>\n",
       "    </tr>\n",
       "  </tbody>\n",
       "</table>\n",
       "</div>"
      ],
      "text/plain": [
       "    visitorId group\n",
       "0  3312258926     B\n",
       "1  3642806036     B\n",
       "2  4069496402     A\n",
       "3  1196621759     B\n",
       "4  2322279887     B"
      ]
     },
     "execution_count": 15,
     "metadata": {},
     "output_type": "execute_result"
    }
   ],
   "source": [
    "visitorsGroups = orders[['visitorId', 'group']].drop_duplicates()\n",
    "visitorsGroups.head()"
   ]
  },
  {
   "cell_type": "code",
   "execution_count": 16,
   "metadata": {},
   "outputs": [
    {
     "data": {
      "text/plain": [
       "41       237748145\n",
       "91      2742574263\n",
       "95       457167155\n",
       "98      2706377257\n",
       "112     3062433592\n",
       "           ...    \n",
       "1182    1668030113\n",
       "1183     963407295\n",
       "1184    2949041841\n",
       "1189     393266494\n",
       "1195    1614305549\n",
       "Name: visitorId, Length: 166, dtype: int64"
      ]
     },
     "execution_count": 16,
     "metadata": {},
     "output_type": "execute_result"
    }
   ],
   "source": [
    "AB_duplicates = orders[orders.duplicated('visitorId')]['visitorId']\n",
    "AB_duplicates"
   ]
  },
  {
   "cell_type": "markdown",
   "metadata": {},
   "source": [
    "<div class=\"alert alert-block alert-danger\">\n",
    "    \n",
    "**Комментарий ревьювера v2 (недочет, который нужно доработать)**\n",
    "    \n",
    "Проверка выполнена некорректно, пользователи в рамках одной группы могут иметь несколько заказов. По замыслу АВ теста у каждого пользователя должна быть только одна уникальная группа. Проверь, есть ли пользователи, для которых это условие не выполняется. Оцени долю таких пользователей и прими решение по пересечениям.\n",
    "</div>"
   ]
  },
  {
   "cell_type": "markdown",
   "metadata": {},
   "source": [
    "<div class=\"alert alert-block alert-info\">\n",
    "<b>Теперь вроде понял и посчитал. Доля повторяющихся пользователей от общего количества составляет почти 6%. Для чистоты AB-теста принимаю решение удалить данных пользователей из анализа. Интересно как это отобразится на финальном результате. Обновленные выводы будут с этим знаком 🔁. Старые удалять не буду на случай, если придется откатить обратно. </b>\n",
    "</div>"
   ]
  },
  {
   "cell_type": "code",
   "execution_count": 17,
   "metadata": {},
   "outputs": [
    {
     "data": {
      "text/plain": [
       "1031"
      ]
     },
     "execution_count": 17,
     "metadata": {},
     "output_type": "execute_result"
    }
   ],
   "source": [
    "# всего пользователей\n",
    "orders['visitorId'].nunique()"
   ]
  },
  {
   "cell_type": "code",
   "execution_count": 18,
   "metadata": {},
   "outputs": [
    {
     "data": {
      "text/plain": [
       "58"
      ]
     },
     "execution_count": 18,
     "metadata": {},
     "output_type": "execute_result"
    }
   ],
   "source": [
    "# количество повторяющихся пользователей в обеих группах\n",
    "groupA_visitors = orders[orders['group']=='A']['visitorId']\n",
    "groupB_visitors = orders[orders['group']=='B']['visitorId']\n",
    "AB_visitors = orders.query('visitorId in @groupA_visitors and visitorId in @groupB_visitors')\n",
    "AB_visitors['visitorId'].nunique()"
   ]
  },
  {
   "cell_type": "code",
   "execution_count": 19,
   "metadata": {},
   "outputs": [
    {
     "data": {
      "text/plain": [
       "0.05625606207565471"
      ]
     },
     "execution_count": 19,
     "metadata": {},
     "output_type": "execute_result"
    }
   ],
   "source": [
    "#доля повторяющихся пользователей от общего количества\n",
    "AB_visitors['visitorId'].nunique()/orders['visitorId'].nunique()"
   ]
  },
  {
   "cell_type": "code",
   "execution_count": 20,
   "metadata": {},
   "outputs": [],
   "source": [
    "#принимаю решение удалить из orders повторяющихся в обеих группах пользователей\n",
    "orders = orders.query('visitorId not in @AB_visitors[\"visitorId\"]')"
   ]
  },
  {
   "cell_type": "markdown",
   "metadata": {},
   "source": [
    "<div class=\"alert alert-block alert-success\">\n",
    "\n",
    "**Комментарий ревьювера v2 (все отлично)**\n",
    "    \n",
    "Допустимое решение их удалить, но тогда эти пользователи останутся в таблице `visitors`, которую сложно предобработать от таких ошибок. \n",
    "    \n",
    "Если принято решение оставить, то нужно указать в выводе, что анализ далее прошел с учётом того, что небольшая доля пользователей участвовала в двух группах. \n",
    "    \n",
    "В любом случае важно не оставлять факт пересечения групп без внимания. Если пользователи попали в обе группы, то коллегам нужно знать, что есть ошибки в распределении. Эта информация в реальной работе поможет коллегам разобраться в проблеме и устранить ошибку распределения для следующих тестов.\n",
    "</div>"
   ]
  },
  {
   "cell_type": "code",
   "execution_count": 21,
   "metadata": {},
   "outputs": [
    {
     "data": {
      "text/html": [
       "<div>\n",
       "<style scoped>\n",
       "    .dataframe tbody tr th:only-of-type {\n",
       "        vertical-align: middle;\n",
       "    }\n",
       "\n",
       "    .dataframe tbody tr th {\n",
       "        vertical-align: top;\n",
       "    }\n",
       "\n",
       "    .dataframe thead th {\n",
       "        text-align: right;\n",
       "    }\n",
       "</style>\n",
       "<table border=\"1\" class=\"dataframe\">\n",
       "  <thead>\n",
       "    <tr style=\"text-align: right;\">\n",
       "      <th></th>\n",
       "      <th>date</th>\n",
       "      <th>group</th>\n",
       "    </tr>\n",
       "  </thead>\n",
       "  <tbody>\n",
       "    <tr>\n",
       "      <th>0</th>\n",
       "      <td>2019-08-15</td>\n",
       "      <td>B</td>\n",
       "    </tr>\n",
       "    <tr>\n",
       "      <th>7</th>\n",
       "      <td>2019-08-15</td>\n",
       "      <td>A</td>\n",
       "    </tr>\n",
       "    <tr>\n",
       "      <th>45</th>\n",
       "      <td>2019-08-16</td>\n",
       "      <td>A</td>\n",
       "    </tr>\n",
       "    <tr>\n",
       "      <th>47</th>\n",
       "      <td>2019-08-16</td>\n",
       "      <td>B</td>\n",
       "    </tr>\n",
       "    <tr>\n",
       "      <th>55</th>\n",
       "      <td>2019-08-01</td>\n",
       "      <td>A</td>\n",
       "    </tr>\n",
       "  </tbody>\n",
       "</table>\n",
       "</div>"
      ],
      "text/plain": [
       "         date group\n",
       "0  2019-08-15     B\n",
       "7  2019-08-15     A\n",
       "45 2019-08-16     A\n",
       "47 2019-08-16     B\n",
       "55 2019-08-01     A"
      ]
     },
     "execution_count": 21,
     "metadata": {},
     "output_type": "execute_result"
    }
   ],
   "source": [
    "#Создаем датафрейм datesGroups с уникальными парами значений 'date' и 'group' таблицы orders. Избавляемся от дубликатов методом drop_duplicates()\n",
    "datesGroups = orders[['date', 'group']].drop_duplicates()\n",
    "datesGroups.head()"
   ]
  },
  {
   "cell_type": "markdown",
   "metadata": {},
   "source": [
    "**Объявляем переменную ordersAggregated, содержащую:** \n",
    "- дату;\n",
    "- группу A/B-теста;\n",
    "- число уникальных заказов в группе теста по указанную дату включительно;\n",
    "- число уникальных пользователей, совершивших хотя бы 1 заказ в группе теста по указанную дату включительно;\n",
    "- суммарную выручку заказов в группе теста по указанную дату включительно.\n"
   ]
  },
  {
   "cell_type": "code",
   "execution_count": 22,
   "metadata": {},
   "outputs": [
    {
     "data": {
      "text/html": [
       "<div>\n",
       "<style scoped>\n",
       "    .dataframe tbody tr th:only-of-type {\n",
       "        vertical-align: middle;\n",
       "    }\n",
       "\n",
       "    .dataframe tbody tr th {\n",
       "        vertical-align: top;\n",
       "    }\n",
       "\n",
       "    .dataframe thead th {\n",
       "        text-align: right;\n",
       "    }\n",
       "</style>\n",
       "<table border=\"1\" class=\"dataframe\">\n",
       "  <thead>\n",
       "    <tr style=\"text-align: right;\">\n",
       "      <th></th>\n",
       "      <th>date</th>\n",
       "      <th>group</th>\n",
       "      <th>transactionId</th>\n",
       "      <th>visitorId</th>\n",
       "      <th>revenue</th>\n",
       "    </tr>\n",
       "  </thead>\n",
       "  <tbody>\n",
       "    <tr>\n",
       "      <th>55</th>\n",
       "      <td>2019-08-01</td>\n",
       "      <td>A</td>\n",
       "      <td>23</td>\n",
       "      <td>19</td>\n",
       "      <td>142779</td>\n",
       "    </tr>\n",
       "    <tr>\n",
       "      <th>66</th>\n",
       "      <td>2019-08-01</td>\n",
       "      <td>B</td>\n",
       "      <td>17</td>\n",
       "      <td>17</td>\n",
       "      <td>59758</td>\n",
       "    </tr>\n",
       "    <tr>\n",
       "      <th>175</th>\n",
       "      <td>2019-08-02</td>\n",
       "      <td>A</td>\n",
       "      <td>42</td>\n",
       "      <td>36</td>\n",
       "      <td>234381</td>\n",
       "    </tr>\n",
       "    <tr>\n",
       "      <th>173</th>\n",
       "      <td>2019-08-02</td>\n",
       "      <td>B</td>\n",
       "      <td>40</td>\n",
       "      <td>39</td>\n",
       "      <td>221801</td>\n",
       "    </tr>\n",
       "    <tr>\n",
       "      <th>291</th>\n",
       "      <td>2019-08-03</td>\n",
       "      <td>A</td>\n",
       "      <td>66</td>\n",
       "      <td>60</td>\n",
       "      <td>346854</td>\n",
       "    </tr>\n",
       "  </tbody>\n",
       "</table>\n",
       "</div>"
      ],
      "text/plain": [
       "          date group  transactionId  visitorId  revenue\n",
       "55  2019-08-01     A             23         19   142779\n",
       "66  2019-08-01     B             17         17    59758\n",
       "175 2019-08-02     A             42         36   234381\n",
       "173 2019-08-02     B             40         39   221801\n",
       "291 2019-08-03     A             66         60   346854"
      ]
     },
     "execution_count": 22,
     "metadata": {},
     "output_type": "execute_result"
    }
   ],
   "source": [
    "ordersAggregated = datesGroups.apply(lambda x: orders[np.logical_and(orders['date'] <=x['date'], orders['group'] == x['group'])].agg({'date':'max', 'group':'max','transactionId':'nunique', 'visitorId':'nunique', 'revenue':'sum'}),axis=1).sort_values(by=['date','group'])\n",
    "ordersAggregated.head()"
   ]
  },
  {
   "cell_type": "markdown",
   "metadata": {},
   "source": [
    "**Объявляем переменную visitorsAggregated, содержащую:**\n",
    "- дату;\n",
    "- группу A/B-теста;\n",
    "- количество уникальных посетителей в группе теста по указанную дату включительно"
   ]
  },
  {
   "cell_type": "code",
   "execution_count": 23,
   "metadata": {},
   "outputs": [
    {
     "data": {
      "text/html": [
       "<div>\n",
       "<style scoped>\n",
       "    .dataframe tbody tr th:only-of-type {\n",
       "        vertical-align: middle;\n",
       "    }\n",
       "\n",
       "    .dataframe tbody tr th {\n",
       "        vertical-align: top;\n",
       "    }\n",
       "\n",
       "    .dataframe thead th {\n",
       "        text-align: right;\n",
       "    }\n",
       "</style>\n",
       "<table border=\"1\" class=\"dataframe\">\n",
       "  <thead>\n",
       "    <tr style=\"text-align: right;\">\n",
       "      <th></th>\n",
       "      <th>date</th>\n",
       "      <th>group</th>\n",
       "      <th>visitors</th>\n",
       "    </tr>\n",
       "  </thead>\n",
       "  <tbody>\n",
       "    <tr>\n",
       "      <th>55</th>\n",
       "      <td>2019-08-01</td>\n",
       "      <td>A</td>\n",
       "      <td>719</td>\n",
       "    </tr>\n",
       "    <tr>\n",
       "      <th>66</th>\n",
       "      <td>2019-08-01</td>\n",
       "      <td>B</td>\n",
       "      <td>713</td>\n",
       "    </tr>\n",
       "    <tr>\n",
       "      <th>175</th>\n",
       "      <td>2019-08-02</td>\n",
       "      <td>A</td>\n",
       "      <td>1338</td>\n",
       "    </tr>\n",
       "    <tr>\n",
       "      <th>173</th>\n",
       "      <td>2019-08-02</td>\n",
       "      <td>B</td>\n",
       "      <td>1294</td>\n",
       "    </tr>\n",
       "    <tr>\n",
       "      <th>291</th>\n",
       "      <td>2019-08-03</td>\n",
       "      <td>A</td>\n",
       "      <td>1845</td>\n",
       "    </tr>\n",
       "  </tbody>\n",
       "</table>\n",
       "</div>"
      ],
      "text/plain": [
       "          date group  visitors\n",
       "55  2019-08-01     A       719\n",
       "66  2019-08-01     B       713\n",
       "175 2019-08-02     A      1338\n",
       "173 2019-08-02     B      1294\n",
       "291 2019-08-03     A      1845"
      ]
     },
     "execution_count": 23,
     "metadata": {},
     "output_type": "execute_result"
    }
   ],
   "source": [
    "visitorsAggregated = datesGroups.apply(lambda x: visitors[np.logical_and(visitors['date'] <= x['date'], visitors['group'] == x['group'])].agg({'date' : 'max', 'group' : 'max', 'visitors' : 'sum'}), axis=1).sort_values(by=['date','group'])\n",
    "visitorsAggregated.head()"
   ]
  },
  {
   "cell_type": "markdown",
   "metadata": {},
   "source": [
    "**Определим переменную cumulativeData, объединив ordersAggregated и visitorsAggregated по колонкам 'date', 'group' методом merge(). Присвоим столбцам cumulativeData названия ['date', 'group', 'orders', 'buyers', 'revenue', 'visitors']**"
   ]
  },
  {
   "cell_type": "code",
   "execution_count": 24,
   "metadata": {},
   "outputs": [
    {
     "data": {
      "text/html": [
       "<div>\n",
       "<style scoped>\n",
       "    .dataframe tbody tr th:only-of-type {\n",
       "        vertical-align: middle;\n",
       "    }\n",
       "\n",
       "    .dataframe tbody tr th {\n",
       "        vertical-align: top;\n",
       "    }\n",
       "\n",
       "    .dataframe thead th {\n",
       "        text-align: right;\n",
       "    }\n",
       "</style>\n",
       "<table border=\"1\" class=\"dataframe\">\n",
       "  <thead>\n",
       "    <tr style=\"text-align: right;\">\n",
       "      <th></th>\n",
       "      <th>date</th>\n",
       "      <th>group</th>\n",
       "      <th>orders</th>\n",
       "      <th>buyers</th>\n",
       "      <th>revenue</th>\n",
       "      <th>visitors</th>\n",
       "    </tr>\n",
       "  </thead>\n",
       "  <tbody>\n",
       "    <tr>\n",
       "      <th>0</th>\n",
       "      <td>2019-08-01</td>\n",
       "      <td>A</td>\n",
       "      <td>23</td>\n",
       "      <td>19</td>\n",
       "      <td>142779</td>\n",
       "      <td>719</td>\n",
       "    </tr>\n",
       "    <tr>\n",
       "      <th>1</th>\n",
       "      <td>2019-08-01</td>\n",
       "      <td>B</td>\n",
       "      <td>17</td>\n",
       "      <td>17</td>\n",
       "      <td>59758</td>\n",
       "      <td>713</td>\n",
       "    </tr>\n",
       "    <tr>\n",
       "      <th>2</th>\n",
       "      <td>2019-08-02</td>\n",
       "      <td>A</td>\n",
       "      <td>42</td>\n",
       "      <td>36</td>\n",
       "      <td>234381</td>\n",
       "      <td>1338</td>\n",
       "    </tr>\n",
       "    <tr>\n",
       "      <th>3</th>\n",
       "      <td>2019-08-02</td>\n",
       "      <td>B</td>\n",
       "      <td>40</td>\n",
       "      <td>39</td>\n",
       "      <td>221801</td>\n",
       "      <td>1294</td>\n",
       "    </tr>\n",
       "    <tr>\n",
       "      <th>4</th>\n",
       "      <td>2019-08-03</td>\n",
       "      <td>A</td>\n",
       "      <td>66</td>\n",
       "      <td>60</td>\n",
       "      <td>346854</td>\n",
       "      <td>1845</td>\n",
       "    </tr>\n",
       "    <tr>\n",
       "      <th>5</th>\n",
       "      <td>2019-08-03</td>\n",
       "      <td>B</td>\n",
       "      <td>54</td>\n",
       "      <td>53</td>\n",
       "      <td>288850</td>\n",
       "      <td>1803</td>\n",
       "    </tr>\n",
       "    <tr>\n",
       "      <th>6</th>\n",
       "      <td>2019-08-04</td>\n",
       "      <td>A</td>\n",
       "      <td>77</td>\n",
       "      <td>71</td>\n",
       "      <td>388030</td>\n",
       "      <td>2562</td>\n",
       "    </tr>\n",
       "    <tr>\n",
       "      <th>7</th>\n",
       "      <td>2019-08-04</td>\n",
       "      <td>B</td>\n",
       "      <td>68</td>\n",
       "      <td>66</td>\n",
       "      <td>385740</td>\n",
       "      <td>2573</td>\n",
       "    </tr>\n",
       "    <tr>\n",
       "      <th>8</th>\n",
       "      <td>2019-08-05</td>\n",
       "      <td>A</td>\n",
       "      <td>99</td>\n",
       "      <td>92</td>\n",
       "      <td>474413</td>\n",
       "      <td>3318</td>\n",
       "    </tr>\n",
       "    <tr>\n",
       "      <th>9</th>\n",
       "      <td>2019-08-05</td>\n",
       "      <td>B</td>\n",
       "      <td>89</td>\n",
       "      <td>87</td>\n",
       "      <td>475648</td>\n",
       "      <td>3280</td>\n",
       "    </tr>\n",
       "  </tbody>\n",
       "</table>\n",
       "</div>"
      ],
      "text/plain": [
       "        date group  orders  buyers  revenue  visitors\n",
       "0 2019-08-01     A      23      19   142779       719\n",
       "1 2019-08-01     B      17      17    59758       713\n",
       "2 2019-08-02     A      42      36   234381      1338\n",
       "3 2019-08-02     B      40      39   221801      1294\n",
       "4 2019-08-03     A      66      60   346854      1845\n",
       "5 2019-08-03     B      54      53   288850      1803\n",
       "6 2019-08-04     A      77      71   388030      2562\n",
       "7 2019-08-04     B      68      66   385740      2573\n",
       "8 2019-08-05     A      99      92   474413      3318\n",
       "9 2019-08-05     B      89      87   475648      3280"
      ]
     },
     "execution_count": 24,
     "metadata": {},
     "output_type": "execute_result"
    }
   ],
   "source": [
    "cumulativeData = ordersAggregated.merge(visitorsAggregated, left_on=['date', 'group'], right_on=['date', 'group'])\n",
    "cumulativeData.columns = ['date', 'group', 'orders', 'buyers', 'revenue', 'visitors']\n",
    "cumulativeData.head(10)"
   ]
  },
  {
   "cell_type": "markdown",
   "metadata": {},
   "source": [
    "<div class=\"alert alert-block alert-success\">\n",
    "\n",
    "**Комментарий ревьювера (все отлично)**\n",
    "    \n",
    "Кумулятивные данные собраны👍\n",
    "</div>"
   ]
  },
  {
   "cell_type": "markdown",
   "metadata": {},
   "source": [
    "### Постройте график кумулятивной выручки по группам. Сделайте выводы и предположения."
   ]
  },
  {
   "cell_type": "markdown",
   "metadata": {},
   "source": [
    "**Объявим переменные cumulativeRevenueA и cumulativeRevenueB, в которых сохраним данные о датах, выручке и числе заказов в группах A и B**"
   ]
  },
  {
   "cell_type": "code",
   "execution_count": 25,
   "metadata": {},
   "outputs": [
    {
     "data": {
      "text/html": [
       "<div>\n",
       "<style scoped>\n",
       "    .dataframe tbody tr th:only-of-type {\n",
       "        vertical-align: middle;\n",
       "    }\n",
       "\n",
       "    .dataframe tbody tr th {\n",
       "        vertical-align: top;\n",
       "    }\n",
       "\n",
       "    .dataframe thead th {\n",
       "        text-align: right;\n",
       "    }\n",
       "</style>\n",
       "<table border=\"1\" class=\"dataframe\">\n",
       "  <thead>\n",
       "    <tr style=\"text-align: right;\">\n",
       "      <th></th>\n",
       "      <th>date</th>\n",
       "      <th>revenue</th>\n",
       "      <th>orders</th>\n",
       "    </tr>\n",
       "  </thead>\n",
       "  <tbody>\n",
       "    <tr>\n",
       "      <th>0</th>\n",
       "      <td>2019-08-01</td>\n",
       "      <td>142779</td>\n",
       "      <td>23</td>\n",
       "    </tr>\n",
       "    <tr>\n",
       "      <th>2</th>\n",
       "      <td>2019-08-02</td>\n",
       "      <td>234381</td>\n",
       "      <td>42</td>\n",
       "    </tr>\n",
       "    <tr>\n",
       "      <th>4</th>\n",
       "      <td>2019-08-03</td>\n",
       "      <td>346854</td>\n",
       "      <td>66</td>\n",
       "    </tr>\n",
       "    <tr>\n",
       "      <th>6</th>\n",
       "      <td>2019-08-04</td>\n",
       "      <td>388030</td>\n",
       "      <td>77</td>\n",
       "    </tr>\n",
       "    <tr>\n",
       "      <th>8</th>\n",
       "      <td>2019-08-05</td>\n",
       "      <td>474413</td>\n",
       "      <td>99</td>\n",
       "    </tr>\n",
       "  </tbody>\n",
       "</table>\n",
       "</div>"
      ],
      "text/plain": [
       "        date  revenue  orders\n",
       "0 2019-08-01   142779      23\n",
       "2 2019-08-02   234381      42\n",
       "4 2019-08-03   346854      66\n",
       "6 2019-08-04   388030      77\n",
       "8 2019-08-05   474413      99"
      ]
     },
     "execution_count": 25,
     "metadata": {},
     "output_type": "execute_result"
    }
   ],
   "source": [
    "cumulativeRevenueA = cumulativeData[cumulativeData['group']=='A'][['date','revenue','orders']]\n",
    "cumulativeRevenueB = cumulativeData[cumulativeData['group']=='B'][['date','revenue','orders']]\n",
    "cumulativeRevenueA.head()"
   ]
  },
  {
   "cell_type": "code",
   "execution_count": 26,
   "metadata": {},
   "outputs": [
    {
     "data": {
      "image/png": "[encoded data removed]",
      "text/plain": [
       "<Figure size 1000x500 with 1 Axes>"
      ]
     },
     "metadata": {},
     "output_type": "display_data"
    }
   ],
   "source": [
    "plt.figure(figsize=(10, 5))\n",
    "plt.plot(cumulativeRevenueA['date'], cumulativeRevenueA['revenue'], label='A')\n",
    "plt.plot(cumulativeRevenueB['date'], cumulativeRevenueB['revenue'], label='B')\n",
    "plt.title('График кумулятивной выручки по группам')\n",
    "plt.xlabel('Дата')\n",
    "plt.ylabel('Выручка')\n",
    "plt.legend()\n",
    "plt.show()"
   ]
  },
  {
   "cell_type": "markdown",
   "metadata": {},
   "source": [
    "<div class=\"alert alert-block alert-success\">\n",
    "\n",
    "**Комментарий ревьювера (все отлично)**\n",
    "    \n",
    "Визуализация на хорошем уровне. Здорово, что уделяешь внимание оформлению графиков. \n",
    "    \n",
    "Предлагаю изучить интересные методы по визуализации. Прикрепляю несколько интересных ссылок:\n",
    "    \n",
    "https://coderlessons.com/tutorials/python-technologies/izuchai-siborna/siborn-kratkoe-rukovodstvo\n",
    "\n",
    "https://tproger.ru/translations/python-data-vizualization/\n",
    "</div>"
   ]
  },
  {
   "cell_type": "markdown",
   "metadata": {},
   "source": [
    "График кумулятивной выручки отчетливо показывает, что примерно в середине теста, выручка группы B явно выше выручки группы A. Требуется проверка на аномалии."
   ]
  },
  {
   "cell_type": "markdown",
   "metadata": {},
   "source": [
    "<div class=\"alert alert-block alert-success\">\n",
    "\n",
    "**Комментарий ревьювера (все отлично)**\n",
    "    \n",
    "Все верно! Резкий рост обнаружен, должно быть имеем дело с выбросами.\n",
    "</div>"
   ]
  },
  {
   "cell_type": "markdown",
   "metadata": {},
   "source": [
    "### Постройте график кумулятивного среднего чека по группам. Сделайте выводы и предположения."
   ]
  },
  {
   "cell_type": "code",
   "execution_count": 27,
   "metadata": {},
   "outputs": [
    {
     "data": {
      "image/png": "[encoded data removed]",
      "text/plain": [
       "<Figure size 1000x500 with 1 Axes>"
      ]
     },
     "metadata": {},
     "output_type": "display_data"
    }
   ],
   "source": [
    "plt.figure(figsize=(10, 5))\n",
    "plt.plot(cumulativeRevenueA['date'], cumulativeRevenueA['revenue']/cumulativeRevenueA['orders'], label='A')\n",
    "plt.plot(cumulativeRevenueB['date'], cumulativeRevenueB['revenue']/cumulativeRevenueB['orders'], label='B')\n",
    "plt.title('График кумулятивного среднего чека по группа')\n",
    "plt.xlabel('Дата')\n",
    "plt.ylabel('Кумулятивный средний чек')\n",
    "plt.legend()\n",
    "plt.show()"
   ]
  },
  {
   "cell_type": "markdown",
   "metadata": {},
   "source": [
    "График кумулятивного среднего чека по группам показывает резкий всплеск среднего чека группы B в середине теста, что подтверждает необходимость проверки на аномально большие покупки."
   ]
  },
  {
   "cell_type": "markdown",
   "metadata": {},
   "source": [
    "<div class=\"alert alert-block alert-success\">\n",
    "\n",
    "**Комментарий ревьювера (все отлично)**\n",
    "    \n",
    "Согласен. \n",
    "</div>"
   ]
  },
  {
   "cell_type": "markdown",
   "metadata": {},
   "source": [
    "### Постройте график относительного изменения кумулятивного среднего чека группы B к группе A. Сделайте выводы и предположения."
   ]
  },
  {
   "cell_type": "markdown",
   "metadata": {},
   "source": [
    "**Объединим таблицы cumulativeRevenueA и cumulativeRevenueB методом merge() так, чтобы она содержала столбцы: ['date', 'revenueA', 'revenueB', 'ordersA', 'ordersB']. Сохраним в переменной mergedCumulativeRevenue.**"
   ]
  },
  {
   "cell_type": "code",
   "execution_count": 28,
   "metadata": {},
   "outputs": [
    {
     "data": {
      "text/html": [
       "<div>\n",
       "<style scoped>\n",
       "    .dataframe tbody tr th:only-of-type {\n",
       "        vertical-align: middle;\n",
       "    }\n",
       "\n",
       "    .dataframe tbody tr th {\n",
       "        vertical-align: top;\n",
       "    }\n",
       "\n",
       "    .dataframe thead th {\n",
       "        text-align: right;\n",
       "    }\n",
       "</style>\n",
       "<table border=\"1\" class=\"dataframe\">\n",
       "  <thead>\n",
       "    <tr style=\"text-align: right;\">\n",
       "      <th></th>\n",
       "      <th>date</th>\n",
       "      <th>revenueA</th>\n",
       "      <th>ordersA</th>\n",
       "      <th>revenueB</th>\n",
       "      <th>ordersB</th>\n",
       "    </tr>\n",
       "  </thead>\n",
       "  <tbody>\n",
       "    <tr>\n",
       "      <th>0</th>\n",
       "      <td>2019-08-01</td>\n",
       "      <td>142779</td>\n",
       "      <td>23</td>\n",
       "      <td>59758</td>\n",
       "      <td>17</td>\n",
       "    </tr>\n",
       "    <tr>\n",
       "      <th>1</th>\n",
       "      <td>2019-08-02</td>\n",
       "      <td>234381</td>\n",
       "      <td>42</td>\n",
       "      <td>221801</td>\n",
       "      <td>40</td>\n",
       "    </tr>\n",
       "    <tr>\n",
       "      <th>2</th>\n",
       "      <td>2019-08-03</td>\n",
       "      <td>346854</td>\n",
       "      <td>66</td>\n",
       "      <td>288850</td>\n",
       "      <td>54</td>\n",
       "    </tr>\n",
       "    <tr>\n",
       "      <th>3</th>\n",
       "      <td>2019-08-04</td>\n",
       "      <td>388030</td>\n",
       "      <td>77</td>\n",
       "      <td>385740</td>\n",
       "      <td>68</td>\n",
       "    </tr>\n",
       "    <tr>\n",
       "      <th>4</th>\n",
       "      <td>2019-08-05</td>\n",
       "      <td>474413</td>\n",
       "      <td>99</td>\n",
       "      <td>475648</td>\n",
       "      <td>89</td>\n",
       "    </tr>\n",
       "  </tbody>\n",
       "</table>\n",
       "</div>"
      ],
      "text/plain": [
       "        date  revenueA  ordersA  revenueB  ordersB\n",
       "0 2019-08-01    142779       23     59758       17\n",
       "1 2019-08-02    234381       42    221801       40\n",
       "2 2019-08-03    346854       66    288850       54\n",
       "3 2019-08-04    388030       77    385740       68\n",
       "4 2019-08-05    474413       99    475648       89"
      ]
     },
     "execution_count": 28,
     "metadata": {},
     "output_type": "execute_result"
    }
   ],
   "source": [
    "mergedCumulativeRevenue = cumulativeRevenueA.merge(cumulativeRevenueB, left_on='date', right_on='date', suffixes=['A', 'B'])\n",
    "mergedCumulativeRevenue.head()"
   ]
  },
  {
   "cell_type": "code",
   "execution_count": 29,
   "metadata": {},
   "outputs": [
    {
     "data": {
      "image/png": "[encoded data removed]",
      "text/plain": [
       "<Figure size 1000x500 with 1 Axes>"
      ]
     },
     "metadata": {},
     "output_type": "display_data"
    }
   ],
   "source": [
    "plt.figure(figsize=(10, 5))\n",
    "plt.plot(mergedCumulativeRevenue['date'], (mergedCumulativeRevenue['revenueB']/mergedCumulativeRevenue['ordersB'])/(mergedCumulativeRevenue['revenueA']/mergedCumulativeRevenue['ordersA'])-1)\n",
    "plt.axhline(y=0, color='black', linestyle='--')\n",
    "plt.title('График относительного изменения кумулятивного среднего чека группы B к группе A')\n",
    "plt.xlabel('Дата')\n",
    "plt.ylabel('Относительное изменение')\n",
    "plt.legend\n",
    "plt.show()"
   ]
  },
  {
   "cell_type": "markdown",
   "metadata": {},
   "source": [
    "На графике относительного изменения кумулятивного среднего чека мы видим резкие скачки на нескольких этапах теста. Скорее всего в эти даты были сделаны крупные покупки в группе B."
   ]
  },
  {
   "cell_type": "markdown",
   "metadata": {},
   "source": [
    "<div class=\"alert alert-block alert-warning\">\n",
    "\n",
    "**Комментарий ревьювера (что можно улучшить)**\n",
    "    \n",
    "Второй пик 19 августа можно объяснить ранее обнаруженными аномалиями. Но чем можно объяснить первый пик с учётом того, что в эти даты аномалий по среднему чеку и по выручке не было?\n",
    "</div>"
   ]
  },
  {
   "cell_type": "code",
   "execution_count": 30,
   "metadata": {},
   "outputs": [
    {
     "data": {
      "text/html": [
       "<div>\n",
       "<style scoped>\n",
       "    .dataframe tbody tr th:only-of-type {\n",
       "        vertical-align: middle;\n",
       "    }\n",
       "\n",
       "    .dataframe tbody tr th {\n",
       "        vertical-align: top;\n",
       "    }\n",
       "\n",
       "    .dataframe thead th {\n",
       "        text-align: right;\n",
       "    }\n",
       "</style>\n",
       "<table border=\"1\" class=\"dataframe\">\n",
       "  <thead>\n",
       "    <tr style=\"text-align: right;\">\n",
       "      <th></th>\n",
       "      <th>date</th>\n",
       "      <th>group</th>\n",
       "      <th>transactionId</th>\n",
       "      <th>revenue</th>\n",
       "      <th>avg_revenue</th>\n",
       "    </tr>\n",
       "  </thead>\n",
       "  <tbody>\n",
       "    <tr>\n",
       "      <th>55</th>\n",
       "      <td>2019-08-01</td>\n",
       "      <td>A</td>\n",
       "      <td>23</td>\n",
       "      <td>142779</td>\n",
       "      <td>6207.782609</td>\n",
       "    </tr>\n",
       "    <tr>\n",
       "      <th>66</th>\n",
       "      <td>2019-08-01</td>\n",
       "      <td>B</td>\n",
       "      <td>17</td>\n",
       "      <td>59758</td>\n",
       "      <td>3515.176471</td>\n",
       "    </tr>\n",
       "    <tr>\n",
       "      <th>175</th>\n",
       "      <td>2019-08-02</td>\n",
       "      <td>A</td>\n",
       "      <td>42</td>\n",
       "      <td>234381</td>\n",
       "      <td>5580.500000</td>\n",
       "    </tr>\n",
       "    <tr>\n",
       "      <th>173</th>\n",
       "      <td>2019-08-02</td>\n",
       "      <td>B</td>\n",
       "      <td>40</td>\n",
       "      <td>221801</td>\n",
       "      <td>5545.025000</td>\n",
       "    </tr>\n",
       "    <tr>\n",
       "      <th>291</th>\n",
       "      <td>2019-08-03</td>\n",
       "      <td>A</td>\n",
       "      <td>66</td>\n",
       "      <td>346854</td>\n",
       "      <td>5255.363636</td>\n",
       "    </tr>\n",
       "    <tr>\n",
       "      <th>383</th>\n",
       "      <td>2019-08-03</td>\n",
       "      <td>B</td>\n",
       "      <td>54</td>\n",
       "      <td>288850</td>\n",
       "      <td>5349.074074</td>\n",
       "    </tr>\n",
       "    <tr>\n",
       "      <th>499</th>\n",
       "      <td>2019-08-04</td>\n",
       "      <td>A</td>\n",
       "      <td>77</td>\n",
       "      <td>388030</td>\n",
       "      <td>5039.350649</td>\n",
       "    </tr>\n",
       "    <tr>\n",
       "      <th>498</th>\n",
       "      <td>2019-08-04</td>\n",
       "      <td>B</td>\n",
       "      <td>68</td>\n",
       "      <td>385740</td>\n",
       "      <td>5672.647059</td>\n",
       "    </tr>\n",
       "    <tr>\n",
       "      <th>719</th>\n",
       "      <td>2019-08-05</td>\n",
       "      <td>A</td>\n",
       "      <td>99</td>\n",
       "      <td>474413</td>\n",
       "      <td>4792.050505</td>\n",
       "    </tr>\n",
       "    <tr>\n",
       "      <th>699</th>\n",
       "      <td>2019-08-05</td>\n",
       "      <td>B</td>\n",
       "      <td>89</td>\n",
       "      <td>475648</td>\n",
       "      <td>5344.359551</td>\n",
       "    </tr>\n",
       "    <tr>\n",
       "      <th>362</th>\n",
       "      <td>2019-08-06</td>\n",
       "      <td>A</td>\n",
       "      <td>114</td>\n",
       "      <td>515332</td>\n",
       "      <td>4520.456140</td>\n",
       "    </tr>\n",
       "    <tr>\n",
       "      <th>360</th>\n",
       "      <td>2019-08-06</td>\n",
       "      <td>B</td>\n",
       "      <td>112</td>\n",
       "      <td>690490</td>\n",
       "      <td>6165.089286</td>\n",
       "    </tr>\n",
       "    <tr>\n",
       "      <th>580</th>\n",
       "      <td>2019-08-07</td>\n",
       "      <td>A</td>\n",
       "      <td>130</td>\n",
       "      <td>638580</td>\n",
       "      <td>4912.153846</td>\n",
       "    </tr>\n",
       "    <tr>\n",
       "      <th>581</th>\n",
       "      <td>2019-08-07</td>\n",
       "      <td>B</td>\n",
       "      <td>135</td>\n",
       "      <td>909654</td>\n",
       "      <td>6738.177778</td>\n",
       "    </tr>\n",
       "    <tr>\n",
       "      <th>835</th>\n",
       "      <td>2019-08-08</td>\n",
       "      <td>A</td>\n",
       "      <td>144</td>\n",
       "      <td>727219</td>\n",
       "      <td>5050.131944</td>\n",
       "    </tr>\n",
       "    <tr>\n",
       "      <th>789</th>\n",
       "      <td>2019-08-08</td>\n",
       "      <td>B</td>\n",
       "      <td>157</td>\n",
       "      <td>1059795</td>\n",
       "      <td>6750.286624</td>\n",
       "    </tr>\n",
       "    <tr>\n",
       "      <th>569</th>\n",
       "      <td>2019-08-09</td>\n",
       "      <td>A</td>\n",
       "      <td>155</td>\n",
       "      <td>861456</td>\n",
       "      <td>5557.780645</td>\n",
       "    </tr>\n",
       "    <tr>\n",
       "      <th>567</th>\n",
       "      <td>2019-08-09</td>\n",
       "      <td>B</td>\n",
       "      <td>176</td>\n",
       "      <td>1162961</td>\n",
       "      <td>6607.732955</td>\n",
       "    </tr>\n",
       "    <tr>\n",
       "      <th>859</th>\n",
       "      <td>2019-08-10</td>\n",
       "      <td>A</td>\n",
       "      <td>170</td>\n",
       "      <td>1013731</td>\n",
       "      <td>5963.123529</td>\n",
       "    </tr>\n",
       "    <tr>\n",
       "      <th>794</th>\n",
       "      <td>2019-08-10</td>\n",
       "      <td>B</td>\n",
       "      <td>198</td>\n",
       "      <td>1268123</td>\n",
       "      <td>6404.661616</td>\n",
       "    </tr>\n",
       "    <tr>\n",
       "      <th>1041</th>\n",
       "      <td>2019-08-11</td>\n",
       "      <td>A</td>\n",
       "      <td>181</td>\n",
       "      <td>1074396</td>\n",
       "      <td>5935.889503</td>\n",
       "    </tr>\n",
       "    <tr>\n",
       "      <th>1043</th>\n",
       "      <td>2019-08-11</td>\n",
       "      <td>B</td>\n",
       "      <td>210</td>\n",
       "      <td>1321183</td>\n",
       "      <td>6291.347619</td>\n",
       "    </tr>\n",
       "  </tbody>\n",
       "</table>\n",
       "</div>"
      ],
      "text/plain": [
       "           date group  transactionId  revenue  avg_revenue\n",
       "55   2019-08-01     A             23   142779  6207.782609\n",
       "66   2019-08-01     B             17    59758  3515.176471\n",
       "175  2019-08-02     A             42   234381  5580.500000\n",
       "173  2019-08-02     B             40   221801  5545.025000\n",
       "291  2019-08-03     A             66   346854  5255.363636\n",
       "383  2019-08-03     B             54   288850  5349.074074\n",
       "499  2019-08-04     A             77   388030  5039.350649\n",
       "498  2019-08-04     B             68   385740  5672.647059\n",
       "719  2019-08-05     A             99   474413  4792.050505\n",
       "699  2019-08-05     B             89   475648  5344.359551\n",
       "362  2019-08-06     A            114   515332  4520.456140\n",
       "360  2019-08-06     B            112   690490  6165.089286\n",
       "580  2019-08-07     A            130   638580  4912.153846\n",
       "581  2019-08-07     B            135   909654  6738.177778\n",
       "835  2019-08-08     A            144   727219  5050.131944\n",
       "789  2019-08-08     B            157  1059795  6750.286624\n",
       "569  2019-08-09     A            155   861456  5557.780645\n",
       "567  2019-08-09     B            176  1162961  6607.732955\n",
       "859  2019-08-10     A            170  1013731  5963.123529\n",
       "794  2019-08-10     B            198  1268123  6404.661616\n",
       "1041 2019-08-11     A            181  1074396  5935.889503\n",
       "1043 2019-08-11     B            210  1321183  6291.347619"
      ]
     },
     "execution_count": 30,
     "metadata": {},
     "output_type": "execute_result"
    }
   ],
   "source": [
    "avg_revenue = ordersAggregated\n",
    "avg_revenue['avg_revenue'] = avg_revenue['revenue']/avg_revenue['transactionId']\n",
    "avg_revenue[['date', 'group', 'transactionId', 'revenue', 'avg_revenue']].head(22)\n"
   ]
  },
  {
   "cell_type": "markdown",
   "metadata": {},
   "source": [
    "<div class=\"alert alert-block alert-info\">\n",
    "<b>Как показывают данные, с 2  по 9 августа средний чек группы B с каждым днем стремительно возрастал. Это кумулятивно и отобразилось на графике. </b>\n",
    "</div>"
   ]
  },
  {
   "cell_type": "markdown",
   "metadata": {},
   "source": [
    "<div class=\"alert alert-block alert-success\">\n",
    "\n",
    "**Комментарий ревьювера v2 (все отлично)**\n",
    "    \n",
    "Верно, при этом группа А показывала снижение.\n",
    "</div>"
   ]
  },
  {
   "cell_type": "markdown",
   "metadata": {},
   "source": [
    "### Постройте график кумулятивного среднего количества заказов на посетителя по группам. Сделайте выводы и предположения."
   ]
  },
  {
   "cell_type": "markdown",
   "metadata": {},
   "source": [
    "**Добавим в cumulativeData столбец 'conversion' c отношением числа заказов к количеству пользователей в указанной группе в указанный день.\n",
    "Объявим переменные cumulativeDataA и cumulativeDataB, в которых сохраните данные о заказах в сегментах A и B соответственно.**"
   ]
  },
  {
   "cell_type": "code",
   "execution_count": 31,
   "metadata": {},
   "outputs": [
    {
     "data": {
      "text/html": [
       "<div>\n",
       "<style scoped>\n",
       "    .dataframe tbody tr th:only-of-type {\n",
       "        vertical-align: middle;\n",
       "    }\n",
       "\n",
       "    .dataframe tbody tr th {\n",
       "        vertical-align: top;\n",
       "    }\n",
       "\n",
       "    .dataframe thead th {\n",
       "        text-align: right;\n",
       "    }\n",
       "</style>\n",
       "<table border=\"1\" class=\"dataframe\">\n",
       "  <thead>\n",
       "    <tr style=\"text-align: right;\">\n",
       "      <th></th>\n",
       "      <th>date</th>\n",
       "      <th>group</th>\n",
       "      <th>orders</th>\n",
       "      <th>buyers</th>\n",
       "      <th>revenue</th>\n",
       "      <th>visitors</th>\n",
       "    </tr>\n",
       "  </thead>\n",
       "  <tbody>\n",
       "    <tr>\n",
       "      <th>0</th>\n",
       "      <td>2019-08-01</td>\n",
       "      <td>A</td>\n",
       "      <td>23</td>\n",
       "      <td>19</td>\n",
       "      <td>142779</td>\n",
       "      <td>719</td>\n",
       "    </tr>\n",
       "    <tr>\n",
       "      <th>1</th>\n",
       "      <td>2019-08-01</td>\n",
       "      <td>B</td>\n",
       "      <td>17</td>\n",
       "      <td>17</td>\n",
       "      <td>59758</td>\n",
       "      <td>713</td>\n",
       "    </tr>\n",
       "    <tr>\n",
       "      <th>2</th>\n",
       "      <td>2019-08-02</td>\n",
       "      <td>A</td>\n",
       "      <td>42</td>\n",
       "      <td>36</td>\n",
       "      <td>234381</td>\n",
       "      <td>1338</td>\n",
       "    </tr>\n",
       "    <tr>\n",
       "      <th>3</th>\n",
       "      <td>2019-08-02</td>\n",
       "      <td>B</td>\n",
       "      <td>40</td>\n",
       "      <td>39</td>\n",
       "      <td>221801</td>\n",
       "      <td>1294</td>\n",
       "    </tr>\n",
       "    <tr>\n",
       "      <th>4</th>\n",
       "      <td>2019-08-03</td>\n",
       "      <td>A</td>\n",
       "      <td>66</td>\n",
       "      <td>60</td>\n",
       "      <td>346854</td>\n",
       "      <td>1845</td>\n",
       "    </tr>\n",
       "  </tbody>\n",
       "</table>\n",
       "</div>"
      ],
      "text/plain": [
       "        date group  orders  buyers  revenue  visitors\n",
       "0 2019-08-01     A      23      19   142779       719\n",
       "1 2019-08-01     B      17      17    59758       713\n",
       "2 2019-08-02     A      42      36   234381      1338\n",
       "3 2019-08-02     B      40      39   221801      1294\n",
       "4 2019-08-03     A      66      60   346854      1845"
      ]
     },
     "execution_count": 31,
     "metadata": {},
     "output_type": "execute_result"
    }
   ],
   "source": [
    "cumulativeData.head()"
   ]
  },
  {
   "cell_type": "code",
   "execution_count": 32,
   "metadata": {},
   "outputs": [
    {
     "data": {
      "text/html": [
       "<div>\n",
       "<style scoped>\n",
       "    .dataframe tbody tr th:only-of-type {\n",
       "        vertical-align: middle;\n",
       "    }\n",
       "\n",
       "    .dataframe tbody tr th {\n",
       "        vertical-align: top;\n",
       "    }\n",
       "\n",
       "    .dataframe thead th {\n",
       "        text-align: right;\n",
       "    }\n",
       "</style>\n",
       "<table border=\"1\" class=\"dataframe\">\n",
       "  <thead>\n",
       "    <tr style=\"text-align: right;\">\n",
       "      <th></th>\n",
       "      <th>date</th>\n",
       "      <th>group</th>\n",
       "      <th>orders</th>\n",
       "      <th>buyers</th>\n",
       "      <th>revenue</th>\n",
       "      <th>visitors</th>\n",
       "      <th>conversion</th>\n",
       "    </tr>\n",
       "  </thead>\n",
       "  <tbody>\n",
       "    <tr>\n",
       "      <th>0</th>\n",
       "      <td>2019-08-01</td>\n",
       "      <td>A</td>\n",
       "      <td>23</td>\n",
       "      <td>19</td>\n",
       "      <td>142779</td>\n",
       "      <td>719</td>\n",
       "      <td>0.031989</td>\n",
       "    </tr>\n",
       "    <tr>\n",
       "      <th>1</th>\n",
       "      <td>2019-08-01</td>\n",
       "      <td>B</td>\n",
       "      <td>17</td>\n",
       "      <td>17</td>\n",
       "      <td>59758</td>\n",
       "      <td>713</td>\n",
       "      <td>0.023843</td>\n",
       "    </tr>\n",
       "    <tr>\n",
       "      <th>2</th>\n",
       "      <td>2019-08-02</td>\n",
       "      <td>A</td>\n",
       "      <td>42</td>\n",
       "      <td>36</td>\n",
       "      <td>234381</td>\n",
       "      <td>1338</td>\n",
       "      <td>0.031390</td>\n",
       "    </tr>\n",
       "    <tr>\n",
       "      <th>3</th>\n",
       "      <td>2019-08-02</td>\n",
       "      <td>B</td>\n",
       "      <td>40</td>\n",
       "      <td>39</td>\n",
       "      <td>221801</td>\n",
       "      <td>1294</td>\n",
       "      <td>0.030912</td>\n",
       "    </tr>\n",
       "    <tr>\n",
       "      <th>4</th>\n",
       "      <td>2019-08-03</td>\n",
       "      <td>A</td>\n",
       "      <td>66</td>\n",
       "      <td>60</td>\n",
       "      <td>346854</td>\n",
       "      <td>1845</td>\n",
       "      <td>0.035772</td>\n",
       "    </tr>\n",
       "  </tbody>\n",
       "</table>\n",
       "</div>"
      ],
      "text/plain": [
       "        date group  orders  buyers  revenue  visitors  conversion\n",
       "0 2019-08-01     A      23      19   142779       719    0.031989\n",
       "1 2019-08-01     B      17      17    59758       713    0.023843\n",
       "2 2019-08-02     A      42      36   234381      1338    0.031390\n",
       "3 2019-08-02     B      40      39   221801      1294    0.030912\n",
       "4 2019-08-03     A      66      60   346854      1845    0.035772"
      ]
     },
     "execution_count": 32,
     "metadata": {},
     "output_type": "execute_result"
    }
   ],
   "source": [
    "cumulativeData['conversion'] = cumulativeData['orders']/cumulativeData['visitors']\n",
    "cumulativeDataA = cumulativeData[cumulativeData['group']=='A']\n",
    "cumulativeDataB = cumulativeData[cumulativeData['group']=='B']\n",
    "cumulativeData.head()"
   ]
  },
  {
   "cell_type": "code",
   "execution_count": 33,
   "metadata": {},
   "outputs": [
    {
     "data": {
      "image/png": "[encoded data removed]",
      "text/plain": [
       "<Figure size 1000x500 with 1 Axes>"
      ]
     },
     "metadata": {},
     "output_type": "display_data"
    }
   ],
   "source": [
    "plt.figure(figsize=(10, 5))\n",
    "plt.plot(cumulativeDataA['date'], cumulativeDataA['conversion'], label='A')\n",
    "plt.plot(cumulativeDataB['date'], cumulativeDataB['conversion'], label='B')\n",
    "plt.title('График кумулятивного среднего количества заказов на посетителя по группам')\n",
    "plt.xlabel('Дата')\n",
    "plt.ylabel('Среднее количество заказов')\n",
    "plt.axis([dt.datetime(2019, 8, 1), dt.datetime(2019, 9, 1), 0.020, 0.037])\n",
    "plt.legend()\n",
    "plt.show()"
   ]
  },
  {
   "cell_type": "markdown",
   "metadata": {},
   "source": [
    "По графику кумулятивного среднего количества заказов видно, что изначально конверсия заказов группы A была выше конверсии группы B. Примерно с шестого дня группа B вырвалась вперед и лидировала до конца теста."
   ]
  },
  {
   "cell_type": "markdown",
   "metadata": {},
   "source": [
    "<div class=\"alert alert-block alert-success\">\n",
    "\n",
    "**Комментарий ревьювера (все отлично)**\n",
    "    \n",
    "Согласен, к середине теста графики стабилизировались около определенных значений.\n",
    "</div>"
   ]
  },
  {
   "cell_type": "markdown",
   "metadata": {},
   "source": [
    "### Постройте график относительного изменения кумулятивного среднего количества заказов на посетителя группы B к группе A. Сделайте выводы и предположения."
   ]
  },
  {
   "cell_type": "markdown",
   "metadata": {},
   "source": [
    "**Объединим таблицы cumulativeDataA и cumulativeDataB методом merge() так, чтобы она содержала столбцы: ['date', 'conversionA', 'conversionB']. Сохраним в переменной mergedCumulativeConversions.**"
   ]
  },
  {
   "cell_type": "code",
   "execution_count": 34,
   "metadata": {},
   "outputs": [
    {
     "data": {
      "text/html": [
       "<div>\n",
       "<style scoped>\n",
       "    .dataframe tbody tr th:only-of-type {\n",
       "        vertical-align: middle;\n",
       "    }\n",
       "\n",
       "    .dataframe tbody tr th {\n",
       "        vertical-align: top;\n",
       "    }\n",
       "\n",
       "    .dataframe thead th {\n",
       "        text-align: right;\n",
       "    }\n",
       "</style>\n",
       "<table border=\"1\" class=\"dataframe\">\n",
       "  <thead>\n",
       "    <tr style=\"text-align: right;\">\n",
       "      <th></th>\n",
       "      <th>date</th>\n",
       "      <th>conversionA</th>\n",
       "      <th>conversionB</th>\n",
       "    </tr>\n",
       "  </thead>\n",
       "  <tbody>\n",
       "    <tr>\n",
       "      <th>0</th>\n",
       "      <td>2019-08-01</td>\n",
       "      <td>0.031989</td>\n",
       "      <td>0.023843</td>\n",
       "    </tr>\n",
       "    <tr>\n",
       "      <th>1</th>\n",
       "      <td>2019-08-02</td>\n",
       "      <td>0.031390</td>\n",
       "      <td>0.030912</td>\n",
       "    </tr>\n",
       "    <tr>\n",
       "      <th>2</th>\n",
       "      <td>2019-08-03</td>\n",
       "      <td>0.035772</td>\n",
       "      <td>0.029950</td>\n",
       "    </tr>\n",
       "    <tr>\n",
       "      <th>3</th>\n",
       "      <td>2019-08-04</td>\n",
       "      <td>0.030055</td>\n",
       "      <td>0.026428</td>\n",
       "    </tr>\n",
       "    <tr>\n",
       "      <th>4</th>\n",
       "      <td>2019-08-05</td>\n",
       "      <td>0.029837</td>\n",
       "      <td>0.027134</td>\n",
       "    </tr>\n",
       "  </tbody>\n",
       "</table>\n",
       "</div>"
      ],
      "text/plain": [
       "        date  conversionA  conversionB\n",
       "0 2019-08-01     0.031989     0.023843\n",
       "1 2019-08-02     0.031390     0.030912\n",
       "2 2019-08-03     0.035772     0.029950\n",
       "3 2019-08-04     0.030055     0.026428\n",
       "4 2019-08-05     0.029837     0.027134"
      ]
     },
     "execution_count": 34,
     "metadata": {},
     "output_type": "execute_result"
    }
   ],
   "source": [
    "mergedCumulativeConversions = cumulativeDataA[['date','conversion']].merge(cumulativeDataB[['date','conversion']], left_on='date', right_on='date', how='left', suffixes=['A', 'B'])\n",
    "mergedCumulativeConversions.head()"
   ]
  },
  {
   "cell_type": "code",
   "execution_count": 35,
   "metadata": {},
   "outputs": [
    {
     "data": {
      "image/png": "[encoded data removed]",
      "text/plain": [
       "<Figure size 1000x500 with 1 Axes>"
      ]
     },
     "metadata": {},
     "output_type": "display_data"
    }
   ],
   "source": [
    "plt.figure(figsize=(10, 5))\n",
    "plt.plot(mergedCumulativeConversions['date'], mergedCumulativeConversions['conversionB']/mergedCumulativeConversions['conversionA']-1, label=\"Относительный прирост кумулятивного среднего количества заказов на посетителя группы B относительно группы A\")\n",
    "plt.title('График относительного изменения кумулятивного среднего количества заказов на посетителя группы B к группе A')\n",
    "plt.xlabel('Дата')\n",
    "plt.ylabel('Относительное изменение')\n",
    "plt.axhline(y=0, color='black', linestyle='--')\n",
    "plt.axhline(y=0.14, color='grey', linestyle='--')\n",
    "plt.show()"
   ]
  },
  {
   "cell_type": "markdown",
   "metadata": {},
   "source": [
    "График относительного изменения кумулятивного среднего количества заказов демонстрирует, что после первой недели теста группа B вырвалась в лидеры по данной метрике и в конце теста зафиксировала прирост на 14% относительно группы A."
   ]
  },
  {
   "cell_type": "markdown",
   "metadata": {},
   "source": [
    "<div class=\"alert alert-block alert-success\">\n",
    "\n",
    "**Комментарий ревьювера (все отлично)**\n",
    "     \n",
    "Группа В лучше группы А большую часть теста. Правильно, что сразу комментируешь графики.\n",
    "</div>"
   ]
  },
  {
   "cell_type": "markdown",
   "metadata": {},
   "source": [
    "### Постройте точечный график количества заказов по пользователям. Сделайте выводы и предположения."
   ]
  },
  {
   "cell_type": "markdown",
   "metadata": {},
   "source": [
    "**Найдем число заказов по пользователям. Назовем его ordersByUsers. Отсортируем по убыванию количества заказов пользователей.**"
   ]
  },
  {
   "cell_type": "code",
   "execution_count": 36,
   "metadata": {},
   "outputs": [
    {
     "data": {
      "text/html": [
       "<div>\n",
       "<style scoped>\n",
       "    .dataframe tbody tr th:only-of-type {\n",
       "        vertical-align: middle;\n",
       "    }\n",
       "\n",
       "    .dataframe tbody tr th {\n",
       "        vertical-align: top;\n",
       "    }\n",
       "\n",
       "    .dataframe thead th {\n",
       "        text-align: right;\n",
       "    }\n",
       "</style>\n",
       "<table border=\"1\" class=\"dataframe\">\n",
       "  <thead>\n",
       "    <tr style=\"text-align: right;\">\n",
       "      <th></th>\n",
       "      <th>transactionId</th>\n",
       "      <th>visitorId</th>\n",
       "      <th>date</th>\n",
       "      <th>revenue</th>\n",
       "      <th>group</th>\n",
       "    </tr>\n",
       "  </thead>\n",
       "  <tbody>\n",
       "    <tr>\n",
       "      <th>0</th>\n",
       "      <td>3667963787</td>\n",
       "      <td>3312258926</td>\n",
       "      <td>2019-08-15</td>\n",
       "      <td>1650</td>\n",
       "      <td>B</td>\n",
       "    </tr>\n",
       "    <tr>\n",
       "      <th>1</th>\n",
       "      <td>2804400009</td>\n",
       "      <td>3642806036</td>\n",
       "      <td>2019-08-15</td>\n",
       "      <td>730</td>\n",
       "      <td>B</td>\n",
       "    </tr>\n",
       "    <tr>\n",
       "      <th>3</th>\n",
       "      <td>3797467345</td>\n",
       "      <td>1196621759</td>\n",
       "      <td>2019-08-15</td>\n",
       "      <td>9759</td>\n",
       "      <td>B</td>\n",
       "    </tr>\n",
       "    <tr>\n",
       "      <th>4</th>\n",
       "      <td>2282983706</td>\n",
       "      <td>2322279887</td>\n",
       "      <td>2019-08-15</td>\n",
       "      <td>2308</td>\n",
       "      <td>B</td>\n",
       "    </tr>\n",
       "    <tr>\n",
       "      <th>5</th>\n",
       "      <td>182168103</td>\n",
       "      <td>935554773</td>\n",
       "      <td>2019-08-15</td>\n",
       "      <td>2210</td>\n",
       "      <td>B</td>\n",
       "    </tr>\n",
       "  </tbody>\n",
       "</table>\n",
       "</div>"
      ],
      "text/plain": [
       "   transactionId   visitorId       date  revenue group\n",
       "0     3667963787  3312258926 2019-08-15     1650     B\n",
       "1     2804400009  3642806036 2019-08-15      730     B\n",
       "3     3797467345  1196621759 2019-08-15     9759     B\n",
       "4     2282983706  2322279887 2019-08-15     2308     B\n",
       "5      182168103   935554773 2019-08-15     2210     B"
      ]
     },
     "execution_count": 36,
     "metadata": {},
     "output_type": "execute_result"
    }
   ],
   "source": [
    "orders.head()"
   ]
  },
  {
   "cell_type": "code",
   "execution_count": 37,
   "metadata": {},
   "outputs": [
    {
     "data": {
      "text/html": [
       "<div>\n",
       "<style scoped>\n",
       "    .dataframe tbody tr th:only-of-type {\n",
       "        vertical-align: middle;\n",
       "    }\n",
       "\n",
       "    .dataframe tbody tr th {\n",
       "        vertical-align: top;\n",
       "    }\n",
       "\n",
       "    .dataframe thead th {\n",
       "        text-align: right;\n",
       "    }\n",
       "</style>\n",
       "<table border=\"1\" class=\"dataframe\">\n",
       "  <thead>\n",
       "    <tr style=\"text-align: right;\">\n",
       "      <th></th>\n",
       "      <th>visitors</th>\n",
       "      <th>transactions</th>\n",
       "    </tr>\n",
       "  </thead>\n",
       "  <tbody>\n",
       "    <tr>\n",
       "      <th>908</th>\n",
       "      <td>3967698036</td>\n",
       "      <td>3</td>\n",
       "    </tr>\n",
       "    <tr>\n",
       "      <th>55</th>\n",
       "      <td>249864742</td>\n",
       "      <td>3</td>\n",
       "    </tr>\n",
       "    <tr>\n",
       "      <th>478</th>\n",
       "      <td>2108163459</td>\n",
       "      <td>3</td>\n",
       "    </tr>\n",
       "    <tr>\n",
       "      <th>687</th>\n",
       "      <td>2988190573</td>\n",
       "      <td>3</td>\n",
       "    </tr>\n",
       "    <tr>\n",
       "      <th>890</th>\n",
       "      <td>3908431265</td>\n",
       "      <td>3</td>\n",
       "    </tr>\n",
       "  </tbody>\n",
       "</table>\n",
       "</div>"
      ],
      "text/plain": [
       "       visitors  transactions\n",
       "908  3967698036             3\n",
       "55    249864742             3\n",
       "478  2108163459             3\n",
       "687  2988190573             3\n",
       "890  3908431265             3"
      ]
     },
     "execution_count": 37,
     "metadata": {},
     "output_type": "execute_result"
    }
   ],
   "source": [
    "ordersByUsers = orders.groupby('visitorId', as_index=False).agg({'transactionId':'nunique'})\n",
    "ordersByUsers.columns = ['visitors', 'transactions']\n",
    "ordersByUsers.sort_values(by='transactions', ascending=False).head()"
   ]
  },
  {
   "cell_type": "markdown",
   "metadata": {},
   "source": [
    "**Построим диаграмму методом scatter().** "
   ]
  },
  {
   "cell_type": "code",
   "execution_count": 38,
   "metadata": {},
   "outputs": [
    {
     "data": {
      "image/png": "[encoded data removed]",
      "text/plain": [
       "<Figure size 1000x500 with 1 Axes>"
      ]
     },
     "metadata": {},
     "output_type": "display_data"
    }
   ],
   "source": [
    "plt.figure(figsize=(10, 5))\n",
    "x_values = pd.Series(range(0, len(ordersByUsers)))\n",
    "plt.scatter(x_values, ordersByUsers['transactions'])\n",
    "plt.title('График количества заказов по пользователям')\n",
    "plt.xlabel('Пользователи')\n",
    "plt.ylabel('Число заказов')\n",
    "plt.show()"
   ]
  },
  {
   "cell_type": "markdown",
   "metadata": {},
   "source": [
    "Большая часть - пользователи, совершившие 1-2 покупки. Пользователи с 3 и более заказами возможно аномальные."
   ]
  },
  {
   "cell_type": "markdown",
   "metadata": {},
   "source": [
    "### Посчитайте 95-й и 99-й перцентили количества заказов на пользователя. Выберите границу для определения аномальных пользователей."
   ]
  },
  {
   "cell_type": "code",
   "execution_count": 39,
   "metadata": {},
   "outputs": [
    {
     "data": {
      "text/plain": [
       "array([1., 2.])"
      ]
     },
     "execution_count": 39,
     "metadata": {},
     "output_type": "execute_result"
    }
   ],
   "source": [
    "np.percentile(ordersByUsers['transactions'], [95, 99])"
   ]
  },
  {
   "cell_type": "markdown",
   "metadata": {},
   "source": [
    "Не более 5% пользователей сделали больше 2 заказов, 1% пользователей сделали больше 4 заказов."
   ]
  },
  {
   "cell_type": "markdown",
   "metadata": {},
   "source": [
    "🔁Не более 5% пользователей сделали больше 1 заказов, 1% пользователей сделали больше 2 заказов"
   ]
  },
  {
   "cell_type": "markdown",
   "metadata": {},
   "source": [
    "<div class=\"alert alert-block alert-success\">\n",
    "\n",
    "**Комментарий ревьювера (все отлично)**\n",
    "     \n",
    "Отлично, перцентили количества заказов на пользователя рассчитаны верно. \n",
    "</div>"
   ]
  },
  {
   "cell_type": "markdown",
   "metadata": {},
   "source": [
    "### Постройте точечный график стоимостей заказов. Сделайте выводы и предположения."
   ]
  },
  {
   "cell_type": "code",
   "execution_count": 40,
   "metadata": {},
   "outputs": [
    {
     "data": {
      "image/png": "[encoded data removed]",
      "text/plain": [
       "<Figure size 1000x500 with 1 Axes>"
      ]
     },
     "metadata": {},
     "output_type": "display_data"
    }
   ],
   "source": [
    "plt.figure(figsize=(10, 5))\n",
    "x_values = pd.Series(range(0, len(orders['revenue'])))\n",
    "plt.scatter(x_values, orders['revenue'])\n",
    "plt.title('График стоимости заказов')\n",
    "plt.xlabel('Заказы')\n",
    "plt.ylabel('Стоимость')\n",
    "plt.show()"
   ]
  },
  {
   "cell_type": "markdown",
   "metadata": {},
   "source": [
    "На графике из общей массы выбиваются 2 заказа - на 200K р. и >1200K р. Выглядят аномально."
   ]
  },
  {
   "cell_type": "code",
   "execution_count": 41,
   "metadata": {},
   "outputs": [
    {
     "data": {
      "image/png": "[encoded data removed]",
      "text/plain": [
       "<Figure size 1000x500 with 1 Axes>"
      ]
     },
     "metadata": {},
     "output_type": "display_data"
    }
   ],
   "source": [
    "plt.figure(figsize=(10, 5))\n",
    "x_values = pd.Series(range(0, len(orders['revenue'])))\n",
    "plt.scatter(x_values, orders['revenue'])\n",
    "plt.title('График стоимости заказов')\n",
    "plt.xlabel('Заказы')\n",
    "plt.ylabel('Стоимость')\n",
    "plt.ylim([0,150000])\n",
    "plt.show()"
   ]
  },
  {
   "cell_type": "markdown",
   "metadata": {},
   "source": [
    "<div class=\"alert alert-block alert-warning\">\n",
    "\n",
    "**Комментарий ревьювера (что можно улучшить)**\n",
    "    \n",
    "Можно увеличить масштаб графика, не учитывая аномально большие значения:\n",
    "    \n",
    "    plt.ylim([0,150000])\n",
    "</div>"
   ]
  },
  {
   "cell_type": "markdown",
   "metadata": {},
   "source": [
    "<div class=\"alert alert-block alert-info\">\n",
    "<b>Построил дополнительный график с урезанным масштабом👌</b>\n",
    "</div>"
   ]
  },
  {
   "cell_type": "markdown",
   "metadata": {},
   "source": [
    "<div class=\"alert alert-block alert-success\">\n",
    "\n",
    "**Комментарий ревьювера v2 (все отлично)**\n",
    "\n",
    "Так лучше👍\n",
    "</div>"
   ]
  },
  {
   "cell_type": "markdown",
   "metadata": {},
   "source": [
    "### Посчитайте 95-й и 99-й перцентили стоимости заказов. Выберите границу для определения аномальных заказов."
   ]
  },
  {
   "cell_type": "code",
   "execution_count": 42,
   "metadata": {},
   "outputs": [
    {
     "data": {
      "text/plain": [
       "array([26785., 53904.])"
      ]
     },
     "execution_count": 42,
     "metadata": {},
     "output_type": "execute_result"
    }
   ],
   "source": [
    "np.percentile(orders['revenue'], [95,99])"
   ]
  },
  {
   "cell_type": "markdown",
   "metadata": {},
   "source": [
    "Не больше 5% сделали заказ дороже 28К. Не больше 1% сделали заказ дороже 58,2К рублей."
   ]
  },
  {
   "cell_type": "markdown",
   "metadata": {},
   "source": [
    "🔁Не больше 5% сделали заказ дороже 26.7К. Не больше 1% сделали заказ дороже 53,9К рублей."
   ]
  },
  {
   "cell_type": "markdown",
   "metadata": {},
   "source": [
    "<div class=\"alert alert-block alert-success\">\n",
    "    \n",
    "**Комментарий ревьювера (все отлично)**\n",
    "     \n",
    "Отлично, перцентили величины заказов рассчитаны верно.\n",
    "</div>"
   ]
  },
  {
   "cell_type": "markdown",
   "metadata": {},
   "source": [
    "### Посчитайте статистическую значимость различий в среднем количестве заказов на посетителя между группами по «сырым» данным. Сделайте выводы и предположения."
   ]
  },
  {
   "cell_type": "markdown",
   "metadata": {},
   "source": [
    "**Подготовим данные (код взял из теории, поменяв названия столбцов)**"
   ]
  },
  {
   "cell_type": "code",
   "execution_count": 43,
   "metadata": {},
   "outputs": [],
   "source": [
    "visitorsADaily = visitors[visitors['group'] == 'A'][['date', 'visitors']]\n",
    "visitorsADaily.columns = ['date', 'visitorsPerDateA']\n",
    "\n",
    "visitorsACummulative = visitorsADaily.apply(\n",
    "    lambda x: visitorsADaily[visitorsADaily['date'] <= x['date']].agg(\n",
    "        {'date': 'max', 'visitorsPerDateA': 'sum'}\n",
    "    ),\n",
    "    axis=1,\n",
    ")\n",
    "visitorsACummulative.columns = ['date', 'visitorsCummulativeA']\n",
    "\n",
    "visitorsBDaily = visitors[visitors['group'] == 'B'][['date', 'visitors']]\n",
    "visitorsBDaily.columns = ['date', 'visitorsPerDateB']\n",
    "\n",
    "visitorsBCummulative = visitorsBDaily.apply(\n",
    "    lambda x: visitorsBDaily[visitorsBDaily['date'] <= x['date']].agg(\n",
    "        {'date': 'max', 'visitorsPerDateB': 'sum'}\n",
    "    ),\n",
    "    axis=1,\n",
    ")\n",
    "visitorsBCummulative.columns = ['date', 'visitorsCummulativeB']\n",
    "\n",
    "ordersADaily = (\n",
    "    orders[orders['group'] == 'A'][['date', 'transactionId', 'visitorId', 'revenue']]\n",
    "    .groupby('date', as_index=False)\n",
    "    .agg({'transactionId': pd.Series.nunique, 'revenue': 'sum'})\n",
    ")\n",
    "ordersADaily.columns = ['date', 'ordersPerDateA', 'revenuePerDateA']\n",
    "\n",
    "ordersACummulative = ordersADaily.apply(\n",
    "    lambda x: ordersADaily[ordersADaily['date'] <= x['date']].agg(\n",
    "        {'date': 'max', 'ordersPerDateA': 'sum', 'revenuePerDateA': 'sum'}\n",
    "    ),\n",
    "    axis=1,\n",
    ").sort_values(by=['date'])\n",
    "ordersACummulative.columns = [\n",
    "    'date',\n",
    "    'ordersCummulativeA',\n",
    "    'revenueCummulativeA',\n",
    "]\n",
    "\n",
    "ordersBDaily = (\n",
    "    orders[orders['group'] == 'B'][['date', 'transactionId', 'visitorId', 'revenue']]\n",
    "    .groupby('date', as_index=False)\n",
    "    .agg({'transactionId': pd.Series.nunique, 'revenue': 'sum'})\n",
    ")\n",
    "ordersBDaily.columns = ['date', 'ordersPerDateB', 'revenuePerDateB']\n",
    "\n",
    "ordersBCummulative = ordersBDaily.apply(\n",
    "    lambda x: ordersBDaily[ordersBDaily['date'] <= x['date']].agg(\n",
    "        {'date': 'max', 'ordersPerDateB': 'sum', 'revenuePerDateB': 'sum'}\n",
    "    ),\n",
    "    axis=1,\n",
    ").sort_values(by=['date'])\n",
    "ordersBCummulative.columns = [\n",
    "    'date',\n",
    "    'ordersCummulativeB',\n",
    "    'revenueCummulativeB',\n",
    "]\n",
    "\n",
    "data = (\n",
    "    ordersADaily.merge(\n",
    "        ordersBDaily, left_on='date', right_on='date', how='left'\n",
    "    )\n",
    "    .merge(ordersACummulative, left_on='date', right_on='date', how='left')\n",
    "    .merge(ordersBCummulative, left_on='date', right_on='date', how='left')\n",
    "    .merge(visitorsADaily, left_on='date', right_on='date', how='left')\n",
    "    .merge(visitorsBDaily, left_on='date', right_on='date', how='left')\n",
    "    .merge(visitorsACummulative, left_on='date', right_on='date', how='left')\n",
    "    .merge(visitorsBCummulative, left_on='date', right_on='date', how='left')\n",
    ")"
   ]
  },
  {
   "cell_type": "markdown",
   "metadata": {},
   "source": [
    "**Создаем переменные ordersByUsersA и ordersByUsersB со столбцами ['userId', 'orders'], где для пользователей, совершивших хотя бы 1 заказ, будет указано число заказов.**"
   ]
  },
  {
   "cell_type": "code",
   "execution_count": 44,
   "metadata": {},
   "outputs": [
    {
     "data": {
      "text/html": [
       "<div>\n",
       "<style scoped>\n",
       "    .dataframe tbody tr th:only-of-type {\n",
       "        vertical-align: middle;\n",
       "    }\n",
       "\n",
       "    .dataframe tbody tr th {\n",
       "        vertical-align: top;\n",
       "    }\n",
       "\n",
       "    .dataframe thead th {\n",
       "        text-align: right;\n",
       "    }\n",
       "</style>\n",
       "<table border=\"1\" class=\"dataframe\">\n",
       "  <thead>\n",
       "    <tr style=\"text-align: right;\">\n",
       "      <th></th>\n",
       "      <th>transactionId</th>\n",
       "      <th>visitorId</th>\n",
       "      <th>date</th>\n",
       "      <th>revenue</th>\n",
       "      <th>group</th>\n",
       "    </tr>\n",
       "  </thead>\n",
       "  <tbody>\n",
       "    <tr>\n",
       "      <th>0</th>\n",
       "      <td>3667963787</td>\n",
       "      <td>3312258926</td>\n",
       "      <td>2019-08-15</td>\n",
       "      <td>1650</td>\n",
       "      <td>B</td>\n",
       "    </tr>\n",
       "    <tr>\n",
       "      <th>1</th>\n",
       "      <td>2804400009</td>\n",
       "      <td>3642806036</td>\n",
       "      <td>2019-08-15</td>\n",
       "      <td>730</td>\n",
       "      <td>B</td>\n",
       "    </tr>\n",
       "    <tr>\n",
       "      <th>3</th>\n",
       "      <td>3797467345</td>\n",
       "      <td>1196621759</td>\n",
       "      <td>2019-08-15</td>\n",
       "      <td>9759</td>\n",
       "      <td>B</td>\n",
       "    </tr>\n",
       "    <tr>\n",
       "      <th>4</th>\n",
       "      <td>2282983706</td>\n",
       "      <td>2322279887</td>\n",
       "      <td>2019-08-15</td>\n",
       "      <td>2308</td>\n",
       "      <td>B</td>\n",
       "    </tr>\n",
       "    <tr>\n",
       "      <th>5</th>\n",
       "      <td>182168103</td>\n",
       "      <td>935554773</td>\n",
       "      <td>2019-08-15</td>\n",
       "      <td>2210</td>\n",
       "      <td>B</td>\n",
       "    </tr>\n",
       "  </tbody>\n",
       "</table>\n",
       "</div>"
      ],
      "text/plain": [
       "   transactionId   visitorId       date  revenue group\n",
       "0     3667963787  3312258926 2019-08-15     1650     B\n",
       "1     2804400009  3642806036 2019-08-15      730     B\n",
       "3     3797467345  1196621759 2019-08-15     9759     B\n",
       "4     2282983706  2322279887 2019-08-15     2308     B\n",
       "5      182168103   935554773 2019-08-15     2210     B"
      ]
     },
     "execution_count": 44,
     "metadata": {},
     "output_type": "execute_result"
    }
   ],
   "source": [
    "orders.head()"
   ]
  },
  {
   "cell_type": "code",
   "execution_count": 45,
   "metadata": {},
   "outputs": [],
   "source": [
    "ordersByUsersA = (\n",
    "    orders[orders['group'] == 'A']\n",
    "    .groupby('visitorId', as_index=False)\n",
    "    .agg({'transactionId': pd.Series.nunique})\n",
    ")\n",
    "ordersByUsersA.columns = ['userId', 'orders'] \n",
    "\n",
    "ordersByUsersB = (\n",
    "    orders[orders['group'] == 'B']\n",
    "    .groupby('visitorId', as_index=False)\n",
    "    .agg({'transactionId': pd.Series.nunique})\n",
    ")\n",
    "ordersByUsersB.columns = ['userId', 'orders'] "
   ]
  },
  {
   "cell_type": "markdown",
   "metadata": {},
   "source": [
    "**Объявим переменные sampleA и sampleB, в которых пользователям с заказами будет соответствовать число заказов пользователя. А пользователям без заказов — нули.**"
   ]
  },
  {
   "cell_type": "code",
   "execution_count": 46,
   "metadata": {},
   "outputs": [],
   "source": [
    "sampleA = pd.concat([ordersByUsersA['orders'],pd.Series(0, index=np.arange(data['visitorsPerDateA'].sum() - len(ordersByUsersA['orders'])), name='orders')],axis=0)\n",
    "sampleB = pd.concat([ordersByUsersB['orders'],pd.Series(0, index=np.arange(data['visitorsPerDateB'].sum() - len(ordersByUsersB['orders'])), name='orders')],axis=0)"
   ]
  },
  {
   "cell_type": "code",
   "execution_count": 47,
   "metadata": {},
   "outputs": [
    {
     "data": {
      "text/plain": [
       "0        1\n",
       "1        1\n",
       "2        1\n",
       "3        1\n",
       "4        1\n",
       "        ..\n",
       "18286    0\n",
       "18287    0\n",
       "18288    0\n",
       "18289    0\n",
       "18290    0\n",
       "Name: orders, Length: 18736, dtype: int64"
      ]
     },
     "execution_count": 47,
     "metadata": {},
     "output_type": "execute_result"
    }
   ],
   "source": [
    "sampleA"
   ]
  },
  {
   "cell_type": "markdown",
   "metadata": {},
   "source": [
    "**Обозначим гипотезы**"
   ]
  },
  {
   "cell_type": "markdown",
   "metadata": {},
   "source": [
    "* H0: Среднее количество заказов на посетителя у групп A и B равны. Статистически значимых отличий не имеется;\n",
    "* H1: Среднем количество заказов на посетителя у групп A и B различны. Статистически значимые отличия имеются.\n",
    "* Уровень статистической значимости: 0.05"
   ]
  },
  {
   "cell_type": "markdown",
   "metadata": {},
   "source": [
    "**Выведем p-value для сравнения среднего между группами с помощью теста Манна-Уитни.**"
   ]
  },
  {
   "cell_type": "markdown",
   "metadata": {},
   "source": [
    "<div class=\"alert alert-block alert-danger\">\n",
    "    \n",
    "**Комментарий ревьювера (недочет, который нужно доработать)**\n",
    "    \n",
    "Сформулируй гипотезы перед проверками.\n",
    "\n",
    "</div>"
   ]
  },
  {
   "cell_type": "markdown",
   "metadata": {},
   "source": [
    "<div class=\"alert alert-block alert-info\">\n",
    "<b>Сделано👌</b>\n",
    "</div>"
   ]
  },
  {
   "cell_type": "markdown",
   "metadata": {},
   "source": [
    "<div class=\"alert alert-block alert-success\">\n",
    "\n",
    "**Комментарий ревьювера v2 (все отлично)**\n",
    "\n",
    "Гипотезы верно сформулированы👍\n",
    "</div>"
   ]
  },
  {
   "cell_type": "code",
   "execution_count": 48,
   "metadata": {
    "scrolled": true
   },
   "outputs": [
    {
     "data": {
      "text/plain": [
       "'0.01102'"
      ]
     },
     "execution_count": 48,
     "metadata": {},
     "output_type": "execute_result"
    }
   ],
   "source": [
    "\"{0:.5f}\".format(stats.mannwhitneyu(sampleA, sampleB)[1])"
   ]
  },
  {
   "cell_type": "markdown",
   "metadata": {},
   "source": [
    "p-value меньше 0.05. Значит, нулевую гипотезу о том, что статистически значимых различий в среднем числе заказов между группами нет, мы можем отвергнуть."
   ]
  },
  {
   "cell_type": "markdown",
   "metadata": {},
   "source": [
    "**Вычислим и выведем относительное различие в среднем между группами.**"
   ]
  },
  {
   "cell_type": "code",
   "execution_count": 49,
   "metadata": {},
   "outputs": [
    {
     "data": {
      "text/plain": [
       "'0.15980'"
      ]
     },
     "execution_count": 49,
     "metadata": {},
     "output_type": "execute_result"
    }
   ],
   "source": [
    "\"{0:.5f}\".format((data['ordersPerDateB'].sum()/data['visitorsPerDateB'].sum())/(data['ordersPerDateA'].sum()/data['visitorsPerDateA'].sum())-1)"
   ]
  },
  {
   "cell_type": "markdown",
   "metadata": {},
   "source": [
    "Относительное различие также показывает увеличение среднего группы B на 13.8%"
   ]
  },
  {
   "cell_type": "markdown",
   "metadata": {},
   "source": [
    "🔁Относительное различие также показывает увеличение среднего группы B на 15.9%"
   ]
  },
  {
   "cell_type": "markdown",
   "metadata": {},
   "source": [
    "<div class=\"alert alert-block alert-success\">\n",
    "\n",
    "**Комментарий ревьювера (все отлично)**\n",
    "    \n",
    "Согласен. Группа B лучше по результатам.\n",
    "</div>"
   ]
  },
  {
   "cell_type": "markdown",
   "metadata": {},
   "source": [
    "### Посчитайте статистическую значимость различий в среднем чеке заказа между группами по «сырым» данным. Сделайте выводы и предположения."
   ]
  },
  {
   "cell_type": "markdown",
   "metadata": {},
   "source": [
    "<div class=\"alert alert-block alert-danger\">\n",
    "    \n",
    "**Комментарий ревьювера v2 (недочет, который нужно доработать)**\n",
    "    \n",
    "Для проверки гипотез по среднему чеку тоже нужно сформулировать гипотезы.\n",
    "\n",
    "</div>"
   ]
  },
  {
   "cell_type": "markdown",
   "metadata": {},
   "source": [
    "* H0: Статистически значимых отличий в среднем чеке между группами A и B не имеется;\n",
    "* H1: Статистически значимые отличия в среднем чеке между группами A и B имеются;\n",
    "* Уровень статистической значимости: 0.05"
   ]
  },
  {
   "cell_type": "markdown",
   "metadata": {},
   "source": [
    "<div class=\"alert alert-block alert-info\">\n",
    "<b>Сделано👌</b>\n",
    "</div>"
   ]
  },
  {
   "cell_type": "markdown",
   "metadata": {},
   "source": [
    "<div class=\"alert alert-block alert-success\">\n",
    "\n",
    "**Комментарий ревьювера v2 (все отлично)**\n",
    "    \n",
    "Принято👌\n",
    "</div>"
   ]
  },
  {
   "cell_type": "code",
   "execution_count": 50,
   "metadata": {},
   "outputs": [
    {
     "data": {
      "text/plain": [
       "'0.82949'"
      ]
     },
     "execution_count": 50,
     "metadata": {},
     "output_type": "execute_result"
    }
   ],
   "source": [
    "'{0:.5f}'.format(stats.mannwhitneyu(orders[orders['group']=='A']['revenue'], orders[orders['group']=='B']['revenue'])[1])"
   ]
  },
  {
   "cell_type": "markdown",
   "metadata": {},
   "source": [
    "p-value больше 0.05. Это означает, что статистически значимых отличий в среднем чеке между группами нет."
   ]
  },
  {
   "cell_type": "code",
   "execution_count": 51,
   "metadata": {},
   "outputs": [
    {
     "data": {
      "text/plain": [
       "'0.28660'"
      ]
     },
     "execution_count": 51,
     "metadata": {},
     "output_type": "execute_result"
    }
   ],
   "source": [
    "'{0:.5f}'.format(orders[orders['group']=='B']['revenue'].mean()/orders[orders['group']=='A']['revenue'].mean()-1)"
   ]
  },
  {
   "cell_type": "markdown",
   "metadata": {},
   "source": [
    "При этом относительное различие между средними чеками составляет 25.8% в пользу группы B. Необходимо избавиться от аномалий и сделать анализ по очищенным данным."
   ]
  },
  {
   "cell_type": "markdown",
   "metadata": {},
   "source": [
    "🔁При этом относительное различие между средними чеками составляет 28.6% в пользу группы B. Необходимо избавиться от аномалий и сделать анализ по очищенным данным."
   ]
  },
  {
   "cell_type": "markdown",
   "metadata": {},
   "source": [
    "<div class=\"alert alert-block alert-success\">\n",
    "\n",
    "**Комментарий ревьювера (все отлично)**\n",
    "    \n",
    "Ты верно сделал вывод, что статистически значимых различий в среднем чеке нет.\n",
    "</div>"
   ]
  },
  {
   "cell_type": "markdown",
   "metadata": {},
   "source": [
    "### Посчитайте статистическую значимость различий в среднем количестве заказов на посетителя между группами по «очищенным» данным. Сделайте выводы и предположения."
   ]
  },
  {
   "cell_type": "markdown",
   "metadata": {},
   "source": [
    "<div class=\"alert alert-block alert-info\">\n",
    "<b>Переделал условия аномальных пользователей - вместо 4 и более взял 3 и более</b>\n",
    "</div>"
   ]
  },
  {
   "cell_type": "markdown",
   "metadata": {},
   "source": [
    "<div class=\"alert alert-block alert-success\">\n",
    "\n",
    "**Комментарий ревьювера v2 (все отлично)**\n",
    "    \n",
    "Молодец, что проверил решение после удаления пересечений👌\n",
    "</div>"
   ]
  },
  {
   "cell_type": "markdown",
   "metadata": {},
   "source": [
    "🔁**Примем за аномальных пользователей тех, кто сделал 3 и более заказа, либо сделал заказ на сумму свыше 30000 р.**"
   ]
  },
  {
   "cell_type": "code",
   "execution_count": 52,
   "metadata": {},
   "outputs": [
    {
     "name": "stdout",
     "output_type": "stream",
     "text": [
      "95-й и 99-й перцентили средних чеков: 26785 ; 53904\n"
     ]
    }
   ],
   "source": [
    "print('95-й и 99-й перцентили средних чеков:', int(np.percentile(orders['revenue'], [95])),';', int(np.percentile(orders['revenue'], [99]))) "
   ]
  },
  {
   "cell_type": "code",
   "execution_count": 53,
   "metadata": {},
   "outputs": [
    {
     "name": "stdout",
     "output_type": "stream",
     "text": [
      "95-й и 99-й перцентили числа заказов на одного пользователя: 1 ; 2\n"
     ]
    }
   ],
   "source": [
    "print('95-й и 99-й перцентили числа заказов на одного пользователя:', int(np.percentile(ordersByUsers['transactions'], [95])),';',int(np.percentile(ordersByUsers['transactions'], [99])))"
   ]
  },
  {
   "cell_type": "markdown",
   "metadata": {},
   "source": [
    "**Сделаем срезы пользователей с числом заказов больше 3 — usersWithManyOrders и пользователей, совершивших заказы дороже 30 000 — usersWithExpensiveOrders. Объединим их в таблице abnormalUsers, удалим дубликаты, отсортируем по возрастанию.**"
   ]
  },
  {
   "cell_type": "code",
   "execution_count": 54,
   "metadata": {},
   "outputs": [],
   "source": [
    "usersWithManyOrders = pd.concat(\n",
    "    [\n",
    "        ordersByUsersA[ordersByUsersA['orders'] >= 3]['userId'],\n",
    "        ordersByUsersB[ordersByUsersB['orders'] >= 3]['userId'],\n",
    "    ],\n",
    "    axis=0,\n",
    ")"
   ]
  },
  {
   "cell_type": "code",
   "execution_count": 55,
   "metadata": {},
   "outputs": [],
   "source": [
    "usersWithExpensiveOrders = orders[orders['revenue'] > 30000]['visitorId']"
   ]
  },
  {
   "cell_type": "markdown",
   "metadata": {},
   "source": [
    "<div class=\"alert alert-block alert-warning\">\n",
    "\n",
    "**Комментарий ревьювера (что можно улучшить)**\n",
    "    \n",
    "Стоит исключить ручной ввод данных, такой код неустойчив к изменениям исходных данных. Вместо этого лучше использовать перцентили:\n",
    "    \n",
    "    int(np.percentile(orders['revenue'], [95])) \n",
    "</div>"
   ]
  },
  {
   "cell_type": "markdown",
   "metadata": {},
   "source": [
    "<div class=\"alert alert-block alert-info\">\n",
    "<b>Сделано👌</b>\n",
    "</div>"
   ]
  },
  {
   "cell_type": "code",
   "execution_count": 56,
   "metadata": {},
   "outputs": [],
   "source": [
    "abnormalUsers = (\n",
    "    pd.concat([usersWithManyOrders, usersWithExpensiveOrders], axis=0)\n",
    "    .drop_duplicates()\n",
    "    .sort_values()\n",
    ")"
   ]
  },
  {
   "cell_type": "code",
   "execution_count": 57,
   "metadata": {},
   "outputs": [
    {
     "data": {
      "text/html": [
       "<div>\n",
       "<style scoped>\n",
       "    .dataframe tbody tr th:only-of-type {\n",
       "        vertical-align: middle;\n",
       "    }\n",
       "\n",
       "    .dataframe tbody tr th {\n",
       "        vertical-align: top;\n",
       "    }\n",
       "\n",
       "    .dataframe thead th {\n",
       "        text-align: right;\n",
       "    }\n",
       "</style>\n",
       "<table border=\"1\" class=\"dataframe\">\n",
       "  <thead>\n",
       "    <tr style=\"text-align: right;\">\n",
       "      <th></th>\n",
       "      <th>userId</th>\n",
       "      <th>orders</th>\n",
       "    </tr>\n",
       "  </thead>\n",
       "  <tbody>\n",
       "    <tr>\n",
       "      <th>0</th>\n",
       "      <td>11685486</td>\n",
       "      <td>1</td>\n",
       "    </tr>\n",
       "    <tr>\n",
       "      <th>1</th>\n",
       "      <td>54447517</td>\n",
       "      <td>1</td>\n",
       "    </tr>\n",
       "    <tr>\n",
       "      <th>2</th>\n",
       "      <td>66685450</td>\n",
       "      <td>1</td>\n",
       "    </tr>\n",
       "    <tr>\n",
       "      <th>3</th>\n",
       "      <td>78758296</td>\n",
       "      <td>1</td>\n",
       "    </tr>\n",
       "    <tr>\n",
       "      <th>4</th>\n",
       "      <td>85103373</td>\n",
       "      <td>1</td>\n",
       "    </tr>\n",
       "  </tbody>\n",
       "</table>\n",
       "</div>"
      ],
      "text/plain": [
       "     userId  orders\n",
       "0  11685486       1\n",
       "1  54447517       1\n",
       "2  66685450       1\n",
       "3  78758296       1\n",
       "4  85103373       1"
      ]
     },
     "execution_count": 57,
     "metadata": {},
     "output_type": "execute_result"
    }
   ],
   "source": [
    "ordersByUsersA.head()"
   ]
  },
  {
   "cell_type": "markdown",
   "metadata": {},
   "source": [
    "<div class=\"alert alert-block alert-warning\">\n",
    "\n",
    "**Комментарий ревьювера (что можно улучшить)**\n",
    "    \n",
    "Для оценки потерь данных рекомендуется посчитать аномальных пользователей.\n",
    "</div>\n"
   ]
  },
  {
   "cell_type": "code",
   "execution_count": 58,
   "metadata": {},
   "outputs": [
    {
     "data": {
      "text/plain": [
       "49"
      ]
     },
     "execution_count": 58,
     "metadata": {},
     "output_type": "execute_result"
    }
   ],
   "source": [
    "abnormalUsers.count()"
   ]
  },
  {
   "cell_type": "markdown",
   "metadata": {},
   "source": [
    "<div class=\"alert alert-block alert-info\">\n",
    "<b>Сделано👌</b>\n",
    "</div>"
   ]
  },
  {
   "cell_type": "markdown",
   "metadata": {},
   "source": [
    "**Создадим переменные sampleAFiltered и sampleBFiltered, в которых сохраните очищенные данные о заказах — не включая аномальных пользователей.**"
   ]
  },
  {
   "cell_type": "code",
   "execution_count": 59,
   "metadata": {},
   "outputs": [],
   "source": [
    "sampleAFiltered = pd.concat(\n",
    "    [\n",
    "        ordersByUsersA[\n",
    "            np.logical_not(ordersByUsersA['userId'].isin(abnormalUsers))\n",
    "        ]['orders'],\n",
    "        pd.Series(\n",
    "            0,\n",
    "            index=np.arange(\n",
    "                data['visitorsPerDateA'].sum() - len(ordersByUsersA['orders'])\n",
    "            ),\n",
    "            name='orders',\n",
    "        ),\n",
    "    ],\n",
    "    axis=0,\n",
    ")"
   ]
  },
  {
   "cell_type": "code",
   "execution_count": 60,
   "metadata": {},
   "outputs": [],
   "source": [
    "sampleBFiltered = pd.concat(\n",
    "    [\n",
    "        ordersByUsersB[\n",
    "            np.logical_not(ordersByUsersB['userId'].isin(abnormalUsers))\n",
    "        ]['orders'],\n",
    "        pd.Series(\n",
    "            0,\n",
    "            index=np.arange(\n",
    "                data['visitorsPerDateB'].sum() - len(ordersByUsersB['orders'])\n",
    "            ),\n",
    "            name='orders',\n",
    "        ),\n",
    "    ],\n",
    "    axis=0,\n",
    ") "
   ]
  },
  {
   "cell_type": "code",
   "execution_count": 61,
   "metadata": {},
   "outputs": [
    {
     "data": {
      "text/plain": [
       "'0.00971'"
      ]
     },
     "execution_count": 61,
     "metadata": {},
     "output_type": "execute_result"
    }
   ],
   "source": [
    "'{0:.5f}'.format(stats.mannwhitneyu(sampleAFiltered, sampleBFiltered)[1])"
   ]
  },
  {
   "cell_type": "code",
   "execution_count": 62,
   "metadata": {},
   "outputs": [
    {
     "data": {
      "text/plain": [
       "'0.18726'"
      ]
     },
     "execution_count": 62,
     "metadata": {},
     "output_type": "execute_result"
    }
   ],
   "source": [
    "'{0:.5f}'.format(sampleBFiltered.mean()/sampleAFiltered.mean()-1)"
   ]
  },
  {
   "cell_type": "markdown",
   "metadata": {},
   "source": [
    "p-value 0.01832 также меньше 0.05, означая, что статистическая значимость достигнута. По очищенным данным показатели среднего количества заказов в группе B лучше на 14.7%"
   ]
  },
  {
   "cell_type": "markdown",
   "metadata": {},
   "source": [
    "🔁p-value 0.00971 также меньше 0.05, означая, что статистическая значимость достигнута. По очищенным данным показатели среднего количества заказов в группе B лучше на 18.7%"
   ]
  },
  {
   "cell_type": "markdown",
   "metadata": {},
   "source": [
    "<div class=\"alert alert-block alert-warning\">\n",
    "\n",
    "**Комментарий ревьювера (что можно улучшить)**\n",
    "    \n",
    "p-value в выводе не соответствует p-value в коде.\n",
    "</div>\n"
   ]
  },
  {
   "cell_type": "markdown",
   "metadata": {},
   "source": [
    "<div class=\"alert alert-block alert-info\">\n",
    "<b>Подправил. Странно. Видимо делал корректировки, а потом не исправил значения в тексте после финального прогона кода.  </b>\n",
    "</div>"
   ]
  },
  {
   "cell_type": "markdown",
   "metadata": {},
   "source": [
    "<div class=\"alert alert-block alert-success\">\n",
    "\n",
    "**Комментарий ревьювера v2 (все отлично)**\n",
    "    \n",
    "👌\n",
    "</div>"
   ]
  },
  {
   "cell_type": "markdown",
   "metadata": {},
   "source": [
    "### Посчитайте статистическую значимость различий в среднем чеке заказа между группами по «очищенным» данным. Сделайте выводы и предположения."
   ]
  },
  {
   "cell_type": "code",
   "execution_count": 63,
   "metadata": {},
   "outputs": [
    {
     "data": {
      "text/plain": [
       "'0.74088'"
      ]
     },
     "execution_count": 63,
     "metadata": {},
     "output_type": "execute_result"
    }
   ],
   "source": [
    "'{0:.5f}'.format(\n",
    "        stats.mannwhitneyu(\n",
    "            orders[\n",
    "                np.logical_and(\n",
    "                    orders['group'] == 'A',\n",
    "                    np.logical_not(orders['visitorId'].isin(abnormalUsers)),\n",
    "                )\n",
    "            ]['revenue'],\n",
    "            orders[\n",
    "                np.logical_and(\n",
    "                    orders['group'] == 'B',\n",
    "                    np.logical_not(orders['visitorId'].isin(abnormalUsers)),\n",
    "                )\n",
    "            ]['revenue'],\n",
    "        )[1])"
   ]
  },
  {
   "cell_type": "code",
   "execution_count": 64,
   "metadata": {},
   "outputs": [
    {
     "data": {
      "text/plain": [
       "'-0.02657'"
      ]
     },
     "execution_count": 64,
     "metadata": {},
     "output_type": "execute_result"
    }
   ],
   "source": [
    "\"{0:.5f}\".format(\n",
    "        orders[\n",
    "            np.logical_and(\n",
    "                orders['group'] == 'B',\n",
    "                np.logical_not(orders['visitorId'].isin(abnormalUsers)),\n",
    "            )\n",
    "        ]['revenue'].mean()\n",
    "        / orders[\n",
    "            np.logical_and(\n",
    "                orders['group'] == 'A',\n",
    "                np.logical_not(orders['visitorId'].isin(abnormalUsers)),\n",
    "            )\n",
    "        ]['revenue'].mean()\n",
    "        - 1\n",
    "    )"
   ]
  },
  {
   "cell_type": "markdown",
   "metadata": {},
   "source": [
    "P-value поменялось не значительно: с 0.72929 до 0.95832, а вот относительное различие практически ликвидировалось после удаления аномальных значений. В данных стало меньше шума."
   ]
  },
  {
   "cell_type": "markdown",
   "metadata": {},
   "source": [
    "🔁P-value поменялось не значительно: с 0.82949 до 0.74088, а вот относительное различие практически ликвидировалось после удаления аномальных значений. В данных стало меньше шума."
   ]
  },
  {
   "cell_type": "markdown",
   "metadata": {},
   "source": [
    "<div class=\"alert alert-block alert-warning\">\n",
    "\n",
    "**Комментарий ревьювера (что можно улучшить)**\n",
    "    \n",
    "Здесь тоже p-value в выводе не соответствует p-value в коде.\n",
    "</div>\n"
   ]
  },
  {
   "cell_type": "markdown",
   "metadata": {},
   "source": [
    "<div class=\"alert alert-block alert-info\">\n",
    "<b>Подправил</b>\n",
    "</div>"
   ]
  },
  {
   "cell_type": "markdown",
   "metadata": {},
   "source": [
    "<div class=\"alert alert-block alert-success\">\n",
    "\n",
    "**Комментарий ревьювера v2 (все отлично)**\n",
    "    \n",
    "👌\n",
    "</div>"
   ]
  },
  {
   "cell_type": "markdown",
   "metadata": {},
   "source": [
    "### Примите решение по результатам теста и объясните его. Варианты решений:\n",
    "1. Остановить тест, зафиксировать победу одной из групп.\n",
    "2. Остановить тест, зафиксировать отсутствие различий между группами.\n",
    "3. Продолжить тест."
   ]
  },
  {
   "cell_type": "markdown",
   "metadata": {},
   "source": [
    "**Основываясь на проведенный анализ с помощью графиков, мы выявили следующие факты:**\n",
    "* График кумулятивной выручки отчетливо показывает, что примерно в середине теста, выручка группы B явно выше выручки группы A.\n",
    "* График кумулятивного среднего чека по группам показывает резкий всплеск среднего чека группы B в середине теста.\n",
    "* На графике относительного изменения кумулятивного среднего чека мы увидели резкие скачки на нескольких этапах теста. Сделаны предположеня, что в эти даты были сделаны крупные покупки в группе B.\n",
    "* По графику кумулятивного среднего количества заказов видно, что изначально конверсия заказов группы A была выше конверсии группы B. Примерно с шестого дня группа B вырвалась вперед и лидировала до конца теста.\n",
    "* График относительного изменения кумулятивного среднего количества заказов демонстрирует, что после первой недели теста группа B вырвалась в лидеры по данной метрике и в конце теста зафиксировала прирост на 14% относительно группы A."
   ]
  },
  {
   "cell_type": "markdown",
   "metadata": {},
   "source": [
    "**Проведенный следом анализ на предмет аномальных значений дал следующие результаты:**\n",
    "* Точечный график количества заказов по пользователям показал, что большая часть - пользователи, совершившие 1-2 покупки. Пользователи с 3 и более заказами возможно аномальные. \n",
    "* 95-ый и 99-ый перцентели указали: не более 5% пользователей сделали больше 2 заказов, 1% пользователей сделали больше 4 заказов.\n",
    "* Точечный график стоимостей заказов продемонстрировал, что из общей массы выбиваются 2 заказа - на 200K р. и >1200K р., что выглядит аномально.\n",
    "* 95-ый и 99-ый перцентели указали: не больше 5% сделали заказ дороже 28К рублей. Не больше 1% сделали заказ дороже 58,2К рублей."
   ]
  },
  {
   "cell_type": "markdown",
   "metadata": {},
   "source": [
    "**На основании полученных результатов за аномальных пользователей были приняты те, кто сделал 4 и более заказа, либо сделал заказ на сумму свыше 30000 р.**"
   ]
  },
  {
   "cell_type": "markdown",
   "metadata": {},
   "source": [
    "**Анализ статистической значимости различий в среднем количестве заказов на посетителя между группами по «сырым» и «очищенным» данным позволил сделать следующие выводы:**\n",
    "* Имеются статистически значимые различия в среднем числе заказов между группами.\n",
    "* Относительный прирост вырос с 13.8% до 14.7% в пользу группы B до и после очистки данных."
   ]
  },
  {
   "cell_type": "markdown",
   "metadata": {},
   "source": [
    "**Анализ статистической значимости различий в среднем чеке заказа между группами по «сырым» и «очищенным» данным указал на следующие факты:**\n",
    "* Статистически значимых отличий в среднем чеке между группами нет.\n",
    "* После очистки данных от аномальных значений относительное различие между средними чеками нивелировалось."
   ]
  },
  {
   "cell_type": "markdown",
   "metadata": {},
   "source": [
    "Исходя из вышеперечисленных исследований, принимаем решение: **Остановить тест, зафиксировать победу группы B**\n"
   ]
  },
  {
   "cell_type": "markdown",
   "metadata": {},
   "source": [
    "<div class=\"alert alert-block alert-success\">\n",
    "\n",
    "**Комментарий ревьювера (все отлично)**\n",
    "    \n",
    "1) Согласен с решением. Тест прошел успешно! Среднее количество заказов увеличилось при отсутствии значимых изменений по среднему чеку -> выручка увеличилась, так как стали покупать чаще.\n",
    "    \n",
    "2) Основные результаты отражены. Хороший итоговый вывод👍\n",
    "</div>"
   ]
  },
  {
   "cell_type": "markdown",
   "metadata": {},
   "source": [
    "<div class=\"alert alert-block alert-warning\">\n",
    "\n",
    "**Комментарий ревьювера (общий вывод)**\n",
    "    \n",
    "Андрей, мне понравилась твоя работа! Выводы хорошо структурированы и достаточно содержательны, умеешь считать перцентили, собирать и визуализировать данные, есть навыки проверки гипотез. Спасибо за четкие комментарии по результатам исследования, аккуратный код и качественное оформление отчета! Это упростило проверку. Для принятия твоей работы нужно исправить критические недочёты:\n",
    "    \n",
    "* написать введение;    \n",
    "* проверить данные на пересечение групп;\n",
    "* сформулируй гипотезы перед проверками.\n",
    "    \n",
    "Также обрати внимание, что значения p-value в выводе не соотносятся с результатами в коде.\n",
    "    \n",
    "В дополнении прикрепляю полезные материал по теме A/B-тестирования: \n",
    "\n",
    "* https://your-scorpion.ru/ab-tests-check-mathematics/\n",
    "    \n",
    "Жду твою работу!\n",
    "  \n",
    "</div>"
   ]
  },
  {
   "cell_type": "markdown",
   "metadata": {},
   "source": [
    "<div class=\"alert alert-block alert-info\">\n",
    "<b>Василий, благодарю за проверку проекта и ценные советы. Все замечания учтены и исправлены👌</b>\n",
    "</div>"
   ]
  },
  {
   "cell_type": "markdown",
   "metadata": {},
   "source": [
    "<div class=\"alert alert-block alert-info\">\n",
    "<b>🔁 В целом удаление пользователей и изменение условия аномальных заказов не повлияли на результат ни в одном из последующих пунктов, а лишь слегка изменили показатели. Но данные стали чище, а AB-тест более корректным. Принятое решение осталось прежним.</b>\n",
    "</div>"
   ]
  },
  {
   "cell_type": "markdown",
   "metadata": {},
   "source": [
    "<div class=\"alert alert-block alert-success\">\n",
    "\n",
    "**Комментарий ревьювера v2 (все отлично)**\n",
    "    \n",
    "Здорово, что проконтролировал результаты после изменения данных👍\n",
    "</div>"
   ]
  }
 ],
 "metadata": {
  "ExecuteTimeLog": [
   {
    "duration": 45,
    "start_time": "2025-03-13T21:57:08.510Z"
   },
   {
    "duration": 5,
    "start_time": "2025-03-13T21:57:39.714Z"
   },
   {
    "duration": 1283,
    "start_time": "2025-03-13T21:57:45.758Z"
   },
   {
    "duration": 17,
    "start_time": "2025-03-13T21:57:47.682Z"
   },
   {
    "duration": 16,
    "start_time": "2025-03-13T21:57:54.023Z"
   },
   {
    "duration": 11,
    "start_time": "2025-03-13T21:58:40.946Z"
   },
   {
    "duration": 44,
    "start_time": "2025-03-14T20:45:55.942Z"
   },
   {
    "duration": 1473,
    "start_time": "2025-03-14T20:45:59.373Z"
   },
   {
    "duration": 17,
    "start_time": "2025-03-14T20:46:03.477Z"
   },
   {
    "duration": 10,
    "start_time": "2025-03-14T20:46:04.302Z"
   },
   {
    "duration": 3,
    "start_time": "2025-03-14T21:40:16.761Z"
   },
   {
    "duration": 8,
    "start_time": "2025-03-14T21:40:26.344Z"
   },
   {
    "duration": 11,
    "start_time": "2025-03-14T21:40:35.010Z"
   },
   {
    "duration": 4,
    "start_time": "2025-03-14T21:45:50.624Z"
   },
   {
    "duration": 12,
    "start_time": "2025-03-14T21:46:21.319Z"
   },
   {
    "duration": 16,
    "start_time": "2025-03-14T21:51:52.182Z"
   },
   {
    "duration": 7,
    "start_time": "2025-03-14T21:51:54.271Z"
   },
   {
    "duration": 1236,
    "start_time": "2025-03-14T21:52:33.001Z"
   },
   {
    "duration": 1162,
    "start_time": "2025-03-14T21:53:12.743Z"
   },
   {
    "duration": 1149,
    "start_time": "2025-03-14T21:53:15.552Z"
   },
   {
    "duration": 16,
    "start_time": "2025-03-14T21:53:40.621Z"
   },
   {
    "duration": 7,
    "start_time": "2025-03-14T21:53:43.372Z"
   },
   {
    "duration": 1236,
    "start_time": "2025-03-14T21:53:46.140Z"
   },
   {
    "duration": 3,
    "start_time": "2025-03-14T21:53:52.877Z"
   },
   {
    "duration": 10,
    "start_time": "2025-03-14T21:53:54.525Z"
   },
   {
    "duration": 88,
    "start_time": "2025-03-14T21:53:59.581Z"
   },
   {
    "duration": 5,
    "start_time": "2025-03-14T21:54:01.981Z"
   },
   {
    "duration": 3,
    "start_time": "2025-03-14T22:18:24.089Z"
   },
   {
    "duration": 10,
    "start_time": "2025-03-14T22:18:28.153Z"
   },
   {
    "duration": 10,
    "start_time": "2025-03-14T22:18:42.883Z"
   },
   {
    "duration": 10,
    "start_time": "2025-03-14T22:18:52.181Z"
   },
   {
    "duration": 3,
    "start_time": "2025-03-14T22:19:02.166Z"
   },
   {
    "duration": 11,
    "start_time": "2025-03-14T22:19:04.710Z"
   },
   {
    "duration": 5,
    "start_time": "2025-03-14T22:24:47.713Z"
   },
   {
    "duration": 5,
    "start_time": "2025-03-14T22:24:53.041Z"
   },
   {
    "duration": 9,
    "start_time": "2025-03-14T22:27:42.497Z"
   },
   {
    "duration": 12,
    "start_time": "2025-03-14T22:28:11.149Z"
   },
   {
    "duration": 12,
    "start_time": "2025-03-14T22:28:36.930Z"
   },
   {
    "duration": 54,
    "start_time": "2025-03-16T19:11:03.390Z"
   },
   {
    "duration": 1439,
    "start_time": "2025-03-16T19:11:09.663Z"
   },
   {
    "duration": 29,
    "start_time": "2025-03-16T19:11:11.105Z"
   },
   {
    "duration": 13,
    "start_time": "2025-03-16T19:11:11.136Z"
   },
   {
    "duration": 5,
    "start_time": "2025-03-16T19:11:11.151Z"
   },
   {
    "duration": 13,
    "start_time": "2025-03-16T19:11:11.158Z"
   },
   {
    "duration": 12,
    "start_time": "2025-03-16T19:11:11.173Z"
   },
   {
    "duration": 56,
    "start_time": "2025-03-16T19:11:11.187Z"
   },
   {
    "duration": 11,
    "start_time": "2025-03-16T20:08:31.978Z"
   },
   {
    "duration": 15,
    "start_time": "2025-03-16T20:09:11.871Z"
   },
   {
    "duration": 11,
    "start_time": "2025-03-16T20:09:44.107Z"
   },
   {
    "duration": 10,
    "start_time": "2025-03-16T20:10:02.710Z"
   },
   {
    "duration": 13,
    "start_time": "2025-03-16T20:13:45.705Z"
   },
   {
    "duration": 507,
    "start_time": "2025-03-16T20:28:59.480Z"
   },
   {
    "duration": 1546,
    "start_time": "2025-03-16T20:29:34.746Z"
   },
   {
    "duration": 17,
    "start_time": "2025-03-16T20:29:36.294Z"
   },
   {
    "duration": 11,
    "start_time": "2025-03-16T20:29:36.312Z"
   },
   {
    "duration": 3,
    "start_time": "2025-03-16T20:29:36.325Z"
   },
   {
    "duration": 13,
    "start_time": "2025-03-16T20:29:36.330Z"
   },
   {
    "duration": 12,
    "start_time": "2025-03-16T20:29:36.357Z"
   },
   {
    "duration": 52,
    "start_time": "2025-03-16T20:29:36.371Z"
   },
   {
    "duration": 14,
    "start_time": "2025-03-16T20:29:36.424Z"
   },
   {
    "duration": 12,
    "start_time": "2025-03-16T20:29:36.439Z"
   },
   {
    "duration": 10,
    "start_time": "2025-03-16T20:29:36.452Z"
   },
   {
    "duration": 11,
    "start_time": "2025-03-16T20:29:36.464Z"
   },
   {
    "duration": 397,
    "start_time": "2025-03-16T20:29:36.476Z"
   },
   {
    "duration": 291,
    "start_time": "2025-03-16T20:30:54.921Z"
   },
   {
    "duration": 3,
    "start_time": "2025-03-16T20:31:46.642Z"
   },
   {
    "duration": 1174,
    "start_time": "2025-03-16T20:31:55.008Z"
   },
   {
    "duration": 17,
    "start_time": "2025-03-16T20:31:56.183Z"
   },
   {
    "duration": 12,
    "start_time": "2025-03-16T20:31:56.202Z"
   },
   {
    "duration": 3,
    "start_time": "2025-03-16T20:31:56.216Z"
   },
   {
    "duration": 11,
    "start_time": "2025-03-16T20:31:56.221Z"
   },
   {
    "duration": 30,
    "start_time": "2025-03-16T20:31:56.234Z"
   },
   {
    "duration": 53,
    "start_time": "2025-03-16T20:31:56.265Z"
   },
   {
    "duration": 12,
    "start_time": "2025-03-16T20:31:56.319Z"
   },
   {
    "duration": 11,
    "start_time": "2025-03-16T20:31:56.333Z"
   },
   {
    "duration": 12,
    "start_time": "2025-03-16T20:31:56.345Z"
   },
   {
    "duration": 11,
    "start_time": "2025-03-16T20:31:56.359Z"
   },
   {
    "duration": 418,
    "start_time": "2025-03-16T20:31:56.372Z"
   },
   {
    "duration": 3,
    "start_time": "2025-03-16T20:32:35.871Z"
   },
   {
    "duration": 1380,
    "start_time": "2025-03-16T20:32:41.197Z"
   },
   {
    "duration": 17,
    "start_time": "2025-03-16T20:32:42.579Z"
   },
   {
    "duration": 12,
    "start_time": "2025-03-16T20:32:42.598Z"
   },
   {
    "duration": 3,
    "start_time": "2025-03-16T20:32:42.611Z"
   },
   {
    "duration": 13,
    "start_time": "2025-03-16T20:32:42.618Z"
   },
   {
    "duration": 33,
    "start_time": "2025-03-16T20:32:42.632Z"
   },
   {
    "duration": 53,
    "start_time": "2025-03-16T20:32:42.667Z"
   },
   {
    "duration": 12,
    "start_time": "2025-03-16T20:32:42.721Z"
   },
   {
    "duration": 12,
    "start_time": "2025-03-16T20:32:42.735Z"
   },
   {
    "duration": 9,
    "start_time": "2025-03-16T20:32:42.749Z"
   },
   {
    "duration": 9,
    "start_time": "2025-03-16T20:32:42.760Z"
   },
   {
    "duration": 395,
    "start_time": "2025-03-16T20:32:42.771Z"
   },
   {
    "duration": 281,
    "start_time": "2025-03-16T20:34:20.174Z"
   },
   {
    "duration": 309,
    "start_time": "2025-03-16T20:35:16.470Z"
   },
   {
    "duration": 1196,
    "start_time": "2025-03-16T20:36:08.492Z"
   },
   {
    "duration": 17,
    "start_time": "2025-03-16T20:36:09.690Z"
   },
   {
    "duration": 52,
    "start_time": "2025-03-16T20:36:09.709Z"
   },
   {
    "duration": 5,
    "start_time": "2025-03-16T20:36:09.764Z"
   },
   {
    "duration": 13,
    "start_time": "2025-03-16T20:36:09.770Z"
   },
   {
    "duration": 12,
    "start_time": "2025-03-16T20:36:09.785Z"
   },
   {
    "duration": 54,
    "start_time": "2025-03-16T20:36:09.799Z"
   },
   {
    "duration": 13,
    "start_time": "2025-03-16T20:36:09.854Z"
   },
   {
    "duration": 12,
    "start_time": "2025-03-16T20:36:09.868Z"
   },
   {
    "duration": 11,
    "start_time": "2025-03-16T20:36:09.883Z"
   },
   {
    "duration": 10,
    "start_time": "2025-03-16T20:36:09.896Z"
   },
   {
    "duration": 508,
    "start_time": "2025-03-16T20:36:09.908Z"
   },
   {
    "duration": 14,
    "start_time": "2025-03-16T20:36:59.026Z"
   },
   {
    "duration": 303,
    "start_time": "2025-03-16T20:37:10.700Z"
   },
   {
    "duration": 328,
    "start_time": "2025-03-16T20:37:18.719Z"
   },
   {
    "duration": 292,
    "start_time": "2025-03-16T20:37:21.965Z"
   },
   {
    "duration": 1288,
    "start_time": "2025-03-16T20:37:34.254Z"
   },
   {
    "duration": 18,
    "start_time": "2025-03-16T20:37:35.545Z"
   },
   {
    "duration": 12,
    "start_time": "2025-03-16T20:37:35.565Z"
   },
   {
    "duration": 4,
    "start_time": "2025-03-16T20:37:35.579Z"
   },
   {
    "duration": 25,
    "start_time": "2025-03-16T20:37:35.585Z"
   },
   {
    "duration": 12,
    "start_time": "2025-03-16T20:37:35.611Z"
   },
   {
    "duration": 91,
    "start_time": "2025-03-16T20:37:35.624Z"
   },
   {
    "duration": 12,
    "start_time": "2025-03-16T20:37:35.717Z"
   },
   {
    "duration": 62,
    "start_time": "2025-03-16T20:37:35.731Z"
   },
   {
    "duration": 11,
    "start_time": "2025-03-16T20:37:35.796Z"
   },
   {
    "duration": 10,
    "start_time": "2025-03-16T20:37:35.809Z"
   },
   {
    "duration": 16,
    "start_time": "2025-03-16T20:37:35.820Z"
   },
   {
    "duration": 380,
    "start_time": "2025-03-16T20:38:11.231Z"
   },
   {
    "duration": 302,
    "start_time": "2025-03-16T20:38:58.465Z"
   },
   {
    "duration": 1177,
    "start_time": "2025-03-16T20:39:05.811Z"
   },
   {
    "duration": 18,
    "start_time": "2025-03-16T20:39:06.990Z"
   },
   {
    "duration": 13,
    "start_time": "2025-03-16T20:39:07.009Z"
   },
   {
    "duration": 4,
    "start_time": "2025-03-16T20:39:07.023Z"
   },
   {
    "duration": 12,
    "start_time": "2025-03-16T20:39:07.029Z"
   },
   {
    "duration": 25,
    "start_time": "2025-03-16T20:39:07.043Z"
   },
   {
    "duration": 52,
    "start_time": "2025-03-16T20:39:07.070Z"
   },
   {
    "duration": 12,
    "start_time": "2025-03-16T20:39:07.124Z"
   },
   {
    "duration": 12,
    "start_time": "2025-03-16T20:39:07.137Z"
   },
   {
    "duration": 10,
    "start_time": "2025-03-16T20:39:07.151Z"
   },
   {
    "duration": 11,
    "start_time": "2025-03-16T20:39:07.163Z"
   },
   {
    "duration": 18,
    "start_time": "2025-03-16T20:39:07.175Z"
   },
   {
    "duration": 12,
    "start_time": "2025-03-16T20:39:21.849Z"
   },
   {
    "duration": 17,
    "start_time": "2025-03-16T20:40:34.987Z"
   },
   {
    "duration": 6,
    "start_time": "2025-03-16T20:41:34.436Z"
   },
   {
    "duration": 7,
    "start_time": "2025-03-16T20:41:52.183Z"
   },
   {
    "duration": 13,
    "start_time": "2025-03-16T20:42:03.185Z"
   },
   {
    "duration": 11,
    "start_time": "2025-03-16T20:42:25.589Z"
   },
   {
    "duration": 6,
    "start_time": "2025-03-16T20:50:11.886Z"
   },
   {
    "duration": 4,
    "start_time": "2025-03-16T20:52:32.054Z"
   },
   {
    "duration": 13,
    "start_time": "2025-03-16T20:55:57.917Z"
   },
   {
    "duration": 164,
    "start_time": "2025-03-16T20:59:14.809Z"
   },
   {
    "duration": 12,
    "start_time": "2025-03-16T20:59:20.787Z"
   },
   {
    "duration": 10,
    "start_time": "2025-03-16T20:59:33.661Z"
   },
   {
    "duration": 171,
    "start_time": "2025-03-16T21:00:58.592Z"
   },
   {
    "duration": 12,
    "start_time": "2025-03-16T21:04:48.642Z"
   },
   {
    "duration": 118,
    "start_time": "2025-03-16T21:06:00.012Z"
   },
   {
    "duration": 122,
    "start_time": "2025-03-16T21:06:15.839Z"
   },
   {
    "duration": 62,
    "start_time": "2025-03-17T17:36:24.743Z"
   },
   {
    "duration": 1340,
    "start_time": "2025-03-17T17:36:32.060Z"
   },
   {
    "duration": 17,
    "start_time": "2025-03-17T17:36:33.402Z"
   },
   {
    "duration": 10,
    "start_time": "2025-03-17T17:36:33.421Z"
   },
   {
    "duration": 13,
    "start_time": "2025-03-17T17:36:33.433Z"
   },
   {
    "duration": 13,
    "start_time": "2025-03-17T17:36:33.448Z"
   },
   {
    "duration": 10,
    "start_time": "2025-03-17T17:36:33.463Z"
   },
   {
    "duration": 53,
    "start_time": "2025-03-17T17:36:33.475Z"
   },
   {
    "duration": 12,
    "start_time": "2025-03-17T17:36:33.530Z"
   },
   {
    "duration": 11,
    "start_time": "2025-03-17T17:36:33.544Z"
   },
   {
    "duration": 19,
    "start_time": "2025-03-17T17:36:33.558Z"
   },
   {
    "duration": 15,
    "start_time": "2025-03-17T17:36:33.578Z"
   },
   {
    "duration": 21,
    "start_time": "2025-03-17T17:36:33.595Z"
   },
   {
    "duration": 8,
    "start_time": "2025-03-17T17:36:33.617Z"
   },
   {
    "duration": 10,
    "start_time": "2025-03-17T17:36:33.626Z"
   },
   {
    "duration": 172,
    "start_time": "2025-03-17T17:36:33.637Z"
   },
   {
    "duration": 124,
    "start_time": "2025-03-17T17:36:33.811Z"
   },
   {
    "duration": 28,
    "start_time": "2025-03-17T17:36:33.937Z"
   },
   {
    "duration": 18,
    "start_time": "2025-03-17T17:40:33.487Z"
   },
   {
    "duration": 25,
    "start_time": "2025-03-17T17:55:23.442Z"
   },
   {
    "duration": 11,
    "start_time": "2025-03-17T17:55:57.677Z"
   },
   {
    "duration": 11,
    "start_time": "2025-03-17T17:56:07.342Z"
   },
   {
    "duration": 8,
    "start_time": "2025-03-17T17:56:10.086Z"
   },
   {
    "duration": 242,
    "start_time": "2025-03-17T17:57:25.059Z"
   },
   {
    "duration": 268,
    "start_time": "2025-03-17T18:01:49.227Z"
   },
   {
    "duration": 149,
    "start_time": "2025-03-17T18:07:30.010Z"
   },
   {
    "duration": 235,
    "start_time": "2025-03-17T18:10:19.021Z"
   },
   {
    "duration": 228,
    "start_time": "2025-03-17T18:10:41.133Z"
   },
   {
    "duration": 221,
    "start_time": "2025-03-17T18:10:50.527Z"
   },
   {
    "duration": 226,
    "start_time": "2025-03-17T18:10:58.336Z"
   },
   {
    "duration": 324,
    "start_time": "2025-03-17T18:11:05.852Z"
   },
   {
    "duration": 218,
    "start_time": "2025-03-17T18:11:12.115Z"
   },
   {
    "duration": 220,
    "start_time": "2025-03-17T18:11:24.048Z"
   },
   {
    "duration": 155,
    "start_time": "2025-03-17T18:11:48.888Z"
   },
   {
    "duration": 163,
    "start_time": "2025-03-17T18:13:48.067Z"
   },
   {
    "duration": 170,
    "start_time": "2025-03-17T18:25:44.382Z"
   },
   {
    "duration": 168,
    "start_time": "2025-03-17T18:25:54.399Z"
   },
   {
    "duration": 154,
    "start_time": "2025-03-17T18:27:48.469Z"
   },
   {
    "duration": 168,
    "start_time": "2025-03-17T18:28:19.215Z"
   },
   {
    "duration": 14,
    "start_time": "2025-03-17T18:44:01.762Z"
   },
   {
    "duration": 12,
    "start_time": "2025-03-17T18:44:37.191Z"
   },
   {
    "duration": 280,
    "start_time": "2025-03-17T19:35:04.098Z"
   },
   {
    "duration": 332,
    "start_time": "2025-03-17T19:51:48.535Z"
   },
   {
    "duration": 13,
    "start_time": "2025-03-17T20:51:37.706Z"
   },
   {
    "duration": 9,
    "start_time": "2025-03-17T20:53:21.185Z"
   },
   {
    "duration": 14,
    "start_time": "2025-03-17T20:55:01.096Z"
   },
   {
    "duration": 17,
    "start_time": "2025-03-17T20:55:40.253Z"
   },
   {
    "duration": 191,
    "start_time": "2025-03-17T21:16:55.211Z"
   },
   {
    "duration": 409,
    "start_time": "2025-03-17T21:17:19.206Z"
   },
   {
    "duration": 299,
    "start_time": "2025-03-17T21:18:02.548Z"
   },
   {
    "duration": 169,
    "start_time": "2025-03-17T21:18:16.342Z"
   },
   {
    "duration": 188,
    "start_time": "2025-03-17T21:18:24.728Z"
   },
   {
    "duration": 217,
    "start_time": "2025-03-17T21:21:27.236Z"
   },
   {
    "duration": 12,
    "start_time": "2025-03-17T21:40:45.351Z"
   },
   {
    "duration": 14,
    "start_time": "2025-03-17T21:41:00.569Z"
   },
   {
    "duration": 15,
    "start_time": "2025-03-17T21:41:50.817Z"
   },
   {
    "duration": 13,
    "start_time": "2025-03-17T21:41:55.337Z"
   },
   {
    "duration": 333,
    "start_time": "2025-03-17T21:46:35.027Z"
   },
   {
    "duration": 176,
    "start_time": "2025-03-17T21:48:07.062Z"
   },
   {
    "duration": 181,
    "start_time": "2025-03-17T21:48:14.024Z"
   },
   {
    "duration": 305,
    "start_time": "2025-03-17T21:50:11.432Z"
   },
   {
    "duration": 158,
    "start_time": "2025-03-17T21:50:27.522Z"
   },
   {
    "duration": 181,
    "start_time": "2025-03-17T21:51:11.579Z"
   },
   {
    "duration": 408,
    "start_time": "2025-03-17T21:51:30.676Z"
   },
   {
    "duration": 288,
    "start_time": "2025-03-17T21:52:50.118Z"
   },
   {
    "duration": 321,
    "start_time": "2025-03-17T21:53:04.601Z"
   },
   {
    "duration": 324,
    "start_time": "2025-03-17T21:53:46.471Z"
   },
   {
    "duration": 176,
    "start_time": "2025-03-17T21:54:22.845Z"
   },
   {
    "duration": 307,
    "start_time": "2025-03-17T21:54:37.646Z"
   },
   {
    "duration": 301,
    "start_time": "2025-03-17T21:54:57.665Z"
   },
   {
    "duration": 197,
    "start_time": "2025-03-17T21:55:24.361Z"
   },
   {
    "duration": 193,
    "start_time": "2025-03-17T21:55:45.075Z"
   },
   {
    "duration": 178,
    "start_time": "2025-03-17T21:56:40.607Z"
   },
   {
    "duration": 189,
    "start_time": "2025-03-17T21:56:55.100Z"
   },
   {
    "duration": 192,
    "start_time": "2025-03-17T21:57:07.403Z"
   },
   {
    "duration": 47,
    "start_time": "2025-03-18T19:46:58.162Z"
   },
   {
    "duration": 1405,
    "start_time": "2025-03-18T19:47:05.344Z"
   },
   {
    "duration": 28,
    "start_time": "2025-03-18T19:47:06.751Z"
   },
   {
    "duration": 24,
    "start_time": "2025-03-18T19:47:06.780Z"
   },
   {
    "duration": 20,
    "start_time": "2025-03-18T19:47:06.806Z"
   },
   {
    "duration": 12,
    "start_time": "2025-03-18T19:47:06.827Z"
   },
   {
    "duration": 10,
    "start_time": "2025-03-18T19:47:06.841Z"
   },
   {
    "duration": 56,
    "start_time": "2025-03-18T19:47:06.853Z"
   },
   {
    "duration": 13,
    "start_time": "2025-03-18T19:47:06.910Z"
   },
   {
    "duration": 71,
    "start_time": "2025-03-18T19:47:06.924Z"
   },
   {
    "duration": 44,
    "start_time": "2025-03-18T19:47:06.997Z"
   },
   {
    "duration": 68,
    "start_time": "2025-03-18T19:47:07.043Z"
   },
   {
    "duration": 47,
    "start_time": "2025-03-18T19:47:07.112Z"
   },
   {
    "duration": 60,
    "start_time": "2025-03-18T19:47:07.160Z"
   },
   {
    "duration": 12,
    "start_time": "2025-03-18T19:47:07.222Z"
   },
   {
    "duration": 164,
    "start_time": "2025-03-18T19:47:07.236Z"
   },
   {
    "duration": 161,
    "start_time": "2025-03-18T19:47:07.402Z"
   },
   {
    "duration": 17,
    "start_time": "2025-03-18T19:47:07.565Z"
   },
   {
    "duration": 52,
    "start_time": "2025-03-18T19:47:07.584Z"
   },
   {
    "duration": 282,
    "start_time": "2025-03-18T19:47:07.637Z"
   },
   {
    "duration": 201,
    "start_time": "2025-03-18T19:47:07.921Z"
   },
   {
    "duration": 12,
    "start_time": "2025-03-18T19:47:08.124Z"
   },
   {
    "duration": 470,
    "start_time": "2025-03-18T19:47:08.137Z"
   },
   {
    "duration": 8,
    "start_time": "2025-03-18T19:47:08.609Z"
   },
   {
    "duration": 127,
    "start_time": "2025-03-18T19:47:08.619Z"
   },
   {
    "duration": 235,
    "start_time": "2025-03-18T19:47:08.747Z"
   },
   {
    "duration": 14,
    "start_time": "2025-03-18T19:47:08.984Z"
   },
   {
    "duration": 359,
    "start_time": "2025-03-18T19:47:08.999Z"
   },
   {
    "duration": 9,
    "start_time": "2025-03-18T19:47:09.361Z"
   },
   {
    "duration": 168,
    "start_time": "2025-03-18T19:47:09.371Z"
   },
   {
    "duration": 11,
    "start_time": "2025-03-18T19:50:01.090Z"
   },
   {
    "duration": 109,
    "start_time": "2025-03-18T20:06:36.728Z"
   },
   {
    "duration": 116,
    "start_time": "2025-03-18T20:07:35.992Z"
   },
   {
    "duration": 297,
    "start_time": "2025-03-18T20:08:54.603Z"
   },
   {
    "duration": 236,
    "start_time": "2025-03-18T20:11:00.246Z"
   },
   {
    "duration": 226,
    "start_time": "2025-03-18T20:11:11.951Z"
   },
   {
    "duration": 124,
    "start_time": "2025-03-18T20:11:24.257Z"
   },
   {
    "duration": 12,
    "start_time": "2025-03-18T20:20:00.004Z"
   },
   {
    "duration": 16,
    "start_time": "2025-03-18T20:20:41.074Z"
   },
   {
    "duration": 11,
    "start_time": "2025-03-18T20:20:51.260Z"
   },
   {
    "duration": 130,
    "start_time": "2025-03-18T20:21:03.605Z"
   },
   {
    "duration": 3,
    "start_time": "2025-03-18T20:21:15.801Z"
   },
   {
    "duration": 5,
    "start_time": "2025-03-18T20:21:25.800Z"
   },
   {
    "duration": 5,
    "start_time": "2025-03-18T20:22:11.279Z"
   },
   {
    "duration": 143,
    "start_time": "2025-03-18T21:01:34.921Z"
   },
   {
    "duration": 146,
    "start_time": "2025-03-18T21:03:10.255Z"
   },
   {
    "duration": 5,
    "start_time": "2025-03-18T21:08:16.491Z"
   },
   {
    "duration": 9,
    "start_time": "2025-03-18T21:23:46.986Z"
   },
   {
    "duration": 128,
    "start_time": "2025-03-18T21:36:57.557Z"
   },
   {
    "duration": 8,
    "start_time": "2025-03-18T21:36:59.745Z"
   },
   {
    "duration": 113,
    "start_time": "2025-03-18T21:37:17.280Z"
   },
   {
    "duration": 138,
    "start_time": "2025-03-18T21:37:30.250Z"
   },
   {
    "duration": 9,
    "start_time": "2025-03-18T21:37:32.345Z"
   },
   {
    "duration": 110,
    "start_time": "2025-03-18T21:37:37.650Z"
   },
   {
    "duration": 9,
    "start_time": "2025-03-18T21:37:40.563Z"
   },
   {
    "duration": 132,
    "start_time": "2025-03-18T21:37:49.741Z"
   },
   {
    "duration": 9,
    "start_time": "2025-03-18T21:37:52.125Z"
   },
   {
    "duration": 123,
    "start_time": "2025-03-18T21:37:59.582Z"
   },
   {
    "duration": 9,
    "start_time": "2025-03-18T21:38:07.295Z"
   },
   {
    "duration": 8,
    "start_time": "2025-03-18T21:58:13.511Z"
   },
   {
    "duration": 206,
    "start_time": "2025-03-18T22:02:30.988Z"
   },
   {
    "duration": 9,
    "start_time": "2025-03-18T22:02:32.967Z"
   },
   {
    "duration": 8,
    "start_time": "2025-03-18T22:02:55.048Z"
   },
   {
    "duration": 8,
    "start_time": "2025-03-18T22:03:15.201Z"
   },
   {
    "duration": 7,
    "start_time": "2025-03-18T22:05:31.422Z"
   },
   {
    "duration": 8,
    "start_time": "2025-03-18T22:05:43.407Z"
   },
   {
    "duration": 9,
    "start_time": "2025-03-18T22:05:52.561Z"
   },
   {
    "duration": 9,
    "start_time": "2025-03-18T22:06:20.917Z"
   },
   {
    "duration": 15,
    "start_time": "2025-03-18T22:07:44.007Z"
   },
   {
    "duration": 9,
    "start_time": "2025-03-18T22:08:46.515Z"
   },
   {
    "duration": 9,
    "start_time": "2025-03-18T22:09:25.240Z"
   },
   {
    "duration": 121,
    "start_time": "2025-03-18T22:09:27.897Z"
   },
   {
    "duration": 9,
    "start_time": "2025-03-18T22:09:29.973Z"
   },
   {
    "duration": 6,
    "start_time": "2025-03-18T22:14:08.611Z"
   },
   {
    "duration": 5,
    "start_time": "2025-03-18T22:14:14.492Z"
   },
   {
    "duration": 6,
    "start_time": "2025-03-18T22:19:46.962Z"
   },
   {
    "duration": 8,
    "start_time": "2025-03-18T22:23:22.842Z"
   },
   {
    "duration": 9,
    "start_time": "2025-03-18T22:23:56.439Z"
   },
   {
    "duration": 3,
    "start_time": "2025-03-18T22:24:44.702Z"
   },
   {
    "duration": 1198,
    "start_time": "2025-03-18T22:24:50.435Z"
   },
   {
    "duration": 17,
    "start_time": "2025-03-18T22:24:51.635Z"
   },
   {
    "duration": 15,
    "start_time": "2025-03-18T22:24:51.653Z"
   },
   {
    "duration": 20,
    "start_time": "2025-03-18T22:24:51.670Z"
   },
   {
    "duration": 29,
    "start_time": "2025-03-18T22:24:51.692Z"
   },
   {
    "duration": 63,
    "start_time": "2025-03-18T22:24:51.723Z"
   },
   {
    "duration": 70,
    "start_time": "2025-03-18T22:24:51.788Z"
   },
   {
    "duration": 12,
    "start_time": "2025-03-18T22:24:51.860Z"
   },
   {
    "duration": 75,
    "start_time": "2025-03-18T22:24:51.873Z"
   },
   {
    "duration": 11,
    "start_time": "2025-03-18T22:24:51.951Z"
   },
   {
    "duration": 13,
    "start_time": "2025-03-18T22:24:51.963Z"
   },
   {
    "duration": 26,
    "start_time": "2025-03-18T22:24:51.978Z"
   },
   {
    "duration": 21,
    "start_time": "2025-03-18T22:24:52.006Z"
   },
   {
    "duration": 11,
    "start_time": "2025-03-18T22:24:52.029Z"
   },
   {
    "duration": 174,
    "start_time": "2025-03-18T22:24:52.042Z"
   },
   {
    "duration": 128,
    "start_time": "2025-03-18T22:24:52.218Z"
   },
   {
    "duration": 27,
    "start_time": "2025-03-18T22:24:52.347Z"
   },
   {
    "duration": 39,
    "start_time": "2025-03-18T22:24:52.375Z"
   },
   {
    "duration": 316,
    "start_time": "2025-03-18T22:24:52.416Z"
   },
   {
    "duration": 188,
    "start_time": "2025-03-18T22:24:52.734Z"
   },
   {
    "duration": 11,
    "start_time": "2025-03-18T22:24:52.923Z"
   },
   {
    "duration": 326,
    "start_time": "2025-03-18T22:24:52.936Z"
   },
   {
    "duration": 9,
    "start_time": "2025-03-18T22:24:53.264Z"
   },
   {
    "duration": 18,
    "start_time": "2025-03-18T22:24:53.274Z"
   },
   {
    "duration": 217,
    "start_time": "2025-03-18T22:24:53.294Z"
   },
   {
    "duration": 13,
    "start_time": "2025-03-18T22:24:53.513Z"
   },
   {
    "duration": 333,
    "start_time": "2025-03-18T22:24:53.527Z"
   },
   {
    "duration": 8,
    "start_time": "2025-03-18T22:24:53.864Z"
   },
   {
    "duration": 68,
    "start_time": "2025-03-18T22:24:53.874Z"
   },
   {
    "duration": 138,
    "start_time": "2025-03-18T22:24:53.943Z"
   },
   {
    "duration": 5,
    "start_time": "2025-03-18T22:24:54.082Z"
   },
   {
    "duration": 155,
    "start_time": "2025-03-18T22:24:54.088Z"
   },
   {
    "duration": 4,
    "start_time": "2025-03-18T22:24:54.245Z"
   },
   {
    "duration": 291,
    "start_time": "2025-03-18T22:24:54.251Z"
   },
   {
    "duration": 10,
    "start_time": "2025-03-18T22:24:54.544Z"
   },
   {
    "duration": 182,
    "start_time": "2025-03-18T22:24:54.562Z"
   },
   {
    "duration": 115,
    "start_time": "2025-03-18T22:24:54.746Z"
   },
   {
    "duration": 6,
    "start_time": "2025-03-18T22:24:54.863Z"
   },
   {
    "duration": 53,
    "start_time": "2025-03-18T22:24:54.870Z"
   },
   {
    "duration": 36,
    "start_time": "2025-03-18T22:25:07.465Z"
   },
   {
    "duration": 3,
    "start_time": "2025-03-18T22:27:01.210Z"
   },
   {
    "duration": 5,
    "start_time": "2025-03-18T22:27:09.723Z"
   },
   {
    "duration": 9,
    "start_time": "2025-03-18T22:53:57.806Z"
   },
   {
    "duration": 7,
    "start_time": "2025-03-18T22:54:06.614Z"
   },
   {
    "duration": 9,
    "start_time": "2025-03-18T22:54:11.583Z"
   },
   {
    "duration": 7,
    "start_time": "2025-03-18T22:54:17.900Z"
   },
   {
    "duration": 6,
    "start_time": "2025-03-18T23:15:42.644Z"
   },
   {
    "duration": 7,
    "start_time": "2025-03-18T23:15:46.676Z"
   },
   {
    "duration": 4,
    "start_time": "2025-03-18T23:17:11.705Z"
   },
   {
    "duration": 5,
    "start_time": "2025-03-18T23:18:02.041Z"
   },
   {
    "duration": 1593,
    "start_time": "2025-03-18T23:18:30.757Z"
   },
   {
    "duration": 11,
    "start_time": "2025-03-18T23:18:58.452Z"
   },
   {
    "duration": 4,
    "start_time": "2025-03-18T23:19:15.629Z"
   },
   {
    "duration": 5,
    "start_time": "2025-03-18T23:19:47.041Z"
   },
   {
    "duration": 4,
    "start_time": "2025-03-18T23:22:48.347Z"
   },
   {
    "duration": 5,
    "start_time": "2025-03-18T23:22:53.972Z"
   },
   {
    "duration": 6,
    "start_time": "2025-03-18T23:25:43.589Z"
   },
   {
    "duration": 7,
    "start_time": "2025-03-18T23:26:12.633Z"
   },
   {
    "duration": 6,
    "start_time": "2025-03-18T23:34:14.137Z"
   },
   {
    "duration": 5,
    "start_time": "2025-03-18T23:34:20.777Z"
   },
   {
    "duration": 4,
    "start_time": "2025-03-18T23:35:22.155Z"
   },
   {
    "duration": 25,
    "start_time": "2025-03-18T23:35:39.541Z"
   },
   {
    "duration": 24,
    "start_time": "2025-03-18T23:35:49.254Z"
   },
   {
    "duration": 5,
    "start_time": "2025-03-18T23:35:51.325Z"
   },
   {
    "duration": 23,
    "start_time": "2025-03-18T23:37:52.623Z"
   },
   {
    "duration": 23,
    "start_time": "2025-03-18T23:37:57.984Z"
   },
   {
    "duration": 4,
    "start_time": "2025-03-18T23:39:31.430Z"
   },
   {
    "duration": 86,
    "start_time": "2025-03-18T23:45:41.276Z"
   },
   {
    "duration": 1553,
    "start_time": "2025-03-18T23:45:48.310Z"
   },
   {
    "duration": 81,
    "start_time": "2025-03-18T23:46:24.691Z"
   },
   {
    "duration": 4,
    "start_time": "2025-03-18T23:46:49.958Z"
   },
   {
    "duration": 1384,
    "start_time": "2025-03-18T23:46:53.814Z"
   },
   {
    "duration": 11,
    "start_time": "2025-03-18T23:47:30.415Z"
   },
   {
    "duration": 90,
    "start_time": "2025-03-18T23:47:42.982Z"
   },
   {
    "duration": 10,
    "start_time": "2025-03-18T23:47:53.256Z"
   },
   {
    "duration": 8,
    "start_time": "2025-03-18T23:48:33.678Z"
   },
   {
    "duration": 10,
    "start_time": "2025-03-18T23:53:44.109Z"
   },
   {
    "duration": 9,
    "start_time": "2025-03-18T23:53:45.981Z"
   },
   {
    "duration": 8,
    "start_time": "2025-03-19T00:08:14.212Z"
   },
   {
    "duration": 8,
    "start_time": "2025-03-19T00:56:45.131Z"
   },
   {
    "duration": 8,
    "start_time": "2025-03-19T00:56:54.078Z"
   },
   {
    "duration": 10,
    "start_time": "2025-03-19T00:57:11.206Z"
   },
   {
    "duration": 158,
    "start_time": "2025-03-19T00:57:41.419Z"
   },
   {
    "duration": 132,
    "start_time": "2025-03-19T00:58:00.741Z"
   },
   {
    "duration": 14,
    "start_time": "2025-03-19T00:58:21.481Z"
   },
   {
    "duration": 5,
    "start_time": "2025-03-19T01:00:55.552Z"
   },
   {
    "duration": 6,
    "start_time": "2025-03-19T01:01:55.481Z"
   },
   {
    "duration": 1102,
    "start_time": "2025-03-19T01:02:33.577Z"
   },
   {
    "duration": 17,
    "start_time": "2025-03-19T01:02:34.681Z"
   },
   {
    "duration": 11,
    "start_time": "2025-03-19T01:02:34.702Z"
   },
   {
    "duration": 13,
    "start_time": "2025-03-19T01:02:34.715Z"
   },
   {
    "duration": 19,
    "start_time": "2025-03-19T01:02:34.729Z"
   },
   {
    "duration": 14,
    "start_time": "2025-03-19T01:02:34.749Z"
   },
   {
    "duration": 89,
    "start_time": "2025-03-19T01:02:34.765Z"
   },
   {
    "duration": 7,
    "start_time": "2025-03-19T01:02:34.856Z"
   },
   {
    "duration": 21,
    "start_time": "2025-03-19T01:02:34.867Z"
   },
   {
    "duration": 19,
    "start_time": "2025-03-19T01:02:34.890Z"
   },
   {
    "duration": 14,
    "start_time": "2025-03-19T01:02:34.910Z"
   },
   {
    "duration": 13,
    "start_time": "2025-03-19T01:02:34.926Z"
   },
   {
    "duration": 10,
    "start_time": "2025-03-19T01:02:34.941Z"
   },
   {
    "duration": 19,
    "start_time": "2025-03-19T01:02:34.953Z"
   },
   {
    "duration": 175,
    "start_time": "2025-03-19T01:02:34.973Z"
   },
   {
    "duration": 128,
    "start_time": "2025-03-19T01:02:35.149Z"
   },
   {
    "duration": 11,
    "start_time": "2025-03-19T01:02:35.278Z"
   },
   {
    "duration": 27,
    "start_time": "2025-03-19T01:02:35.291Z"
   },
   {
    "duration": 275,
    "start_time": "2025-03-19T01:02:35.319Z"
   },
   {
    "duration": 220,
    "start_time": "2025-03-19T01:02:35.595Z"
   },
   {
    "duration": 11,
    "start_time": "2025-03-19T01:02:35.817Z"
   },
   {
    "duration": 333,
    "start_time": "2025-03-19T01:02:35.829Z"
   },
   {
    "duration": 9,
    "start_time": "2025-03-19T01:02:36.163Z"
   },
   {
    "duration": 39,
    "start_time": "2025-03-19T01:02:36.173Z"
   },
   {
    "duration": 208,
    "start_time": "2025-03-19T01:02:36.213Z"
   },
   {
    "duration": 13,
    "start_time": "2025-03-19T01:02:36.423Z"
   },
   {
    "duration": 316,
    "start_time": "2025-03-19T01:02:36.440Z"
   },
   {
    "duration": 8,
    "start_time": "2025-03-19T01:02:36.762Z"
   },
   {
    "duration": 27,
    "start_time": "2025-03-19T01:02:36.772Z"
   },
   {
    "duration": 129,
    "start_time": "2025-03-19T01:02:36.801Z"
   },
   {
    "duration": 5,
    "start_time": "2025-03-19T01:02:36.931Z"
   },
   {
    "duration": 151,
    "start_time": "2025-03-19T01:02:36.938Z"
   },
   {
    "duration": 5,
    "start_time": "2025-03-19T01:02:37.091Z"
   },
   {
    "duration": 288,
    "start_time": "2025-03-19T01:02:37.097Z"
   },
   {
    "duration": 10,
    "start_time": "2025-03-19T01:02:37.386Z"
   },
   {
    "duration": 27,
    "start_time": "2025-03-19T01:02:37.397Z"
   },
   {
    "duration": 186,
    "start_time": "2025-03-19T01:02:37.425Z"
   },
   {
    "duration": 6,
    "start_time": "2025-03-19T01:02:37.613Z"
   },
   {
    "duration": 111,
    "start_time": "2025-03-19T01:02:37.620Z"
   },
   {
    "duration": 5,
    "start_time": "2025-03-19T01:02:37.733Z"
   },
   {
    "duration": 20,
    "start_time": "2025-03-19T01:02:37.739Z"
   },
   {
    "duration": 12,
    "start_time": "2025-03-19T01:02:37.760Z"
   },
   {
    "duration": 41,
    "start_time": "2025-03-19T01:02:37.773Z"
   },
   {
    "duration": 14,
    "start_time": "2025-03-19T01:02:37.816Z"
   },
   {
    "duration": 11,
    "start_time": "2025-03-19T01:02:37.831Z"
   },
   {
    "duration": 18,
    "start_time": "2025-03-19T01:02:37.844Z"
   },
   {
    "duration": 5,
    "start_time": "2025-03-19T01:02:37.863Z"
   },
   {
    "duration": 28,
    "start_time": "2025-03-19T01:02:37.870Z"
   },
   {
    "duration": 37,
    "start_time": "2025-03-19T01:02:37.900Z"
   },
   {
    "duration": 5,
    "start_time": "2025-03-19T01:02:37.938Z"
   },
   {
    "duration": 21,
    "start_time": "2025-03-19T01:02:37.944Z"
   },
   {
    "duration": 18,
    "start_time": "2025-03-19T01:02:37.966Z"
   },
   {
    "duration": 1370,
    "start_time": "2025-03-19T07:48:34.279Z"
   },
   {
    "duration": 28,
    "start_time": "2025-03-19T07:48:35.652Z"
   },
   {
    "duration": 13,
    "start_time": "2025-03-19T07:48:35.682Z"
   },
   {
    "duration": 32,
    "start_time": "2025-03-19T07:48:35.697Z"
   },
   {
    "duration": 13,
    "start_time": "2025-03-19T07:48:35.731Z"
   },
   {
    "duration": 43,
    "start_time": "2025-03-19T07:48:35.746Z"
   },
   {
    "duration": 105,
    "start_time": "2025-03-19T07:48:35.791Z"
   },
   {
    "duration": 7,
    "start_time": "2025-03-19T07:48:35.898Z"
   },
   {
    "duration": 53,
    "start_time": "2025-03-19T07:48:35.907Z"
   },
   {
    "duration": 49,
    "start_time": "2025-03-19T07:48:35.963Z"
   },
   {
    "duration": 24,
    "start_time": "2025-03-19T07:48:36.014Z"
   },
   {
    "duration": 44,
    "start_time": "2025-03-19T07:48:36.040Z"
   },
   {
    "duration": 23,
    "start_time": "2025-03-19T07:48:36.086Z"
   },
   {
    "duration": 28,
    "start_time": "2025-03-19T07:48:36.111Z"
   },
   {
    "duration": 247,
    "start_time": "2025-03-19T07:48:36.141Z"
   },
   {
    "duration": 129,
    "start_time": "2025-03-19T07:48:36.389Z"
   },
   {
    "duration": 12,
    "start_time": "2025-03-19T07:48:36.519Z"
   },
   {
    "duration": 25,
    "start_time": "2025-03-19T07:48:36.532Z"
   },
   {
    "duration": 276,
    "start_time": "2025-03-19T07:48:36.558Z"
   },
   {
    "duration": 200,
    "start_time": "2025-03-19T07:48:36.836Z"
   },
   {
    "duration": 11,
    "start_time": "2025-03-19T07:48:37.037Z"
   },
   {
    "duration": 354,
    "start_time": "2025-03-19T07:48:37.057Z"
   },
   {
    "duration": 9,
    "start_time": "2025-03-19T07:48:37.413Z"
   },
   {
    "duration": 100,
    "start_time": "2025-03-19T07:48:37.423Z"
   },
   {
    "duration": 279,
    "start_time": "2025-03-19T07:48:37.525Z"
   },
   {
    "duration": 12,
    "start_time": "2025-03-19T07:48:37.805Z"
   },
   {
    "duration": 347,
    "start_time": "2025-03-19T07:48:37.819Z"
   },
   {
    "duration": 8,
    "start_time": "2025-03-19T07:48:38.170Z"
   },
   {
    "duration": 129,
    "start_time": "2025-03-19T07:48:38.179Z"
   },
   {
    "duration": 131,
    "start_time": "2025-03-19T07:48:38.310Z"
   },
   {
    "duration": 5,
    "start_time": "2025-03-19T07:48:38.443Z"
   },
   {
    "duration": 212,
    "start_time": "2025-03-19T07:48:38.457Z"
   },
   {
    "duration": 4,
    "start_time": "2025-03-19T07:48:38.671Z"
   },
   {
    "duration": 228,
    "start_time": "2025-03-19T07:48:38.677Z"
   },
   {
    "duration": 15,
    "start_time": "2025-03-19T07:48:38.908Z"
   },
   {
    "duration": 29,
    "start_time": "2025-03-19T07:48:38.925Z"
   },
   {
    "duration": 145,
    "start_time": "2025-03-19T07:48:38.956Z"
   },
   {
    "duration": 6,
    "start_time": "2025-03-19T07:48:39.102Z"
   },
   {
    "duration": 41,
    "start_time": "2025-03-19T07:48:39.109Z"
   },
   {
    "duration": 7,
    "start_time": "2025-03-19T07:48:39.151Z"
   },
   {
    "duration": 15,
    "start_time": "2025-03-19T07:48:39.159Z"
   },
   {
    "duration": 7,
    "start_time": "2025-03-19T07:48:39.176Z"
   },
   {
    "duration": 6,
    "start_time": "2025-03-19T07:48:39.184Z"
   },
   {
    "duration": 13,
    "start_time": "2025-03-19T07:48:39.191Z"
   },
   {
    "duration": 7,
    "start_time": "2025-03-19T07:48:39.206Z"
   },
   {
    "duration": 23,
    "start_time": "2025-03-19T07:48:39.214Z"
   },
   {
    "duration": 4,
    "start_time": "2025-03-19T07:48:39.239Z"
   },
   {
    "duration": 11,
    "start_time": "2025-03-19T07:48:39.245Z"
   },
   {
    "duration": 23,
    "start_time": "2025-03-19T07:48:39.258Z"
   },
   {
    "duration": 4,
    "start_time": "2025-03-19T07:48:39.282Z"
   },
   {
    "duration": 16,
    "start_time": "2025-03-19T07:48:39.288Z"
   },
   {
    "duration": 8,
    "start_time": "2025-03-19T07:48:39.305Z"
   },
   {
    "duration": 1155,
    "start_time": "2025-03-19T07:50:52.016Z"
   },
   {
    "duration": 18,
    "start_time": "2025-03-19T07:50:53.173Z"
   },
   {
    "duration": 36,
    "start_time": "2025-03-19T07:50:53.193Z"
   },
   {
    "duration": 30,
    "start_time": "2025-03-19T07:50:53.231Z"
   },
   {
    "duration": 17,
    "start_time": "2025-03-19T07:50:53.264Z"
   },
   {
    "duration": 76,
    "start_time": "2025-03-19T07:50:53.283Z"
   },
   {
    "duration": 68,
    "start_time": "2025-03-19T07:50:53.361Z"
   },
   {
    "duration": 8,
    "start_time": "2025-03-19T07:50:53.431Z"
   },
   {
    "duration": 16,
    "start_time": "2025-03-19T07:50:53.440Z"
   },
   {
    "duration": 89,
    "start_time": "2025-03-19T07:50:53.458Z"
   },
   {
    "duration": 13,
    "start_time": "2025-03-19T07:50:53.549Z"
   },
   {
    "duration": 16,
    "start_time": "2025-03-19T07:50:53.564Z"
   },
   {
    "duration": 45,
    "start_time": "2025-03-19T07:50:53.581Z"
   },
   {
    "duration": 32,
    "start_time": "2025-03-19T07:50:53.629Z"
   },
   {
    "duration": 223,
    "start_time": "2025-03-19T07:50:53.662Z"
   },
   {
    "duration": 183,
    "start_time": "2025-03-19T07:50:53.887Z"
   },
   {
    "duration": 32,
    "start_time": "2025-03-19T07:50:54.072Z"
   },
   {
    "duration": 20,
    "start_time": "2025-03-19T07:50:54.106Z"
   },
   {
    "duration": 443,
    "start_time": "2025-03-19T07:50:54.128Z"
   },
   {
    "duration": 210,
    "start_time": "2025-03-19T07:50:54.572Z"
   },
   {
    "duration": 11,
    "start_time": "2025-03-19T07:50:54.784Z"
   },
   {
    "duration": 289,
    "start_time": "2025-03-19T07:50:54.797Z"
   },
   {
    "duration": 9,
    "start_time": "2025-03-19T07:50:55.088Z"
   },
   {
    "duration": 13,
    "start_time": "2025-03-19T07:50:55.098Z"
   },
   {
    "duration": 238,
    "start_time": "2025-03-19T07:50:55.113Z"
   },
   {
    "duration": 13,
    "start_time": "2025-03-19T07:50:55.357Z"
   },
   {
    "duration": 309,
    "start_time": "2025-03-19T07:50:55.372Z"
   },
   {
    "duration": 8,
    "start_time": "2025-03-19T07:50:55.683Z"
   },
   {
    "duration": 10,
    "start_time": "2025-03-19T07:50:55.693Z"
   },
   {
    "duration": 159,
    "start_time": "2025-03-19T07:50:55.705Z"
   },
   {
    "duration": 5,
    "start_time": "2025-03-19T07:50:55.865Z"
   },
   {
    "duration": 157,
    "start_time": "2025-03-19T07:50:55.872Z"
   },
   {
    "duration": 5,
    "start_time": "2025-03-19T07:50:56.030Z"
   },
   {
    "duration": 308,
    "start_time": "2025-03-19T07:50:56.037Z"
   },
   {
    "duration": 10,
    "start_time": "2025-03-19T07:50:56.347Z"
   },
   {
    "duration": 11,
    "start_time": "2025-03-19T07:50:56.359Z"
   },
   {
    "duration": 143,
    "start_time": "2025-03-19T07:50:56.371Z"
   },
   {
    "duration": 6,
    "start_time": "2025-03-19T07:50:56.515Z"
   },
   {
    "duration": 39,
    "start_time": "2025-03-19T07:50:56.523Z"
   },
   {
    "duration": 5,
    "start_time": "2025-03-19T07:50:56.564Z"
   },
   {
    "duration": 12,
    "start_time": "2025-03-19T07:50:56.575Z"
   },
   {
    "duration": 9,
    "start_time": "2025-03-19T07:50:56.589Z"
   },
   {
    "duration": 13,
    "start_time": "2025-03-19T07:50:56.599Z"
   },
   {
    "duration": 9,
    "start_time": "2025-03-19T07:50:56.614Z"
   },
   {
    "duration": 10,
    "start_time": "2025-03-19T07:50:56.625Z"
   },
   {
    "duration": 23,
    "start_time": "2025-03-19T07:50:56.637Z"
   },
   {
    "duration": 5,
    "start_time": "2025-03-19T07:50:56.662Z"
   },
   {
    "duration": 7,
    "start_time": "2025-03-19T07:50:56.668Z"
   },
   {
    "duration": 28,
    "start_time": "2025-03-19T07:50:56.676Z"
   },
   {
    "duration": 5,
    "start_time": "2025-03-19T07:50:56.705Z"
   },
   {
    "duration": 14,
    "start_time": "2025-03-19T07:50:56.711Z"
   },
   {
    "duration": 35,
    "start_time": "2025-03-19T07:50:56.726Z"
   },
   {
    "duration": 1194,
    "start_time": "2025-03-19T08:19:15.760Z"
   },
   {
    "duration": 17,
    "start_time": "2025-03-19T08:19:16.956Z"
   },
   {
    "duration": 11,
    "start_time": "2025-03-19T08:19:16.974Z"
   },
   {
    "duration": 8,
    "start_time": "2025-03-19T08:19:16.986Z"
   },
   {
    "duration": 13,
    "start_time": "2025-03-19T08:19:16.995Z"
   },
   {
    "duration": 11,
    "start_time": "2025-03-19T08:19:17.010Z"
   },
   {
    "duration": 52,
    "start_time": "2025-03-19T08:19:17.022Z"
   },
   {
    "duration": 10,
    "start_time": "2025-03-19T08:19:17.075Z"
   },
   {
    "duration": 23,
    "start_time": "2025-03-19T08:19:17.087Z"
   },
   {
    "duration": 10,
    "start_time": "2025-03-19T08:19:17.112Z"
   },
   {
    "duration": 10,
    "start_time": "2025-03-19T08:19:17.123Z"
   },
   {
    "duration": 19,
    "start_time": "2025-03-19T08:19:17.134Z"
   },
   {
    "duration": 9,
    "start_time": "2025-03-19T08:19:17.154Z"
   },
   {
    "duration": 20,
    "start_time": "2025-03-19T08:19:17.165Z"
   },
   {
    "duration": 173,
    "start_time": "2025-03-19T08:19:17.186Z"
   },
   {
    "duration": 134,
    "start_time": "2025-03-19T08:19:17.361Z"
   },
   {
    "duration": 12,
    "start_time": "2025-03-19T08:19:17.497Z"
   },
   {
    "duration": 24,
    "start_time": "2025-03-19T08:19:17.511Z"
   },
   {
    "duration": 287,
    "start_time": "2025-03-19T08:19:17.537Z"
   },
   {
    "duration": 201,
    "start_time": "2025-03-19T08:19:17.825Z"
   },
   {
    "duration": 11,
    "start_time": "2025-03-19T08:19:18.027Z"
   },
   {
    "duration": 318,
    "start_time": "2025-03-19T08:19:18.039Z"
   },
   {
    "duration": 9,
    "start_time": "2025-03-19T08:19:18.358Z"
   },
   {
    "duration": 21,
    "start_time": "2025-03-19T08:19:18.368Z"
   },
   {
    "duration": 221,
    "start_time": "2025-03-19T08:19:18.391Z"
   },
   {
    "duration": 14,
    "start_time": "2025-03-19T08:19:18.613Z"
   },
   {
    "duration": 339,
    "start_time": "2025-03-19T08:19:18.629Z"
   },
   {
    "duration": 8,
    "start_time": "2025-03-19T08:19:18.970Z"
   },
   {
    "duration": 13,
    "start_time": "2025-03-19T08:19:18.979Z"
   },
   {
    "duration": 148,
    "start_time": "2025-03-19T08:19:18.994Z"
   },
   {
    "duration": 14,
    "start_time": "2025-03-19T08:19:19.144Z"
   },
   {
    "duration": 157,
    "start_time": "2025-03-19T08:19:19.159Z"
   },
   {
    "duration": 4,
    "start_time": "2025-03-19T08:19:19.318Z"
   },
   {
    "duration": 309,
    "start_time": "2025-03-19T08:19:19.324Z"
   },
   {
    "duration": 10,
    "start_time": "2025-03-19T08:19:19.635Z"
   },
   {
    "duration": 8,
    "start_time": "2025-03-19T08:19:19.657Z"
   },
   {
    "duration": 140,
    "start_time": "2025-03-19T08:19:19.667Z"
   },
   {
    "duration": 6,
    "start_time": "2025-03-19T08:19:19.808Z"
   },
   {
    "duration": 32,
    "start_time": "2025-03-19T08:19:19.816Z"
   },
   {
    "duration": 9,
    "start_time": "2025-03-19T08:19:19.849Z"
   },
   {
    "duration": 14,
    "start_time": "2025-03-19T08:19:19.861Z"
   },
   {
    "duration": 18,
    "start_time": "2025-03-19T08:19:19.877Z"
   },
   {
    "duration": 5,
    "start_time": "2025-03-19T08:19:19.897Z"
   },
   {
    "duration": 6,
    "start_time": "2025-03-19T08:19:19.903Z"
   },
   {
    "duration": 20,
    "start_time": "2025-03-19T08:19:19.910Z"
   },
   {
    "duration": 16,
    "start_time": "2025-03-19T08:19:19.931Z"
   },
   {
    "duration": 12,
    "start_time": "2025-03-19T08:19:19.949Z"
   },
   {
    "duration": 19,
    "start_time": "2025-03-19T08:19:19.962Z"
   },
   {
    "duration": 28,
    "start_time": "2025-03-19T08:19:19.982Z"
   },
   {
    "duration": 5,
    "start_time": "2025-03-19T08:19:20.011Z"
   },
   {
    "duration": 36,
    "start_time": "2025-03-19T08:19:20.017Z"
   },
   {
    "duration": 15,
    "start_time": "2025-03-19T08:19:20.055Z"
   },
   {
    "duration": 72,
    "start_time": "2025-03-19T10:49:37.014Z"
   },
   {
    "duration": 49,
    "start_time": "2025-03-19T10:55:01.582Z"
   },
   {
    "duration": 1346,
    "start_time": "2025-03-19T10:55:13.049Z"
   },
   {
    "duration": 17,
    "start_time": "2025-03-19T10:55:14.397Z"
   },
   {
    "duration": 12,
    "start_time": "2025-03-19T10:55:14.415Z"
   },
   {
    "duration": 3,
    "start_time": "2025-03-19T10:55:14.429Z"
   },
   {
    "duration": 24,
    "start_time": "2025-03-19T10:55:14.434Z"
   },
   {
    "duration": 11,
    "start_time": "2025-03-19T10:55:14.459Z"
   },
   {
    "duration": 69,
    "start_time": "2025-03-19T10:55:14.471Z"
   },
   {
    "duration": 8,
    "start_time": "2025-03-19T10:55:14.542Z"
   },
   {
    "duration": 10,
    "start_time": "2025-03-19T10:55:14.552Z"
   },
   {
    "duration": 19,
    "start_time": "2025-03-19T10:55:14.564Z"
   },
   {
    "duration": 42,
    "start_time": "2025-03-19T10:55:14.584Z"
   },
   {
    "duration": 16,
    "start_time": "2025-03-19T10:55:14.628Z"
   },
   {
    "duration": 26,
    "start_time": "2025-03-19T10:55:14.646Z"
   },
   {
    "duration": 19,
    "start_time": "2025-03-19T10:55:14.675Z"
   },
   {
    "duration": 175,
    "start_time": "2025-03-19T10:55:14.695Z"
   },
   {
    "duration": 122,
    "start_time": "2025-03-19T10:55:14.872Z"
   },
   {
    "duration": 11,
    "start_time": "2025-03-19T10:55:14.995Z"
   },
   {
    "duration": 95,
    "start_time": "2025-03-19T10:55:15.008Z"
   },
   {
    "duration": 287,
    "start_time": "2025-03-19T10:55:15.105Z"
   },
   {
    "duration": 196,
    "start_time": "2025-03-19T10:55:15.393Z"
   },
   {
    "duration": 11,
    "start_time": "2025-03-19T10:55:15.590Z"
   },
   {
    "duration": 404,
    "start_time": "2025-03-19T10:55:15.603Z"
   },
   {
    "duration": 10,
    "start_time": "2025-03-19T10:55:16.009Z"
   },
   {
    "duration": 32,
    "start_time": "2025-03-19T10:55:16.020Z"
   },
   {
    "duration": 236,
    "start_time": "2025-03-19T10:55:16.053Z"
   },
   {
    "duration": 13,
    "start_time": "2025-03-19T10:55:16.291Z"
   },
   {
    "duration": 289,
    "start_time": "2025-03-19T10:55:16.306Z"
   },
   {
    "duration": 7,
    "start_time": "2025-03-19T10:55:16.597Z"
   },
   {
    "duration": 26,
    "start_time": "2025-03-19T10:55:16.606Z"
   },
   {
    "duration": 143,
    "start_time": "2025-03-19T10:55:16.634Z"
   },
   {
    "duration": 4,
    "start_time": "2025-03-19T10:55:16.779Z"
   },
   {
    "duration": 153,
    "start_time": "2025-03-19T10:55:16.784Z"
   },
   {
    "duration": 5,
    "start_time": "2025-03-19T10:55:16.938Z"
   },
   {
    "duration": 291,
    "start_time": "2025-03-19T10:55:16.944Z"
   },
   {
    "duration": 10,
    "start_time": "2025-03-19T10:55:17.236Z"
   },
   {
    "duration": 25,
    "start_time": "2025-03-19T10:55:17.247Z"
   },
   {
    "duration": 138,
    "start_time": "2025-03-19T10:55:17.274Z"
   },
   {
    "duration": 5,
    "start_time": "2025-03-19T10:55:17.414Z"
   },
   {
    "duration": 25,
    "start_time": "2025-03-19T10:55:17.420Z"
   },
   {
    "duration": 13,
    "start_time": "2025-03-19T10:55:17.446Z"
   },
   {
    "duration": 18,
    "start_time": "2025-03-19T10:55:17.463Z"
   },
   {
    "duration": 10,
    "start_time": "2025-03-19T10:55:17.483Z"
   },
   {
    "duration": 6,
    "start_time": "2025-03-19T10:55:17.495Z"
   },
   {
    "duration": 14,
    "start_time": "2025-03-19T10:55:17.502Z"
   },
   {
    "duration": 16,
    "start_time": "2025-03-19T10:55:17.518Z"
   },
   {
    "duration": 20,
    "start_time": "2025-03-19T10:55:17.536Z"
   },
   {
    "duration": 11,
    "start_time": "2025-03-19T10:55:17.557Z"
   },
   {
    "duration": 21,
    "start_time": "2025-03-19T10:55:17.569Z"
   },
   {
    "duration": 32,
    "start_time": "2025-03-19T10:55:17.592Z"
   },
   {
    "duration": 3,
    "start_time": "2025-03-19T10:55:17.626Z"
   },
   {
    "duration": 10,
    "start_time": "2025-03-19T10:55:17.631Z"
   },
   {
    "duration": 27,
    "start_time": "2025-03-19T10:55:17.642Z"
   },
   {
    "duration": 11,
    "start_time": "2025-03-19T10:56:13.962Z"
   },
   {
    "duration": 11,
    "start_time": "2025-03-19T10:56:32.966Z"
   },
   {
    "duration": 46,
    "start_time": "2025-03-19T21:03:58.770Z"
   },
   {
    "duration": 1315,
    "start_time": "2025-03-19T21:04:04.084Z"
   },
   {
    "duration": 28,
    "start_time": "2025-03-19T21:04:05.401Z"
   },
   {
    "duration": 11,
    "start_time": "2025-03-19T21:04:05.430Z"
   },
   {
    "duration": 28,
    "start_time": "2025-03-19T21:04:05.443Z"
   },
   {
    "duration": 24,
    "start_time": "2025-03-19T21:04:05.472Z"
   },
   {
    "duration": 11,
    "start_time": "2025-03-19T21:04:05.497Z"
   },
   {
    "duration": 51,
    "start_time": "2025-03-19T21:04:05.510Z"
   },
   {
    "duration": 9,
    "start_time": "2025-03-19T21:04:05.563Z"
   },
   {
    "duration": 31,
    "start_time": "2025-03-19T21:04:05.573Z"
   },
   {
    "duration": 10,
    "start_time": "2025-03-19T21:04:05.607Z"
   },
   {
    "duration": 57,
    "start_time": "2025-03-19T21:04:05.619Z"
   },
   {
    "duration": 34,
    "start_time": "2025-03-19T21:04:05.678Z"
   },
   {
    "duration": 13,
    "start_time": "2025-03-19T21:04:05.714Z"
   },
   {
    "duration": 11,
    "start_time": "2025-03-19T21:04:05.730Z"
   },
   {
    "duration": 126,
    "start_time": "2025-03-19T21:04:05.743Z"
   },
   {
    "duration": 0,
    "start_time": "2025-03-19T21:04:05.871Z"
   },
   {
    "duration": 0,
    "start_time": "2025-03-19T21:04:05.872Z"
   },
   {
    "duration": 0,
    "start_time": "2025-03-19T21:04:05.874Z"
   },
   {
    "duration": 0,
    "start_time": "2025-03-19T21:04:05.874Z"
   },
   {
    "duration": 0,
    "start_time": "2025-03-19T21:04:05.875Z"
   },
   {
    "duration": 0,
    "start_time": "2025-03-19T21:04:05.877Z"
   },
   {
    "duration": 0,
    "start_time": "2025-03-19T21:04:05.878Z"
   },
   {
    "duration": 0,
    "start_time": "2025-03-19T21:04:05.879Z"
   },
   {
    "duration": 0,
    "start_time": "2025-03-19T21:04:05.880Z"
   },
   {
    "duration": 0,
    "start_time": "2025-03-19T21:04:05.881Z"
   },
   {
    "duration": 0,
    "start_time": "2025-03-19T21:04:05.882Z"
   },
   {
    "duration": 0,
    "start_time": "2025-03-19T21:04:05.883Z"
   },
   {
    "duration": 0,
    "start_time": "2025-03-19T21:04:05.884Z"
   },
   {
    "duration": 0,
    "start_time": "2025-03-19T21:04:05.885Z"
   },
   {
    "duration": 0,
    "start_time": "2025-03-19T21:04:05.886Z"
   },
   {
    "duration": 0,
    "start_time": "2025-03-19T21:04:05.887Z"
   },
   {
    "duration": 0,
    "start_time": "2025-03-19T21:04:05.888Z"
   },
   {
    "duration": 0,
    "start_time": "2025-03-19T21:04:05.889Z"
   },
   {
    "duration": 0,
    "start_time": "2025-03-19T21:04:05.890Z"
   },
   {
    "duration": 0,
    "start_time": "2025-03-19T21:04:05.891Z"
   },
   {
    "duration": 0,
    "start_time": "2025-03-19T21:04:05.892Z"
   },
   {
    "duration": 0,
    "start_time": "2025-03-19T21:04:05.894Z"
   },
   {
    "duration": 0,
    "start_time": "2025-03-19T21:04:05.895Z"
   },
   {
    "duration": 0,
    "start_time": "2025-03-19T21:04:05.896Z"
   },
   {
    "duration": 0,
    "start_time": "2025-03-19T21:04:05.897Z"
   },
   {
    "duration": 0,
    "start_time": "2025-03-19T21:04:05.898Z"
   },
   {
    "duration": 0,
    "start_time": "2025-03-19T21:04:05.899Z"
   },
   {
    "duration": 0,
    "start_time": "2025-03-19T21:04:05.900Z"
   },
   {
    "duration": 0,
    "start_time": "2025-03-19T21:04:05.901Z"
   },
   {
    "duration": 0,
    "start_time": "2025-03-19T21:04:05.902Z"
   },
   {
    "duration": 0,
    "start_time": "2025-03-19T21:04:05.903Z"
   },
   {
    "duration": 0,
    "start_time": "2025-03-19T21:04:05.904Z"
   },
   {
    "duration": 0,
    "start_time": "2025-03-19T21:04:05.905Z"
   },
   {
    "duration": 0,
    "start_time": "2025-03-19T21:04:05.906Z"
   },
   {
    "duration": 0,
    "start_time": "2025-03-19T21:04:05.962Z"
   },
   {
    "duration": 0,
    "start_time": "2025-03-19T21:04:05.963Z"
   },
   {
    "duration": 0,
    "start_time": "2025-03-19T21:04:05.964Z"
   },
   {
    "duration": 0,
    "start_time": "2025-03-19T21:04:05.965Z"
   },
   {
    "duration": 1,
    "start_time": "2025-03-19T21:04:05.966Z"
   },
   {
    "duration": 14,
    "start_time": "2025-03-19T21:04:28.537Z"
   },
   {
    "duration": 98,
    "start_time": "2025-03-19T21:06:46.182Z"
   },
   {
    "duration": 14,
    "start_time": "2025-03-19T21:06:51.825Z"
   },
   {
    "duration": 12,
    "start_time": "2025-03-19T21:08:33.421Z"
   },
   {
    "duration": 83,
    "start_time": "2025-03-19T21:19:27.252Z"
   },
   {
    "duration": 8,
    "start_time": "2025-03-19T21:19:35.820Z"
   },
   {
    "duration": 7,
    "start_time": "2025-03-19T21:19:58.592Z"
   },
   {
    "duration": 8,
    "start_time": "2025-03-19T21:20:46.271Z"
   },
   {
    "duration": 4,
    "start_time": "2025-03-19T21:23:57.291Z"
   },
   {
    "duration": 98,
    "start_time": "2025-03-19T21:24:10.044Z"
   },
   {
    "duration": 74,
    "start_time": "2025-03-19T21:24:16.164Z"
   },
   {
    "duration": 12,
    "start_time": "2025-03-19T21:24:52.771Z"
   },
   {
    "duration": 8,
    "start_time": "2025-03-19T21:25:20.094Z"
   },
   {
    "duration": 74,
    "start_time": "2025-03-19T21:26:08.333Z"
   },
   {
    "duration": 6,
    "start_time": "2025-03-19T21:26:22.778Z"
   },
   {
    "duration": 7,
    "start_time": "2025-03-19T21:27:40.972Z"
   },
   {
    "duration": 8,
    "start_time": "2025-03-19T21:29:10.439Z"
   },
   {
    "duration": 16,
    "start_time": "2025-03-19T21:31:04.700Z"
   },
   {
    "duration": 4,
    "start_time": "2025-03-19T21:36:46.216Z"
   },
   {
    "duration": 4,
    "start_time": "2025-03-19T21:36:51.309Z"
   },
   {
    "duration": 6,
    "start_time": "2025-03-19T21:37:01.835Z"
   },
   {
    "duration": 14,
    "start_time": "2025-03-19T21:37:41.840Z"
   },
   {
    "duration": 14,
    "start_time": "2025-03-19T21:37:51.714Z"
   },
   {
    "duration": 119,
    "start_time": "2025-03-19T21:40:00.948Z"
   },
   {
    "duration": 7,
    "start_time": "2025-03-19T21:40:09.325Z"
   },
   {
    "duration": 6,
    "start_time": "2025-03-19T21:40:41.061Z"
   },
   {
    "duration": 8,
    "start_time": "2025-03-19T21:40:53.404Z"
   },
   {
    "duration": 5,
    "start_time": "2025-03-19T21:42:20.122Z"
   },
   {
    "duration": 11,
    "start_time": "2025-03-19T21:42:48.485Z"
   },
   {
    "duration": 10,
    "start_time": "2025-03-19T21:43:08.441Z"
   },
   {
    "duration": 10,
    "start_time": "2025-03-19T21:44:41.452Z"
   },
   {
    "duration": 10,
    "start_time": "2025-03-19T21:49:20.686Z"
   },
   {
    "duration": 7,
    "start_time": "2025-03-19T21:49:30.814Z"
   },
   {
    "duration": 7,
    "start_time": "2025-03-19T21:49:58.891Z"
   },
   {
    "duration": 7,
    "start_time": "2025-03-19T21:50:22.607Z"
   },
   {
    "duration": 6,
    "start_time": "2025-03-19T21:51:02.780Z"
   },
   {
    "duration": 10,
    "start_time": "2025-03-19T21:52:40.882Z"
   },
   {
    "duration": 12,
    "start_time": "2025-03-19T21:53:34.274Z"
   },
   {
    "duration": 7,
    "start_time": "2025-03-19T21:53:35.986Z"
   },
   {
    "duration": 10,
    "start_time": "2025-03-19T21:53:42.299Z"
   },
   {
    "duration": 9,
    "start_time": "2025-03-19T21:53:53.198Z"
   },
   {
    "duration": 10,
    "start_time": "2025-03-19T21:55:28.975Z"
   },
   {
    "duration": 11,
    "start_time": "2025-03-19T21:55:48.917Z"
   },
   {
    "duration": 11,
    "start_time": "2025-03-19T21:56:12.543Z"
   },
   {
    "duration": 86,
    "start_time": "2025-03-19T21:56:46.585Z"
   },
   {
    "duration": 6,
    "start_time": "2025-03-19T21:56:51.829Z"
   },
   {
    "duration": 6,
    "start_time": "2025-03-19T21:57:18.907Z"
   },
   {
    "duration": 7,
    "start_time": "2025-03-19T21:58:56.304Z"
   },
   {
    "duration": 6,
    "start_time": "2025-03-19T22:00:12.237Z"
   },
   {
    "duration": 10,
    "start_time": "2025-03-19T22:00:30.101Z"
   },
   {
    "duration": 7,
    "start_time": "2025-03-19T22:00:42.023Z"
   },
   {
    "duration": 5,
    "start_time": "2025-03-19T22:01:02.104Z"
   },
   {
    "duration": 5,
    "start_time": "2025-03-19T22:01:14.037Z"
   },
   {
    "duration": 5,
    "start_time": "2025-03-19T22:01:20.301Z"
   },
   {
    "duration": 6,
    "start_time": "2025-03-19T22:01:26.612Z"
   },
   {
    "duration": 9,
    "start_time": "2025-03-19T22:02:24.678Z"
   },
   {
    "duration": 8,
    "start_time": "2025-03-19T22:03:31.931Z"
   },
   {
    "duration": 6,
    "start_time": "2025-03-19T22:03:42.313Z"
   },
   {
    "duration": 6,
    "start_time": "2025-03-19T22:03:44.010Z"
   },
   {
    "duration": 9,
    "start_time": "2025-03-19T22:03:46.427Z"
   },
   {
    "duration": 3,
    "start_time": "2025-03-19T22:07:34.387Z"
   },
   {
    "duration": 5,
    "start_time": "2025-03-19T22:07:39.541Z"
   },
   {
    "duration": 9,
    "start_time": "2025-03-19T22:11:02.953Z"
   },
   {
    "duration": 9,
    "start_time": "2025-03-19T22:11:08.362Z"
   },
   {
    "duration": 8,
    "start_time": "2025-03-19T22:11:15.300Z"
   },
   {
    "duration": 3,
    "start_time": "2025-03-19T22:15:11.758Z"
   },
   {
    "duration": 5,
    "start_time": "2025-03-19T22:15:26.642Z"
   },
   {
    "duration": 10,
    "start_time": "2025-03-19T22:20:29.698Z"
   },
   {
    "duration": 10,
    "start_time": "2025-03-19T22:20:37.780Z"
   },
   {
    "duration": 77,
    "start_time": "2025-03-19T22:21:40.005Z"
   },
   {
    "duration": 11,
    "start_time": "2025-03-19T22:21:43.931Z"
   },
   {
    "duration": 13,
    "start_time": "2025-03-19T22:26:23.606Z"
   },
   {
    "duration": 7,
    "start_time": "2025-03-19T22:27:28.672Z"
   },
   {
    "duration": 7,
    "start_time": "2025-03-19T22:29:03.101Z"
   },
   {
    "duration": 9,
    "start_time": "2025-03-19T22:31:03.617Z"
   },
   {
    "duration": 9,
    "start_time": "2025-03-19T22:31:23.891Z"
   },
   {
    "duration": 136,
    "start_time": "2025-03-19T22:35:36.805Z"
   },
   {
    "duration": 7,
    "start_time": "2025-03-19T22:35:52.456Z"
   },
   {
    "duration": 6,
    "start_time": "2025-03-19T22:37:09.811Z"
   },
   {
    "duration": 6,
    "start_time": "2025-03-19T22:37:22.301Z"
   },
   {
    "duration": 6,
    "start_time": "2025-03-19T22:37:31.041Z"
   },
   {
    "duration": 14,
    "start_time": "2025-03-19T22:39:54.107Z"
   },
   {
    "duration": 1162,
    "start_time": "2025-03-19T22:40:02.615Z"
   },
   {
    "duration": 16,
    "start_time": "2025-03-19T22:40:03.779Z"
   },
   {
    "duration": 11,
    "start_time": "2025-03-19T22:40:03.797Z"
   },
   {
    "duration": 4,
    "start_time": "2025-03-19T22:40:03.810Z"
   },
   {
    "duration": 27,
    "start_time": "2025-03-19T22:40:03.816Z"
   },
   {
    "duration": 23,
    "start_time": "2025-03-19T22:40:03.845Z"
   },
   {
    "duration": 77,
    "start_time": "2025-03-19T22:40:03.870Z"
   },
   {
    "duration": 9,
    "start_time": "2025-03-19T22:40:03.949Z"
   },
   {
    "duration": 37,
    "start_time": "2025-03-19T22:40:03.959Z"
   },
   {
    "duration": 20,
    "start_time": "2025-03-19T22:40:03.998Z"
   },
   {
    "duration": 10,
    "start_time": "2025-03-19T22:40:04.020Z"
   },
   {
    "duration": 24,
    "start_time": "2025-03-19T22:40:04.032Z"
   },
   {
    "duration": 29,
    "start_time": "2025-03-19T22:40:04.057Z"
   },
   {
    "duration": 44,
    "start_time": "2025-03-19T22:40:04.087Z"
   },
   {
    "duration": 47,
    "start_time": "2025-03-19T22:40:04.132Z"
   },
   {
    "duration": 23,
    "start_time": "2025-03-19T22:40:04.181Z"
   },
   {
    "duration": 185,
    "start_time": "2025-03-19T22:40:04.205Z"
   },
   {
    "duration": 141,
    "start_time": "2025-03-19T22:40:04.391Z"
   },
   {
    "duration": 12,
    "start_time": "2025-03-19T22:40:04.534Z"
   },
   {
    "duration": 40,
    "start_time": "2025-03-19T22:40:04.562Z"
   },
   {
    "duration": 290,
    "start_time": "2025-03-19T22:40:04.603Z"
   },
   {
    "duration": 199,
    "start_time": "2025-03-19T22:40:04.894Z"
   },
   {
    "duration": 10,
    "start_time": "2025-03-19T22:40:05.095Z"
   },
   {
    "duration": 283,
    "start_time": "2025-03-19T22:40:05.107Z"
   },
   {
    "duration": 9,
    "start_time": "2025-03-19T22:40:05.391Z"
   },
   {
    "duration": 105,
    "start_time": "2025-03-19T22:40:05.401Z"
   },
   {
    "duration": 337,
    "start_time": "2025-03-19T22:40:05.507Z"
   },
   {
    "duration": 23,
    "start_time": "2025-03-19T22:40:05.848Z"
   },
   {
    "duration": 303,
    "start_time": "2025-03-19T22:40:05.872Z"
   },
   {
    "duration": 8,
    "start_time": "2025-03-19T22:40:06.177Z"
   },
   {
    "duration": 44,
    "start_time": "2025-03-19T22:40:06.186Z"
   },
   {
    "duration": 153,
    "start_time": "2025-03-19T22:40:06.232Z"
   },
   {
    "duration": 4,
    "start_time": "2025-03-19T22:40:06.388Z"
   },
   {
    "duration": 156,
    "start_time": "2025-03-19T22:40:06.394Z"
   },
   {
    "duration": 5,
    "start_time": "2025-03-19T22:40:06.551Z"
   },
   {
    "duration": 285,
    "start_time": "2025-03-19T22:40:06.562Z"
   },
   {
    "duration": 71,
    "start_time": "2025-03-19T22:40:06.849Z"
   },
   {
    "duration": 30,
    "start_time": "2025-03-19T22:40:06.921Z"
   },
   {
    "duration": 142,
    "start_time": "2025-03-19T22:40:06.953Z"
   },
   {
    "duration": 6,
    "start_time": "2025-03-19T22:40:07.097Z"
   },
   {
    "duration": 25,
    "start_time": "2025-03-19T22:40:07.104Z"
   },
   {
    "duration": 6,
    "start_time": "2025-03-19T22:40:07.130Z"
   },
   {
    "duration": 26,
    "start_time": "2025-03-19T22:40:07.137Z"
   },
   {
    "duration": 14,
    "start_time": "2025-03-19T22:40:07.164Z"
   },
   {
    "duration": 28,
    "start_time": "2025-03-19T22:40:07.179Z"
   },
   {
    "duration": 18,
    "start_time": "2025-03-19T22:40:07.209Z"
   },
   {
    "duration": 14,
    "start_time": "2025-03-19T22:40:07.228Z"
   },
   {
    "duration": 122,
    "start_time": "2025-03-19T22:40:07.243Z"
   },
   {
    "duration": 10,
    "start_time": "2025-03-19T22:40:07.367Z"
   },
   {
    "duration": 7,
    "start_time": "2025-03-19T22:40:07.379Z"
   },
   {
    "duration": 56,
    "start_time": "2025-03-19T22:40:07.388Z"
   },
   {
    "duration": 13,
    "start_time": "2025-03-19T22:40:07.446Z"
   },
   {
    "duration": 43,
    "start_time": "2025-03-19T22:40:07.461Z"
   },
   {
    "duration": 98,
    "start_time": "2025-03-19T22:40:07.505Z"
   },
   {
    "duration": 10,
    "start_time": "2025-03-19T22:51:29.825Z"
   },
   {
    "duration": 8,
    "start_time": "2025-03-19T22:54:32.627Z"
   },
   {
    "duration": 16,
    "start_time": "2025-03-19T22:55:45.173Z"
   },
   {
    "duration": 12,
    "start_time": "2025-03-19T22:55:56.415Z"
   },
   {
    "duration": 10,
    "start_time": "2025-03-19T23:02:30.288Z"
   },
   {
    "duration": 12,
    "start_time": "2025-03-19T23:07:19.482Z"
   },
   {
    "duration": 14,
    "start_time": "2025-03-19T23:10:26.612Z"
   },
   {
    "duration": 12,
    "start_time": "2025-03-19T23:12:11.484Z"
   },
   {
    "duration": 1171,
    "start_time": "2025-03-19T23:12:54.002Z"
   },
   {
    "duration": 16,
    "start_time": "2025-03-19T23:12:55.175Z"
   },
   {
    "duration": 10,
    "start_time": "2025-03-19T23:12:55.193Z"
   },
   {
    "duration": 6,
    "start_time": "2025-03-19T23:12:55.205Z"
   },
   {
    "duration": 13,
    "start_time": "2025-03-19T23:12:55.213Z"
   },
   {
    "duration": 10,
    "start_time": "2025-03-19T23:12:55.228Z"
   },
   {
    "duration": 67,
    "start_time": "2025-03-19T23:12:55.239Z"
   },
   {
    "duration": 7,
    "start_time": "2025-03-19T23:12:55.307Z"
   },
   {
    "duration": 20,
    "start_time": "2025-03-19T23:12:55.316Z"
   },
   {
    "duration": 7,
    "start_time": "2025-03-19T23:12:55.338Z"
   },
   {
    "duration": 14,
    "start_time": "2025-03-19T23:12:55.346Z"
   },
   {
    "duration": 17,
    "start_time": "2025-03-19T23:12:55.362Z"
   },
   {
    "duration": 11,
    "start_time": "2025-03-19T23:12:55.381Z"
   },
   {
    "duration": 9,
    "start_time": "2025-03-19T23:12:55.393Z"
   },
   {
    "duration": 25,
    "start_time": "2025-03-19T23:12:55.403Z"
   },
   {
    "duration": 33,
    "start_time": "2025-03-19T23:12:55.430Z"
   },
   {
    "duration": 169,
    "start_time": "2025-03-19T23:12:55.465Z"
   },
   {
    "duration": 148,
    "start_time": "2025-03-19T23:12:55.635Z"
   },
   {
    "duration": 12,
    "start_time": "2025-03-19T23:12:55.784Z"
   },
   {
    "duration": 60,
    "start_time": "2025-03-19T23:12:55.797Z"
   },
   {
    "duration": 273,
    "start_time": "2025-03-19T23:12:55.859Z"
   },
   {
    "duration": 199,
    "start_time": "2025-03-19T23:12:56.134Z"
   },
   {
    "duration": 11,
    "start_time": "2025-03-19T23:12:56.335Z"
   },
   {
    "duration": 332,
    "start_time": "2025-03-19T23:12:56.347Z"
   },
   {
    "duration": 13,
    "start_time": "2025-03-19T23:12:56.680Z"
   },
   {
    "duration": 25,
    "start_time": "2025-03-19T23:12:56.694Z"
   },
   {
    "duration": 13,
    "start_time": "2025-03-19T23:12:56.721Z"
   },
   {
    "duration": 216,
    "start_time": "2025-03-19T23:12:56.738Z"
   },
   {
    "duration": 18,
    "start_time": "2025-03-19T23:12:56.955Z"
   },
   {
    "duration": 393,
    "start_time": "2025-03-19T23:12:56.975Z"
   },
   {
    "duration": 9,
    "start_time": "2025-03-19T23:12:57.369Z"
   },
   {
    "duration": 12,
    "start_time": "2025-03-19T23:12:57.379Z"
   },
   {
    "duration": 161,
    "start_time": "2025-03-19T23:12:57.393Z"
   },
   {
    "duration": 5,
    "start_time": "2025-03-19T23:12:57.561Z"
   },
   {
    "duration": 150,
    "start_time": "2025-03-19T23:12:57.568Z"
   },
   {
    "duration": 5,
    "start_time": "2025-03-19T23:12:57.720Z"
   },
   {
    "duration": 301,
    "start_time": "2025-03-19T23:12:57.727Z"
   },
   {
    "duration": 9,
    "start_time": "2025-03-19T23:12:58.030Z"
   },
   {
    "duration": 24,
    "start_time": "2025-03-19T23:12:58.041Z"
   },
   {
    "duration": 121,
    "start_time": "2025-03-19T23:12:58.067Z"
   },
   {
    "duration": 6,
    "start_time": "2025-03-19T23:12:58.190Z"
   },
   {
    "duration": 24,
    "start_time": "2025-03-19T23:12:58.197Z"
   },
   {
    "duration": 4,
    "start_time": "2025-03-19T23:12:58.222Z"
   },
   {
    "duration": 17,
    "start_time": "2025-03-19T23:12:58.228Z"
   },
   {
    "duration": 20,
    "start_time": "2025-03-19T23:12:58.246Z"
   },
   {
    "duration": 5,
    "start_time": "2025-03-19T23:12:58.268Z"
   },
   {
    "duration": 22,
    "start_time": "2025-03-19T23:12:58.275Z"
   },
   {
    "duration": 8,
    "start_time": "2025-03-19T23:12:58.298Z"
   },
   {
    "duration": 18,
    "start_time": "2025-03-19T23:12:58.307Z"
   },
   {
    "duration": 16,
    "start_time": "2025-03-19T23:12:58.326Z"
   },
   {
    "duration": 5,
    "start_time": "2025-03-19T23:12:58.343Z"
   },
   {
    "duration": 28,
    "start_time": "2025-03-19T23:12:58.350Z"
   },
   {
    "duration": 7,
    "start_time": "2025-03-19T23:12:58.380Z"
   },
   {
    "duration": 28,
    "start_time": "2025-03-19T23:12:58.389Z"
   },
   {
    "duration": 8,
    "start_time": "2025-03-19T23:12:58.419Z"
   },
   {
    "duration": 1508,
    "start_time": "2025-03-19T23:14:51.581Z"
   },
   {
    "duration": 12,
    "start_time": "2025-03-19T23:15:01.475Z"
   },
   {
    "duration": 11,
    "start_time": "2025-03-19T23:18:42.370Z"
   },
   {
    "duration": 13,
    "start_time": "2025-03-19T23:19:43.723Z"
   },
   {
    "duration": 12,
    "start_time": "2025-03-19T23:20:33.243Z"
   },
   {
    "duration": 139,
    "start_time": "2025-03-19T23:29:44.282Z"
   },
   {
    "duration": 129,
    "start_time": "2025-03-19T23:29:54.571Z"
   },
   {
    "duration": 144,
    "start_time": "2025-03-19T23:30:04.724Z"
   },
   {
    "duration": 136,
    "start_time": "2025-03-19T23:30:16.077Z"
   },
   {
    "duration": 154,
    "start_time": "2025-03-19T23:30:27.439Z"
   },
   {
    "duration": 141,
    "start_time": "2025-03-19T23:31:41.426Z"
   },
   {
    "duration": 146,
    "start_time": "2025-03-19T23:31:49.851Z"
   },
   {
    "duration": 4,
    "start_time": "2025-03-19T23:44:22.504Z"
   },
   {
    "duration": 87,
    "start_time": "2025-03-19T23:45:20.993Z"
   },
   {
    "duration": 179,
    "start_time": "2025-03-19T23:45:28.617Z"
   },
   {
    "duration": 5,
    "start_time": "2025-03-19T23:45:35.131Z"
   },
   {
    "duration": 91,
    "start_time": "2025-03-19T23:45:59.710Z"
   },
   {
    "duration": 82,
    "start_time": "2025-03-19T23:46:25.945Z"
   },
   {
    "duration": 81,
    "start_time": "2025-03-19T23:46:30.969Z"
   },
   {
    "duration": 85,
    "start_time": "2025-03-19T23:46:53.007Z"
   },
   {
    "duration": 5,
    "start_time": "2025-03-19T23:47:26.859Z"
   },
   {
    "duration": 5,
    "start_time": "2025-03-19T23:48:26.779Z"
   },
   {
    "duration": 83,
    "start_time": "2025-03-19T23:48:47.441Z"
   },
   {
    "duration": 6,
    "start_time": "2025-03-19T23:48:51.904Z"
   },
   {
    "duration": 5,
    "start_time": "2025-03-19T23:49:07.297Z"
   },
   {
    "duration": 5,
    "start_time": "2025-03-19T23:49:54.319Z"
   },
   {
    "duration": 6,
    "start_time": "2025-03-19T23:50:27.940Z"
   },
   {
    "duration": 5,
    "start_time": "2025-03-19T23:50:51.146Z"
   },
   {
    "duration": 6,
    "start_time": "2025-03-19T23:51:55.425Z"
   },
   {
    "duration": 6,
    "start_time": "2025-03-19T23:52:06.242Z"
   },
   {
    "duration": 12,
    "start_time": "2025-03-19T23:53:22.935Z"
   },
   {
    "duration": 4,
    "start_time": "2025-03-19T23:53:29.334Z"
   },
   {
    "duration": 5,
    "start_time": "2025-03-20T00:06:06.570Z"
   },
   {
    "duration": 1246,
    "start_time": "2025-03-20T00:06:35.336Z"
   },
   {
    "duration": 17,
    "start_time": "2025-03-20T00:06:36.583Z"
   },
   {
    "duration": 11,
    "start_time": "2025-03-20T00:06:36.602Z"
   },
   {
    "duration": 3,
    "start_time": "2025-03-20T00:06:36.615Z"
   },
   {
    "duration": 21,
    "start_time": "2025-03-20T00:06:36.620Z"
   },
   {
    "duration": 44,
    "start_time": "2025-03-20T00:06:36.643Z"
   },
   {
    "duration": 61,
    "start_time": "2025-03-20T00:06:36.689Z"
   },
   {
    "duration": 8,
    "start_time": "2025-03-20T00:06:36.752Z"
   },
   {
    "duration": 50,
    "start_time": "2025-03-20T00:06:36.761Z"
   },
   {
    "duration": 39,
    "start_time": "2025-03-20T00:06:36.814Z"
   },
   {
    "duration": 19,
    "start_time": "2025-03-20T00:06:36.854Z"
   },
   {
    "duration": 26,
    "start_time": "2025-03-20T00:06:36.875Z"
   },
   {
    "duration": 14,
    "start_time": "2025-03-20T00:06:36.902Z"
   },
   {
    "duration": 25,
    "start_time": "2025-03-20T00:06:36.917Z"
   },
   {
    "duration": 26,
    "start_time": "2025-03-20T00:06:36.944Z"
   },
   {
    "duration": 16,
    "start_time": "2025-03-20T00:06:36.972Z"
   },
   {
    "duration": 167,
    "start_time": "2025-03-20T00:06:36.989Z"
   },
   {
    "duration": 135,
    "start_time": "2025-03-20T00:06:37.158Z"
   },
   {
    "duration": 13,
    "start_time": "2025-03-20T00:06:37.294Z"
   },
   {
    "duration": 17,
    "start_time": "2025-03-20T00:06:37.308Z"
   },
   {
    "duration": 304,
    "start_time": "2025-03-20T00:06:37.327Z"
   },
   {
    "duration": 192,
    "start_time": "2025-03-20T00:06:37.632Z"
   },
   {
    "duration": 11,
    "start_time": "2025-03-20T00:06:37.825Z"
   },
   {
    "duration": 313,
    "start_time": "2025-03-20T00:06:37.837Z"
   },
   {
    "duration": 20,
    "start_time": "2025-03-20T00:06:38.152Z"
   },
   {
    "duration": 8,
    "start_time": "2025-03-20T00:06:38.173Z"
   },
   {
    "duration": 11,
    "start_time": "2025-03-20T00:06:38.182Z"
   },
   {
    "duration": 219,
    "start_time": "2025-03-20T00:06:38.196Z"
   },
   {
    "duration": 12,
    "start_time": "2025-03-20T00:06:38.416Z"
   },
   {
    "duration": 328,
    "start_time": "2025-03-20T00:06:38.430Z"
   },
   {
    "duration": 8,
    "start_time": "2025-03-20T00:06:38.759Z"
   },
   {
    "duration": 10,
    "start_time": "2025-03-20T00:06:38.769Z"
   },
   {
    "duration": 144,
    "start_time": "2025-03-20T00:06:38.780Z"
   },
   {
    "duration": 5,
    "start_time": "2025-03-20T00:06:38.925Z"
   },
   {
    "duration": 156,
    "start_time": "2025-03-20T00:06:38.931Z"
   },
   {
    "duration": 234,
    "start_time": "2025-03-20T00:06:39.089Z"
   },
   {
    "duration": 4,
    "start_time": "2025-03-20T00:06:39.325Z"
   },
   {
    "duration": 212,
    "start_time": "2025-03-20T00:06:39.330Z"
   },
   {
    "duration": 10,
    "start_time": "2025-03-20T00:06:39.544Z"
   },
   {
    "duration": 25,
    "start_time": "2025-03-20T00:06:39.561Z"
   },
   {
    "duration": 127,
    "start_time": "2025-03-20T00:06:39.587Z"
   },
   {
    "duration": 6,
    "start_time": "2025-03-20T00:06:39.715Z"
   },
   {
    "duration": 37,
    "start_time": "2025-03-20T00:06:39.722Z"
   },
   {
    "duration": 4,
    "start_time": "2025-03-20T00:06:39.761Z"
   },
   {
    "duration": 8,
    "start_time": "2025-03-20T00:06:39.767Z"
   },
   {
    "duration": 6,
    "start_time": "2025-03-20T00:06:39.777Z"
   },
   {
    "duration": 6,
    "start_time": "2025-03-20T00:06:39.784Z"
   },
   {
    "duration": 86,
    "start_time": "2025-03-20T00:06:39.791Z"
   },
   {
    "duration": 6,
    "start_time": "2025-03-20T00:06:39.879Z"
   },
   {
    "duration": 4,
    "start_time": "2025-03-20T00:06:39.886Z"
   },
   {
    "duration": 4,
    "start_time": "2025-03-20T00:06:39.892Z"
   },
   {
    "duration": 9,
    "start_time": "2025-03-20T00:06:39.897Z"
   },
   {
    "duration": 9,
    "start_time": "2025-03-20T00:06:39.908Z"
   },
   {
    "duration": 10,
    "start_time": "2025-03-20T00:06:39.918Z"
   },
   {
    "duration": 6,
    "start_time": "2025-03-20T00:06:39.929Z"
   },
   {
    "duration": 123,
    "start_time": "2025-03-20T00:06:39.937Z"
   },
   {
    "duration": 12,
    "start_time": "2025-03-20T00:06:40.062Z"
   },
   {
    "duration": 24,
    "start_time": "2025-03-20T00:06:40.076Z"
   },
   {
    "duration": 9,
    "start_time": "2025-03-20T00:06:40.102Z"
   },
   {
    "duration": 1168,
    "start_time": "2025-03-20T00:11:55.491Z"
   },
   {
    "duration": 16,
    "start_time": "2025-03-20T00:11:56.663Z"
   },
   {
    "duration": 10,
    "start_time": "2025-03-20T00:11:56.680Z"
   },
   {
    "duration": 3,
    "start_time": "2025-03-20T00:11:56.692Z"
   },
   {
    "duration": 12,
    "start_time": "2025-03-20T00:11:56.696Z"
   },
   {
    "duration": 30,
    "start_time": "2025-03-20T00:11:56.710Z"
   },
   {
    "duration": 57,
    "start_time": "2025-03-20T00:11:56.741Z"
   },
   {
    "duration": 7,
    "start_time": "2025-03-20T00:11:56.800Z"
   },
   {
    "duration": 15,
    "start_time": "2025-03-20T00:11:56.809Z"
   },
   {
    "duration": 13,
    "start_time": "2025-03-20T00:11:56.826Z"
   },
   {
    "duration": 25,
    "start_time": "2025-03-20T00:11:56.841Z"
   },
   {
    "duration": 33,
    "start_time": "2025-03-20T00:11:56.868Z"
   },
   {
    "duration": 14,
    "start_time": "2025-03-20T00:11:56.902Z"
   },
   {
    "duration": 10,
    "start_time": "2025-03-20T00:11:56.918Z"
   },
   {
    "duration": 9,
    "start_time": "2025-03-20T00:11:56.930Z"
   },
   {
    "duration": 8,
    "start_time": "2025-03-20T00:11:56.941Z"
   },
   {
    "duration": 171,
    "start_time": "2025-03-20T00:11:56.951Z"
   },
   {
    "duration": 122,
    "start_time": "2025-03-20T00:11:57.125Z"
   },
   {
    "duration": 146,
    "start_time": "2025-03-20T00:11:57.249Z"
   },
   {
    "duration": 14,
    "start_time": "2025-03-20T00:11:57.396Z"
   },
   {
    "duration": 277,
    "start_time": "2025-03-20T00:11:57.412Z"
   },
   {
    "duration": 198,
    "start_time": "2025-03-20T00:11:57.690Z"
   },
   {
    "duration": 10,
    "start_time": "2025-03-20T00:11:57.889Z"
   },
   {
    "duration": 273,
    "start_time": "2025-03-20T00:11:57.901Z"
   },
   {
    "duration": 12,
    "start_time": "2025-03-20T00:11:58.176Z"
   },
   {
    "duration": 9,
    "start_time": "2025-03-20T00:11:58.189Z"
   },
   {
    "duration": 11,
    "start_time": "2025-03-20T00:11:58.200Z"
   },
   {
    "duration": 216,
    "start_time": "2025-03-20T00:11:58.214Z"
   },
   {
    "duration": 12,
    "start_time": "2025-03-20T00:11:58.431Z"
   },
   {
    "duration": 322,
    "start_time": "2025-03-20T00:11:58.444Z"
   },
   {
    "duration": 9,
    "start_time": "2025-03-20T00:11:58.767Z"
   },
   {
    "duration": 12,
    "start_time": "2025-03-20T00:11:58.777Z"
   },
   {
    "duration": 140,
    "start_time": "2025-03-20T00:11:58.791Z"
   },
   {
    "duration": 5,
    "start_time": "2025-03-20T00:11:58.932Z"
   },
   {
    "duration": 145,
    "start_time": "2025-03-20T00:11:58.939Z"
   },
   {
    "duration": 221,
    "start_time": "2025-03-20T00:11:59.086Z"
   },
   {
    "duration": 4,
    "start_time": "2025-03-20T00:11:59.309Z"
   },
   {
    "duration": 220,
    "start_time": "2025-03-20T00:11:59.314Z"
   },
   {
    "duration": 9,
    "start_time": "2025-03-20T00:11:59.536Z"
   },
   {
    "duration": 17,
    "start_time": "2025-03-20T00:11:59.547Z"
   },
   {
    "duration": 133,
    "start_time": "2025-03-20T00:11:59.566Z"
   },
   {
    "duration": 6,
    "start_time": "2025-03-20T00:11:59.700Z"
   },
   {
    "duration": 53,
    "start_time": "2025-03-20T00:11:59.708Z"
   },
   {
    "duration": 5,
    "start_time": "2025-03-20T00:11:59.763Z"
   },
   {
    "duration": 11,
    "start_time": "2025-03-20T00:11:59.769Z"
   },
   {
    "duration": 6,
    "start_time": "2025-03-20T00:11:59.782Z"
   },
   {
    "duration": 11,
    "start_time": "2025-03-20T00:11:59.789Z"
   },
   {
    "duration": 67,
    "start_time": "2025-03-20T00:11:59.802Z"
   },
   {
    "duration": 33,
    "start_time": "2025-03-20T00:11:59.871Z"
   },
   {
    "duration": 25,
    "start_time": "2025-03-20T00:11:59.905Z"
   },
   {
    "duration": 9,
    "start_time": "2025-03-20T00:11:59.931Z"
   },
   {
    "duration": 7,
    "start_time": "2025-03-20T00:11:59.942Z"
   },
   {
    "duration": 102,
    "start_time": "2025-03-20T00:11:59.951Z"
   },
   {
    "duration": 40,
    "start_time": "2025-03-20T00:12:00.055Z"
   },
   {
    "duration": 20,
    "start_time": "2025-03-20T00:12:00.097Z"
   },
   {
    "duration": 54,
    "start_time": "2025-03-20T00:12:00.118Z"
   },
   {
    "duration": 28,
    "start_time": "2025-03-20T00:12:00.174Z"
   },
   {
    "duration": 21,
    "start_time": "2025-03-20T00:12:00.204Z"
   },
   {
    "duration": 16,
    "start_time": "2025-03-20T00:12:00.227Z"
   },
   {
    "duration": 1199,
    "start_time": "2025-03-20T02:54:46.670Z"
   },
   {
    "duration": 17,
    "start_time": "2025-03-20T02:54:47.872Z"
   },
   {
    "duration": 11,
    "start_time": "2025-03-20T02:54:47.890Z"
   },
   {
    "duration": 3,
    "start_time": "2025-03-20T02:54:47.902Z"
   },
   {
    "duration": 14,
    "start_time": "2025-03-20T02:54:47.907Z"
   },
   {
    "duration": 10,
    "start_time": "2025-03-20T02:54:47.922Z"
   },
   {
    "duration": 55,
    "start_time": "2025-03-20T02:54:47.934Z"
   },
   {
    "duration": 7,
    "start_time": "2025-03-20T02:54:47.990Z"
   },
   {
    "duration": 10,
    "start_time": "2025-03-20T02:54:47.998Z"
   },
   {
    "duration": 6,
    "start_time": "2025-03-20T02:54:48.011Z"
   },
   {
    "duration": 9,
    "start_time": "2025-03-20T02:54:48.018Z"
   },
   {
    "duration": 12,
    "start_time": "2025-03-20T02:54:48.028Z"
   },
   {
    "duration": 6,
    "start_time": "2025-03-20T02:54:48.042Z"
   },
   {
    "duration": 26,
    "start_time": "2025-03-20T02:54:48.049Z"
   },
   {
    "duration": 9,
    "start_time": "2025-03-20T02:54:48.076Z"
   },
   {
    "duration": 6,
    "start_time": "2025-03-20T02:54:48.086Z"
   },
   {
    "duration": 177,
    "start_time": "2025-03-20T02:54:48.094Z"
   },
   {
    "duration": 132,
    "start_time": "2025-03-20T02:54:48.274Z"
   },
   {
    "duration": 13,
    "start_time": "2025-03-20T02:54:48.408Z"
   },
   {
    "duration": 12,
    "start_time": "2025-03-20T02:54:48.423Z"
   },
   {
    "duration": 281,
    "start_time": "2025-03-20T02:54:48.437Z"
   },
   {
    "duration": 191,
    "start_time": "2025-03-20T02:54:48.720Z"
   },
   {
    "duration": 10,
    "start_time": "2025-03-20T02:54:48.913Z"
   },
   {
    "duration": 274,
    "start_time": "2025-03-20T02:54:48.925Z"
   },
   {
    "duration": 12,
    "start_time": "2025-03-20T02:54:49.200Z"
   },
   {
    "duration": 8,
    "start_time": "2025-03-20T02:54:49.213Z"
   },
   {
    "duration": 11,
    "start_time": "2025-03-20T02:54:49.222Z"
   },
   {
    "duration": 237,
    "start_time": "2025-03-20T02:54:49.236Z"
   },
   {
    "duration": 12,
    "start_time": "2025-03-20T02:54:49.475Z"
   },
   {
    "duration": 306,
    "start_time": "2025-03-20T02:54:49.489Z"
   },
   {
    "duration": 8,
    "start_time": "2025-03-20T02:54:49.797Z"
   },
   {
    "duration": 16,
    "start_time": "2025-03-20T02:54:49.806Z"
   },
   {
    "duration": 156,
    "start_time": "2025-03-20T02:54:49.823Z"
   },
   {
    "duration": 4,
    "start_time": "2025-03-20T02:54:49.980Z"
   },
   {
    "duration": 156,
    "start_time": "2025-03-20T02:54:49.986Z"
   },
   {
    "duration": 221,
    "start_time": "2025-03-20T02:54:50.144Z"
   },
   {
    "duration": 10,
    "start_time": "2025-03-20T02:54:50.366Z"
   },
   {
    "duration": 240,
    "start_time": "2025-03-20T02:54:50.377Z"
   },
   {
    "duration": 10,
    "start_time": "2025-03-20T02:54:50.618Z"
   },
   {
    "duration": 28,
    "start_time": "2025-03-20T02:54:50.630Z"
   },
   {
    "duration": 125,
    "start_time": "2025-03-20T02:54:50.659Z"
   },
   {
    "duration": 5,
    "start_time": "2025-03-20T02:54:50.786Z"
   },
   {
    "duration": 23,
    "start_time": "2025-03-20T02:54:50.793Z"
   },
   {
    "duration": 4,
    "start_time": "2025-03-20T02:54:50.818Z"
   },
   {
    "duration": 19,
    "start_time": "2025-03-20T02:54:50.823Z"
   },
   {
    "duration": 6,
    "start_time": "2025-03-20T02:54:50.843Z"
   },
   {
    "duration": 26,
    "start_time": "2025-03-20T02:54:50.850Z"
   },
   {
    "duration": 23,
    "start_time": "2025-03-20T02:54:50.878Z"
   },
   {
    "duration": 12,
    "start_time": "2025-03-20T02:54:50.903Z"
   },
   {
    "duration": 19,
    "start_time": "2025-03-20T02:54:50.917Z"
   },
   {
    "duration": 19,
    "start_time": "2025-03-20T02:54:50.937Z"
   },
   {
    "duration": 17,
    "start_time": "2025-03-20T02:54:50.958Z"
   },
   {
    "duration": 5,
    "start_time": "2025-03-20T02:54:50.977Z"
   },
   {
    "duration": 21,
    "start_time": "2025-03-20T02:54:50.983Z"
   },
   {
    "duration": 7,
    "start_time": "2025-03-20T02:54:51.005Z"
   },
   {
    "duration": 43,
    "start_time": "2025-03-20T02:54:51.013Z"
   },
   {
    "duration": 6,
    "start_time": "2025-03-20T02:54:51.058Z"
   },
   {
    "duration": 13,
    "start_time": "2025-03-20T02:54:51.066Z"
   },
   {
    "duration": 13,
    "start_time": "2025-03-20T02:54:51.081Z"
   },
   {
    "duration": 1119,
    "start_time": "2025-03-20T02:55:38.970Z"
   },
   {
    "duration": 16,
    "start_time": "2025-03-20T02:55:40.091Z"
   },
   {
    "duration": 10,
    "start_time": "2025-03-20T02:55:40.109Z"
   },
   {
    "duration": 5,
    "start_time": "2025-03-20T02:55:40.121Z"
   },
   {
    "duration": 19,
    "start_time": "2025-03-20T02:55:40.128Z"
   },
   {
    "duration": 22,
    "start_time": "2025-03-20T02:55:40.148Z"
   },
   {
    "duration": 56,
    "start_time": "2025-03-20T02:55:40.172Z"
   },
   {
    "duration": 7,
    "start_time": "2025-03-20T02:55:40.230Z"
   },
   {
    "duration": 13,
    "start_time": "2025-03-20T02:55:40.239Z"
   },
   {
    "duration": 6,
    "start_time": "2025-03-20T02:55:40.255Z"
   },
   {
    "duration": 11,
    "start_time": "2025-03-20T02:55:40.262Z"
   },
   {
    "duration": 18,
    "start_time": "2025-03-20T02:55:40.275Z"
   },
   {
    "duration": 7,
    "start_time": "2025-03-20T02:55:40.294Z"
   },
   {
    "duration": 9,
    "start_time": "2025-03-20T02:55:40.303Z"
   },
   {
    "duration": 8,
    "start_time": "2025-03-20T02:55:40.313Z"
   },
   {
    "duration": 7,
    "start_time": "2025-03-20T02:55:40.322Z"
   },
   {
    "duration": 178,
    "start_time": "2025-03-20T02:55:40.331Z"
   },
   {
    "duration": 135,
    "start_time": "2025-03-20T02:55:40.510Z"
   },
   {
    "duration": 28,
    "start_time": "2025-03-20T02:55:40.647Z"
   },
   {
    "duration": 11,
    "start_time": "2025-03-20T02:55:40.677Z"
   },
   {
    "duration": 287,
    "start_time": "2025-03-20T02:55:40.689Z"
   },
   {
    "duration": 200,
    "start_time": "2025-03-20T02:55:40.978Z"
   },
   {
    "duration": 14,
    "start_time": "2025-03-20T02:55:41.180Z"
   },
   {
    "duration": 289,
    "start_time": "2025-03-20T02:55:41.196Z"
   },
   {
    "duration": 13,
    "start_time": "2025-03-20T02:55:41.487Z"
   },
   {
    "duration": 9,
    "start_time": "2025-03-20T02:55:41.501Z"
   },
   {
    "duration": 11,
    "start_time": "2025-03-20T02:55:41.511Z"
   },
   {
    "duration": 222,
    "start_time": "2025-03-20T02:55:41.526Z"
   },
   {
    "duration": 12,
    "start_time": "2025-03-20T02:55:41.750Z"
   },
   {
    "duration": 314,
    "start_time": "2025-03-20T02:55:41.763Z"
   },
   {
    "duration": 9,
    "start_time": "2025-03-20T02:55:42.078Z"
   },
   {
    "duration": 11,
    "start_time": "2025-03-20T02:55:42.089Z"
   },
   {
    "duration": 155,
    "start_time": "2025-03-20T02:55:42.102Z"
   },
   {
    "duration": 5,
    "start_time": "2025-03-20T02:55:42.259Z"
   },
   {
    "duration": 151,
    "start_time": "2025-03-20T02:55:42.273Z"
   },
   {
    "duration": 227,
    "start_time": "2025-03-20T02:55:42.425Z"
   },
   {
    "duration": 5,
    "start_time": "2025-03-20T02:55:42.653Z"
   },
   {
    "duration": 229,
    "start_time": "2025-03-20T02:55:42.659Z"
   },
   {
    "duration": 9,
    "start_time": "2025-03-20T02:55:42.890Z"
   },
   {
    "duration": 12,
    "start_time": "2025-03-20T02:55:42.900Z"
   },
   {
    "duration": 144,
    "start_time": "2025-03-20T02:55:42.913Z"
   },
   {
    "duration": 5,
    "start_time": "2025-03-20T02:55:43.058Z"
   },
   {
    "duration": 48,
    "start_time": "2025-03-20T02:55:43.065Z"
   },
   {
    "duration": 4,
    "start_time": "2025-03-20T02:55:43.115Z"
   },
   {
    "duration": 16,
    "start_time": "2025-03-20T02:55:43.121Z"
   },
   {
    "duration": 6,
    "start_time": "2025-03-20T02:55:43.138Z"
   },
   {
    "duration": 4,
    "start_time": "2025-03-20T02:55:43.146Z"
   },
   {
    "duration": 20,
    "start_time": "2025-03-20T02:55:43.152Z"
   },
   {
    "duration": 6,
    "start_time": "2025-03-20T02:55:43.173Z"
   },
   {
    "duration": 4,
    "start_time": "2025-03-20T02:55:43.180Z"
   },
   {
    "duration": 11,
    "start_time": "2025-03-20T02:55:43.186Z"
   },
   {
    "duration": 10,
    "start_time": "2025-03-20T02:55:43.198Z"
   },
   {
    "duration": 5,
    "start_time": "2025-03-20T02:55:43.210Z"
   },
   {
    "duration": 7,
    "start_time": "2025-03-20T02:55:43.216Z"
   },
   {
    "duration": 8,
    "start_time": "2025-03-20T02:55:43.225Z"
   },
   {
    "duration": 24,
    "start_time": "2025-03-20T02:55:43.234Z"
   },
   {
    "duration": 16,
    "start_time": "2025-03-20T02:55:43.259Z"
   },
   {
    "duration": 10,
    "start_time": "2025-03-20T02:55:43.277Z"
   },
   {
    "duration": 8,
    "start_time": "2025-03-20T02:55:43.289Z"
   },
   {
    "duration": 6,
    "start_time": "2025-03-20T03:13:04.837Z"
   },
   {
    "duration": 6,
    "start_time": "2025-03-20T03:13:08.493Z"
   },
   {
    "duration": 1141,
    "start_time": "2025-03-20T03:18:58.815Z"
   },
   {
    "duration": 16,
    "start_time": "2025-03-20T03:18:59.958Z"
   },
   {
    "duration": 11,
    "start_time": "2025-03-20T03:18:59.975Z"
   },
   {
    "duration": 3,
    "start_time": "2025-03-20T03:18:59.988Z"
   },
   {
    "duration": 13,
    "start_time": "2025-03-20T03:18:59.993Z"
   },
   {
    "duration": 11,
    "start_time": "2025-03-20T03:19:00.007Z"
   },
   {
    "duration": 71,
    "start_time": "2025-03-20T03:19:00.019Z"
   },
   {
    "duration": 8,
    "start_time": "2025-03-20T03:19:00.091Z"
   },
   {
    "duration": 39,
    "start_time": "2025-03-20T03:19:00.100Z"
   },
   {
    "duration": 21,
    "start_time": "2025-03-20T03:19:00.142Z"
   },
   {
    "duration": 48,
    "start_time": "2025-03-20T03:19:00.165Z"
   },
   {
    "duration": 33,
    "start_time": "2025-03-20T03:19:00.214Z"
   },
   {
    "duration": 29,
    "start_time": "2025-03-20T03:19:00.248Z"
   },
   {
    "duration": 48,
    "start_time": "2025-03-20T03:19:00.278Z"
   },
   {
    "duration": 36,
    "start_time": "2025-03-20T03:19:00.327Z"
   },
   {
    "duration": 21,
    "start_time": "2025-03-20T03:19:00.364Z"
   },
   {
    "duration": 168,
    "start_time": "2025-03-20T03:19:00.386Z"
   },
   {
    "duration": 135,
    "start_time": "2025-03-20T03:19:00.556Z"
   },
   {
    "duration": 11,
    "start_time": "2025-03-20T03:19:00.693Z"
   },
   {
    "duration": 10,
    "start_time": "2025-03-20T03:19:00.706Z"
   },
   {
    "duration": 296,
    "start_time": "2025-03-20T03:19:00.718Z"
   },
   {
    "duration": 197,
    "start_time": "2025-03-20T03:19:01.015Z"
   },
   {
    "duration": 11,
    "start_time": "2025-03-20T03:19:01.214Z"
   },
   {
    "duration": 292,
    "start_time": "2025-03-20T03:19:01.227Z"
   },
   {
    "duration": 12,
    "start_time": "2025-03-20T03:19:01.521Z"
   },
   {
    "duration": 41,
    "start_time": "2025-03-20T03:19:01.535Z"
   },
   {
    "duration": 25,
    "start_time": "2025-03-20T03:19:01.578Z"
   },
   {
    "duration": 224,
    "start_time": "2025-03-20T03:19:01.607Z"
   },
   {
    "duration": 13,
    "start_time": "2025-03-20T03:19:01.832Z"
   },
   {
    "duration": 336,
    "start_time": "2025-03-20T03:19:01.847Z"
   },
   {
    "duration": 8,
    "start_time": "2025-03-20T03:19:02.184Z"
   },
   {
    "duration": 29,
    "start_time": "2025-03-20T03:19:02.193Z"
   },
   {
    "duration": 131,
    "start_time": "2025-03-20T03:19:02.223Z"
   },
   {
    "duration": 5,
    "start_time": "2025-03-20T03:19:02.355Z"
   },
   {
    "duration": 146,
    "start_time": "2025-03-20T03:19:02.361Z"
   },
   {
    "duration": 228,
    "start_time": "2025-03-20T03:19:02.509Z"
   },
   {
    "duration": 4,
    "start_time": "2025-03-20T03:19:02.739Z"
   },
   {
    "duration": 230,
    "start_time": "2025-03-20T03:19:02.745Z"
   },
   {
    "duration": 9,
    "start_time": "2025-03-20T03:19:02.977Z"
   },
   {
    "duration": 9,
    "start_time": "2025-03-20T03:19:02.987Z"
   },
   {
    "duration": 134,
    "start_time": "2025-03-20T03:19:02.998Z"
   },
   {
    "duration": 6,
    "start_time": "2025-03-20T03:19:03.133Z"
   },
   {
    "duration": 36,
    "start_time": "2025-03-20T03:19:03.140Z"
   },
   {
    "duration": 5,
    "start_time": "2025-03-20T03:19:03.177Z"
   },
   {
    "duration": 8,
    "start_time": "2025-03-20T03:19:03.183Z"
   },
   {
    "duration": 5,
    "start_time": "2025-03-20T03:19:03.193Z"
   },
   {
    "duration": 21,
    "start_time": "2025-03-20T03:19:03.199Z"
   },
   {
    "duration": 23,
    "start_time": "2025-03-20T03:19:03.222Z"
   },
   {
    "duration": 6,
    "start_time": "2025-03-20T03:19:03.246Z"
   },
   {
    "duration": 6,
    "start_time": "2025-03-20T03:19:03.253Z"
   },
   {
    "duration": 25,
    "start_time": "2025-03-20T03:19:03.261Z"
   },
   {
    "duration": 6,
    "start_time": "2025-03-20T03:19:03.288Z"
   },
   {
    "duration": 9,
    "start_time": "2025-03-20T03:19:03.296Z"
   },
   {
    "duration": 29,
    "start_time": "2025-03-20T03:19:03.306Z"
   },
   {
    "duration": 4,
    "start_time": "2025-03-20T03:19:03.337Z"
   },
   {
    "duration": 35,
    "start_time": "2025-03-20T03:19:03.343Z"
   },
   {
    "duration": 4,
    "start_time": "2025-03-20T03:19:03.379Z"
   },
   {
    "duration": 12,
    "start_time": "2025-03-20T03:19:03.384Z"
   },
   {
    "duration": 7,
    "start_time": "2025-03-20T03:19:03.398Z"
   },
   {
    "duration": 1162,
    "start_time": "2025-03-20T03:19:31.606Z"
   },
   {
    "duration": 19,
    "start_time": "2025-03-20T03:19:32.770Z"
   },
   {
    "duration": 14,
    "start_time": "2025-03-20T03:19:32.791Z"
   },
   {
    "duration": 10,
    "start_time": "2025-03-20T03:19:32.808Z"
   },
   {
    "duration": 27,
    "start_time": "2025-03-20T03:19:32.819Z"
   },
   {
    "duration": 11,
    "start_time": "2025-03-20T03:19:32.847Z"
   },
   {
    "duration": 57,
    "start_time": "2025-03-20T03:19:32.859Z"
   },
   {
    "duration": 7,
    "start_time": "2025-03-20T03:19:32.918Z"
   },
   {
    "duration": 22,
    "start_time": "2025-03-20T03:19:32.926Z"
   },
   {
    "duration": 9,
    "start_time": "2025-03-20T03:19:32.950Z"
   },
   {
    "duration": 14,
    "start_time": "2025-03-20T03:19:32.961Z"
   },
   {
    "duration": 16,
    "start_time": "2025-03-20T03:19:32.977Z"
   },
   {
    "duration": 13,
    "start_time": "2025-03-20T03:19:32.994Z"
   },
   {
    "duration": 29,
    "start_time": "2025-03-20T03:19:33.009Z"
   },
   {
    "duration": 7,
    "start_time": "2025-03-20T03:19:33.040Z"
   },
   {
    "duration": 6,
    "start_time": "2025-03-20T03:19:33.049Z"
   },
   {
    "duration": 156,
    "start_time": "2025-03-20T03:19:33.056Z"
   },
   {
    "duration": 132,
    "start_time": "2025-03-20T03:19:33.214Z"
   },
   {
    "duration": 12,
    "start_time": "2025-03-20T03:19:33.347Z"
   },
   {
    "duration": 15,
    "start_time": "2025-03-20T03:19:33.372Z"
   },
   {
    "duration": 277,
    "start_time": "2025-03-20T03:19:33.388Z"
   },
   {
    "duration": 196,
    "start_time": "2025-03-20T03:19:33.667Z"
   },
   {
    "duration": 15,
    "start_time": "2025-03-20T03:19:33.864Z"
   },
   {
    "duration": 315,
    "start_time": "2025-03-20T03:19:33.881Z"
   },
   {
    "duration": 13,
    "start_time": "2025-03-20T03:19:34.198Z"
   },
   {
    "duration": 25,
    "start_time": "2025-03-20T03:19:34.212Z"
   },
   {
    "duration": 12,
    "start_time": "2025-03-20T03:19:34.238Z"
   },
   {
    "duration": 223,
    "start_time": "2025-03-20T03:19:34.253Z"
   },
   {
    "duration": 14,
    "start_time": "2025-03-20T03:19:34.478Z"
   },
   {
    "duration": 302,
    "start_time": "2025-03-20T03:19:34.494Z"
   },
   {
    "duration": 8,
    "start_time": "2025-03-20T03:19:34.798Z"
   },
   {
    "duration": 10,
    "start_time": "2025-03-20T03:19:34.808Z"
   },
   {
    "duration": 155,
    "start_time": "2025-03-20T03:19:34.820Z"
   },
   {
    "duration": 4,
    "start_time": "2025-03-20T03:19:34.977Z"
   },
   {
    "duration": 159,
    "start_time": "2025-03-20T03:19:34.983Z"
   },
   {
    "duration": 224,
    "start_time": "2025-03-20T03:19:35.143Z"
   },
   {
    "duration": 5,
    "start_time": "2025-03-20T03:19:35.373Z"
   },
   {
    "duration": 226,
    "start_time": "2025-03-20T03:19:35.380Z"
   },
   {
    "duration": 10,
    "start_time": "2025-03-20T03:19:35.608Z"
   },
   {
    "duration": 24,
    "start_time": "2025-03-20T03:19:35.620Z"
   },
   {
    "duration": 162,
    "start_time": "2025-03-20T03:19:35.646Z"
   },
   {
    "duration": 5,
    "start_time": "2025-03-20T03:19:35.810Z"
   },
   {
    "duration": 44,
    "start_time": "2025-03-20T03:19:35.817Z"
   },
   {
    "duration": 4,
    "start_time": "2025-03-20T03:19:35.862Z"
   },
   {
    "duration": 16,
    "start_time": "2025-03-20T03:19:35.867Z"
   },
   {
    "duration": 6,
    "start_time": "2025-03-20T03:19:35.885Z"
   },
   {
    "duration": 56,
    "start_time": "2025-03-20T03:19:35.892Z"
   },
   {
    "duration": 8,
    "start_time": "2025-03-20T03:19:35.950Z"
   },
   {
    "duration": 8,
    "start_time": "2025-03-20T03:19:35.959Z"
   },
   {
    "duration": 5,
    "start_time": "2025-03-20T03:19:35.969Z"
   },
   {
    "duration": 5,
    "start_time": "2025-03-20T03:19:35.975Z"
   },
   {
    "duration": 10,
    "start_time": "2025-03-20T03:19:35.981Z"
   },
   {
    "duration": 18,
    "start_time": "2025-03-20T03:19:35.992Z"
   },
   {
    "duration": 10,
    "start_time": "2025-03-20T03:19:36.011Z"
   },
   {
    "duration": 22,
    "start_time": "2025-03-20T03:19:36.022Z"
   },
   {
    "duration": 24,
    "start_time": "2025-03-20T03:19:36.045Z"
   },
   {
    "duration": 5,
    "start_time": "2025-03-20T03:19:36.070Z"
   },
   {
    "duration": 17,
    "start_time": "2025-03-20T03:19:36.076Z"
   },
   {
    "duration": 9,
    "start_time": "2025-03-20T03:19:36.095Z"
   },
   {
    "duration": 45,
    "start_time": "2025-03-20T13:01:37.882Z"
   },
   {
    "duration": 1418,
    "start_time": "2025-03-20T13:01:45.233Z"
   },
   {
    "duration": 20,
    "start_time": "2025-03-20T13:01:46.654Z"
   },
   {
    "duration": 11,
    "start_time": "2025-03-20T13:01:46.676Z"
   },
   {
    "duration": 12,
    "start_time": "2025-03-20T13:01:46.689Z"
   },
   {
    "duration": 14,
    "start_time": "2025-03-20T13:01:46.703Z"
   },
   {
    "duration": 20,
    "start_time": "2025-03-20T13:01:46.719Z"
   },
   {
    "duration": 52,
    "start_time": "2025-03-20T13:01:46.740Z"
   },
   {
    "duration": 7,
    "start_time": "2025-03-20T13:01:46.794Z"
   },
   {
    "duration": 11,
    "start_time": "2025-03-20T13:01:46.803Z"
   },
   {
    "duration": 7,
    "start_time": "2025-03-20T13:01:46.816Z"
   },
   {
    "duration": 10,
    "start_time": "2025-03-20T13:01:46.825Z"
   },
   {
    "duration": 12,
    "start_time": "2025-03-20T13:01:46.837Z"
   },
   {
    "duration": 7,
    "start_time": "2025-03-20T13:01:46.850Z"
   },
   {
    "duration": 8,
    "start_time": "2025-03-20T13:01:46.859Z"
   },
   {
    "duration": 7,
    "start_time": "2025-03-20T13:01:46.869Z"
   },
   {
    "duration": 6,
    "start_time": "2025-03-20T13:01:46.878Z"
   },
   {
    "duration": 5,
    "start_time": "2025-03-20T13:01:46.885Z"
   },
   {
    "duration": 195,
    "start_time": "2025-03-20T13:01:46.891Z"
   },
   {
    "duration": 131,
    "start_time": "2025-03-20T13:01:47.088Z"
   },
   {
    "duration": 21,
    "start_time": "2025-03-20T13:01:47.220Z"
   },
   {
    "duration": 26,
    "start_time": "2025-03-20T13:01:47.243Z"
   },
   {
    "duration": 267,
    "start_time": "2025-03-20T13:01:47.271Z"
   },
   {
    "duration": 197,
    "start_time": "2025-03-20T13:01:47.540Z"
   },
   {
    "duration": 10,
    "start_time": "2025-03-20T13:01:47.739Z"
   },
   {
    "duration": 392,
    "start_time": "2025-03-20T13:01:47.751Z"
   },
   {
    "duration": 13,
    "start_time": "2025-03-20T13:01:48.144Z"
   },
   {
    "duration": 19,
    "start_time": "2025-03-20T13:01:48.159Z"
   },
   {
    "duration": 12,
    "start_time": "2025-03-20T13:01:48.182Z"
   },
   {
    "duration": 218,
    "start_time": "2025-03-20T13:01:48.195Z"
   },
   {
    "duration": 21,
    "start_time": "2025-03-20T13:01:48.415Z"
   },
   {
    "duration": 304,
    "start_time": "2025-03-20T13:01:48.438Z"
   },
   {
    "duration": 8,
    "start_time": "2025-03-20T13:01:48.744Z"
   },
   {
    "duration": 19,
    "start_time": "2025-03-20T13:01:48.753Z"
   },
   {
    "duration": 134,
    "start_time": "2025-03-20T13:01:48.773Z"
   },
   {
    "duration": 5,
    "start_time": "2025-03-20T13:01:48.908Z"
   },
   {
    "duration": 229,
    "start_time": "2025-03-20T13:01:48.915Z"
   },
   {
    "duration": 146,
    "start_time": "2025-03-20T13:01:49.145Z"
   },
   {
    "duration": 4,
    "start_time": "2025-03-20T13:01:49.293Z"
   },
   {
    "duration": 272,
    "start_time": "2025-03-20T13:01:49.299Z"
   },
   {
    "duration": 9,
    "start_time": "2025-03-20T13:01:49.573Z"
   },
   {
    "duration": 64,
    "start_time": "2025-03-20T13:01:49.583Z"
   },
   {
    "duration": 130,
    "start_time": "2025-03-20T13:01:49.649Z"
   },
   {
    "duration": 5,
    "start_time": "2025-03-20T13:01:49.781Z"
   },
   {
    "duration": 24,
    "start_time": "2025-03-20T13:01:49.788Z"
   },
   {
    "duration": 4,
    "start_time": "2025-03-20T13:01:49.814Z"
   },
   {
    "duration": 9,
    "start_time": "2025-03-20T13:01:49.834Z"
   },
   {
    "duration": 6,
    "start_time": "2025-03-20T13:01:49.845Z"
   },
   {
    "duration": 5,
    "start_time": "2025-03-20T13:01:49.853Z"
   },
   {
    "duration": 5,
    "start_time": "2025-03-20T13:01:49.859Z"
   },
   {
    "duration": 6,
    "start_time": "2025-03-20T13:01:49.865Z"
   },
   {
    "duration": 4,
    "start_time": "2025-03-20T13:01:49.872Z"
   },
   {
    "duration": 4,
    "start_time": "2025-03-20T13:01:49.878Z"
   },
   {
    "duration": 6,
    "start_time": "2025-03-20T13:01:49.884Z"
   },
   {
    "duration": 3,
    "start_time": "2025-03-20T13:01:49.892Z"
   },
   {
    "duration": 6,
    "start_time": "2025-03-20T13:01:49.936Z"
   },
   {
    "duration": 77,
    "start_time": "2025-03-20T13:01:49.944Z"
   },
   {
    "duration": 33,
    "start_time": "2025-03-20T13:01:50.022Z"
   },
   {
    "duration": 4,
    "start_time": "2025-03-20T13:01:50.057Z"
   },
   {
    "duration": 8,
    "start_time": "2025-03-20T13:01:50.063Z"
   },
   {
    "duration": 7,
    "start_time": "2025-03-20T13:01:50.073Z"
   },
   {
    "duration": 4,
    "start_time": "2025-03-20T13:02:06.681Z"
   },
   {
    "duration": 5,
    "start_time": "2025-03-20T13:02:19.258Z"
   },
   {
    "duration": 12,
    "start_time": "2025-03-20T13:02:56.745Z"
   },
   {
    "duration": 10,
    "start_time": "2025-03-20T13:03:23.661Z"
   },
   {
    "duration": 5,
    "start_time": "2025-03-20T13:06:05.405Z"
   },
   {
    "duration": 7,
    "start_time": "2025-03-20T13:06:42.499Z"
   },
   {
    "duration": 147,
    "start_time": "2025-03-20T13:18:18.487Z"
   },
   {
    "duration": 4,
    "start_time": "2025-03-20T13:18:52.860Z"
   },
   {
    "duration": 5,
    "start_time": "2025-03-20T13:19:07.662Z"
   },
   {
    "duration": 84,
    "start_time": "2025-03-20T13:19:21.592Z"
   },
   {
    "duration": 4,
    "start_time": "2025-03-20T13:19:45.728Z"
   },
   {
    "duration": 4,
    "start_time": "2025-03-20T13:20:00.038Z"
   },
   {
    "duration": 5,
    "start_time": "2025-03-20T13:20:14.825Z"
   },
   {
    "duration": 7,
    "start_time": "2025-03-20T13:20:16.519Z"
   },
   {
    "duration": 8,
    "start_time": "2025-03-20T13:21:51.533Z"
   },
   {
    "duration": 5,
    "start_time": "2025-03-20T13:22:21.865Z"
   },
   {
    "duration": 115,
    "start_time": "2025-03-20T13:24:34.559Z"
   },
   {
    "duration": 30,
    "start_time": "2025-03-20T13:24:49.921Z"
   },
   {
    "duration": 8,
    "start_time": "2025-03-20T13:25:28.149Z"
   },
   {
    "duration": 29,
    "start_time": "2025-03-20T13:25:30.815Z"
   },
   {
    "duration": 28,
    "start_time": "2025-03-20T13:26:35.138Z"
   },
   {
    "duration": 1225,
    "start_time": "2025-03-20T13:26:41.815Z"
   },
   {
    "duration": 29,
    "start_time": "2025-03-20T13:26:43.042Z"
   },
   {
    "duration": 12,
    "start_time": "2025-03-20T13:26:43.072Z"
   },
   {
    "duration": 3,
    "start_time": "2025-03-20T13:26:43.086Z"
   },
   {
    "duration": 21,
    "start_time": "2025-03-20T13:26:43.090Z"
   },
   {
    "duration": 25,
    "start_time": "2025-03-20T13:26:43.113Z"
   },
   {
    "duration": 71,
    "start_time": "2025-03-20T13:26:43.140Z"
   },
   {
    "duration": 8,
    "start_time": "2025-03-20T13:26:43.212Z"
   },
   {
    "duration": 11,
    "start_time": "2025-03-20T13:26:43.221Z"
   },
   {
    "duration": 6,
    "start_time": "2025-03-20T13:26:43.234Z"
   },
   {
    "duration": 9,
    "start_time": "2025-03-20T13:26:43.242Z"
   },
   {
    "duration": 13,
    "start_time": "2025-03-20T13:26:43.252Z"
   },
   {
    "duration": 10,
    "start_time": "2025-03-20T13:26:43.267Z"
   },
   {
    "duration": 10,
    "start_time": "2025-03-20T13:26:43.278Z"
   },
   {
    "duration": 8,
    "start_time": "2025-03-20T13:26:43.290Z"
   },
   {
    "duration": 6,
    "start_time": "2025-03-20T13:26:43.300Z"
   },
   {
    "duration": 6,
    "start_time": "2025-03-20T13:26:43.335Z"
   },
   {
    "duration": 4,
    "start_time": "2025-03-20T13:26:43.342Z"
   },
   {
    "duration": 10,
    "start_time": "2025-03-20T13:26:43.348Z"
   },
   {
    "duration": 6,
    "start_time": "2025-03-20T13:26:43.360Z"
   },
   {
    "duration": 7,
    "start_time": "2025-03-20T13:26:43.367Z"
   },
   {
    "duration": 38,
    "start_time": "2025-03-20T13:26:43.375Z"
   },
   {
    "duration": 157,
    "start_time": "2025-03-20T13:26:43.414Z"
   },
   {
    "duration": 0,
    "start_time": "2025-03-20T13:26:43.575Z"
   },
   {
    "duration": 0,
    "start_time": "2025-03-20T13:26:43.577Z"
   },
   {
    "duration": 0,
    "start_time": "2025-03-20T13:26:43.579Z"
   },
   {
    "duration": 0,
    "start_time": "2025-03-20T13:26:43.580Z"
   },
   {
    "duration": 0,
    "start_time": "2025-03-20T13:26:43.581Z"
   },
   {
    "duration": 0,
    "start_time": "2025-03-20T13:26:43.583Z"
   },
   {
    "duration": 0,
    "start_time": "2025-03-20T13:26:43.584Z"
   },
   {
    "duration": 0,
    "start_time": "2025-03-20T13:26:43.586Z"
   },
   {
    "duration": 0,
    "start_time": "2025-03-20T13:26:43.587Z"
   },
   {
    "duration": 0,
    "start_time": "2025-03-20T13:26:43.588Z"
   },
   {
    "duration": 0,
    "start_time": "2025-03-20T13:26:43.590Z"
   },
   {
    "duration": 0,
    "start_time": "2025-03-20T13:26:43.591Z"
   },
   {
    "duration": 0,
    "start_time": "2025-03-20T13:26:43.593Z"
   },
   {
    "duration": 0,
    "start_time": "2025-03-20T13:26:43.594Z"
   },
   {
    "duration": 0,
    "start_time": "2025-03-20T13:26:43.596Z"
   },
   {
    "duration": 0,
    "start_time": "2025-03-20T13:26:43.636Z"
   },
   {
    "duration": 0,
    "start_time": "2025-03-20T13:26:43.638Z"
   },
   {
    "duration": 0,
    "start_time": "2025-03-20T13:26:43.639Z"
   },
   {
    "duration": 0,
    "start_time": "2025-03-20T13:26:43.641Z"
   },
   {
    "duration": 0,
    "start_time": "2025-03-20T13:26:43.643Z"
   },
   {
    "duration": 0,
    "start_time": "2025-03-20T13:26:43.644Z"
   },
   {
    "duration": 0,
    "start_time": "2025-03-20T13:26:43.646Z"
   },
   {
    "duration": 0,
    "start_time": "2025-03-20T13:26:43.647Z"
   },
   {
    "duration": 0,
    "start_time": "2025-03-20T13:26:43.648Z"
   },
   {
    "duration": 0,
    "start_time": "2025-03-20T13:26:43.650Z"
   },
   {
    "duration": 0,
    "start_time": "2025-03-20T13:26:43.651Z"
   },
   {
    "duration": 0,
    "start_time": "2025-03-20T13:26:43.652Z"
   },
   {
    "duration": 0,
    "start_time": "2025-03-20T13:26:43.654Z"
   },
   {
    "duration": 0,
    "start_time": "2025-03-20T13:26:43.655Z"
   },
   {
    "duration": 0,
    "start_time": "2025-03-20T13:26:43.657Z"
   },
   {
    "duration": 0,
    "start_time": "2025-03-20T13:26:43.658Z"
   },
   {
    "duration": 0,
    "start_time": "2025-03-20T13:26:43.659Z"
   },
   {
    "duration": 0,
    "start_time": "2025-03-20T13:26:43.661Z"
   },
   {
    "duration": 0,
    "start_time": "2025-03-20T13:26:43.662Z"
   },
   {
    "duration": 0,
    "start_time": "2025-03-20T13:26:43.663Z"
   },
   {
    "duration": 0,
    "start_time": "2025-03-20T13:26:43.664Z"
   },
   {
    "duration": 0,
    "start_time": "2025-03-20T13:26:43.665Z"
   },
   {
    "duration": 0,
    "start_time": "2025-03-20T13:26:43.666Z"
   },
   {
    "duration": 0,
    "start_time": "2025-03-20T13:26:43.667Z"
   },
   {
    "duration": 0,
    "start_time": "2025-03-20T13:26:43.668Z"
   },
   {
    "duration": 0,
    "start_time": "2025-03-20T13:26:43.669Z"
   },
   {
    "duration": 0,
    "start_time": "2025-03-20T13:26:43.670Z"
   },
   {
    "duration": 0,
    "start_time": "2025-03-20T13:26:43.671Z"
   },
   {
    "duration": 30,
    "start_time": "2025-03-20T13:27:43.362Z"
   },
   {
    "duration": 16,
    "start_time": "2025-03-20T13:29:17.087Z"
   },
   {
    "duration": 7,
    "start_time": "2025-03-20T13:34:29.189Z"
   },
   {
    "duration": 4,
    "start_time": "2025-03-20T13:37:07.322Z"
   },
   {
    "duration": 1545,
    "start_time": "2025-03-20T13:37:11.093Z"
   },
   {
    "duration": 1569,
    "start_time": "2025-03-20T13:37:19.940Z"
   },
   {
    "duration": 1295,
    "start_time": "2025-03-20T13:37:22.390Z"
   },
   {
    "duration": 5,
    "start_time": "2025-03-20T13:37:27.838Z"
   },
   {
    "duration": 97,
    "start_time": "2025-03-20T13:38:43.585Z"
   },
   {
    "duration": 9,
    "start_time": "2025-03-20T13:39:29.009Z"
   },
   {
    "duration": 5,
    "start_time": "2025-03-20T13:41:16.688Z"
   },
   {
    "duration": 9,
    "start_time": "2025-03-20T13:41:37.283Z"
   },
   {
    "duration": 10,
    "start_time": "2025-03-20T13:42:25.089Z"
   },
   {
    "duration": 5,
    "start_time": "2025-03-20T13:42:40.724Z"
   },
   {
    "duration": 4,
    "start_time": "2025-03-20T13:56:15.050Z"
   },
   {
    "duration": 16,
    "start_time": "2025-03-20T13:56:19.155Z"
   },
   {
    "duration": 20,
    "start_time": "2025-03-20T13:56:36.509Z"
   },
   {
    "duration": 5,
    "start_time": "2025-03-20T13:57:24.484Z"
   },
   {
    "duration": 14,
    "start_time": "2025-03-20T13:57:26.668Z"
   },
   {
    "duration": 1207,
    "start_time": "2025-03-20T13:57:39.944Z"
   },
   {
    "duration": 29,
    "start_time": "2025-03-20T13:57:41.153Z"
   },
   {
    "duration": 12,
    "start_time": "2025-03-20T13:57:41.183Z"
   },
   {
    "duration": 46,
    "start_time": "2025-03-20T13:57:41.196Z"
   },
   {
    "duration": 13,
    "start_time": "2025-03-20T13:57:41.244Z"
   },
   {
    "duration": 11,
    "start_time": "2025-03-20T13:57:41.258Z"
   },
   {
    "duration": 54,
    "start_time": "2025-03-20T13:57:41.270Z"
   },
   {
    "duration": 9,
    "start_time": "2025-03-20T13:57:41.326Z"
   },
   {
    "duration": 30,
    "start_time": "2025-03-20T13:57:41.336Z"
   },
   {
    "duration": 8,
    "start_time": "2025-03-20T13:57:41.368Z"
   },
   {
    "duration": 11,
    "start_time": "2025-03-20T13:57:41.378Z"
   },
   {
    "duration": 13,
    "start_time": "2025-03-20T13:57:41.391Z"
   },
   {
    "duration": 49,
    "start_time": "2025-03-20T13:57:41.406Z"
   },
   {
    "duration": 9,
    "start_time": "2025-03-20T13:57:41.456Z"
   },
   {
    "duration": 6,
    "start_time": "2025-03-20T13:57:41.467Z"
   },
   {
    "duration": 5,
    "start_time": "2025-03-20T13:57:41.475Z"
   },
   {
    "duration": 91,
    "start_time": "2025-03-20T13:57:41.482Z"
   },
   {
    "duration": 6,
    "start_time": "2025-03-20T13:57:41.574Z"
   },
   {
    "duration": 105,
    "start_time": "2025-03-20T13:57:41.581Z"
   },
   {
    "duration": 11,
    "start_time": "2025-03-20T13:57:41.687Z"
   },
   {
    "duration": 210,
    "start_time": "2025-03-20T13:57:41.699Z"
   },
   {
    "duration": 126,
    "start_time": "2025-03-20T13:57:41.911Z"
   },
   {
    "duration": 13,
    "start_time": "2025-03-20T13:57:42.038Z"
   },
   {
    "duration": 11,
    "start_time": "2025-03-20T13:57:42.053Z"
   },
   {
    "duration": 280,
    "start_time": "2025-03-20T13:57:42.065Z"
   },
   {
    "duration": 205,
    "start_time": "2025-03-20T13:57:42.347Z"
   },
   {
    "duration": 11,
    "start_time": "2025-03-20T13:57:42.554Z"
   },
   {
    "duration": 295,
    "start_time": "2025-03-20T13:57:42.569Z"
   },
   {
    "duration": 12,
    "start_time": "2025-03-20T13:57:42.865Z"
   },
   {
    "duration": 8,
    "start_time": "2025-03-20T13:57:42.878Z"
   },
   {
    "duration": 22,
    "start_time": "2025-03-20T13:57:42.888Z"
   },
   {
    "duration": 215,
    "start_time": "2025-03-20T13:57:42.911Z"
   },
   {
    "duration": 20,
    "start_time": "2025-03-20T13:57:43.127Z"
   },
   {
    "duration": 301,
    "start_time": "2025-03-20T13:57:43.148Z"
   },
   {
    "duration": 9,
    "start_time": "2025-03-20T13:57:43.450Z"
   },
   {
    "duration": 12,
    "start_time": "2025-03-20T13:57:43.460Z"
   },
   {
    "duration": 184,
    "start_time": "2025-03-20T13:57:43.474Z"
   },
   {
    "duration": 5,
    "start_time": "2025-03-20T13:57:43.660Z"
   },
   {
    "duration": 212,
    "start_time": "2025-03-20T13:57:43.666Z"
   },
   {
    "duration": 228,
    "start_time": "2025-03-20T13:57:43.879Z"
   },
   {
    "duration": 10,
    "start_time": "2025-03-20T13:57:44.109Z"
   },
   {
    "duration": 264,
    "start_time": "2025-03-20T13:57:44.121Z"
   },
   {
    "duration": 9,
    "start_time": "2025-03-20T13:57:44.387Z"
   },
   {
    "duration": 9,
    "start_time": "2025-03-20T13:57:44.398Z"
   },
   {
    "duration": 126,
    "start_time": "2025-03-20T13:57:44.409Z"
   },
   {
    "duration": 6,
    "start_time": "2025-03-20T13:57:44.536Z"
   },
   {
    "duration": 26,
    "start_time": "2025-03-20T13:57:44.543Z"
   },
   {
    "duration": 5,
    "start_time": "2025-03-20T13:57:44.571Z"
   },
   {
    "duration": 7,
    "start_time": "2025-03-20T13:57:44.577Z"
   },
   {
    "duration": 6,
    "start_time": "2025-03-20T13:57:44.586Z"
   },
   {
    "duration": 5,
    "start_time": "2025-03-20T13:57:44.593Z"
   },
   {
    "duration": 39,
    "start_time": "2025-03-20T13:57:44.599Z"
   },
   {
    "duration": 6,
    "start_time": "2025-03-20T13:57:44.640Z"
   },
   {
    "duration": 5,
    "start_time": "2025-03-20T13:57:44.647Z"
   },
   {
    "duration": 5,
    "start_time": "2025-03-20T13:57:44.653Z"
   },
   {
    "duration": 7,
    "start_time": "2025-03-20T13:57:44.659Z"
   },
   {
    "duration": 5,
    "start_time": "2025-03-20T13:57:44.667Z"
   },
   {
    "duration": 7,
    "start_time": "2025-03-20T13:57:44.673Z"
   },
   {
    "duration": 7,
    "start_time": "2025-03-20T13:57:44.681Z"
   },
   {
    "duration": 65,
    "start_time": "2025-03-20T13:57:44.689Z"
   },
   {
    "duration": 5,
    "start_time": "2025-03-20T13:57:44.756Z"
   },
   {
    "duration": 37,
    "start_time": "2025-03-20T13:57:44.762Z"
   },
   {
    "duration": 9,
    "start_time": "2025-03-20T13:57:44.800Z"
   },
   {
    "duration": 195,
    "start_time": "2025-03-20T14:00:38.845Z"
   },
   {
    "duration": 212,
    "start_time": "2025-03-20T14:00:56.518Z"
   },
   {
    "duration": 4,
    "start_time": "2025-03-20T14:15:13.998Z"
   },
   {
    "duration": 4,
    "start_time": "2025-03-20T14:15:27.263Z"
   },
   {
    "duration": 3,
    "start_time": "2025-03-20T14:15:42.268Z"
   },
   {
    "duration": 3,
    "start_time": "2025-03-20T14:15:52.330Z"
   },
   {
    "duration": 3,
    "start_time": "2025-03-20T14:17:42.465Z"
   },
   {
    "duration": 5,
    "start_time": "2025-03-20T14:32:31.171Z"
   },
   {
    "duration": 1232,
    "start_time": "2025-03-20T14:32:53.909Z"
   },
   {
    "duration": 17,
    "start_time": "2025-03-20T14:32:55.143Z"
   },
   {
    "duration": 10,
    "start_time": "2025-03-20T14:32:55.161Z"
   },
   {
    "duration": 3,
    "start_time": "2025-03-20T14:32:55.173Z"
   },
   {
    "duration": 12,
    "start_time": "2025-03-20T14:32:55.178Z"
   },
   {
    "duration": 10,
    "start_time": "2025-03-20T14:32:55.192Z"
   },
   {
    "duration": 60,
    "start_time": "2025-03-20T14:32:55.204Z"
   },
   {
    "duration": 8,
    "start_time": "2025-03-20T14:32:55.265Z"
   },
   {
    "duration": 10,
    "start_time": "2025-03-20T14:32:55.274Z"
   },
   {
    "duration": 32,
    "start_time": "2025-03-20T14:32:55.287Z"
   },
   {
    "duration": 14,
    "start_time": "2025-03-20T14:32:55.321Z"
   },
   {
    "duration": 12,
    "start_time": "2025-03-20T14:32:55.337Z"
   },
   {
    "duration": 7,
    "start_time": "2025-03-20T14:32:55.350Z"
   },
   {
    "duration": 17,
    "start_time": "2025-03-20T14:32:55.358Z"
   },
   {
    "duration": 6,
    "start_time": "2025-03-20T14:32:55.377Z"
   },
   {
    "duration": 5,
    "start_time": "2025-03-20T14:32:55.384Z"
   },
   {
    "duration": 11,
    "start_time": "2025-03-20T14:32:55.391Z"
   },
   {
    "duration": 4,
    "start_time": "2025-03-20T14:32:55.404Z"
   },
   {
    "duration": 148,
    "start_time": "2025-03-20T14:32:55.409Z"
   },
   {
    "duration": 11,
    "start_time": "2025-03-20T14:32:55.559Z"
   },
   {
    "duration": 172,
    "start_time": "2025-03-20T14:32:55.571Z"
   },
   {
    "duration": 137,
    "start_time": "2025-03-20T14:32:55.745Z"
   },
   {
    "duration": 13,
    "start_time": "2025-03-20T14:32:55.884Z"
   },
   {
    "duration": 50,
    "start_time": "2025-03-20T14:32:55.899Z"
   },
   {
    "duration": 262,
    "start_time": "2025-03-20T14:32:55.951Z"
   },
   {
    "duration": 204,
    "start_time": "2025-03-20T14:32:56.215Z"
   },
   {
    "duration": 15,
    "start_time": "2025-03-20T14:32:56.421Z"
   },
   {
    "duration": 295,
    "start_time": "2025-03-20T14:32:56.440Z"
   },
   {
    "duration": 11,
    "start_time": "2025-03-20T14:32:56.737Z"
   },
   {
    "duration": 12,
    "start_time": "2025-03-20T14:32:56.750Z"
   },
   {
    "duration": 20,
    "start_time": "2025-03-20T14:32:56.764Z"
   },
   {
    "duration": 217,
    "start_time": "2025-03-20T14:32:56.785Z"
   },
   {
    "duration": 12,
    "start_time": "2025-03-20T14:32:57.003Z"
   },
   {
    "duration": 321,
    "start_time": "2025-03-20T14:32:57.017Z"
   },
   {
    "duration": 8,
    "start_time": "2025-03-20T14:32:57.340Z"
   },
   {
    "duration": 14,
    "start_time": "2025-03-20T14:32:57.350Z"
   },
   {
    "duration": 161,
    "start_time": "2025-03-20T14:32:57.366Z"
   },
   {
    "duration": 10,
    "start_time": "2025-03-20T14:32:57.529Z"
   },
   {
    "duration": 150,
    "start_time": "2025-03-20T14:32:57.542Z"
   },
   {
    "duration": 231,
    "start_time": "2025-03-20T14:32:57.694Z"
   },
   {
    "duration": 10,
    "start_time": "2025-03-20T14:32:57.927Z"
   },
   {
    "duration": 214,
    "start_time": "2025-03-20T14:32:57.938Z"
   },
   {
    "duration": 9,
    "start_time": "2025-03-20T14:32:58.154Z"
   },
   {
    "duration": 8,
    "start_time": "2025-03-20T14:32:58.164Z"
   },
   {
    "duration": 127,
    "start_time": "2025-03-20T14:32:58.173Z"
   },
   {
    "duration": 6,
    "start_time": "2025-03-20T14:32:58.302Z"
   },
   {
    "duration": 35,
    "start_time": "2025-03-20T14:32:58.309Z"
   },
   {
    "duration": 4,
    "start_time": "2025-03-20T14:32:58.346Z"
   },
   {
    "duration": 8,
    "start_time": "2025-03-20T14:32:58.351Z"
   },
   {
    "duration": 6,
    "start_time": "2025-03-20T14:32:58.361Z"
   },
   {
    "duration": 5,
    "start_time": "2025-03-20T14:32:58.368Z"
   },
   {
    "duration": 5,
    "start_time": "2025-03-20T14:32:58.374Z"
   },
   {
    "duration": 7,
    "start_time": "2025-03-20T14:32:58.380Z"
   },
   {
    "duration": 20,
    "start_time": "2025-03-20T14:32:58.388Z"
   },
   {
    "duration": 4,
    "start_time": "2025-03-20T14:32:58.435Z"
   },
   {
    "duration": 6,
    "start_time": "2025-03-20T14:32:58.441Z"
   },
   {
    "duration": 6,
    "start_time": "2025-03-20T14:32:58.448Z"
   },
   {
    "duration": 9,
    "start_time": "2025-03-20T14:32:58.456Z"
   },
   {
    "duration": 9,
    "start_time": "2025-03-20T14:32:58.466Z"
   },
   {
    "duration": 24,
    "start_time": "2025-03-20T14:32:58.476Z"
   },
   {
    "duration": 4,
    "start_time": "2025-03-20T14:32:58.502Z"
   },
   {
    "duration": 35,
    "start_time": "2025-03-20T14:32:58.507Z"
   },
   {
    "duration": 8,
    "start_time": "2025-03-20T14:32:58.544Z"
   },
   {
    "duration": 1183,
    "start_time": "2025-03-20T14:43:45.474Z"
   },
   {
    "duration": 28,
    "start_time": "2025-03-20T14:43:46.659Z"
   },
   {
    "duration": 12,
    "start_time": "2025-03-20T14:43:46.690Z"
   },
   {
    "duration": 2,
    "start_time": "2025-03-20T14:43:46.704Z"
   },
   {
    "duration": 12,
    "start_time": "2025-03-20T14:43:46.708Z"
   },
   {
    "duration": 11,
    "start_time": "2025-03-20T14:43:46.721Z"
   },
   {
    "duration": 73,
    "start_time": "2025-03-20T14:43:46.733Z"
   },
   {
    "duration": 8,
    "start_time": "2025-03-20T14:43:46.808Z"
   },
   {
    "duration": 131,
    "start_time": "2025-03-20T14:43:46.819Z"
   },
   {
    "duration": 8,
    "start_time": "2025-03-20T14:43:46.952Z"
   },
   {
    "duration": 11,
    "start_time": "2025-03-20T14:43:46.961Z"
   },
   {
    "duration": 13,
    "start_time": "2025-03-20T14:43:46.974Z"
   },
   {
    "duration": 9,
    "start_time": "2025-03-20T14:43:46.988Z"
   },
   {
    "duration": 10,
    "start_time": "2025-03-20T14:43:46.998Z"
   },
   {
    "duration": 30,
    "start_time": "2025-03-20T14:43:47.009Z"
   },
   {
    "duration": 6,
    "start_time": "2025-03-20T14:43:47.041Z"
   },
   {
    "duration": 9,
    "start_time": "2025-03-20T14:43:47.048Z"
   },
   {
    "duration": 5,
    "start_time": "2025-03-20T14:43:47.058Z"
   },
   {
    "duration": 142,
    "start_time": "2025-03-20T14:43:47.065Z"
   },
   {
    "duration": 11,
    "start_time": "2025-03-20T14:43:47.209Z"
   },
   {
    "duration": 173,
    "start_time": "2025-03-20T14:43:47.222Z"
   },
   {
    "duration": 122,
    "start_time": "2025-03-20T14:43:47.397Z"
   },
   {
    "duration": 19,
    "start_time": "2025-03-20T14:43:47.521Z"
   },
   {
    "duration": 10,
    "start_time": "2025-03-20T14:43:47.542Z"
   },
   {
    "duration": 267,
    "start_time": "2025-03-20T14:43:47.553Z"
   },
   {
    "duration": 193,
    "start_time": "2025-03-20T14:43:47.821Z"
   },
   {
    "duration": 10,
    "start_time": "2025-03-20T14:43:48.018Z"
   },
   {
    "duration": 315,
    "start_time": "2025-03-20T14:43:48.035Z"
   },
   {
    "duration": 14,
    "start_time": "2025-03-20T14:43:48.351Z"
   },
   {
    "duration": 19,
    "start_time": "2025-03-20T14:43:48.366Z"
   },
   {
    "duration": 11,
    "start_time": "2025-03-20T14:43:48.386Z"
   },
   {
    "duration": 215,
    "start_time": "2025-03-20T14:43:48.398Z"
   },
   {
    "duration": 13,
    "start_time": "2025-03-20T14:43:48.614Z"
   },
   {
    "duration": 305,
    "start_time": "2025-03-20T14:43:48.636Z"
   },
   {
    "duration": 8,
    "start_time": "2025-03-20T14:43:48.943Z"
   },
   {
    "duration": 13,
    "start_time": "2025-03-20T14:43:48.953Z"
   },
   {
    "duration": 158,
    "start_time": "2025-03-20T14:43:48.967Z"
   },
   {
    "duration": 5,
    "start_time": "2025-03-20T14:43:49.126Z"
   },
   {
    "duration": 154,
    "start_time": "2025-03-20T14:43:49.135Z"
   },
   {
    "duration": 215,
    "start_time": "2025-03-20T14:43:49.290Z"
   },
   {
    "duration": 5,
    "start_time": "2025-03-20T14:43:49.506Z"
   },
   {
    "duration": 219,
    "start_time": "2025-03-20T14:43:49.512Z"
   },
   {
    "duration": 9,
    "start_time": "2025-03-20T14:43:49.736Z"
   },
   {
    "duration": 7,
    "start_time": "2025-03-20T14:43:49.747Z"
   },
   {
    "duration": 233,
    "start_time": "2025-03-20T14:43:49.756Z"
   },
   {
    "duration": 5,
    "start_time": "2025-03-20T14:43:49.991Z"
   },
   {
    "duration": 28,
    "start_time": "2025-03-20T14:43:49.998Z"
   },
   {
    "duration": 4,
    "start_time": "2025-03-20T14:43:50.036Z"
   },
   {
    "duration": 17,
    "start_time": "2025-03-20T14:43:50.042Z"
   },
   {
    "duration": 5,
    "start_time": "2025-03-20T14:43:50.061Z"
   },
   {
    "duration": 5,
    "start_time": "2025-03-20T14:43:50.067Z"
   },
   {
    "duration": 4,
    "start_time": "2025-03-20T14:43:50.073Z"
   },
   {
    "duration": 13,
    "start_time": "2025-03-20T14:43:50.078Z"
   },
   {
    "duration": 5,
    "start_time": "2025-03-20T14:43:50.092Z"
   },
   {
    "duration": 4,
    "start_time": "2025-03-20T14:43:50.099Z"
   },
   {
    "duration": 33,
    "start_time": "2025-03-20T14:43:50.104Z"
   },
   {
    "duration": 24,
    "start_time": "2025-03-20T14:43:50.138Z"
   },
   {
    "duration": 10,
    "start_time": "2025-03-20T14:43:50.164Z"
   },
   {
    "duration": 8,
    "start_time": "2025-03-20T14:43:50.175Z"
   },
   {
    "duration": 24,
    "start_time": "2025-03-20T14:43:50.185Z"
   },
   {
    "duration": 5,
    "start_time": "2025-03-20T14:43:50.210Z"
   },
   {
    "duration": 9,
    "start_time": "2025-03-20T14:43:50.216Z"
   },
   {
    "duration": 89,
    "start_time": "2025-03-20T14:43:50.226Z"
   },
   {
    "duration": 15,
    "start_time": "2025-03-20T14:45:11.591Z"
   },
   {
    "duration": 1221,
    "start_time": "2025-03-20T14:45:27.425Z"
   },
   {
    "duration": 17,
    "start_time": "2025-03-20T14:45:28.648Z"
   },
   {
    "duration": 11,
    "start_time": "2025-03-20T14:45:28.666Z"
   },
   {
    "duration": 4,
    "start_time": "2025-03-20T14:45:28.679Z"
   },
   {
    "duration": 13,
    "start_time": "2025-03-20T14:45:28.684Z"
   },
   {
    "duration": 12,
    "start_time": "2025-03-20T14:45:28.699Z"
   },
   {
    "duration": 75,
    "start_time": "2025-03-20T14:45:28.712Z"
   },
   {
    "duration": 8,
    "start_time": "2025-03-20T14:45:28.788Z"
   },
   {
    "duration": 11,
    "start_time": "2025-03-20T14:45:28.798Z"
   },
   {
    "duration": 6,
    "start_time": "2025-03-20T14:45:28.813Z"
   },
   {
    "duration": 10,
    "start_time": "2025-03-20T14:45:28.821Z"
   },
   {
    "duration": 29,
    "start_time": "2025-03-20T14:45:28.833Z"
   },
   {
    "duration": 74,
    "start_time": "2025-03-20T14:45:28.863Z"
   },
   {
    "duration": 9,
    "start_time": "2025-03-20T14:45:28.938Z"
   },
   {
    "duration": 6,
    "start_time": "2025-03-20T14:45:28.948Z"
   },
   {
    "duration": 3,
    "start_time": "2025-03-20T14:45:28.956Z"
   },
   {
    "duration": 8,
    "start_time": "2025-03-20T14:45:28.961Z"
   },
   {
    "duration": 4,
    "start_time": "2025-03-20T14:45:28.970Z"
   },
   {
    "duration": 135,
    "start_time": "2025-03-20T14:45:28.975Z"
   },
   {
    "duration": 11,
    "start_time": "2025-03-20T14:45:29.111Z"
   },
   {
    "duration": 171,
    "start_time": "2025-03-20T14:45:29.123Z"
   },
   {
    "duration": 120,
    "start_time": "2025-03-20T14:45:29.296Z"
   },
   {
    "duration": 24,
    "start_time": "2025-03-20T14:45:29.417Z"
   },
   {
    "duration": 11,
    "start_time": "2025-03-20T14:45:29.443Z"
   },
   {
    "duration": 271,
    "start_time": "2025-03-20T14:45:29.456Z"
   },
   {
    "duration": 195,
    "start_time": "2025-03-20T14:45:29.728Z"
   },
   {
    "duration": 19,
    "start_time": "2025-03-20T14:45:29.925Z"
   },
   {
    "duration": 279,
    "start_time": "2025-03-20T14:45:29.948Z"
   },
   {
    "duration": 17,
    "start_time": "2025-03-20T14:45:30.228Z"
   },
   {
    "duration": 64,
    "start_time": "2025-03-20T14:45:30.247Z"
   },
   {
    "duration": 32,
    "start_time": "2025-03-20T14:45:30.313Z"
   },
   {
    "duration": 224,
    "start_time": "2025-03-20T14:45:30.347Z"
   },
   {
    "duration": 15,
    "start_time": "2025-03-20T14:45:30.572Z"
   },
   {
    "duration": 290,
    "start_time": "2025-03-20T14:45:30.588Z"
   },
   {
    "duration": 8,
    "start_time": "2025-03-20T14:45:30.880Z"
   },
   {
    "duration": 23,
    "start_time": "2025-03-20T14:45:30.889Z"
   },
   {
    "duration": 158,
    "start_time": "2025-03-20T14:45:30.914Z"
   },
   {
    "duration": 5,
    "start_time": "2025-03-20T14:45:31.073Z"
   },
   {
    "duration": 157,
    "start_time": "2025-03-20T14:45:31.080Z"
   },
   {
    "duration": 225,
    "start_time": "2025-03-20T14:45:31.238Z"
   },
   {
    "duration": 5,
    "start_time": "2025-03-20T14:45:31.464Z"
   },
   {
    "duration": 215,
    "start_time": "2025-03-20T14:45:31.470Z"
   },
   {
    "duration": 9,
    "start_time": "2025-03-20T14:45:31.687Z"
   },
   {
    "duration": 66,
    "start_time": "2025-03-20T14:45:31.698Z"
   },
   {
    "duration": 232,
    "start_time": "2025-03-20T14:45:31.765Z"
   },
   {
    "duration": 6,
    "start_time": "2025-03-20T14:45:31.999Z"
   },
   {
    "duration": 32,
    "start_time": "2025-03-20T14:45:32.006Z"
   },
   {
    "duration": 5,
    "start_time": "2025-03-20T14:45:32.039Z"
   },
   {
    "duration": 16,
    "start_time": "2025-03-20T14:45:32.045Z"
   },
   {
    "duration": 6,
    "start_time": "2025-03-20T14:45:32.063Z"
   },
   {
    "duration": 5,
    "start_time": "2025-03-20T14:45:32.070Z"
   },
   {
    "duration": 16,
    "start_time": "2025-03-20T14:45:32.076Z"
   },
   {
    "duration": 6,
    "start_time": "2025-03-20T14:45:32.094Z"
   },
   {
    "duration": 11,
    "start_time": "2025-03-20T14:45:32.102Z"
   },
   {
    "duration": 22,
    "start_time": "2025-03-20T14:45:32.115Z"
   },
   {
    "duration": 8,
    "start_time": "2025-03-20T14:45:32.138Z"
   },
   {
    "duration": 8,
    "start_time": "2025-03-20T14:45:32.148Z"
   },
   {
    "duration": 5,
    "start_time": "2025-03-20T14:45:32.157Z"
   },
   {
    "duration": 6,
    "start_time": "2025-03-20T14:45:32.163Z"
   },
   {
    "duration": 47,
    "start_time": "2025-03-20T14:45:32.170Z"
   },
   {
    "duration": 5,
    "start_time": "2025-03-20T14:45:32.218Z"
   },
   {
    "duration": 102,
    "start_time": "2025-03-20T14:45:32.225Z"
   },
   {
    "duration": 11,
    "start_time": "2025-03-20T14:45:32.329Z"
   },
   {
    "duration": 1179,
    "start_time": "2025-03-21T04:18:12.490Z"
   },
   {
    "duration": 17,
    "start_time": "2025-03-21T04:18:13.672Z"
   },
   {
    "duration": 10,
    "start_time": "2025-03-21T04:18:13.691Z"
   },
   {
    "duration": 3,
    "start_time": "2025-03-21T04:18:13.703Z"
   },
   {
    "duration": 19,
    "start_time": "2025-03-21T04:18:13.708Z"
   },
   {
    "duration": 17,
    "start_time": "2025-03-21T04:18:13.729Z"
   },
   {
    "duration": 55,
    "start_time": "2025-03-21T04:18:13.747Z"
   },
   {
    "duration": 8,
    "start_time": "2025-03-21T04:18:13.803Z"
   },
   {
    "duration": 31,
    "start_time": "2025-03-21T04:18:13.812Z"
   },
   {
    "duration": 7,
    "start_time": "2025-03-21T04:18:13.845Z"
   },
   {
    "duration": 9,
    "start_time": "2025-03-21T04:18:13.854Z"
   },
   {
    "duration": 12,
    "start_time": "2025-03-21T04:18:13.865Z"
   },
   {
    "duration": 17,
    "start_time": "2025-03-21T04:18:13.878Z"
   },
   {
    "duration": 15,
    "start_time": "2025-03-21T04:18:13.898Z"
   },
   {
    "duration": 8,
    "start_time": "2025-03-21T04:18:13.916Z"
   },
   {
    "duration": 9,
    "start_time": "2025-03-21T04:18:13.926Z"
   },
   {
    "duration": 15,
    "start_time": "2025-03-21T04:18:13.937Z"
   },
   {
    "duration": 7,
    "start_time": "2025-03-21T04:18:13.953Z"
   },
   {
    "duration": 109,
    "start_time": "2025-03-21T04:18:13.973Z"
   },
   {
    "duration": 11,
    "start_time": "2025-03-21T04:18:14.083Z"
   },
   {
    "duration": 172,
    "start_time": "2025-03-21T04:18:14.095Z"
   },
   {
    "duration": 129,
    "start_time": "2025-03-21T04:18:14.268Z"
   },
   {
    "duration": 12,
    "start_time": "2025-03-21T04:18:14.398Z"
   },
   {
    "duration": 10,
    "start_time": "2025-03-21T04:18:14.412Z"
   },
   {
    "duration": 284,
    "start_time": "2025-03-21T04:18:14.424Z"
   },
   {
    "duration": 210,
    "start_time": "2025-03-21T04:18:14.709Z"
   },
   {
    "duration": 12,
    "start_time": "2025-03-21T04:18:14.921Z"
   },
   {
    "duration": 339,
    "start_time": "2025-03-21T04:18:14.936Z"
   },
   {
    "duration": 12,
    "start_time": "2025-03-21T04:18:15.277Z"
   },
   {
    "duration": 45,
    "start_time": "2025-03-21T04:18:15.290Z"
   },
   {
    "duration": 29,
    "start_time": "2025-03-21T04:18:15.337Z"
   },
   {
    "duration": 217,
    "start_time": "2025-03-21T04:18:15.368Z"
   },
   {
    "duration": 13,
    "start_time": "2025-03-21T04:18:15.586Z"
   },
   {
    "duration": 299,
    "start_time": "2025-03-21T04:18:15.601Z"
   },
   {
    "duration": 8,
    "start_time": "2025-03-21T04:18:15.902Z"
   },
   {
    "duration": 13,
    "start_time": "2025-03-21T04:18:15.911Z"
   },
   {
    "duration": 152,
    "start_time": "2025-03-21T04:18:15.926Z"
   },
   {
    "duration": 4,
    "start_time": "2025-03-21T04:18:16.080Z"
   },
   {
    "duration": 153,
    "start_time": "2025-03-21T04:18:16.085Z"
   },
   {
    "duration": 221,
    "start_time": "2025-03-21T04:18:16.239Z"
   },
   {
    "duration": 12,
    "start_time": "2025-03-21T04:18:16.462Z"
   },
   {
    "duration": 229,
    "start_time": "2025-03-21T04:18:16.476Z"
   },
   {
    "duration": 10,
    "start_time": "2025-03-21T04:18:16.707Z"
   },
   {
    "duration": 13,
    "start_time": "2025-03-21T04:18:16.718Z"
   },
   {
    "duration": 134,
    "start_time": "2025-03-21T04:18:16.733Z"
   },
   {
    "duration": 8,
    "start_time": "2025-03-21T04:18:16.868Z"
   },
   {
    "duration": 36,
    "start_time": "2025-03-21T04:18:16.877Z"
   },
   {
    "duration": 4,
    "start_time": "2025-03-21T04:18:16.915Z"
   },
   {
    "duration": 11,
    "start_time": "2025-03-21T04:18:16.921Z"
   },
   {
    "duration": 6,
    "start_time": "2025-03-21T04:18:16.933Z"
   },
   {
    "duration": 5,
    "start_time": "2025-03-21T04:18:16.940Z"
   },
   {
    "duration": 30,
    "start_time": "2025-03-21T04:18:16.946Z"
   },
   {
    "duration": 5,
    "start_time": "2025-03-21T04:18:16.977Z"
   },
   {
    "duration": 6,
    "start_time": "2025-03-21T04:18:16.984Z"
   },
   {
    "duration": 16,
    "start_time": "2025-03-21T04:18:16.991Z"
   },
   {
    "duration": 17,
    "start_time": "2025-03-21T04:18:17.008Z"
   },
   {
    "duration": 3,
    "start_time": "2025-03-21T04:18:17.027Z"
   },
   {
    "duration": 6,
    "start_time": "2025-03-21T04:18:17.032Z"
   },
   {
    "duration": 6,
    "start_time": "2025-03-21T04:18:17.039Z"
   },
   {
    "duration": 40,
    "start_time": "2025-03-21T04:18:17.047Z"
   },
   {
    "duration": 3,
    "start_time": "2025-03-21T04:18:17.089Z"
   },
   {
    "duration": 17,
    "start_time": "2025-03-21T04:18:17.094Z"
   },
   {
    "duration": 8,
    "start_time": "2025-03-21T04:18:17.112Z"
   },
   {
    "duration": 1237,
    "start_time": "2025-03-21T04:29:05.336Z"
   },
   {
    "duration": 18,
    "start_time": "2025-03-21T04:29:06.575Z"
   },
   {
    "duration": 15,
    "start_time": "2025-03-21T04:29:06.594Z"
   },
   {
    "duration": 16,
    "start_time": "2025-03-21T04:29:06.612Z"
   },
   {
    "duration": 13,
    "start_time": "2025-03-21T04:29:06.629Z"
   },
   {
    "duration": 13,
    "start_time": "2025-03-21T04:29:06.644Z"
   },
   {
    "duration": 56,
    "start_time": "2025-03-21T04:29:06.659Z"
   },
   {
    "duration": 10,
    "start_time": "2025-03-21T04:29:06.717Z"
   },
   {
    "duration": 11,
    "start_time": "2025-03-21T04:29:06.729Z"
   },
   {
    "duration": 19,
    "start_time": "2025-03-21T04:29:06.743Z"
   },
   {
    "duration": 10,
    "start_time": "2025-03-21T04:29:06.764Z"
   },
   {
    "duration": 13,
    "start_time": "2025-03-21T04:29:06.776Z"
   },
   {
    "duration": 14,
    "start_time": "2025-03-21T04:29:06.790Z"
   },
   {
    "duration": 13,
    "start_time": "2025-03-21T04:29:06.806Z"
   },
   {
    "duration": 9,
    "start_time": "2025-03-21T04:29:06.823Z"
   },
   {
    "duration": 9,
    "start_time": "2025-03-21T04:29:06.833Z"
   },
   {
    "duration": 33,
    "start_time": "2025-03-21T04:29:06.844Z"
   },
   {
    "duration": 5,
    "start_time": "2025-03-21T04:29:06.878Z"
   },
   {
    "duration": 140,
    "start_time": "2025-03-21T04:29:06.884Z"
   },
   {
    "duration": 10,
    "start_time": "2025-03-21T04:29:07.026Z"
   },
   {
    "duration": 170,
    "start_time": "2025-03-21T04:29:07.037Z"
   },
   {
    "duration": 134,
    "start_time": "2025-03-21T04:29:07.208Z"
   },
   {
    "duration": 12,
    "start_time": "2025-03-21T04:29:07.343Z"
   },
   {
    "duration": 14,
    "start_time": "2025-03-21T04:29:07.372Z"
   },
   {
    "duration": 278,
    "start_time": "2025-03-21T04:29:07.388Z"
   },
   {
    "duration": 211,
    "start_time": "2025-03-21T04:29:07.672Z"
   },
   {
    "duration": 13,
    "start_time": "2025-03-21T04:29:07.884Z"
   },
   {
    "duration": 276,
    "start_time": "2025-03-21T04:29:07.902Z"
   },
   {
    "duration": 12,
    "start_time": "2025-03-21T04:29:08.180Z"
   },
   {
    "duration": 16,
    "start_time": "2025-03-21T04:29:08.194Z"
   },
   {
    "duration": 12,
    "start_time": "2025-03-21T04:29:08.211Z"
   },
   {
    "duration": 223,
    "start_time": "2025-03-21T04:29:08.224Z"
   },
   {
    "duration": 25,
    "start_time": "2025-03-21T04:29:08.449Z"
   },
   {
    "duration": 308,
    "start_time": "2025-03-21T04:29:08.475Z"
   },
   {
    "duration": 8,
    "start_time": "2025-03-21T04:29:08.784Z"
   },
   {
    "duration": 16,
    "start_time": "2025-03-21T04:29:08.794Z"
   },
   {
    "duration": 174,
    "start_time": "2025-03-21T04:29:08.811Z"
   },
   {
    "duration": 5,
    "start_time": "2025-03-21T04:29:08.987Z"
   },
   {
    "duration": 152,
    "start_time": "2025-03-21T04:29:08.994Z"
   },
   {
    "duration": 228,
    "start_time": "2025-03-21T04:29:09.147Z"
   },
   {
    "duration": 5,
    "start_time": "2025-03-21T04:29:09.377Z"
   },
   {
    "duration": 230,
    "start_time": "2025-03-21T04:29:09.383Z"
   },
   {
    "duration": 9,
    "start_time": "2025-03-21T04:29:09.615Z"
   },
   {
    "duration": 20,
    "start_time": "2025-03-21T04:29:09.625Z"
   },
   {
    "duration": 182,
    "start_time": "2025-03-21T04:29:09.647Z"
   },
   {
    "duration": 6,
    "start_time": "2025-03-21T04:29:09.830Z"
   },
   {
    "duration": 39,
    "start_time": "2025-03-21T04:29:09.837Z"
   },
   {
    "duration": 4,
    "start_time": "2025-03-21T04:29:09.878Z"
   },
   {
    "duration": 10,
    "start_time": "2025-03-21T04:29:09.884Z"
   },
   {
    "duration": 6,
    "start_time": "2025-03-21T04:29:09.895Z"
   },
   {
    "duration": 19,
    "start_time": "2025-03-21T04:29:09.902Z"
   },
   {
    "duration": 4,
    "start_time": "2025-03-21T04:29:09.923Z"
   },
   {
    "duration": 38,
    "start_time": "2025-03-21T04:29:09.929Z"
   },
   {
    "duration": 5,
    "start_time": "2025-03-21T04:29:09.969Z"
   },
   {
    "duration": 4,
    "start_time": "2025-03-21T04:29:09.976Z"
   },
   {
    "duration": 9,
    "start_time": "2025-03-21T04:29:09.981Z"
   },
   {
    "duration": 20,
    "start_time": "2025-03-21T04:29:09.991Z"
   },
   {
    "duration": 6,
    "start_time": "2025-03-21T04:29:10.013Z"
   },
   {
    "duration": 6,
    "start_time": "2025-03-21T04:29:10.021Z"
   },
   {
    "duration": 35,
    "start_time": "2025-03-21T04:29:10.028Z"
   },
   {
    "duration": 4,
    "start_time": "2025-03-21T04:29:10.064Z"
   },
   {
    "duration": 11,
    "start_time": "2025-03-21T04:29:10.074Z"
   },
   {
    "duration": 16,
    "start_time": "2025-03-21T04:29:10.086Z"
   },
   {
    "duration": 48,
    "start_time": "2025-03-25T17:53:32.122Z"
   },
   {
    "duration": 1155,
    "start_time": "2025-03-25T17:53:41.705Z"
   },
   {
    "duration": 48,
    "start_time": "2025-03-25T17:53:42.862Z"
   },
   {
    "duration": 11,
    "start_time": "2025-03-25T17:53:42.911Z"
   },
   {
    "duration": 3,
    "start_time": "2025-03-25T17:53:42.924Z"
   },
   {
    "duration": 16,
    "start_time": "2025-03-25T17:53:42.928Z"
   },
   {
    "duration": 10,
    "start_time": "2025-03-25T17:53:42.945Z"
   },
   {
    "duration": 134,
    "start_time": "2025-03-25T17:53:42.956Z"
   },
   {
    "duration": 8,
    "start_time": "2025-03-25T17:53:43.091Z"
   },
   {
    "duration": 51,
    "start_time": "2025-03-25T17:53:43.108Z"
   },
   {
    "duration": 7,
    "start_time": "2025-03-25T17:53:43.162Z"
   },
   {
    "duration": 11,
    "start_time": "2025-03-25T17:53:43.170Z"
   },
   {
    "duration": 27,
    "start_time": "2025-03-25T17:53:43.183Z"
   },
   {
    "duration": 23,
    "start_time": "2025-03-25T17:53:43.211Z"
   },
   {
    "duration": 16,
    "start_time": "2025-03-25T17:53:43.236Z"
   },
   {
    "duration": 8,
    "start_time": "2025-03-25T17:53:43.254Z"
   },
   {
    "duration": 4,
    "start_time": "2025-03-25T17:53:43.264Z"
   },
   {
    "duration": 11,
    "start_time": "2025-03-25T17:53:43.270Z"
   },
   {
    "duration": 5,
    "start_time": "2025-03-25T17:53:43.282Z"
   },
   {
    "duration": 128,
    "start_time": "2025-03-25T17:53:43.289Z"
   },
   {
    "duration": 12,
    "start_time": "2025-03-25T17:53:43.419Z"
   },
   {
    "duration": 173,
    "start_time": "2025-03-25T17:53:43.432Z"
   },
   {
    "duration": 127,
    "start_time": "2025-03-25T17:53:43.607Z"
   },
   {
    "duration": 22,
    "start_time": "2025-03-25T17:53:43.736Z"
   },
   {
    "duration": 13,
    "start_time": "2025-03-25T17:53:43.759Z"
   },
   {
    "duration": 276,
    "start_time": "2025-03-25T17:53:43.774Z"
   },
   {
    "duration": 219,
    "start_time": "2025-03-25T17:53:44.053Z"
   },
   {
    "duration": 11,
    "start_time": "2025-03-25T17:53:44.273Z"
   },
   {
    "duration": 291,
    "start_time": "2025-03-25T17:53:44.288Z"
   },
   {
    "duration": 12,
    "start_time": "2025-03-25T17:53:44.581Z"
   },
   {
    "duration": 10,
    "start_time": "2025-03-25T17:53:44.595Z"
   },
   {
    "duration": 14,
    "start_time": "2025-03-25T17:53:44.607Z"
   },
   {
    "duration": 223,
    "start_time": "2025-03-25T17:53:44.623Z"
   },
   {
    "duration": 18,
    "start_time": "2025-03-25T17:53:44.848Z"
   },
   {
    "duration": 295,
    "start_time": "2025-03-25T17:53:44.868Z"
   },
   {
    "duration": 8,
    "start_time": "2025-03-25T17:53:45.164Z"
   },
   {
    "duration": 48,
    "start_time": "2025-03-25T17:53:45.174Z"
   },
   {
    "duration": 145,
    "start_time": "2025-03-25T17:53:45.224Z"
   },
   {
    "duration": 4,
    "start_time": "2025-03-25T17:53:45.371Z"
   },
   {
    "duration": 155,
    "start_time": "2025-03-25T17:53:45.377Z"
   },
   {
    "duration": 226,
    "start_time": "2025-03-25T17:53:45.533Z"
   },
   {
    "duration": 4,
    "start_time": "2025-03-25T17:53:45.760Z"
   },
   {
    "duration": 213,
    "start_time": "2025-03-25T17:53:45.766Z"
   },
   {
    "duration": 9,
    "start_time": "2025-03-25T17:53:45.980Z"
   },
   {
    "duration": 8,
    "start_time": "2025-03-25T17:53:45.991Z"
   },
   {
    "duration": 129,
    "start_time": "2025-03-25T17:53:46.001Z"
   },
   {
    "duration": 6,
    "start_time": "2025-03-25T17:53:46.132Z"
   },
   {
    "duration": 25,
    "start_time": "2025-03-25T17:53:46.140Z"
   },
   {
    "duration": 24,
    "start_time": "2025-03-25T17:53:46.167Z"
   },
   {
    "duration": 5,
    "start_time": "2025-03-25T17:53:46.193Z"
   },
   {
    "duration": 14,
    "start_time": "2025-03-25T17:53:46.200Z"
   },
   {
    "duration": 27,
    "start_time": "2025-03-25T17:53:46.216Z"
   },
   {
    "duration": 6,
    "start_time": "2025-03-25T17:53:46.245Z"
   },
   {
    "duration": 14,
    "start_time": "2025-03-25T17:53:46.253Z"
   },
   {
    "duration": 15,
    "start_time": "2025-03-25T17:53:46.269Z"
   },
   {
    "duration": 9,
    "start_time": "2025-03-25T17:53:46.286Z"
   },
   {
    "duration": 6,
    "start_time": "2025-03-25T17:53:46.297Z"
   },
   {
    "duration": 31,
    "start_time": "2025-03-25T17:53:46.305Z"
   },
   {
    "duration": 18,
    "start_time": "2025-03-25T17:53:46.338Z"
   },
   {
    "duration": 12,
    "start_time": "2025-03-25T17:53:46.357Z"
   },
   {
    "duration": 10,
    "start_time": "2025-03-25T17:53:46.372Z"
   },
   {
    "duration": 39,
    "start_time": "2025-03-25T17:53:46.384Z"
   },
   {
    "duration": 5,
    "start_time": "2025-03-25T17:53:46.425Z"
   },
   {
    "duration": 30,
    "start_time": "2025-03-25T17:53:46.431Z"
   },
   {
    "duration": 39,
    "start_time": "2025-03-25T17:53:46.463Z"
   },
   {
    "duration": 62,
    "start_time": "2025-03-26T17:51:20.730Z"
   },
   {
    "duration": 1341,
    "start_time": "2025-03-26T17:51:29.095Z"
   },
   {
    "duration": 28,
    "start_time": "2025-03-26T17:51:30.438Z"
   },
   {
    "duration": 13,
    "start_time": "2025-03-26T17:51:30.470Z"
   },
   {
    "duration": 3,
    "start_time": "2025-03-26T17:51:30.485Z"
   },
   {
    "duration": 31,
    "start_time": "2025-03-26T17:51:30.490Z"
   },
   {
    "duration": 11,
    "start_time": "2025-03-26T17:51:30.522Z"
   },
   {
    "duration": 151,
    "start_time": "2025-03-26T17:51:30.535Z"
   },
   {
    "duration": 33,
    "start_time": "2025-03-26T17:51:30.688Z"
   },
   {
    "duration": 15,
    "start_time": "2025-03-26T17:51:30.724Z"
   },
   {
    "duration": 8,
    "start_time": "2025-03-26T17:51:30.740Z"
   },
   {
    "duration": 9,
    "start_time": "2025-03-26T17:51:30.749Z"
   },
   {
    "duration": 27,
    "start_time": "2025-03-26T17:51:30.760Z"
   },
   {
    "duration": 9,
    "start_time": "2025-03-26T17:51:30.788Z"
   },
   {
    "duration": 8,
    "start_time": "2025-03-26T17:51:30.799Z"
   },
   {
    "duration": 18,
    "start_time": "2025-03-26T17:51:30.808Z"
   },
   {
    "duration": 100,
    "start_time": "2025-03-26T17:51:30.828Z"
   },
   {
    "duration": 19,
    "start_time": "2025-03-26T17:51:30.929Z"
   },
   {
    "duration": 5,
    "start_time": "2025-03-26T17:51:30.949Z"
   },
   {
    "duration": 178,
    "start_time": "2025-03-26T17:51:30.955Z"
   },
   {
    "duration": 10,
    "start_time": "2025-03-26T17:51:31.134Z"
   },
   {
    "duration": 190,
    "start_time": "2025-03-26T17:51:31.146Z"
   },
   {
    "duration": 127,
    "start_time": "2025-03-26T17:51:31.337Z"
   },
   {
    "duration": 11,
    "start_time": "2025-03-26T17:51:31.466Z"
   },
   {
    "duration": 13,
    "start_time": "2025-03-26T17:51:31.479Z"
   },
   {
    "duration": 283,
    "start_time": "2025-03-26T17:51:31.493Z"
   },
   {
    "duration": 203,
    "start_time": "2025-03-26T17:51:31.778Z"
   },
   {
    "duration": 11,
    "start_time": "2025-03-26T17:51:31.985Z"
   },
   {
    "duration": 379,
    "start_time": "2025-03-26T17:51:31.997Z"
   },
   {
    "duration": 13,
    "start_time": "2025-03-26T17:51:32.377Z"
   },
   {
    "duration": 10,
    "start_time": "2025-03-26T17:51:32.392Z"
   },
   {
    "duration": 94,
    "start_time": "2025-03-26T17:51:32.403Z"
   },
   {
    "duration": 205,
    "start_time": "2025-03-26T17:51:32.499Z"
   },
   {
    "duration": 14,
    "start_time": "2025-03-26T17:51:32.705Z"
   },
   {
    "duration": 314,
    "start_time": "2025-03-26T17:51:32.721Z"
   },
   {
    "duration": 8,
    "start_time": "2025-03-26T17:51:33.037Z"
   },
   {
    "duration": 16,
    "start_time": "2025-03-26T17:51:33.047Z"
   },
   {
    "duration": 160,
    "start_time": "2025-03-26T17:51:33.065Z"
   },
   {
    "duration": 5,
    "start_time": "2025-03-26T17:51:33.235Z"
   },
   {
    "duration": 155,
    "start_time": "2025-03-26T17:51:33.241Z"
   },
   {
    "duration": 224,
    "start_time": "2025-03-26T17:51:33.398Z"
   },
   {
    "duration": 13,
    "start_time": "2025-03-26T17:51:33.624Z"
   },
   {
    "duration": 200,
    "start_time": "2025-03-26T17:51:33.639Z"
   },
   {
    "duration": 12,
    "start_time": "2025-03-26T17:51:33.841Z"
   },
   {
    "duration": 11,
    "start_time": "2025-03-26T17:51:33.855Z"
   },
   {
    "duration": 22,
    "start_time": "2025-03-26T17:51:33.868Z"
   },
   {
    "duration": 131,
    "start_time": "2025-03-26T17:51:33.892Z"
   },
   {
    "duration": 15,
    "start_time": "2025-03-26T17:51:34.024Z"
   },
   {
    "duration": 5,
    "start_time": "2025-03-26T17:51:34.040Z"
   },
   {
    "duration": 25,
    "start_time": "2025-03-26T17:51:34.047Z"
   },
   {
    "duration": 6,
    "start_time": "2025-03-26T17:51:34.073Z"
   },
   {
    "duration": 9,
    "start_time": "2025-03-26T17:51:34.081Z"
   },
   {
    "duration": 45,
    "start_time": "2025-03-26T17:51:34.092Z"
   },
   {
    "duration": 7,
    "start_time": "2025-03-26T17:51:34.140Z"
   },
   {
    "duration": 6,
    "start_time": "2025-03-26T17:51:34.148Z"
   },
   {
    "duration": 8,
    "start_time": "2025-03-26T17:51:34.156Z"
   },
   {
    "duration": 128,
    "start_time": "2025-03-26T17:51:34.165Z"
   },
   {
    "duration": 22,
    "start_time": "2025-03-26T17:51:34.295Z"
   },
   {
    "duration": 13,
    "start_time": "2025-03-26T17:51:34.319Z"
   },
   {
    "duration": 16,
    "start_time": "2025-03-26T17:51:34.333Z"
   },
   {
    "duration": 5,
    "start_time": "2025-03-26T17:51:34.350Z"
   },
   {
    "duration": 23,
    "start_time": "2025-03-26T17:51:34.356Z"
   },
   {
    "duration": 51,
    "start_time": "2025-03-26T17:51:34.380Z"
   },
   {
    "duration": 53,
    "start_time": "2025-03-26T17:51:34.432Z"
   },
   {
    "duration": 11,
    "start_time": "2025-03-26T17:51:34.486Z"
   },
   {
    "duration": 8,
    "start_time": "2025-03-26T17:51:34.498Z"
   },
   {
    "duration": 9,
    "start_time": "2025-03-26T17:53:15.604Z"
   },
   {
    "duration": 9,
    "start_time": "2025-03-26T17:55:30.368Z"
   },
   {
    "duration": 9,
    "start_time": "2025-03-26T17:55:38.979Z"
   },
   {
    "duration": 210,
    "start_time": "2025-03-26T17:59:51.398Z"
   }
  ],
  "kernelspec": {
   "display_name": "Python 3 (ipykernel)",
   "language": "python",
   "name": "python3"
  },
  "language_info": {
   "codemirror_mode": {
    "name": "ipython",
    "version": 3
   },
   "file_extension": ".py",
   "mimetype": "text/x-python",
   "name": "python",
   "nbconvert_exporter": "python",
   "pygments_lexer": "ipython3",
   "version": "3.9.21"
  },
  "toc": {
   "base_numbering": 1,
   "nav_menu": {},
   "number_sections": true,
   "sideBar": true,
   "skip_h1_title": true,
   "title_cell": "Table of Contents",
   "title_sidebar": "Contents",
   "toc_cell": false,
   "toc_position": {
    "height": "calc(100% - 180px)",
    "left": "10px",
    "top": "150px",
    "width": "253.542px"
   },
   "toc_section_display": true,
   "toc_window_display": true
  }
 },
 "nbformat": 4,
 "nbformat_minor": 4
}
