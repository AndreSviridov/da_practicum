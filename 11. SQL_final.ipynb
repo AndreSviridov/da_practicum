{
 "cells": [
  {
   "cell_type": "markdown",
   "metadata": {},
   "source": [
    "<div class=\"alert alert-success\" style=\"border-radius: 15px; box-shadow: 4px 4px 4px; border: 1px solid; position: relative; padding: 15px; padding-left: 80px;\">\n",
    "<img src=\"https://lh3.googleusercontent.com/a/AAcHTtc31jlywy-FMYxLAouSSqNAmm5NsrBvivwRIASNt7wihI2ClYdpAbzWNqcigfcR04LfvopHwsJrJpnVr4UXDkCHtWk=s432-c-no\" width=\"45\" height=\"45\" style=\"position: absolute; top: 15px; left: 15px; border-radius: 50%;\">\n",
    "<b> 🚀 ИТОГИ РЕВЬЮ 🚀 : </b>\n",
    "\n",
    "Все замечания учтены. Эта работа демонстрирует твоё умение формировать запросы SQL для решения подобных задач.\n",
    "\n",
    "Поздравляю с успешным завершением финального этапа 👏\n",
    "\n",
    "---\n",
    "\n",
    "![](https://media.giphy.com/media/9hLq3XV0tykOINfyXc/giphy.gif)\n",
    "\n",
    "---\n",
    "\n",
    "После окончания дедлайнов представлю в канале Пачки дополнительные материалы для дальнейшего развития в этой области.\n",
    "\n",
    "Успехов тебе в дальнейших начинаниях!\n",
    "\n",
    "</div>\n",
    "\n",
    "---"
   ]
  },
  {
   "cell_type": "markdown",
   "metadata": {},
   "source": [
    "# SQL проект"
   ]
  },
  {
   "cell_type": "markdown",
   "metadata": {},
   "source": [
    "Коронавирус застал мир врасплох, изменив привычный порядок вещей. В свободное время жители городов больше не выходят на улицу, не посещают кафе и торговые центры. Зато стало больше времени для книг. Это заметили стартаперы — и бросились создавать приложения для тех, кто любит читать.\n",
    "\n",
    "Наша компания решила быть на волне и купила крупный сервис для чтения книг по подписке. Наша первая задача как аналитика — проанализировать базу данных. В ней — информация о книгах, издательствах, авторах, а также пользовательские обзоры книг. Эти данные помогут сформулировать ценностное предложение для нового продукта."
   ]
  },
  {
   "cell_type": "markdown",
   "metadata": {},
   "source": [
    "## Цели и задачи"
   ]
  },
  {
   "cell_type": "markdown",
   "metadata": {},
   "source": [
    "* Посчитайте, сколько книг вышло после 1 января 2000 года;\n",
    "* Для каждой книги посчитайте количество обзоров и среднюю оценку;\n",
    "* Определите издательство, которое выпустило наибольшее число книг толще 50 страниц — так вы исключите из анализа брошюры;\n",
    "* Определите автора с самой высокой средней оценкой книг — учитывайте\n",
    "только книги с 50 и более оценками;\n",
    "* Посчитайте среднее количество обзоров от пользователей, которые поставили\n",
    "больше 48 оценок. "
   ]
  },
  {
   "cell_type": "markdown",
   "metadata": {},
   "source": [
    "## Описание данных"
   ]
  },
  {
   "cell_type": "markdown",
   "metadata": {},
   "source": [
    "Таблица **books** содержит данные о книгах:\n",
    "* book_id — идентификатор книги;\n",
    "* author_id — идентификатор автора;\n",
    "* title — название книги;\n",
    "* num_pages — количество страниц;\n",
    "* publication_date — дата публикации книги;\n",
    "* publisher_id — идентификатор издателя."
   ]
  },
  {
   "cell_type": "markdown",
   "metadata": {},
   "source": [
    "Таблица **authors** содержит данные об авторах:\n",
    "* author_id — идентификатор автора;\n",
    "* author — имя автора."
   ]
  },
  {
   "cell_type": "markdown",
   "metadata": {},
   "source": [
    "Таблица **publishers** содержит данные об издательствах:\n",
    "* publisher_id — идентификатор издательства;\n",
    "* publisher — название издательства."
   ]
  },
  {
   "cell_type": "markdown",
   "metadata": {},
   "source": [
    "Таблица **ratings** содержит данные о пользовательских оценках книг:\n",
    "* rating_id — идентификатор оценки;\n",
    "* book_id — идентификатор книги;\n",
    "* username — имя пользователя, оставившего оценку;\n",
    "* rating — оценка книги."
   ]
  },
  {
   "cell_type": "markdown",
   "metadata": {},
   "source": [
    "Таблица **reviews** содержит данные о пользовательских обзорах на книги:\n",
    "* review_id — идентификатор обзора;\n",
    "* book_id — идентификатор книги;\n",
    "* username — имя пользователя, написавшего обзор;\n",
    "* text — текст обзора."
   ]
  },
  {
   "cell_type": "markdown",
   "metadata": {},
   "source": [
    "## Доступ к базе данных"
   ]
  },
  {
   "cell_type": "code",
   "execution_count": 1,
   "metadata": {},
   "outputs": [],
   "source": [
    "# импортируем библиотеки\n",
    "import pandas as pd\n",
    "import sqlalchemy as sa"
   ]
  },
  {
   "cell_type": "code",
   "execution_count": 2,
   "metadata": {},
   "outputs": [],
   "source": [
    "# устанавливаем параметры\n",
    "db_config = {\n",
    "'user': 'praktikum_student', # имя пользователя\n",
    "'pwd': 'Sdf4$2;d-d30pp', # пароль\n",
    "'host': 'rc1b-wcoijxj3yxfsf3fs.mdb.yandexcloud.net',\n",
    "'port': 6432, # порт подключения\n",
    "'db': 'data-analyst-final-project-db' # название базы данных\n",
    "}\n",
    "connection_string = 'postgresql://{user}:{pwd}@{host}:{port}/{db}'.format(**db_config)\n",
    "# сохраняем коннектор\n",
    "engine = sa.create_engine(connection_string, connect_args={'sslmode':'require'})"
   ]
  },
  {
   "cell_type": "markdown",
   "metadata": {},
   "source": [
    "<div class=\"alert alert-warning\" style=\"border-radius: 15px; box-shadow: 4px 4px 4px; border: 1px solid; position: relative; padding: 15px; padding-left: 80px;\">\n",
    "<img src=\"https://lh3.googleusercontent.com/a/AAcHTtc31jlywy-FMYxLAouSSqNAmm5NsrBvivwRIASNt7wihI2ClYdpAbzWNqcigfcR04LfvopHwsJrJpnVr4UXDkCHtWk=s432-c-no\" width=\"45\" height=\"45\" style=\"position: absolute; top: 15px; left: 15px; border-radius: 50%;\">\n",
    "<b> ✏️ Рекомендация тимлида: </b>\n",
    "\n",
    "Разные этапы выполнения кода смешаны и не разделены логически.\n",
    "\n",
    "Советую структурировать код в разных ячейках следующим образом:\n",
    "\n",
    "* сначала разместить импорты библиотек.\n",
    "* затем блок кода, отвечающий за открытие и обработку данных.\n",
    "* и, наконец, сам рабочий код.\n",
    "\n",
    "Такой подход повысит читаемость кода, упростит поиск и исправление ошибок, а также предотвратит ненужное повторное выполнение кода.\n",
    "\n",
    "</div>"
   ]
  },
  {
   "cell_type": "markdown",
   "metadata": {},
   "source": [
    "<div class=\"alert alert-info\" style=\"border-radius: 15px; box-shadow: 4px 4px 4px; border: 1px solid \" ><b> Комментарий студента : </b>\n",
    "\n",
    "Исправлено👌\n",
    "\n",
    "</div>"
   ]
  },
  {
   "cell_type": "code",
   "execution_count": 3,
   "metadata": {},
   "outputs": [],
   "source": [
    "# чтобы выполнить SQL-запрос, пишем функцию с использованием Pandas\n",
    "def get_sql_data(query:str, engine:sa.engine.base.Engine=engine) -> pd.DataFrame:\n",
    "    with engine.connect() as con:\n",
    "        return pd.read_sql(sql=sa.text(query), con = con)"
   ]
  },
  {
   "cell_type": "markdown",
   "metadata": {},
   "source": [
    "## Исследование таблиц — выведите первые строки, посчитайте количество строк в каждой таблице"
   ]
  },
  {
   "cell_type": "markdown",
   "metadata": {},
   "source": [
    "### books"
   ]
  },
  {
   "cell_type": "code",
   "execution_count": 4,
   "metadata": {},
   "outputs": [
    {
     "data": {
      "text/html": [
       "<div>\n",
       "<style scoped>\n",
       "    .dataframe tbody tr th:only-of-type {\n",
       "        vertical-align: middle;\n",
       "    }\n",
       "\n",
       "    .dataframe tbody tr th {\n",
       "        vertical-align: top;\n",
       "    }\n",
       "\n",
       "    .dataframe thead th {\n",
       "        text-align: right;\n",
       "    }\n",
       "</style>\n",
       "<table border=\"1\" class=\"dataframe\">\n",
       "  <thead>\n",
       "    <tr style=\"text-align: right;\">\n",
       "      <th></th>\n",
       "      <th>book_id</th>\n",
       "      <th>author_id</th>\n",
       "      <th>title</th>\n",
       "      <th>num_pages</th>\n",
       "      <th>publication_date</th>\n",
       "      <th>publisher_id</th>\n",
       "    </tr>\n",
       "  </thead>\n",
       "  <tbody>\n",
       "    <tr>\n",
       "      <th>0</th>\n",
       "      <td>1</td>\n",
       "      <td>546</td>\n",
       "      <td>'Salem's Lot</td>\n",
       "      <td>594</td>\n",
       "      <td>2005-11-01</td>\n",
       "      <td>93</td>\n",
       "    </tr>\n",
       "    <tr>\n",
       "      <th>1</th>\n",
       "      <td>2</td>\n",
       "      <td>465</td>\n",
       "      <td>1 000 Places to See Before You Die</td>\n",
       "      <td>992</td>\n",
       "      <td>2003-05-22</td>\n",
       "      <td>336</td>\n",
       "    </tr>\n",
       "    <tr>\n",
       "      <th>2</th>\n",
       "      <td>3</td>\n",
       "      <td>407</td>\n",
       "      <td>13 Little Blue Envelopes (Little Blue Envelope...</td>\n",
       "      <td>322</td>\n",
       "      <td>2010-12-21</td>\n",
       "      <td>135</td>\n",
       "    </tr>\n",
       "    <tr>\n",
       "      <th>3</th>\n",
       "      <td>4</td>\n",
       "      <td>82</td>\n",
       "      <td>1491: New Revelations of the Americas Before C...</td>\n",
       "      <td>541</td>\n",
       "      <td>2006-10-10</td>\n",
       "      <td>309</td>\n",
       "    </tr>\n",
       "    <tr>\n",
       "      <th>4</th>\n",
       "      <td>5</td>\n",
       "      <td>125</td>\n",
       "      <td>1776</td>\n",
       "      <td>386</td>\n",
       "      <td>2006-07-04</td>\n",
       "      <td>268</td>\n",
       "    </tr>\n",
       "  </tbody>\n",
       "</table>\n",
       "</div>"
      ],
      "text/plain": [
       "   book_id  author_id                                              title  \\\n",
       "0        1        546                                       'Salem's Lot   \n",
       "1        2        465                 1 000 Places to See Before You Die   \n",
       "2        3        407  13 Little Blue Envelopes (Little Blue Envelope...   \n",
       "3        4         82  1491: New Revelations of the Americas Before C...   \n",
       "4        5        125                                               1776   \n",
       "\n",
       "   num_pages publication_date  publisher_id  \n",
       "0        594       2005-11-01            93  \n",
       "1        992       2003-05-22           336  \n",
       "2        322       2010-12-21           135  \n",
       "3        541       2006-10-10           309  \n",
       "4        386       2006-07-04           268  "
      ]
     },
     "execution_count": 4,
     "metadata": {},
     "output_type": "execute_result"
    }
   ],
   "source": [
    "books = '''SELECT * \n",
    "           FROM books'''\n",
    "          \n",
    "get_sql_data(books).head()"
   ]
  },
  {
   "cell_type": "code",
   "execution_count": 5,
   "metadata": {},
   "outputs": [
    {
     "name": "stdout",
     "output_type": "stream",
     "text": [
      "В таблице books 1000 строк\n"
     ]
    }
   ],
   "source": [
    "print('В таблице books',len(get_sql_data(books)),'строк')"
   ]
  },
  {
   "cell_type": "markdown",
   "metadata": {},
   "source": [
    "### authors"
   ]
  },
  {
   "cell_type": "code",
   "execution_count": 6,
   "metadata": {},
   "outputs": [
    {
     "data": {
      "text/html": [
       "<div>\n",
       "<style scoped>\n",
       "    .dataframe tbody tr th:only-of-type {\n",
       "        vertical-align: middle;\n",
       "    }\n",
       "\n",
       "    .dataframe tbody tr th {\n",
       "        vertical-align: top;\n",
       "    }\n",
       "\n",
       "    .dataframe thead th {\n",
       "        text-align: right;\n",
       "    }\n",
       "</style>\n",
       "<table border=\"1\" class=\"dataframe\">\n",
       "  <thead>\n",
       "    <tr style=\"text-align: right;\">\n",
       "      <th></th>\n",
       "      <th>author_id</th>\n",
       "      <th>author</th>\n",
       "    </tr>\n",
       "  </thead>\n",
       "  <tbody>\n",
       "    <tr>\n",
       "      <th>0</th>\n",
       "      <td>1</td>\n",
       "      <td>A.S. Byatt</td>\n",
       "    </tr>\n",
       "    <tr>\n",
       "      <th>1</th>\n",
       "      <td>2</td>\n",
       "      <td>Aesop/Laura Harris/Laura Gibbs</td>\n",
       "    </tr>\n",
       "    <tr>\n",
       "      <th>2</th>\n",
       "      <td>3</td>\n",
       "      <td>Agatha Christie</td>\n",
       "    </tr>\n",
       "    <tr>\n",
       "      <th>3</th>\n",
       "      <td>4</td>\n",
       "      <td>Alan Brennert</td>\n",
       "    </tr>\n",
       "    <tr>\n",
       "      <th>4</th>\n",
       "      <td>5</td>\n",
       "      <td>Alan Moore/David   Lloyd</td>\n",
       "    </tr>\n",
       "  </tbody>\n",
       "</table>\n",
       "</div>"
      ],
      "text/plain": [
       "   author_id                          author\n",
       "0          1                      A.S. Byatt\n",
       "1          2  Aesop/Laura Harris/Laura Gibbs\n",
       "2          3                 Agatha Christie\n",
       "3          4                   Alan Brennert\n",
       "4          5        Alan Moore/David   Lloyd"
      ]
     },
     "execution_count": 6,
     "metadata": {},
     "output_type": "execute_result"
    }
   ],
   "source": [
    "authors = '''SELECT * \n",
    "           FROM authors'''\n",
    "          \n",
    "get_sql_data(authors).head()"
   ]
  },
  {
   "cell_type": "code",
   "execution_count": 7,
   "metadata": {},
   "outputs": [
    {
     "name": "stdout",
     "output_type": "stream",
     "text": [
      "В таблице authors 636 строк\n"
     ]
    }
   ],
   "source": [
    "print('В таблице authors',len(get_sql_data(authors)),'строк')"
   ]
  },
  {
   "cell_type": "markdown",
   "metadata": {},
   "source": [
    "### publishers "
   ]
  },
  {
   "cell_type": "code",
   "execution_count": 8,
   "metadata": {},
   "outputs": [
    {
     "data": {
      "text/html": [
       "<div>\n",
       "<style scoped>\n",
       "    .dataframe tbody tr th:only-of-type {\n",
       "        vertical-align: middle;\n",
       "    }\n",
       "\n",
       "    .dataframe tbody tr th {\n",
       "        vertical-align: top;\n",
       "    }\n",
       "\n",
       "    .dataframe thead th {\n",
       "        text-align: right;\n",
       "    }\n",
       "</style>\n",
       "<table border=\"1\" class=\"dataframe\">\n",
       "  <thead>\n",
       "    <tr style=\"text-align: right;\">\n",
       "      <th></th>\n",
       "      <th>publisher_id</th>\n",
       "      <th>publisher</th>\n",
       "    </tr>\n",
       "  </thead>\n",
       "  <tbody>\n",
       "    <tr>\n",
       "      <th>0</th>\n",
       "      <td>1</td>\n",
       "      <td>Ace</td>\n",
       "    </tr>\n",
       "    <tr>\n",
       "      <th>1</th>\n",
       "      <td>2</td>\n",
       "      <td>Ace Book</td>\n",
       "    </tr>\n",
       "    <tr>\n",
       "      <th>2</th>\n",
       "      <td>3</td>\n",
       "      <td>Ace Books</td>\n",
       "    </tr>\n",
       "    <tr>\n",
       "      <th>3</th>\n",
       "      <td>4</td>\n",
       "      <td>Ace Hardcover</td>\n",
       "    </tr>\n",
       "    <tr>\n",
       "      <th>4</th>\n",
       "      <td>5</td>\n",
       "      <td>Addison Wesley Publishing Company</td>\n",
       "    </tr>\n",
       "  </tbody>\n",
       "</table>\n",
       "</div>"
      ],
      "text/plain": [
       "   publisher_id                          publisher\n",
       "0             1                                Ace\n",
       "1             2                           Ace Book\n",
       "2             3                          Ace Books\n",
       "3             4                      Ace Hardcover\n",
       "4             5  Addison Wesley Publishing Company"
      ]
     },
     "execution_count": 8,
     "metadata": {},
     "output_type": "execute_result"
    }
   ],
   "source": [
    "publishers = '''SELECT * \n",
    "           FROM publishers'''\n",
    "          \n",
    "get_sql_data(publishers).head()"
   ]
  },
  {
   "cell_type": "code",
   "execution_count": 9,
   "metadata": {},
   "outputs": [
    {
     "name": "stdout",
     "output_type": "stream",
     "text": [
      "В таблице publishers 340 строк\n"
     ]
    }
   ],
   "source": [
    "print('В таблице publishers',len(get_sql_data(publishers)),'строк')"
   ]
  },
  {
   "cell_type": "markdown",
   "metadata": {},
   "source": [
    "### ratings"
   ]
  },
  {
   "cell_type": "code",
   "execution_count": 10,
   "metadata": {},
   "outputs": [
    {
     "data": {
      "text/html": [
       "<div>\n",
       "<style scoped>\n",
       "    .dataframe tbody tr th:only-of-type {\n",
       "        vertical-align: middle;\n",
       "    }\n",
       "\n",
       "    .dataframe tbody tr th {\n",
       "        vertical-align: top;\n",
       "    }\n",
       "\n",
       "    .dataframe thead th {\n",
       "        text-align: right;\n",
       "    }\n",
       "</style>\n",
       "<table border=\"1\" class=\"dataframe\">\n",
       "  <thead>\n",
       "    <tr style=\"text-align: right;\">\n",
       "      <th></th>\n",
       "      <th>rating_id</th>\n",
       "      <th>book_id</th>\n",
       "      <th>username</th>\n",
       "      <th>rating</th>\n",
       "    </tr>\n",
       "  </thead>\n",
       "  <tbody>\n",
       "    <tr>\n",
       "      <th>0</th>\n",
       "      <td>1</td>\n",
       "      <td>1</td>\n",
       "      <td>ryanfranco</td>\n",
       "      <td>4</td>\n",
       "    </tr>\n",
       "    <tr>\n",
       "      <th>1</th>\n",
       "      <td>2</td>\n",
       "      <td>1</td>\n",
       "      <td>grantpatricia</td>\n",
       "      <td>2</td>\n",
       "    </tr>\n",
       "    <tr>\n",
       "      <th>2</th>\n",
       "      <td>3</td>\n",
       "      <td>1</td>\n",
       "      <td>brandtandrea</td>\n",
       "      <td>5</td>\n",
       "    </tr>\n",
       "    <tr>\n",
       "      <th>3</th>\n",
       "      <td>4</td>\n",
       "      <td>2</td>\n",
       "      <td>lorichen</td>\n",
       "      <td>3</td>\n",
       "    </tr>\n",
       "    <tr>\n",
       "      <th>4</th>\n",
       "      <td>5</td>\n",
       "      <td>2</td>\n",
       "      <td>mariokeller</td>\n",
       "      <td>2</td>\n",
       "    </tr>\n",
       "  </tbody>\n",
       "</table>\n",
       "</div>"
      ],
      "text/plain": [
       "   rating_id  book_id       username  rating\n",
       "0          1        1     ryanfranco       4\n",
       "1          2        1  grantpatricia       2\n",
       "2          3        1   brandtandrea       5\n",
       "3          4        2       lorichen       3\n",
       "4          5        2    mariokeller       2"
      ]
     },
     "execution_count": 10,
     "metadata": {},
     "output_type": "execute_result"
    }
   ],
   "source": [
    "ratings = '''SELECT * \n",
    "           FROM ratings'''\n",
    "          \n",
    "get_sql_data(ratings).head()"
   ]
  },
  {
   "cell_type": "code",
   "execution_count": 11,
   "metadata": {},
   "outputs": [
    {
     "name": "stdout",
     "output_type": "stream",
     "text": [
      "В таблице ratings 6456 строк\n"
     ]
    }
   ],
   "source": [
    "print('В таблице ratings',len(get_sql_data(ratings)),'строк')"
   ]
  },
  {
   "cell_type": "markdown",
   "metadata": {},
   "source": [
    "### reviews"
   ]
  },
  {
   "cell_type": "code",
   "execution_count": 12,
   "metadata": {},
   "outputs": [
    {
     "data": {
      "text/html": [
       "<div>\n",
       "<style scoped>\n",
       "    .dataframe tbody tr th:only-of-type {\n",
       "        vertical-align: middle;\n",
       "    }\n",
       "\n",
       "    .dataframe tbody tr th {\n",
       "        vertical-align: top;\n",
       "    }\n",
       "\n",
       "    .dataframe thead th {\n",
       "        text-align: right;\n",
       "    }\n",
       "</style>\n",
       "<table border=\"1\" class=\"dataframe\">\n",
       "  <thead>\n",
       "    <tr style=\"text-align: right;\">\n",
       "      <th></th>\n",
       "      <th>review_id</th>\n",
       "      <th>book_id</th>\n",
       "      <th>username</th>\n",
       "      <th>text</th>\n",
       "    </tr>\n",
       "  </thead>\n",
       "  <tbody>\n",
       "    <tr>\n",
       "      <th>0</th>\n",
       "      <td>1</td>\n",
       "      <td>1</td>\n",
       "      <td>brandtandrea</td>\n",
       "      <td>Mention society tell send professor analysis. ...</td>\n",
       "    </tr>\n",
       "    <tr>\n",
       "      <th>1</th>\n",
       "      <td>2</td>\n",
       "      <td>1</td>\n",
       "      <td>ryanfranco</td>\n",
       "      <td>Foot glass pretty audience hit themselves. Amo...</td>\n",
       "    </tr>\n",
       "    <tr>\n",
       "      <th>2</th>\n",
       "      <td>3</td>\n",
       "      <td>2</td>\n",
       "      <td>lorichen</td>\n",
       "      <td>Listen treat keep worry. Miss husband tax but ...</td>\n",
       "    </tr>\n",
       "    <tr>\n",
       "      <th>3</th>\n",
       "      <td>4</td>\n",
       "      <td>3</td>\n",
       "      <td>johnsonamanda</td>\n",
       "      <td>Finally month interesting blue could nature cu...</td>\n",
       "    </tr>\n",
       "    <tr>\n",
       "      <th>4</th>\n",
       "      <td>5</td>\n",
       "      <td>3</td>\n",
       "      <td>scotttamara</td>\n",
       "      <td>Nation purpose heavy give wait song will. List...</td>\n",
       "    </tr>\n",
       "  </tbody>\n",
       "</table>\n",
       "</div>"
      ],
      "text/plain": [
       "   review_id  book_id       username  \\\n",
       "0          1        1   brandtandrea   \n",
       "1          2        1     ryanfranco   \n",
       "2          3        2       lorichen   \n",
       "3          4        3  johnsonamanda   \n",
       "4          5        3    scotttamara   \n",
       "\n",
       "                                                text  \n",
       "0  Mention society tell send professor analysis. ...  \n",
       "1  Foot glass pretty audience hit themselves. Amo...  \n",
       "2  Listen treat keep worry. Miss husband tax but ...  \n",
       "3  Finally month interesting blue could nature cu...  \n",
       "4  Nation purpose heavy give wait song will. List...  "
      ]
     },
     "execution_count": 12,
     "metadata": {},
     "output_type": "execute_result"
    }
   ],
   "source": [
    "reviews = '''SELECT * \n",
    "           FROM reviews'''\n",
    "          \n",
    "get_sql_data(reviews).head()"
   ]
  },
  {
   "cell_type": "code",
   "execution_count": 13,
   "metadata": {},
   "outputs": [
    {
     "name": "stdout",
     "output_type": "stream",
     "text": [
      "В таблице reviews 2793 строк\n"
     ]
    }
   ],
   "source": [
    "print('В таблице reviews',len(get_sql_data(reviews)),'строк')"
   ]
  },
  {
   "cell_type": "markdown",
   "metadata": {},
   "source": [
    "### Вывод"
   ]
  },
  {
   "cell_type": "markdown",
   "metadata": {},
   "source": [
    "* В таблице books 1000 строк;\n",
    "* В таблице authors 636 строк;\n",
    "* В таблице publishers 340 строк;\n",
    "* В таблице ratings 6456 строк;\n",
    "* В таблице reviews 2793 строк."
   ]
  },
  {
   "cell_type": "markdown",
   "metadata": {},
   "source": [
    "<div class=\"alert alert-success\" style=\"border-radius: 15px; box-shadow: 4px 4px 4px; border: 1px solid; position: relative; padding: 15px; padding-left: 80px;\">\n",
    "<img src=\"https://lh3.googleusercontent.com/a/AAcHTtc31jlywy-FMYxLAouSSqNAmm5NsrBvivwRIASNt7wihI2ClYdpAbzWNqcigfcR04LfvopHwsJrJpnVr4UXDkCHtWk=s432-c-no\" width=\"45\" height=\"45\" style=\"position: absolute; top: 15px; left: 15px; border-radius: 50%;\">\n",
    "<b> ✔️ Комментарий тимлида : </b>\n",
    "\n",
    "Данные успешно загружены и проанализированы, а также предоставлена информация об их структуре.\n",
    "\n",
    "Теперь всё готово для дальнейшего выполнения заданий.\n",
    "\n",
    "</div>"
   ]
  },
  {
   "cell_type": "markdown",
   "metadata": {},
   "source": [
    "## Задания"
   ]
  },
  {
   "cell_type": "markdown",
   "metadata": {},
   "source": [
    "### Посчитайте, сколько книг вышло после 1 января 2000 года"
   ]
  },
  {
   "cell_type": "code",
   "execution_count": 14,
   "metadata": {},
   "outputs": [
    {
     "data": {
      "text/html": [
       "<div>\n",
       "<style scoped>\n",
       "    .dataframe tbody tr th:only-of-type {\n",
       "        vertical-align: middle;\n",
       "    }\n",
       "\n",
       "    .dataframe tbody tr th {\n",
       "        vertical-align: top;\n",
       "    }\n",
       "\n",
       "    .dataframe thead th {\n",
       "        text-align: right;\n",
       "    }\n",
       "</style>\n",
       "<table border=\"1\" class=\"dataframe\">\n",
       "  <thead>\n",
       "    <tr style=\"text-align: right;\">\n",
       "      <th></th>\n",
       "      <th>count</th>\n",
       "    </tr>\n",
       "  </thead>\n",
       "  <tbody>\n",
       "    <tr>\n",
       "      <th>0</th>\n",
       "      <td>819</td>\n",
       "    </tr>\n",
       "  </tbody>\n",
       "</table>\n",
       "</div>"
      ],
      "text/plain": [
       "   count\n",
       "0    819"
      ]
     },
     "execution_count": 14,
     "metadata": {},
     "output_type": "execute_result"
    }
   ],
   "source": [
    "query_1 = '''SELECT count(*)\n",
    "             FROM books\n",
    "             WHERE publication_date > '2000-01-01' '''\n",
    "\n",
    "get_sql_data(query_1).head()"
   ]
  },
  {
   "cell_type": "markdown",
   "metadata": {},
   "source": [
    "<div class=\"alert alert-success\" style=\"border-radius: 15px; box-shadow: 4px 4px 4px; border: 1px solid; position: relative; padding: 15px; padding-left: 80px;\">\n",
    "<img src=\"https://lh3.googleusercontent.com/a/AAcHTtc31jlywy-FMYxLAouSSqNAmm5NsrBvivwRIASNt7wihI2ClYdpAbzWNqcigfcR04LfvopHwsJrJpnVr4UXDkCHtWk=s432-c-no\" width=\"45\" height=\"45\" style=\"position: absolute; top: 15px; left: 15px; border-radius: 50%;\">\n",
    "<b> ✔️ Комментарий тимлида : </b>\n",
    "\n",
    "Подход корректный и ответ верный\n",
    "\n",
    "</div>"
   ]
  },
  {
   "cell_type": "markdown",
   "metadata": {},
   "source": [
    "После 1 января 2000 года вышло 819 книг."
   ]
  },
  {
   "cell_type": "markdown",
   "metadata": {},
   "source": [
    "### Для каждой книги посчитайте количество обзоров и среднюю оценку"
   ]
  },
  {
   "cell_type": "code",
   "execution_count": 15,
   "metadata": {},
   "outputs": [
    {
     "data": {
      "text/html": [
       "<div>\n",
       "<style scoped>\n",
       "    .dataframe tbody tr th:only-of-type {\n",
       "        vertical-align: middle;\n",
       "    }\n",
       "\n",
       "    .dataframe tbody tr th {\n",
       "        vertical-align: top;\n",
       "    }\n",
       "\n",
       "    .dataframe thead th {\n",
       "        text-align: right;\n",
       "    }\n",
       "</style>\n",
       "<table border=\"1\" class=\"dataframe\">\n",
       "  <thead>\n",
       "    <tr style=\"text-align: right;\">\n",
       "      <th></th>\n",
       "      <th>title</th>\n",
       "      <th>reviews_count</th>\n",
       "      <th>rating_mean</th>\n",
       "    </tr>\n",
       "  </thead>\n",
       "  <tbody>\n",
       "    <tr>\n",
       "      <th>0</th>\n",
       "      <td>The Body in the Library (Miss Marple  #3)</td>\n",
       "      <td>2.0</td>\n",
       "      <td>4.5</td>\n",
       "    </tr>\n",
       "    <tr>\n",
       "      <th>1</th>\n",
       "      <td>Galápagos</td>\n",
       "      <td>2.0</td>\n",
       "      <td>4.5</td>\n",
       "    </tr>\n",
       "    <tr>\n",
       "      <th>2</th>\n",
       "      <td>A Tree Grows in Brooklyn</td>\n",
       "      <td>5.0</td>\n",
       "      <td>4.3</td>\n",
       "    </tr>\n",
       "    <tr>\n",
       "      <th>3</th>\n",
       "      <td>Undaunted Courage: The Pioneering First Missio...</td>\n",
       "      <td>2.0</td>\n",
       "      <td>4.0</td>\n",
       "    </tr>\n",
       "    <tr>\n",
       "      <th>4</th>\n",
       "      <td>The Prophet</td>\n",
       "      <td>4.0</td>\n",
       "      <td>4.3</td>\n",
       "    </tr>\n",
       "    <tr>\n",
       "      <th>...</th>\n",
       "      <td>...</td>\n",
       "      <td>...</td>\n",
       "      <td>...</td>\n",
       "    </tr>\n",
       "    <tr>\n",
       "      <th>995</th>\n",
       "      <td>Alice in Wonderland</td>\n",
       "      <td>4.0</td>\n",
       "      <td>4.2</td>\n",
       "    </tr>\n",
       "    <tr>\n",
       "      <th>996</th>\n",
       "      <td>A Woman of Substance (Emma Harte Saga #1)</td>\n",
       "      <td>2.0</td>\n",
       "      <td>5.0</td>\n",
       "    </tr>\n",
       "    <tr>\n",
       "      <th>997</th>\n",
       "      <td>Christine</td>\n",
       "      <td>3.0</td>\n",
       "      <td>3.4</td>\n",
       "    </tr>\n",
       "    <tr>\n",
       "      <th>998</th>\n",
       "      <td>The Magicians' Guild (Black Magician Trilogy  #1)</td>\n",
       "      <td>2.0</td>\n",
       "      <td>3.5</td>\n",
       "    </tr>\n",
       "    <tr>\n",
       "      <th>999</th>\n",
       "      <td>The Plot Against America</td>\n",
       "      <td>2.0</td>\n",
       "      <td>3.0</td>\n",
       "    </tr>\n",
       "  </tbody>\n",
       "</table>\n",
       "<p>1000 rows × 3 columns</p>\n",
       "</div>"
      ],
      "text/plain": [
       "                                                 title  reviews_count  \\\n",
       "0            The Body in the Library (Miss Marple  #3)            2.0   \n",
       "1                                            Galápagos            2.0   \n",
       "2                             A Tree Grows in Brooklyn            5.0   \n",
       "3    Undaunted Courage: The Pioneering First Missio...            2.0   \n",
       "4                                          The Prophet            4.0   \n",
       "..                                                 ...            ...   \n",
       "995                                Alice in Wonderland            4.0   \n",
       "996          A Woman of Substance (Emma Harte Saga #1)            2.0   \n",
       "997                                          Christine            3.0   \n",
       "998  The Magicians' Guild (Black Magician Trilogy  #1)            2.0   \n",
       "999                           The Plot Against America            2.0   \n",
       "\n",
       "     rating_mean  \n",
       "0            4.5  \n",
       "1            4.5  \n",
       "2            4.3  \n",
       "3            4.0  \n",
       "4            4.3  \n",
       "..           ...  \n",
       "995          4.2  \n",
       "996          5.0  \n",
       "997          3.4  \n",
       "998          3.5  \n",
       "999          3.0  \n",
       "\n",
       "[1000 rows x 3 columns]"
      ]
     },
     "execution_count": 15,
     "metadata": {},
     "output_type": "execute_result"
    }
   ],
   "source": [
    "query_2 = '''WITH\n",
    "             reviews_count AS (SELECT book_id,\n",
    "                                      COUNT(review_id) AS reviews_count\n",
    "                               FROM reviews\n",
    "                               GROUP BY book_id),\n",
    "             rating_mean AS (SELECT book_id,\n",
    "                                    ROUND(AVG(rating), 1) AS rating_mean \n",
    "                             FROM ratings\n",
    "                             GROUP BY book_id)\n",
    "             \n",
    "             SELECT b.title,\n",
    "                    rev.reviews_count,\n",
    "                    rat.rating_mean\n",
    "             FROM books AS b\n",
    "             LEFT JOIN reviews_count AS rev on b.book_id = rev.book_id\n",
    "             LEFT JOIN rating_mean AS rat on b.book_id = rat.book_id'''                   \n",
    "                                                              \n",
    "get_sql_data(query_2)"
   ]
  },
  {
   "cell_type": "markdown",
   "metadata": {},
   "source": [
    "<div class=\"alert alert-success\" style=\"border-radius: 15px; box-shadow: 4px 4px 4px; border: 1px solid; position: relative; padding: 15px; padding-left: 80px;\">\n",
    "<img src=\"https://lh3.googleusercontent.com/a/AAcHTtc31jlywy-FMYxLAouSSqNAmm5NsrBvivwRIASNt7wihI2ClYdpAbzWNqcigfcR04LfvopHwsJrJpnVr4UXDkCHtWk=s432-c-no\" width=\"45\" height=\"45\" style=\"position: absolute; top: 15px; left: 15px; border-radius: 50%;\">\n",
    "<b> ✔️ Комментарий тимлида : </b>\n",
    "\n",
    "Этот запрос считается одним из самых сложных в этом проекте, но результат получен правильно\n",
    "\n",
    "</div>"
   ]
  },
  {
   "cell_type": "markdown",
   "metadata": {},
   "source": [
    "### Определите издательство, которое выпустило наибольшее число книг толще 50 страниц — так вы исключите из анализа брошюры"
   ]
  },
  {
   "cell_type": "code",
   "execution_count": 16,
   "metadata": {},
   "outputs": [
    {
     "data": {
      "text/html": [
       "<div>\n",
       "<style scoped>\n",
       "    .dataframe tbody tr th:only-of-type {\n",
       "        vertical-align: middle;\n",
       "    }\n",
       "\n",
       "    .dataframe tbody tr th {\n",
       "        vertical-align: top;\n",
       "    }\n",
       "\n",
       "    .dataframe thead th {\n",
       "        text-align: right;\n",
       "    }\n",
       "</style>\n",
       "<table border=\"1\" class=\"dataframe\">\n",
       "  <thead>\n",
       "    <tr style=\"text-align: right;\">\n",
       "      <th></th>\n",
       "      <th>publisher</th>\n",
       "      <th>books_qty</th>\n",
       "    </tr>\n",
       "  </thead>\n",
       "  <tbody>\n",
       "    <tr>\n",
       "      <th>0</th>\n",
       "      <td>Penguin Books</td>\n",
       "      <td>42</td>\n",
       "    </tr>\n",
       "  </tbody>\n",
       "</table>\n",
       "</div>"
      ],
      "text/plain": [
       "       publisher  books_qty\n",
       "0  Penguin Books         42"
      ]
     },
     "execution_count": 16,
     "metadata": {},
     "output_type": "execute_result"
    }
   ],
   "source": [
    "query_3 = '''SELECT p.publisher AS publisher,\n",
    "                    count(b.book_id) AS books_qty\n",
    "             FROM books AS b\n",
    "             JOIN publishers AS p on b.publisher_id=p.publisher_id\n",
    "             WHERE b.num_pages > 50\n",
    "             GROUP BY publisher\n",
    "             ORDER BY books_qty DESC\n",
    "             LIMIT 1'''\n",
    "             \n",
    "get_sql_data(query_3)"
   ]
  },
  {
   "cell_type": "markdown",
   "metadata": {},
   "source": [
    "<div class=\"alert alert-success\" style=\"border-radius: 15px; box-shadow: 4px 4px 4px; border: 1px solid; position: relative; padding: 15px; padding-left: 80px;\">\n",
    "<img src=\"https://lh3.googleusercontent.com/a/AAcHTtc31jlywy-FMYxLAouSSqNAmm5NsrBvivwRIASNt7wihI2ClYdpAbzWNqcigfcR04LfvopHwsJrJpnVr4UXDkCHtWk=s432-c-no\" width=\"45\" height=\"45\" style=\"position: absolute; top: 15px; left: 15px; border-radius: 50%;\">\n",
    "<b> ✔️ Комментарий тимлида : </b>\n",
    "\n",
    "Согласен с результатом. Действительно, выбранное издательство является лидером по числу выпущенных книг.\n",
    "\n",
    "</div>"
   ]
  },
  {
   "cell_type": "markdown",
   "metadata": {},
   "source": [
    "Издательство, которое выпустило наибольшее число книг толще 50 страниц - Penguin Books."
   ]
  },
  {
   "cell_type": "markdown",
   "metadata": {},
   "source": [
    "### Определите автора с самой высокой средней оценкой книг — учитывайте только книги с 50 и более оценками"
   ]
  },
  {
   "cell_type": "code",
   "execution_count": 17,
   "metadata": {},
   "outputs": [
    {
     "data": {
      "text/html": [
       "<div>\n",
       "<style scoped>\n",
       "    .dataframe tbody tr th:only-of-type {\n",
       "        vertical-align: middle;\n",
       "    }\n",
       "\n",
       "    .dataframe tbody tr th {\n",
       "        vertical-align: top;\n",
       "    }\n",
       "\n",
       "    .dataframe thead th {\n",
       "        text-align: right;\n",
       "    }\n",
       "</style>\n",
       "<table border=\"1\" class=\"dataframe\">\n",
       "  <thead>\n",
       "    <tr style=\"text-align: right;\">\n",
       "      <th></th>\n",
       "      <th>author</th>\n",
       "      <th>rating_mean</th>\n",
       "    </tr>\n",
       "  </thead>\n",
       "  <tbody>\n",
       "    <tr>\n",
       "      <th>0</th>\n",
       "      <td>J.K. Rowling/Mary GrandPré</td>\n",
       "      <td>4.287097</td>\n",
       "    </tr>\n",
       "  </tbody>\n",
       "</table>\n",
       "</div>"
      ],
      "text/plain": [
       "                       author  rating_mean\n",
       "0  J.K. Rowling/Mary GrandPré     4.287097"
      ]
     },
     "execution_count": 17,
     "metadata": {},
     "output_type": "execute_result"
    }
   ],
   "source": [
    "query_4 = '''WITH \n",
    "             author_rating_mean AS (SELECT b.author_id,\n",
    "                                           AVG(rating) AS rating_mean\n",
    "                                    FROM books AS b\n",
    "                                    JOIN ratings AS rat on b.book_id=rat.book_id\n",
    "                                    WHERE b.book_id IN (SELECT rat.book_id\n",
    "                                                        FROM ratings AS rat\n",
    "                                                        GROUP BY rat.book_id\n",
    "                                                        HAVING COUNT(rat.rating_id) >= 50)\n",
    "                                    GROUP BY b.author_id)\n",
    "\n",
    "             SELECT a.author AS author,\n",
    "                    arm.rating_mean AS rating_mean\n",
    "                    FROM authors AS a\n",
    "             JOIN author_rating_mean AS arm ON a.author_id = arm.author_id\n",
    "             ORDER BY rating_mean DESC \n",
    "             LIMIT 1''' \n",
    "       \n",
    "get_sql_data(query_4)"
   ]
  },
  {
   "attachments": {
    "image-2.png": {
     "image/png": "[encoded data removed]"
    },
    "image.png": {
     "image/png": "[encoded data removed]"
    }
   },
   "cell_type": "markdown",
   "metadata": {},
   "source": [
    "<div id=\"div_id1\" class=\"alert alert-danger\" style=\"border-radius: 15px; box-shadow: 4px 4px 4px; border: 1px solid; position: relative; padding: 15px; padding-left: 80px;\">\n",
    "<img src=\"https://lh3.googleusercontent.com/a/AAcHTtc31jlywy-FMYxLAouSSqNAmm5NsrBvivwRIASNt7wihI2ClYdpAbzWNqcigfcR04LfvopHwsJrJpnVr4UXDkCHtWk=s432-c-no\" width=\"45\" height=\"45\" style=\"position: absolute; top: 15px; left: 15px; border-radius: 50%;\">\n",
    "<b> ⁉️ Критическое замечание тимлида : </b>\n",
    "\n",
    "<s>[⬆ Ошибка №1](#1)\n",
    "\n",
    "Фильтрация книг проведена верно и автор правильно указан.\n",
    "\n",
    "Однако я бы порекомендовал не округлять результаты до такой степени, так как это может привести к искажению данных.\n",
    "\n",
    "Твой вариант:\n",
    "\n",
    "![image.png](attachment:image.png)\n",
    "\n",
    "Вариант без округления:\n",
    "\n",
    "![image-2.png](attachment:image-2.png)\n",
    "\n",
    "Как видишь некоторые авторы поменяли свои позиции\n",
    "\n",
    "</div>"
   ]
  },
  {
   "cell_type": "markdown",
   "metadata": {},
   "source": [
    "<div class=\"alert alert-info\" style=\"border-radius: 15px; box-shadow: 4px 4px 4px; border: 1px solid \" ><b> Комментарий студента : </b>\n",
    "\n",
    "Исправлено👌\n",
    "\n",
    "</div>"
   ]
  },
  {
   "cell_type": "markdown",
   "metadata": {},
   "source": [
    "Автор с самой высокой средней оценкой книг (среди книг 50 оценками и более) - J.K. Rowling/Mary GrandPré"
   ]
  },
  {
   "cell_type": "markdown",
   "metadata": {},
   "source": [
    "### Посчитайте среднее количество обзоров от пользователей, которые поставили больше 48 оценок"
   ]
  },
  {
   "cell_type": "code",
   "execution_count": 18,
   "metadata": {},
   "outputs": [
    {
     "data": {
      "text/html": [
       "<div>\n",
       "<style scoped>\n",
       "    .dataframe tbody tr th:only-of-type {\n",
       "        vertical-align: middle;\n",
       "    }\n",
       "\n",
       "    .dataframe tbody tr th {\n",
       "        vertical-align: top;\n",
       "    }\n",
       "\n",
       "    .dataframe thead th {\n",
       "        text-align: right;\n",
       "    }\n",
       "</style>\n",
       "<table border=\"1\" class=\"dataframe\">\n",
       "  <thead>\n",
       "    <tr style=\"text-align: right;\">\n",
       "      <th></th>\n",
       "      <th>review_count_mean</th>\n",
       "    </tr>\n",
       "  </thead>\n",
       "  <tbody>\n",
       "    <tr>\n",
       "      <th>0</th>\n",
       "      <td>24.0</td>\n",
       "    </tr>\n",
       "  </tbody>\n",
       "</table>\n",
       "</div>"
      ],
      "text/plain": [
       "   review_count_mean\n",
       "0               24.0"
      ]
     },
     "execution_count": 18,
     "metadata": {},
     "output_type": "execute_result"
    }
   ],
   "source": [
    "query_5 = '''WITH \n",
    "             reviews_count AS (SELECT username,\n",
    "                                      COUNT(review_id)\n",
    "                               FROM reviews\n",
    "                               WHERE username IN (SELECT username\n",
    "                                                  FROM ratings \n",
    "                                                  GROUP BY username\n",
    "                                                  HAVING COUNT(rating_id) > 48)\n",
    "                               GROUP BY username)\n",
    "             \n",
    "             SELECT AVG(count) AS review_count_mean\n",
    "             FROM reviews_count'''\n",
    "             \n",
    "get_sql_data(query_5)           "
   ]
  },
  {
   "cell_type": "markdown",
   "metadata": {},
   "source": [
    "<div class=\"alert alert-success\" style=\"border-radius: 15px; box-shadow: 4px 4px 4px; border: 1px solid; position: relative; padding: 15px; padding-left: 80px;\">\n",
    "<img src=\"https://lh3.googleusercontent.com/a/AAcHTtc31jlywy-FMYxLAouSSqNAmm5NsrBvivwRIASNt7wihI2ClYdpAbzWNqcigfcR04LfvopHwsJrJpnVr4UXDkCHtWk=s432-c-no\" width=\"45\" height=\"45\" style=\"position: absolute; top: 15px; left: 15px; border-radius: 50%;\">\n",
    "<b> ✔️ Комментарий тимлида : </b>\n",
    "\n",
    "Это верный ответ. Пользователи корректно отобраны, а их показатели правильно рассчитаны.\n",
    "\n",
    "\n",
    "</div>"
   ]
  },
  {
   "cell_type": "markdown",
   "metadata": {},
   "source": [
    "Cреднее количество обзоров от пользователей, которые поставили больше 48 оценок - 24"
   ]
  },
  {
   "cell_type": "markdown",
   "metadata": {},
   "source": [
    "### Вывод"
   ]
  },
  {
   "cell_type": "markdown",
   "metadata": {},
   "source": [
    "* После 1 января 2000 года вышло 819 книг;\n",
    "* Издательство, которое выпустило наибольшее число книг толще 50 страниц - Penguin Books;\n",
    "* Автор с самой высокой средней оценкой книг (среди книг 50 оценками и более) - J.K. Rowling/Mary GrandPré;\n",
    "* Cреднее количество обзоров от пользователей, которые поставили больше 48 оценок - 24."
   ]
  }
 ],
 "metadata": {
  "ExecuteTimeLog": [
   {
    "duration": 10610,
    "start_time": "2025-04-24T17:27:48.484Z"
   },
   {
    "duration": 3,
    "start_time": "2025-04-24T17:27:59.096Z"
   },
   {
    "duration": 73,
    "start_time": "2025-04-24T17:27:59.100Z"
   },
   {
    "duration": 72,
    "start_time": "2025-04-24T17:27:59.175Z"
   },
   {
    "duration": 0,
    "start_time": "2025-04-24T17:27:59.248Z"
   },
   {
    "duration": 0,
    "start_time": "2025-04-24T17:27:59.250Z"
   },
   {
    "duration": 0,
    "start_time": "2025-04-24T17:27:59.251Z"
   },
   {
    "duration": 0,
    "start_time": "2025-04-24T17:27:59.252Z"
   },
   {
    "duration": 0,
    "start_time": "2025-04-24T17:27:59.253Z"
   },
   {
    "duration": 0,
    "start_time": "2025-04-24T17:27:59.253Z"
   },
   {
    "duration": 0,
    "start_time": "2025-04-24T17:27:59.262Z"
   },
   {
    "duration": 0,
    "start_time": "2025-04-24T17:27:59.263Z"
   },
   {
    "duration": 0,
    "start_time": "2025-04-24T17:27:59.264Z"
   },
   {
    "duration": 10489,
    "start_time": "2025-04-24T17:28:55.584Z"
   },
   {
    "duration": 4,
    "start_time": "2025-04-24T17:29:06.075Z"
   },
   {
    "duration": 118,
    "start_time": "2025-04-24T17:29:06.081Z"
   },
   {
    "duration": 11,
    "start_time": "2025-04-24T17:29:06.201Z"
   },
   {
    "duration": 31,
    "start_time": "2025-04-24T17:29:06.214Z"
   },
   {
    "duration": 27,
    "start_time": "2025-04-24T17:29:06.246Z"
   },
   {
    "duration": 14,
    "start_time": "2025-04-24T17:29:06.275Z"
   },
   {
    "duration": 82,
    "start_time": "2025-04-24T17:29:06.291Z"
   },
   {
    "duration": 0,
    "start_time": "2025-04-24T17:29:06.375Z"
   },
   {
    "duration": 0,
    "start_time": "2025-04-24T17:29:06.376Z"
   },
   {
    "duration": 0,
    "start_time": "2025-04-24T17:29:06.377Z"
   },
   {
    "duration": 0,
    "start_time": "2025-04-24T17:29:06.378Z"
   },
   {
    "duration": 0,
    "start_time": "2025-04-24T17:29:06.379Z"
   },
   {
    "duration": 10141,
    "start_time": "2025-04-24T17:29:46.004Z"
   },
   {
    "duration": 3,
    "start_time": "2025-04-24T17:29:56.147Z"
   },
   {
    "duration": 67,
    "start_time": "2025-04-24T17:29:56.152Z"
   },
   {
    "duration": 11,
    "start_time": "2025-04-24T17:29:56.221Z"
   },
   {
    "duration": 10,
    "start_time": "2025-04-24T17:29:56.234Z"
   },
   {
    "duration": 7,
    "start_time": "2025-04-24T17:29:56.246Z"
   },
   {
    "duration": 10,
    "start_time": "2025-04-24T17:29:56.255Z"
   },
   {
    "duration": 82,
    "start_time": "2025-04-24T17:29:56.267Z"
   },
   {
    "duration": 0,
    "start_time": "2025-04-24T17:29:56.350Z"
   },
   {
    "duration": 0,
    "start_time": "2025-04-24T17:29:56.351Z"
   },
   {
    "duration": 0,
    "start_time": "2025-04-24T17:29:56.352Z"
   },
   {
    "duration": 0,
    "start_time": "2025-04-24T17:29:56.354Z"
   },
   {
    "duration": 0,
    "start_time": "2025-04-24T17:29:56.355Z"
   },
   {
    "duration": 90,
    "start_time": "2025-04-24T17:30:18.992Z"
   },
   {
    "duration": 94,
    "start_time": "2025-04-24T17:30:33.887Z"
   },
   {
    "duration": 80,
    "start_time": "2025-04-24T17:30:53.077Z"
   },
   {
    "duration": 85,
    "start_time": "2025-04-24T17:30:58.709Z"
   },
   {
    "duration": 8,
    "start_time": "2025-04-24T17:31:12.336Z"
   },
   {
    "duration": 27,
    "start_time": "2025-04-24T17:31:15.409Z"
   },
   {
    "duration": 21,
    "start_time": "2025-04-24T17:31:19.385Z"
   },
   {
    "duration": 28,
    "start_time": "2025-04-24T17:31:22.261Z"
   },
   {
    "duration": 18,
    "start_time": "2025-04-24T17:31:24.626Z"
   },
   {
    "duration": 83,
    "start_time": "2025-04-24T17:31:29.290Z"
   },
   {
    "duration": 10365,
    "start_time": "2025-04-24T17:31:40.936Z"
   },
   {
    "duration": 4,
    "start_time": "2025-04-24T17:31:51.303Z"
   },
   {
    "duration": 73,
    "start_time": "2025-04-24T17:31:51.308Z"
   },
   {
    "duration": 11,
    "start_time": "2025-04-24T17:31:51.384Z"
   },
   {
    "duration": 13,
    "start_time": "2025-04-24T17:31:51.397Z"
   },
   {
    "duration": 8,
    "start_time": "2025-04-24T17:31:51.412Z"
   },
   {
    "duration": 10,
    "start_time": "2025-04-24T17:31:51.422Z"
   },
   {
    "duration": 7,
    "start_time": "2025-04-24T17:31:51.434Z"
   },
   {
    "duration": 48,
    "start_time": "2025-04-24T17:31:51.442Z"
   },
   {
    "duration": 20,
    "start_time": "2025-04-24T17:31:51.492Z"
   },
   {
    "duration": 17,
    "start_time": "2025-04-24T17:31:51.514Z"
   },
   {
    "duration": 29,
    "start_time": "2025-04-24T17:31:51.533Z"
   },
   {
    "duration": 4,
    "start_time": "2025-04-24T17:42:29.934Z"
   },
   {
    "duration": 3,
    "start_time": "2025-04-24T17:42:30.445Z"
   },
   {
    "duration": 128,
    "start_time": "2025-04-24T18:02:46.638Z"
   },
   {
    "duration": 13,
    "start_time": "2025-04-24T18:02:58.790Z"
   },
   {
    "duration": 16,
    "start_time": "2025-04-24T18:03:17.721Z"
   },
   {
    "duration": 15,
    "start_time": "2025-04-24T18:03:54.078Z"
   },
   {
    "duration": 16,
    "start_time": "2025-04-24T18:04:03.399Z"
   },
   {
    "duration": 10,
    "start_time": "2025-04-24T18:04:22.059Z"
   },
   {
    "duration": 327,
    "start_time": "2025-04-24T19:22:20.913Z"
   },
   {
    "duration": 24,
    "start_time": "2025-04-24T19:48:47.876Z"
   },
   {
    "duration": 23,
    "start_time": "2025-04-24T19:49:18.752Z"
   },
   {
    "duration": 10,
    "start_time": "2025-04-24T19:50:24.891Z"
   },
   {
    "duration": 23,
    "start_time": "2025-04-24T19:50:38.165Z"
   },
   {
    "duration": 24,
    "start_time": "2025-04-24T19:50:50.031Z"
   },
   {
    "duration": 19,
    "start_time": "2025-04-24T19:51:47.382Z"
   },
   {
    "duration": 18,
    "start_time": "2025-04-24T19:52:42.686Z"
   },
   {
    "duration": 19,
    "start_time": "2025-04-24T19:53:25.741Z"
   },
   {
    "duration": 18,
    "start_time": "2025-04-24T19:54:03.778Z"
   },
   {
    "duration": 18,
    "start_time": "2025-04-24T19:55:01.067Z"
   },
   {
    "duration": 22,
    "start_time": "2025-04-24T19:55:52.451Z"
   },
   {
    "duration": 22,
    "start_time": "2025-04-24T19:58:47.051Z"
   },
   {
    "duration": 3,
    "start_time": "2025-04-24T20:17:30.774Z"
   },
   {
    "duration": 21,
    "start_time": "2025-04-24T20:17:41.848Z"
   },
   {
    "duration": 23,
    "start_time": "2025-04-24T20:18:25.135Z"
   },
   {
    "duration": 22,
    "start_time": "2025-04-24T20:19:08.669Z"
   },
   {
    "duration": 98,
    "start_time": "2025-04-24T20:21:41.997Z"
   },
   {
    "duration": 80,
    "start_time": "2025-04-24T20:22:04.782Z"
   },
   {
    "duration": 15,
    "start_time": "2025-04-24T20:22:16.890Z"
   },
   {
    "duration": 14,
    "start_time": "2025-04-24T20:23:55.166Z"
   },
   {
    "duration": 11,
    "start_time": "2025-04-24T20:24:04.296Z"
   },
   {
    "duration": 11,
    "start_time": "2025-04-24T20:24:28.858Z"
   },
   {
    "duration": 18,
    "start_time": "2025-04-24T21:21:02.654Z"
   },
   {
    "duration": 85,
    "start_time": "2025-04-24T21:22:28.467Z"
   },
   {
    "duration": 12,
    "start_time": "2025-04-24T21:29:02.924Z"
   },
   {
    "duration": 12,
    "start_time": "2025-04-24T21:30:01.117Z"
   },
   {
    "duration": 13,
    "start_time": "2025-04-24T21:30:43.147Z"
   },
   {
    "duration": 15,
    "start_time": "2025-04-24T21:31:24.248Z"
   },
   {
    "duration": 25,
    "start_time": "2025-04-24T21:36:25.387Z"
   },
   {
    "duration": 16,
    "start_time": "2025-04-24T21:36:45.966Z"
   },
   {
    "duration": 89,
    "start_time": "2025-04-24T21:38:50.713Z"
   },
   {
    "duration": 23,
    "start_time": "2025-04-24T21:39:43.289Z"
   },
   {
    "duration": 23,
    "start_time": "2025-04-24T21:41:01.788Z"
   },
   {
    "duration": 23,
    "start_time": "2025-04-24T21:41:19.751Z"
   },
   {
    "duration": 24,
    "start_time": "2025-04-24T21:41:45.642Z"
   },
   {
    "duration": 15,
    "start_time": "2025-04-24T21:42:00.285Z"
   },
   {
    "duration": 22,
    "start_time": "2025-04-24T21:44:45.668Z"
   },
   {
    "duration": 12,
    "start_time": "2025-04-24T21:44:49.828Z"
   },
   {
    "duration": 15,
    "start_time": "2025-04-24T21:44:52.188Z"
   },
   {
    "duration": 15,
    "start_time": "2025-04-24T21:44:57.734Z"
   },
   {
    "duration": 12,
    "start_time": "2025-04-24T21:45:00.821Z"
   },
   {
    "duration": 10,
    "start_time": "2025-04-24T21:45:12.039Z"
   },
   {
    "duration": 15,
    "start_time": "2025-04-24T22:02:21.686Z"
   },
   {
    "duration": 21,
    "start_time": "2025-04-24T22:02:52.678Z"
   },
   {
    "duration": 24,
    "start_time": "2025-04-24T22:03:09.699Z"
   },
   {
    "duration": 14,
    "start_time": "2025-04-24T22:03:38.783Z"
   },
   {
    "duration": 21,
    "start_time": "2025-04-24T22:05:04.844Z"
   },
   {
    "duration": 10,
    "start_time": "2025-04-24T22:05:23.878Z"
   },
   {
    "duration": 88,
    "start_time": "2025-04-24T22:08:08.968Z"
   },
   {
    "duration": 2,
    "start_time": "2025-04-24T22:08:17.760Z"
   },
   {
    "duration": 13,
    "start_time": "2025-04-24T22:08:51.140Z"
   },
   {
    "duration": 13,
    "start_time": "2025-04-24T22:10:19.378Z"
   },
   {
    "duration": 102,
    "start_time": "2025-04-24T22:12:46.478Z"
   },
   {
    "duration": 9172,
    "start_time": "2025-04-24T22:14:44.899Z"
   },
   {
    "duration": 3,
    "start_time": "2025-04-24T22:14:54.073Z"
   },
   {
    "duration": 72,
    "start_time": "2025-04-24T22:14:54.077Z"
   },
   {
    "duration": 11,
    "start_time": "2025-04-24T22:14:54.151Z"
   },
   {
    "duration": 24,
    "start_time": "2025-04-24T22:14:54.163Z"
   },
   {
    "duration": 8,
    "start_time": "2025-04-24T22:14:54.188Z"
   },
   {
    "duration": 18,
    "start_time": "2025-04-24T22:14:54.198Z"
   },
   {
    "duration": 11,
    "start_time": "2025-04-24T22:14:54.218Z"
   },
   {
    "duration": 32,
    "start_time": "2025-04-24T22:14:54.231Z"
   },
   {
    "duration": 21,
    "start_time": "2025-04-24T22:14:54.265Z"
   },
   {
    "duration": 23,
    "start_time": "2025-04-24T22:14:54.287Z"
   },
   {
    "duration": 16,
    "start_time": "2025-04-24T22:14:54.312Z"
   },
   {
    "duration": 10,
    "start_time": "2025-04-24T22:14:54.330Z"
   },
   {
    "duration": 29,
    "start_time": "2025-04-24T22:14:54.341Z"
   },
   {
    "duration": 12,
    "start_time": "2025-04-24T22:14:54.371Z"
   },
   {
    "duration": 15,
    "start_time": "2025-04-24T22:14:54.385Z"
   },
   {
    "duration": 35,
    "start_time": "2025-04-24T22:14:54.402Z"
   },
   {
    "duration": 10261,
    "start_time": "2025-04-25T05:21:18.663Z"
   },
   {
    "duration": 3,
    "start_time": "2025-04-25T05:21:28.926Z"
   },
   {
    "duration": 272,
    "start_time": "2025-04-25T05:21:28.931Z"
   },
   {
    "duration": 61,
    "start_time": "2025-04-25T05:21:29.205Z"
   },
   {
    "duration": 54,
    "start_time": "2025-04-25T05:21:29.268Z"
   },
   {
    "duration": 51,
    "start_time": "2025-04-25T05:21:29.324Z"
   },
   {
    "duration": 55,
    "start_time": "2025-04-25T05:21:29.377Z"
   },
   {
    "duration": 61,
    "start_time": "2025-04-25T05:21:29.434Z"
   },
   {
    "duration": 76,
    "start_time": "2025-04-25T05:21:29.497Z"
   },
   {
    "duration": 64,
    "start_time": "2025-04-25T05:21:29.575Z"
   },
   {
    "duration": 61,
    "start_time": "2025-04-25T05:21:29.641Z"
   },
   {
    "duration": 88,
    "start_time": "2025-04-25T05:21:29.704Z"
   },
   {
    "duration": 52,
    "start_time": "2025-04-25T05:21:29.794Z"
   },
   {
    "duration": 64,
    "start_time": "2025-04-25T05:21:29.849Z"
   },
   {
    "duration": 54,
    "start_time": "2025-04-25T05:21:29.916Z"
   },
   {
    "duration": 57,
    "start_time": "2025-04-25T05:21:29.972Z"
   },
   {
    "duration": 55,
    "start_time": "2025-04-25T05:21:30.031Z"
   },
   {
    "duration": 84,
    "start_time": "2025-04-25T05:22:29.871Z"
   },
   {
    "duration": 85,
    "start_time": "2025-04-25T05:22:36.365Z"
   },
   {
    "duration": 82,
    "start_time": "2025-04-25T05:22:44.096Z"
   },
   {
    "duration": 76,
    "start_time": "2025-04-25T05:22:51.256Z"
   },
   {
    "duration": 86,
    "start_time": "2025-04-25T05:22:53.941Z"
   },
   {
    "duration": 60,
    "start_time": "2025-04-25T05:23:14.834Z"
   },
   {
    "duration": 56,
    "start_time": "2025-04-25T05:23:19.127Z"
   },
   {
    "duration": 57,
    "start_time": "2025-04-25T05:23:40.450Z"
   },
   {
    "duration": 56,
    "start_time": "2025-04-25T05:24:02.408Z"
   },
   {
    "duration": 56,
    "start_time": "2025-04-25T05:24:32.926Z"
   },
   {
    "duration": 9952,
    "start_time": "2025-04-25T10:34:13.985Z"
   },
   {
    "duration": 3,
    "start_time": "2025-04-25T10:34:23.939Z"
   },
   {
    "duration": 246,
    "start_time": "2025-04-25T10:34:23.943Z"
   },
   {
    "duration": 59,
    "start_time": "2025-04-25T10:34:24.191Z"
   },
   {
    "duration": 52,
    "start_time": "2025-04-25T10:34:24.251Z"
   },
   {
    "duration": 46,
    "start_time": "2025-04-25T10:34:24.304Z"
   },
   {
    "duration": 53,
    "start_time": "2025-04-25T10:34:24.352Z"
   },
   {
    "duration": 47,
    "start_time": "2025-04-25T10:34:24.407Z"
   },
   {
    "duration": 73,
    "start_time": "2025-04-25T10:34:24.456Z"
   },
   {
    "duration": 58,
    "start_time": "2025-04-25T10:34:24.531Z"
   },
   {
    "duration": 58,
    "start_time": "2025-04-25T10:34:24.590Z"
   },
   {
    "duration": 53,
    "start_time": "2025-04-25T10:34:24.650Z"
   },
   {
    "duration": 49,
    "start_time": "2025-04-25T10:34:24.704Z"
   },
   {
    "duration": 59,
    "start_time": "2025-04-25T10:34:24.754Z"
   },
   {
    "duration": 50,
    "start_time": "2025-04-25T10:34:24.815Z"
   },
   {
    "duration": 53,
    "start_time": "2025-04-25T10:34:24.867Z"
   },
   {
    "duration": 51,
    "start_time": "2025-04-25T10:34:24.922Z"
   },
   {
    "duration": 55,
    "start_time": "2025-04-25T10:34:59.954Z"
   },
   {
    "duration": 5,
    "start_time": "2025-04-25T10:36:53.787Z"
   },
   {
    "duration": 2,
    "start_time": "2025-04-25T10:36:56.010Z"
   },
   {
    "duration": 5,
    "start_time": "2025-04-25T10:36:56.538Z"
   },
   {
    "duration": 3,
    "start_time": "2025-04-25T10:36:57.859Z"
   },
   {
    "duration": 246,
    "start_time": "2025-04-25T10:37:01.067Z"
   },
   {
    "duration": 84,
    "start_time": "2025-04-25T10:37:54.483Z"
   },
   {
    "duration": 524,
    "start_time": "2025-04-25T10:40:23.846Z"
   },
   {
    "duration": 9293,
    "start_time": "2025-04-25T10:40:24.372Z"
   },
   {
    "duration": 4,
    "start_time": "2025-04-25T10:40:33.667Z"
   },
   {
    "duration": 272,
    "start_time": "2025-04-25T10:40:33.672Z"
   },
   {
    "duration": 60,
    "start_time": "2025-04-25T10:40:33.946Z"
   },
   {
    "duration": 52,
    "start_time": "2025-04-25T10:40:34.008Z"
   },
   {
    "duration": 48,
    "start_time": "2025-04-25T10:40:34.062Z"
   },
   {
    "duration": 50,
    "start_time": "2025-04-25T10:40:34.112Z"
   },
   {
    "duration": 47,
    "start_time": "2025-04-25T10:40:34.164Z"
   },
   {
    "duration": 71,
    "start_time": "2025-04-25T10:40:34.213Z"
   },
   {
    "duration": 59,
    "start_time": "2025-04-25T10:40:34.286Z"
   },
   {
    "duration": 60,
    "start_time": "2025-04-25T10:40:34.346Z"
   },
   {
    "duration": 56,
    "start_time": "2025-04-25T10:40:34.408Z"
   },
   {
    "duration": 51,
    "start_time": "2025-04-25T10:40:34.465Z"
   },
   {
    "duration": 61,
    "start_time": "2025-04-25T10:40:34.517Z"
   },
   {
    "duration": 51,
    "start_time": "2025-04-25T10:40:34.579Z"
   },
   {
    "duration": 54,
    "start_time": "2025-04-25T10:40:34.631Z"
   },
   {
    "duration": 52,
    "start_time": "2025-04-25T10:40:34.687Z"
   }
  ],
  "kernelspec": {
   "display_name": "Python 3 (ipykernel)",
   "language": "python",
   "name": "python3"
  },
  "language_info": {
   "codemirror_mode": {
    "name": "ipython",
    "version": 3
   },
   "file_extension": ".py",
   "mimetype": "text/x-python",
   "name": "python",
   "nbconvert_exporter": "python",
   "pygments_lexer": "ipython3",
   "version": "3.9.21"
  },
  "toc": {
   "base_numbering": 1,
   "nav_menu": {},
   "number_sections": true,
   "sideBar": true,
   "skip_h1_title": true,
   "title_cell": "Table of Contents",
   "title_sidebar": "Contents",
   "toc_cell": false,
   "toc_position": {
    "height": "calc(100% - 180px)",
    "left": "10px",
    "top": "150px",
    "width": "165px"
   },
   "toc_section_display": true,
   "toc_window_display": true
  }
 },
 "nbformat": 4,
 "nbformat_minor": 4
}
